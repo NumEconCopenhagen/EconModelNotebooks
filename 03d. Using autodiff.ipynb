{
 "cells": [
  {
   "cell_type": "markdown",
   "id": "bec156c3-3bf8-4076-9997-3ba0b2b02df8",
   "metadata": {},
   "source": [
    "# Using autodiff"
   ]
  },
  {
   "cell_type": "markdown",
   "id": "4f27105e-5ab8-4fee-9c7e-0b40be4e6d79",
   "metadata": {},
   "source": [
    "This notebook shows how to use [autodiff](https://autodiff.github.io/) for **automatic differentiation of C++ functions**.\n",
    "\n",
    "We consider the following *multi-variable* and *vector-valued* function:\n",
    "\n",
    "$$ \n",
    "F:\\mathbb{R}^{3}\\rightarrow\\mathbb{R}^{2}:\\,F(\\boldsymbol{x}) = F(x_{1},x_{2},x_{2})=\\left[\\begin{array}{c}\n",
    "y_{1}\\\\\n",
    "y_{2}\n",
    "\\end{array}\\right]=\\left[\\begin{array}{c}\n",
    "f_{1}(x_{1},x_{2},x_{3})\\\\\n",
    "f_{2}(x_{1},x_{2},x_{3})\n",
    "\\end{array}\\right]=\\left[\\begin{array}{c}\n",
    "\\alpha x_{1}+\\exp x_{3}\\\\\n",
    "x_{2}\n",
    "\\end{array}\\right]\n",
    "$$"
   ]
  },
  {
   "cell_type": "code",
   "execution_count": 1,
   "id": "1ca79284-da8b-4fd3-8ba7-48faedb1c548",
   "metadata": {},
   "outputs": [],
   "source": [
    "%load_ext autoreload\n",
    "%autoreload 2\n",
    "\n",
    "import os\n",
    "import shutil\n",
    "import numpy as np\n",
    "from types import SimpleNamespace\n",
    "\n",
    "from EconModel import cpptools"
   ]
  },
  {
   "cell_type": "markdown",
   "id": "f019d845-e5b3-463d-9bfd-6157a65231e7",
   "metadata": {},
   "source": [
    "# Setup autodiff and Eigen"
   ]
  },
  {
   "cell_type": "markdown",
   "id": "cc30936c-afaf-45f6-a9a5-2d0371814323",
   "metadata": {},
   "source": [
    "Download files and create **cppfuncs/autodiff**:"
   ]
  },
  {
   "cell_type": "code",
   "execution_count": 2,
   "id": "97a920ba-a55f-4360-9ba4-0fa9468e0ad6",
   "metadata": {},
   "outputs": [
    {
     "name": "stdout",
     "output_type": "stream",
     "text": [
      "autodiff succesfully installed\n"
     ]
    }
   ],
   "source": [
    "cpptools.setup_autodiff(do_print=True)"
   ]
  },
  {
   "cell_type": "markdown",
   "id": "3b7cd0c5-b590-4894-a3a4-891c5f85bd6a",
   "metadata": {},
   "source": [
    "Download files and create **cppfuncs/Eigen**:"
   ]
  },
  {
   "cell_type": "code",
   "execution_count": 3,
   "id": "ac858085-56bd-4849-b919-3912f50da347",
   "metadata": {},
   "outputs": [
    {
     "name": "stdout",
     "output_type": "stream",
     "text": [
      "Eigen succesfully installed\n"
     ]
    }
   ],
   "source": [
    "cpptools.setup_Eigen(do_print=True)"
   ]
  },
  {
   "cell_type": "markdown",
   "id": "3c37bfc1-e0b9-4c38-a857-4b4420bfbeb4",
   "metadata": {
    "tags": []
   },
   "source": [
    "# Compile test file"
   ]
  },
  {
   "cell_type": "markdown",
   "id": "b10b1483-a33d-45fc-8cc9-2baad4b0db94",
   "metadata": {},
   "source": [
    "**Setup namespace:**"
   ]
  },
  {
   "cell_type": "code",
   "execution_count": 4,
   "id": "2c2616ff-e687-47bf-94de-1dee649db561",
   "metadata": {},
   "outputs": [],
   "source": [
    "par = SimpleNamespace()\n",
    "\n",
    "par.alpha = 0.5\n",
    "par.beta = 2.0\n",
    "\n",
    "par.Nx = 3\n",
    "par.Ny = 2\n",
    "\n",
    "par.x = np.zeros(par.Nx)\n",
    "par.y = np.zeros(par.Ny)\n",
    "par.Jx = np.zeros((par.Ny,par.Nx))"
   ]
  },
  {
   "cell_type": "markdown",
   "id": "e15b6a63-6e18-491b-8bbf-0852ec113c6c",
   "metadata": {},
   "source": [
    "**Compile:**"
   ]
  },
  {
   "cell_type": "code",
   "execution_count": 5,
   "id": "unlikely-administration",
   "metadata": {},
   "outputs": [],
   "source": [
    "filename = 'cppfuncs/example_autodiff.cpp'\n",
    "structsmap = {'par_struct':par}\n",
    "flags = '/LD /EHsc /Ox /std:c++17 /Icppfuncs/' # requires c++17 and references are relative to cppfuncs\n",
    "options = {'compiler':'vs','flags':flags}\n",
    "\n",
    "example_autodiff = cpptools.link_to_cpp(filename,structsmap=structsmap,options=options)"
   ]
  },
  {
   "cell_type": "markdown",
   "id": "ec7652fc-0262-4afd-911a-fa4759220f95",
   "metadata": {},
   "source": [
    "# Run test file"
   ]
  },
  {
   "cell_type": "markdown",
   "id": "35845010-938e-4044-8878-7124596cbe4e",
   "metadata": {},
   "source": [
    "**Set x for evaluation:**"
   ]
  },
  {
   "cell_type": "code",
   "execution_count": 6,
   "id": "d355c666-2103-4654-8efa-f5f32342dc1a",
   "metadata": {},
   "outputs": [],
   "source": [
    "par.x[:] = np.array([1.0,1.0,1.0])"
   ]
  },
  {
   "cell_type": "markdown",
   "id": "c35e1bea-beff-418a-94a5-af56bbada7c3",
   "metadata": {},
   "source": [
    "**Run:**"
   ]
  },
  {
   "cell_type": "code",
   "execution_count": 7,
   "id": "4037fcf6-505e-4e6d-aa62-a55839832fa5",
   "metadata": {},
   "outputs": [],
   "source": [
    "example_autodiff.test(par)"
   ]
  },
  {
   "cell_type": "markdown",
   "id": "44cbd024-5171-4a48-8732-798ea545286d",
   "metadata": {},
   "source": [
    "**Output:**"
   ]
  },
  {
   "cell_type": "code",
   "execution_count": 8,
   "id": "bd1f4b6b-4297-4774-865e-e0efcb4b332b",
   "metadata": {},
   "outputs": [
    {
     "name": "stdout",
     "output_type": "stream",
     "text": [
      "[3.21828183 2.        ]\n"
     ]
    }
   ],
   "source": [
    "print(par.y)"
   ]
  },
  {
   "cell_type": "markdown",
   "id": "b78eac87-c26f-447f-9ca6-4e63037158bf",
   "metadata": {},
   "source": [
    "**Jacobian:**\n",
    "\n",
    "$$ \n",
    "\\boldsymbol{J}_{\\boldsymbol{x}}=\\left[\\begin{array}{ccc}\n",
    "\\frac{\\partial f_{1}}{\\partial x_{1}} & \\frac{\\partial f_{1}}{\\partial x_{2}} & \\frac{\\partial f_{1}}{\\partial x_{3}}\\\\\n",
    "\\frac{\\partial f_{2}}{\\partial x_{1}} & \\frac{\\partial f_{2}}{\\partial x_{2}} & \\frac{\\partial f_{2}}{\\partial x_{3}}\n",
    "\\end{array}\\right]\n",
    "$$"
   ]
  },
  {
   "cell_type": "code",
   "execution_count": 9,
   "id": "b38fecbb-5d59-4a0d-b5be-054ecb962e76",
   "metadata": {},
   "outputs": [
    {
     "name": "stdout",
     "output_type": "stream",
     "text": [
      "[[0.5        0.         2.71828183]\n",
      " [0.         2.         0.        ]]\n"
     ]
    }
   ],
   "source": [
    "print(par.Jx)"
   ]
  },
  {
   "cell_type": "markdown",
   "id": "59be5f85-023f-4429-91a1-52beede44730",
   "metadata": {
    "tags": []
   },
   "source": [
    "# Clean up"
   ]
  },
  {
   "cell_type": "code",
   "execution_count": 10,
   "id": "f0e0274e-7ef5-409b-b739-67ddb2d93d38",
   "metadata": {},
   "outputs": [],
   "source": [
    "example_autodiff.clean_up()"
   ]
  },
  {
   "cell_type": "code",
   "execution_count": 11,
   "id": "bf614cbe-0819-4683-9a3f-6c7f4f0ac56f",
   "metadata": {},
   "outputs": [],
   "source": [
    "os.remove(f'cppfuncs/autodiff-master.zip')\n",
    "os.remove(f'cppfuncs/Eigen-master.zip')\n",
    "shutil.rmtree(f'cppfuncs/autodiff/')\n",
    "shutil.rmtree(f'cppfuncs/Eigen/')"
   ]
  }
 ],
 "metadata": {
  "kernelspec": {
   "display_name": "Python 3 (ipykernel)",
   "language": "python",
   "name": "python3"
  },
  "language_info": {
   "codemirror_mode": {
    "name": "ipython",
    "version": 3
   },
   "file_extension": ".py",
   "mimetype": "text/x-python",
   "name": "python",
   "nbconvert_exporter": "python",
   "pygments_lexer": "ipython3",
   "version": "3.9.10"
  }
 },
 "nbformat": 4,
 "nbformat_minor": 5
}
