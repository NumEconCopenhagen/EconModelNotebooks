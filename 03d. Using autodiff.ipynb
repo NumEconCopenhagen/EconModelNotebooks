{
 "cells": [
  {
   "cell_type": "markdown",
   "id": "6a6ada53",
   "metadata": {
    "papermill": {
     "duration": 0.01201,
     "end_time": "2023-07-13T16:20:21.458366",
     "exception": false,
     "start_time": "2023-07-13T16:20:21.446356",
     "status": "completed"
    },
    "tags": []
   },
   "source": [
    "# Using autodiff"
   ]
  },
  {
   "cell_type": "markdown",
   "id": "b31a3021",
   "metadata": {
    "papermill": {
     "duration": 0.005004,
     "end_time": "2023-07-13T16:20:21.470376",
     "exception": false,
     "start_time": "2023-07-13T16:20:21.465372",
     "status": "completed"
    },
    "tags": []
   },
   "source": [
    "**Table of contents**<a id='toc0_'></a>    \n",
    "- 1. [Setup autodiff and Eigen](#toc1_)    \n",
    "- 2. [Compile test file](#toc2_)    \n",
    "- 3. [Run test file](#toc3_)    \n",
    "- 4. [Clean up](#toc4_)    \n",
    "\n",
    "<!-- vscode-jupyter-toc-config\n",
    "\tnumbering=true\n",
    "\tanchor=true\n",
    "\tflat=false\n",
    "\tminLevel=2\n",
    "\tmaxLevel=6\n",
    "\t/vscode-jupyter-toc-config -->\n",
    "<!-- THIS CELL WILL BE REPLACED ON TOC UPDATE. DO NOT WRITE YOUR TEXT IN THIS CELL -->"
   ]
  },
  {
   "cell_type": "markdown",
   "id": "4f27105e-5ab8-4fee-9c7e-0b40be4e6d79",
   "metadata": {
    "papermill": {
     "duration": 0.005006,
     "end_time": "2023-07-13T16:20:21.480385",
     "exception": false,
     "start_time": "2023-07-13T16:20:21.475379",
     "status": "completed"
    },
    "tags": []
   },
   "source": [
    "This notebook shows how to use [autodiff](https://autodiff.github.io/) for **automatic differentiation of C++ functions**.\n",
    "\n",
    "We consider the following *multi-variable* and *vector-valued* function:\n",
    "\n",
    "$$ \n",
    "F:\\mathbb{R}^{3}\\rightarrow\\mathbb{R}^{2}:\\,F(\\boldsymbol{x}) = F(x_{1},x_{2},x_{2})=\\left[\\begin{array}{c}\n",
    "y_{1}\\\\\n",
    "y_{2}\n",
    "\\end{array}\\right]=\\left[\\begin{array}{c}\n",
    "f_{1}(x_{1},x_{2},x_{3})\\\\\n",
    "f_{2}(x_{1},x_{2},x_{3})\n",
    "\\end{array}\\right]=\\left[\\begin{array}{c}\n",
    "\\alpha x_{1}+\\exp x_{3}\\\\\n",
    "\\beta x_{2}\n",
    "\\end{array}\\right]\n",
    "$$"
   ]
  },
  {
   "cell_type": "code",
   "execution_count": 1,
   "id": "1ca79284-da8b-4fd3-8ba7-48faedb1c548",
   "metadata": {
    "execution": {
     "iopub.execute_input": "2023-07-13T16:20:21.492391Z",
     "iopub.status.busy": "2023-07-13T16:20:21.491391Z",
     "iopub.status.idle": "2023-07-13T16:20:21.672537Z",
     "shell.execute_reply": "2023-07-13T16:20:21.672537Z"
    },
    "papermill": {
     "duration": 0.190151,
     "end_time": "2023-07-13T16:20:21.675540",
     "exception": false,
     "start_time": "2023-07-13T16:20:21.485389",
     "status": "completed"
    },
    "tags": []
   },
   "outputs": [],
   "source": [
    "%load_ext autoreload\n",
    "%autoreload 2\n",
    "\n",
    "import os\n",
    "import shutil\n",
    "import numpy as np\n",
    "from types import SimpleNamespace\n",
    "\n",
    "from EconModel import cpptools"
   ]
  },
  {
   "cell_type": "markdown",
   "id": "4c14ee6d",
   "metadata": {
    "papermill": {
     "duration": 0.007006,
     "end_time": "2023-07-13T16:20:21.694556",
     "exception": false,
     "start_time": "2023-07-13T16:20:21.687550",
     "status": "completed"
    },
    "tags": []
   },
   "source": [
    "## 1. <a id='toc1_'></a>[Setup autodiff and Eigen](#toc0_)"
   ]
  },
  {
   "cell_type": "markdown",
   "id": "cc30936c-afaf-45f6-a9a5-2d0371814323",
   "metadata": {
    "papermill": {
     "duration": 0.004004,
     "end_time": "2023-07-13T16:20:21.703564",
     "exception": false,
     "start_time": "2023-07-13T16:20:21.699560",
     "status": "completed"
    },
    "tags": []
   },
   "source": [
    "Download files and create **cppfuncs/autodiff**:"
   ]
  },
  {
   "cell_type": "code",
   "execution_count": 2,
   "id": "97a920ba-a55f-4360-9ba4-0fa9468e0ad6",
   "metadata": {
    "execution": {
     "iopub.execute_input": "2023-07-13T16:20:21.716575Z",
     "iopub.status.busy": "2023-07-13T16:20:21.715575Z",
     "iopub.status.idle": "2023-07-13T16:20:21.782627Z",
     "shell.execute_reply": "2023-07-13T16:20:21.782627Z"
    },
    "papermill": {
     "duration": 0.077063,
     "end_time": "2023-07-13T16:20:21.785630",
     "exception": false,
     "start_time": "2023-07-13T16:20:21.708567",
     "status": "completed"
    },
    "tags": []
   },
   "outputs": [
    {
     "name": "stdout",
     "output_type": "stream",
     "text": [
      "autodiff succesfully installed\n"
     ]
    }
   ],
   "source": [
    "cpptools.setup_autodiff(do_print=True)"
   ]
  },
  {
   "cell_type": "markdown",
   "id": "3b7cd0c5-b590-4894-a3a4-891c5f85bd6a",
   "metadata": {
    "papermill": {
     "duration": 0.006005,
     "end_time": "2023-07-13T16:20:21.800643",
     "exception": false,
     "start_time": "2023-07-13T16:20:21.794638",
     "status": "completed"
    },
    "tags": []
   },
   "source": [
    "Download files and create **cppfuncs/Eigen**:"
   ]
  },
  {
   "cell_type": "code",
   "execution_count": 3,
   "id": "ac858085-56bd-4849-b919-3912f50da347",
   "metadata": {
    "execution": {
     "iopub.execute_input": "2023-07-13T16:20:21.812652Z",
     "iopub.status.busy": "2023-07-13T16:20:21.811651Z",
     "iopub.status.idle": "2023-07-13T16:20:27.014884Z",
     "shell.execute_reply": "2023-07-13T16:20:27.013884Z"
    },
    "papermill": {
     "duration": 5.212239,
     "end_time": "2023-07-13T16:20:27.017887",
     "exception": false,
     "start_time": "2023-07-13T16:20:21.805648",
     "status": "completed"
    },
    "tags": []
   },
   "outputs": [
    {
     "name": "stdout",
     "output_type": "stream",
     "text": [
      "Eigen succesfully installed\n"
     ]
    }
   ],
   "source": [
    "cpptools.setup_Eigen(do_print=True)"
   ]
  },
  {
   "cell_type": "markdown",
   "id": "edae7dff",
   "metadata": {
    "papermill": {
     "duration": 0.005005,
     "end_time": "2023-07-13T16:20:27.034901",
     "exception": false,
     "start_time": "2023-07-13T16:20:27.029896",
     "status": "completed"
    },
    "tags": []
   },
   "source": [
    "## 2. <a id='toc2_'></a>[Compile test file](#toc0_)"
   ]
  },
  {
   "cell_type": "markdown",
   "id": "b10b1483-a33d-45fc-8cc9-2baad4b0db94",
   "metadata": {
    "papermill": {
     "duration": 0.005005,
     "end_time": "2023-07-13T16:20:27.044909",
     "exception": false,
     "start_time": "2023-07-13T16:20:27.039904",
     "status": "completed"
    },
    "tags": []
   },
   "source": [
    "**Setup namespace:**"
   ]
  },
  {
   "cell_type": "code",
   "execution_count": 4,
   "id": "2c2616ff-e687-47bf-94de-1dee649db561",
   "metadata": {
    "execution": {
     "iopub.execute_input": "2023-07-13T16:20:27.055918Z",
     "iopub.status.busy": "2023-07-13T16:20:27.055918Z",
     "iopub.status.idle": "2023-07-13T16:20:27.114965Z",
     "shell.execute_reply": "2023-07-13T16:20:27.113964Z"
    },
    "papermill": {
     "duration": 0.069055,
     "end_time": "2023-07-13T16:20:27.117967",
     "exception": false,
     "start_time": "2023-07-13T16:20:27.048912",
     "status": "completed"
    },
    "tags": []
   },
   "outputs": [],
   "source": [
    "par = SimpleNamespace()\n",
    "\n",
    "par.alpha = 0.5\n",
    "par.beta = 2.0\n",
    "\n",
    "par.Nx = 3\n",
    "par.Ny = 2\n",
    "\n",
    "par.x = np.zeros(par.Nx)\n",
    "par.y = np.zeros(par.Ny)\n",
    "par.Jx = np.zeros((par.Ny,par.Nx))"
   ]
  },
  {
   "cell_type": "markdown",
   "id": "e15b6a63-6e18-491b-8bbf-0852ec113c6c",
   "metadata": {
    "papermill": {
     "duration": 0.006005,
     "end_time": "2023-07-13T16:20:27.136983",
     "exception": false,
     "start_time": "2023-07-13T16:20:27.130978",
     "status": "completed"
    },
    "tags": []
   },
   "source": [
    "**Compile:**"
   ]
  },
  {
   "cell_type": "code",
   "execution_count": 5,
   "id": "unlikely-administration",
   "metadata": {
    "execution": {
     "iopub.execute_input": "2023-07-13T16:20:27.148993Z",
     "iopub.status.busy": "2023-07-13T16:20:27.148993Z",
     "iopub.status.idle": "2023-07-13T16:20:30.421653Z",
     "shell.execute_reply": "2023-07-13T16:20:30.421653Z"
    },
    "papermill": {
     "duration": 3.283669,
     "end_time": "2023-07-13T16:20:30.425656",
     "exception": false,
     "start_time": "2023-07-13T16:20:27.141987",
     "status": "completed"
    },
    "tags": []
   },
   "outputs": [],
   "source": [
    "filename = 'cppfuncs/example_autodiff.cpp'\n",
    "structsmap = {'par_struct':par}\n",
    "flags = '/LD /EHsc /Ox /std:c++17 /Icppfuncs/' # requires c++17 and references are relative to cppfuncs\n",
    "options = {'compiler':'vs','flags':flags}\n",
    "\n",
    "example_autodiff = cpptools.link_to_cpp(filename,structsmap=structsmap,options=options)"
   ]
  },
  {
   "cell_type": "markdown",
   "id": "67cb8866",
   "metadata": {
    "papermill": {
     "duration": 0.007006,
     "end_time": "2023-07-13T16:20:30.443671",
     "exception": false,
     "start_time": "2023-07-13T16:20:30.436665",
     "status": "completed"
    },
    "tags": []
   },
   "source": [
    "## 3. <a id='toc3_'></a>[Run test file](#toc0_)"
   ]
  },
  {
   "cell_type": "markdown",
   "id": "35845010-938e-4044-8878-7124596cbe4e",
   "metadata": {
    "papermill": {
     "duration": 0.004003,
     "end_time": "2023-07-13T16:20:30.452678",
     "exception": false,
     "start_time": "2023-07-13T16:20:30.448675",
     "status": "completed"
    },
    "tags": []
   },
   "source": [
    "**Set x for evaluation:**"
   ]
  },
  {
   "cell_type": "code",
   "execution_count": 6,
   "id": "d355c666-2103-4654-8efa-f5f32342dc1a",
   "metadata": {
    "execution": {
     "iopub.execute_input": "2023-07-13T16:20:30.464688Z",
     "iopub.status.busy": "2023-07-13T16:20:30.463687Z",
     "iopub.status.idle": "2023-07-13T16:20:30.513728Z",
     "shell.execute_reply": "2023-07-13T16:20:30.513728Z"
    },
    "papermill": {
     "duration": 0.05905,
     "end_time": "2023-07-13T16:20:30.516732",
     "exception": false,
     "start_time": "2023-07-13T16:20:30.457682",
     "status": "completed"
    },
    "tags": []
   },
   "outputs": [],
   "source": [
    "par.x[:] = np.array([1.0,1.0,1.0])"
   ]
  },
  {
   "cell_type": "markdown",
   "id": "c35e1bea-beff-418a-94a5-af56bbada7c3",
   "metadata": {
    "papermill": {
     "duration": 0.007006,
     "end_time": "2023-07-13T16:20:30.534745",
     "exception": false,
     "start_time": "2023-07-13T16:20:30.527739",
     "status": "completed"
    },
    "tags": []
   },
   "source": [
    "**Run:**"
   ]
  },
  {
   "cell_type": "code",
   "execution_count": 7,
   "id": "4037fcf6-505e-4e6d-aa62-a55839832fa5",
   "metadata": {
    "execution": {
     "iopub.execute_input": "2023-07-13T16:20:30.546756Z",
     "iopub.status.busy": "2023-07-13T16:20:30.545755Z",
     "iopub.status.idle": "2023-07-13T16:20:30.609808Z",
     "shell.execute_reply": "2023-07-13T16:20:30.609808Z"
    },
    "papermill": {
     "duration": 0.074061,
     "end_time": "2023-07-13T16:20:30.613811",
     "exception": false,
     "start_time": "2023-07-13T16:20:30.539750",
     "status": "completed"
    },
    "tags": []
   },
   "outputs": [],
   "source": [
    "example_autodiff.test(par)"
   ]
  },
  {
   "cell_type": "markdown",
   "id": "44cbd024-5171-4a48-8732-798ea545286d",
   "metadata": {
    "papermill": {
     "duration": 0.008007,
     "end_time": "2023-07-13T16:20:30.634828",
     "exception": false,
     "start_time": "2023-07-13T16:20:30.626821",
     "status": "completed"
    },
    "tags": []
   },
   "source": [
    "**Output:**"
   ]
  },
  {
   "cell_type": "code",
   "execution_count": 8,
   "id": "bd1f4b6b-4297-4774-865e-e0efcb4b332b",
   "metadata": {
    "execution": {
     "iopub.execute_input": "2023-07-13T16:20:30.646839Z",
     "iopub.status.busy": "2023-07-13T16:20:30.645837Z",
     "iopub.status.idle": "2023-07-13T16:20:30.697879Z",
     "shell.execute_reply": "2023-07-13T16:20:30.697879Z"
    },
    "papermill": {
     "duration": 0.06105,
     "end_time": "2023-07-13T16:20:30.700882",
     "exception": false,
     "start_time": "2023-07-13T16:20:30.639832",
     "status": "completed"
    },
    "tags": []
   },
   "outputs": [
    {
     "name": "stdout",
     "output_type": "stream",
     "text": [
      "[3.21828183 2.        ]\n"
     ]
    }
   ],
   "source": [
    "print(par.y)"
   ]
  },
  {
   "cell_type": "markdown",
   "id": "b78eac87-c26f-447f-9ca6-4e63037158bf",
   "metadata": {
    "papermill": {
     "duration": 0.007006,
     "end_time": "2023-07-13T16:20:30.718897",
     "exception": false,
     "start_time": "2023-07-13T16:20:30.711891",
     "status": "completed"
    },
    "tags": []
   },
   "source": [
    "**Jacobian:**\n",
    "\n",
    "$$ \n",
    "\\boldsymbol{J}_{\\boldsymbol{x}}=\\left[\\begin{array}{ccc}\n",
    "\\frac{\\partial f_{1}}{\\partial x_{1}} & \\frac{\\partial f_{1}}{\\partial x_{2}} & \\frac{\\partial f_{1}}{\\partial x_{3}}\\\\\n",
    "\\frac{\\partial f_{2}}{\\partial x_{1}} & \\frac{\\partial f_{2}}{\\partial x_{2}} & \\frac{\\partial f_{2}}{\\partial x_{3}}\n",
    "\\end{array}\\right]\n",
    "$$"
   ]
  },
  {
   "cell_type": "code",
   "execution_count": 9,
   "id": "b38fecbb-5d59-4a0d-b5be-054ecb962e76",
   "metadata": {
    "execution": {
     "iopub.execute_input": "2023-07-13T16:20:30.729905Z",
     "iopub.status.busy": "2023-07-13T16:20:30.728904Z",
     "iopub.status.idle": "2023-07-13T16:20:30.786951Z",
     "shell.execute_reply": "2023-07-13T16:20:30.786951Z"
    },
    "papermill": {
     "duration": 0.067054,
     "end_time": "2023-07-13T16:20:30.789953",
     "exception": false,
     "start_time": "2023-07-13T16:20:30.722899",
     "status": "completed"
    },
    "tags": []
   },
   "outputs": [
    {
     "name": "stdout",
     "output_type": "stream",
     "text": [
      "[[0.5        0.         2.71828183]\n",
      " [0.         2.         0.        ]]\n"
     ]
    }
   ],
   "source": [
    "print(par.Jx)"
   ]
  },
  {
   "cell_type": "markdown",
   "id": "ad446c1e",
   "metadata": {
    "papermill": {
     "duration": 0.007005,
     "end_time": "2023-07-13T16:20:30.806967",
     "exception": false,
     "start_time": "2023-07-13T16:20:30.799962",
     "status": "completed"
    },
    "tags": []
   },
   "source": [
    "## 4. <a id='toc4_'></a>[Clean up](#toc0_)"
   ]
  },
  {
   "cell_type": "code",
   "execution_count": 10,
   "id": "f0e0274e-7ef5-409b-b739-67ddb2d93d38",
   "metadata": {
    "execution": {
     "iopub.execute_input": "2023-07-13T16:20:30.818977Z",
     "iopub.status.busy": "2023-07-13T16:20:30.818977Z",
     "iopub.status.idle": "2023-07-13T16:20:30.882028Z",
     "shell.execute_reply": "2023-07-13T16:20:30.882028Z"
    },
    "papermill": {
     "duration": 0.07306,
     "end_time": "2023-07-13T16:20:30.885031",
     "exception": false,
     "start_time": "2023-07-13T16:20:30.811971",
     "status": "completed"
    },
    "tags": []
   },
   "outputs": [],
   "source": [
    "example_autodiff.clean_up()"
   ]
  },
  {
   "cell_type": "code",
   "execution_count": 11,
   "id": "bf614cbe-0819-4683-9a3f-6c7f4f0ac56f",
   "metadata": {
    "execution": {
     "iopub.execute_input": "2023-07-13T16:20:30.905047Z",
     "iopub.status.busy": "2023-07-13T16:20:30.905047Z",
     "iopub.status.idle": "2023-07-13T16:20:31.208293Z",
     "shell.execute_reply": "2023-07-13T16:20:31.208293Z"
    },
    "papermill": {
     "duration": 0.314255,
     "end_time": "2023-07-13T16:20:31.212296",
     "exception": false,
     "start_time": "2023-07-13T16:20:30.898041",
     "status": "completed"
    },
    "tags": []
   },
   "outputs": [],
   "source": [
    "def remove(filename):\n",
    "    if os.path.exists(filename): os.remove(filename)\n",
    "    \n",
    "remove(f'cppfuncs/autodiff-main.zip')\n",
    "remove(f'cppfuncs/Eigen-main.zip')\n",
    "shutil.rmtree(f'cppfuncs/autodiff/')\n",
    "shutil.rmtree(f'cppfuncs/Eigen/')"
   ]
  }
 ],
 "metadata": {
  "kernelspec": {
   "display_name": "Python 3 (ipykernel)",
   "language": "python",
   "name": "python3"
  },
  "language_info": {
   "codemirror_mode": {
    "name": "ipython",
    "version": 3
   },
   "file_extension": ".py",
   "mimetype": "text/x-python",
   "name": "python",
   "nbconvert_exporter": "python",
   "pygments_lexer": "ipython3",
   "version": "3.12.4"
  },
  "papermill": {
   "default_parameters": {},
   "duration": 12.122862,
   "end_time": "2023-07-13T16:20:31.445485",
   "environment_variables": {},
   "exception": null,
   "input_path": "03d. Using autodiff.ipynb",
   "output_path": "temp_notebooks/03d. Using autodiff.ipynb",
   "parameters": {},
   "start_time": "2023-07-13T16:20:19.322623",
   "version": "2.4.0"
  }
 },
 "nbformat": 4,
 "nbformat_minor": 5
}
