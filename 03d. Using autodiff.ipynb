{
 "cells": [
  {
   "cell_type": "markdown",
   "id": "6a6ada53",
   "metadata": {
    "papermill": {
     "duration": 0.006979,
     "end_time": "2023-07-13T13:40:07.670551",
     "exception": false,
     "start_time": "2023-07-13T13:40:07.663572",
     "status": "completed"
    },
    "tags": []
   },
   "source": [
    "# Using autodiff"
   ]
  },
  {
   "cell_type": "markdown",
   "id": "b31a3021",
   "metadata": {
    "papermill": {
     "duration": 0.006981,
     "end_time": "2023-07-13T13:40:07.687503",
     "exception": false,
     "start_time": "2023-07-13T13:40:07.680522",
     "status": "completed"
    },
    "tags": []
   },
   "source": [
    "**Table of contents**<a id='toc0_'></a>    \n",
    "- 1. [Setup autodiff and Eigen](#toc1_)    \n",
    "- 2. [Compile test file](#toc2_)    \n",
    "- 3. [Run test file](#toc3_)    \n",
    "- 4. [Clean up](#toc4_)    \n",
    "\n",
    "<!-- vscode-jupyter-toc-config\n",
    "\tnumbering=true\n",
    "\tanchor=true\n",
    "\tflat=false\n",
    "\tminLevel=2\n",
    "\tmaxLevel=6\n",
    "\t/vscode-jupyter-toc-config -->\n",
    "<!-- THIS CELL WILL BE REPLACED ON TOC UPDATE. DO NOT WRITE YOUR TEXT IN THIS CELL -->"
   ]
  },
  {
   "cell_type": "markdown",
   "id": "4f27105e-5ab8-4fee-9c7e-0b40be4e6d79",
   "metadata": {
    "papermill": {
     "duration": 0.005981,
     "end_time": "2023-07-13T13:40:07.704454",
     "exception": false,
     "start_time": "2023-07-13T13:40:07.698473",
     "status": "completed"
    },
    "tags": []
   },
   "source": [
    "This notebook shows how to use [autodiff](https://autodiff.github.io/) for **automatic differentiation of C++ functions**.\n",
    "\n",
    "We consider the following *multi-variable* and *vector-valued* function:\n",
    "\n",
    "$$ \n",
    "F:\\mathbb{R}^{3}\\rightarrow\\mathbb{R}^{2}:\\,F(\\boldsymbol{x}) = F(x_{1},x_{2},x_{2})=\\left[\\begin{array}{c}\n",
    "y_{1}\\\\\n",
    "y_{2}\n",
    "\\end{array}\\right]=\\left[\\begin{array}{c}\n",
    "f_{1}(x_{1},x_{2},x_{3})\\\\\n",
    "f_{2}(x_{1},x_{2},x_{3})\n",
    "\\end{array}\\right]=\\left[\\begin{array}{c}\n",
    "\\alpha x_{1}+\\exp x_{3}\\\\\n",
    "\\beta x_{2}\n",
    "\\end{array}\\right]\n",
    "$$"
   ]
  },
  {
   "cell_type": "code",
   "execution_count": 1,
   "id": "1ca79284-da8b-4fd3-8ba7-48faedb1c548",
   "metadata": {
    "execution": {
     "iopub.execute_input": "2023-07-13T13:40:07.721410Z",
     "iopub.status.busy": "2023-07-13T13:40:07.721410Z",
     "iopub.status.idle": "2023-07-13T13:40:08.119873Z",
     "shell.execute_reply": "2023-07-13T13:40:08.118872Z"
    },
    "papermill": {
     "duration": 0.409434,
     "end_time": "2023-07-13T13:40:08.121868",
     "exception": false,
     "start_time": "2023-07-13T13:40:07.712434",
     "status": "completed"
    },
    "tags": []
   },
   "outputs": [],
   "source": [
    "%load_ext autoreload\n",
    "%autoreload 2\n",
    "\n",
    "import os\n",
    "import shutil\n",
    "import numpy as np\n",
    "from types import SimpleNamespace\n",
    "\n",
    "from EconModel import cpptools"
   ]
  },
  {
   "cell_type": "markdown",
   "id": "4c14ee6d",
   "metadata": {
    "papermill": {
     "duration": 0.007977,
     "end_time": "2023-07-13T13:40:08.137823",
     "exception": false,
     "start_time": "2023-07-13T13:40:08.129846",
     "status": "completed"
    },
    "tags": []
   },
   "source": [
    "## 1. <a id='toc1_'></a>[Setup autodiff and Eigen](#toc0_)"
   ]
  },
  {
   "cell_type": "markdown",
   "id": "cc30936c-afaf-45f6-a9a5-2d0371814323",
   "metadata": {
    "papermill": {
     "duration": 0.011967,
     "end_time": "2023-07-13T13:40:08.160760",
     "exception": false,
     "start_time": "2023-07-13T13:40:08.148793",
     "status": "completed"
    },
    "tags": []
   },
   "source": [
    "Download files and create **cppfuncs/autodiff**:"
   ]
  },
  {
   "cell_type": "code",
   "execution_count": 2,
   "id": "97a920ba-a55f-4360-9ba4-0fa9468e0ad6",
   "metadata": {
    "execution": {
     "iopub.execute_input": "2023-07-13T13:40:08.180704Z",
     "iopub.status.busy": "2023-07-13T13:40:08.180704Z",
     "iopub.status.idle": "2023-07-13T13:40:08.268002Z",
     "shell.execute_reply": "2023-07-13T13:40:08.266979Z"
    },
    "papermill": {
     "duration": 0.099266,
     "end_time": "2023-07-13T13:40:08.270994",
     "exception": false,
     "start_time": "2023-07-13T13:40:08.171728",
     "status": "completed"
    },
    "tags": []
   },
   "outputs": [
    {
     "name": "stdout",
     "output_type": "stream",
     "text": [
      "autodiff succesfully installed\n"
     ]
    }
   ],
   "source": [
    "cpptools.setup_autodiff(do_print=True)"
   ]
  },
  {
   "cell_type": "markdown",
   "id": "3b7cd0c5-b590-4894-a3a4-891c5f85bd6a",
   "metadata": {
    "papermill": {
     "duration": 0.010969,
     "end_time": "2023-07-13T13:40:08.294899",
     "exception": false,
     "start_time": "2023-07-13T13:40:08.283930",
     "status": "completed"
    },
    "tags": []
   },
   "source": [
    "Download files and create **cppfuncs/Eigen**:"
   ]
  },
  {
   "cell_type": "code",
   "execution_count": 3,
   "id": "ac858085-56bd-4849-b919-3912f50da347",
   "metadata": {
    "execution": {
     "iopub.execute_input": "2023-07-13T13:40:08.314843Z",
     "iopub.status.busy": "2023-07-13T13:40:08.314843Z",
     "iopub.status.idle": "2023-07-13T13:40:14.747521Z",
     "shell.execute_reply": "2023-07-13T13:40:14.746013Z"
    },
    "papermill": {
     "duration": 6.448602,
     "end_time": "2023-07-13T13:40:14.752510",
     "exception": false,
     "start_time": "2023-07-13T13:40:08.303908",
     "status": "completed"
    },
    "tags": []
   },
   "outputs": [
    {
     "name": "stdout",
     "output_type": "stream",
     "text": [
      "Eigen succesfully installed\n"
     ]
    }
   ],
   "source": [
    "cpptools.setup_Eigen(do_print=True)"
   ]
  },
  {
   "cell_type": "markdown",
   "id": "edae7dff",
   "metadata": {
    "papermill": {
     "duration": 0.018947,
     "end_time": "2023-07-13T13:40:14.788408",
     "exception": false,
     "start_time": "2023-07-13T13:40:14.769461",
     "status": "completed"
    },
    "tags": []
   },
   "source": [
    "## 2. <a id='toc2_'></a>[Compile test file](#toc0_)"
   ]
  },
  {
   "cell_type": "markdown",
   "id": "b10b1483-a33d-45fc-8cc9-2baad4b0db94",
   "metadata": {
    "papermill": {
     "duration": 0.022936,
     "end_time": "2023-07-13T13:40:14.828296",
     "exception": false,
     "start_time": "2023-07-13T13:40:14.805360",
     "status": "completed"
    },
    "tags": []
   },
   "source": [
    "**Setup namespace:**"
   ]
  },
  {
   "cell_type": "code",
   "execution_count": 4,
   "id": "2c2616ff-e687-47bf-94de-1dee649db561",
   "metadata": {
    "execution": {
     "iopub.execute_input": "2023-07-13T13:40:14.883144Z",
     "iopub.status.busy": "2023-07-13T13:40:14.882147Z",
     "iopub.status.idle": "2023-07-13T13:40:15.065637Z",
     "shell.execute_reply": "2023-07-13T13:40:15.064638Z"
    },
    "papermill": {
     "duration": 0.211412,
     "end_time": "2023-07-13T13:40:15.070622",
     "exception": false,
     "start_time": "2023-07-13T13:40:14.859210",
     "status": "completed"
    },
    "tags": []
   },
   "outputs": [],
   "source": [
    "par = SimpleNamespace()\n",
    "\n",
    "par.alpha = 0.5\n",
    "par.beta = 2.0\n",
    "\n",
    "par.Nx = 3\n",
    "par.Ny = 2\n",
    "\n",
    "par.x = np.zeros(par.Nx)\n",
    "par.y = np.zeros(par.Ny)\n",
    "par.Jx = np.zeros((par.Ny,par.Nx))"
   ]
  },
  {
   "cell_type": "markdown",
   "id": "e15b6a63-6e18-491b-8bbf-0852ec113c6c",
   "metadata": {
    "papermill": {
     "duration": 0.01496,
     "end_time": "2023-07-13T13:40:15.102535",
     "exception": false,
     "start_time": "2023-07-13T13:40:15.087575",
     "status": "completed"
    },
    "tags": []
   },
   "source": [
    "**Compile:**"
   ]
  },
  {
   "cell_type": "code",
   "execution_count": 5,
   "id": "unlikely-administration",
   "metadata": {
    "execution": {
     "iopub.execute_input": "2023-07-13T13:40:15.137436Z",
     "iopub.status.busy": "2023-07-13T13:40:15.136441Z",
     "iopub.status.idle": "2023-07-13T13:40:24.092489Z",
     "shell.execute_reply": "2023-07-13T13:40:24.090496Z"
    },
    "papermill": {
     "duration": 8.978984,
     "end_time": "2023-07-13T13:40:24.097474",
     "exception": false,
     "start_time": "2023-07-13T13:40:15.118490",
     "status": "completed"
    },
    "tags": []
   },
   "outputs": [],
   "source": [
    "filename = 'cppfuncs/example_autodiff.cpp'\n",
    "structsmap = {'par_struct':par}\n",
    "flags = '/LD /EHsc /Ox /std:c++17 /Icppfuncs/' # requires c++17 and references are relative to cppfuncs\n",
    "options = {'compiler':'vs','flags':flags}\n",
    "\n",
    "example_autodiff = cpptools.link_to_cpp(filename,structsmap=structsmap,options=options)"
   ]
  },
  {
   "cell_type": "markdown",
   "id": "67cb8866",
   "metadata": {
    "papermill": {
     "duration": 0.01895,
     "end_time": "2023-07-13T13:40:24.132379",
     "exception": false,
     "start_time": "2023-07-13T13:40:24.113429",
     "status": "completed"
    },
    "tags": []
   },
   "source": [
    "## 3. <a id='toc3_'></a>[Run test file](#toc0_)"
   ]
  },
  {
   "cell_type": "markdown",
   "id": "35845010-938e-4044-8878-7124596cbe4e",
   "metadata": {
    "papermill": {
     "duration": 0.008977,
     "end_time": "2023-07-13T13:40:24.157309",
     "exception": false,
     "start_time": "2023-07-13T13:40:24.148332",
     "status": "completed"
    },
    "tags": []
   },
   "source": [
    "**Set x for evaluation:**"
   ]
  },
  {
   "cell_type": "code",
   "execution_count": 6,
   "id": "d355c666-2103-4654-8efa-f5f32342dc1a",
   "metadata": {
    "execution": {
     "iopub.execute_input": "2023-07-13T13:40:24.188221Z",
     "iopub.status.busy": "2023-07-13T13:40:24.187224Z",
     "iopub.status.idle": "2023-07-13T13:40:24.327585Z",
     "shell.execute_reply": "2023-07-13T13:40:24.326582Z"
    },
    "papermill": {
     "duration": 0.161301,
     "end_time": "2023-07-13T13:40:24.330576",
     "exception": false,
     "start_time": "2023-07-13T13:40:24.169275",
     "status": "completed"
    },
    "tags": []
   },
   "outputs": [],
   "source": [
    "par.x[:] = np.array([1.0,1.0,1.0])"
   ]
  },
  {
   "cell_type": "markdown",
   "id": "c35e1bea-beff-418a-94a5-af56bbada7c3",
   "metadata": {
    "papermill": {
     "duration": 0.01097,
     "end_time": "2023-07-13T13:40:24.351519",
     "exception": false,
     "start_time": "2023-07-13T13:40:24.340549",
     "status": "completed"
    },
    "tags": []
   },
   "source": [
    "**Run:**"
   ]
  },
  {
   "cell_type": "code",
   "execution_count": 7,
   "id": "4037fcf6-505e-4e6d-aa62-a55839832fa5",
   "metadata": {
    "execution": {
     "iopub.execute_input": "2023-07-13T13:40:24.378447Z",
     "iopub.status.busy": "2023-07-13T13:40:24.378447Z",
     "iopub.status.idle": "2023-07-13T13:40:24.502728Z",
     "shell.execute_reply": "2023-07-13T13:40:24.502728Z"
    },
    "papermill": {
     "duration": 0.144233,
     "end_time": "2023-07-13T13:40:24.506721",
     "exception": false,
     "start_time": "2023-07-13T13:40:24.362488",
     "status": "completed"
    },
    "tags": []
   },
   "outputs": [],
   "source": [
    "example_autodiff.test(par)"
   ]
  },
  {
   "cell_type": "markdown",
   "id": "44cbd024-5171-4a48-8732-798ea545286d",
   "metadata": {
    "papermill": {
     "duration": 0.011967,
     "end_time": "2023-07-13T13:40:24.532650",
     "exception": false,
     "start_time": "2023-07-13T13:40:24.520683",
     "status": "completed"
    },
    "tags": []
   },
   "source": [
    "**Output:**"
   ]
  },
  {
   "cell_type": "code",
   "execution_count": 8,
   "id": "bd1f4b6b-4297-4774-865e-e0efcb4b332b",
   "metadata": {
    "execution": {
     "iopub.execute_input": "2023-07-13T13:40:24.563564Z",
     "iopub.status.busy": "2023-07-13T13:40:24.562567Z",
     "iopub.status.idle": "2023-07-13T13:40:24.722061Z",
     "shell.execute_reply": "2023-07-13T13:40:24.721059Z"
    },
    "papermill": {
     "duration": 0.179441,
     "end_time": "2023-07-13T13:40:24.726052",
     "exception": false,
     "start_time": "2023-07-13T13:40:24.546611",
     "status": "completed"
    },
    "tags": []
   },
   "outputs": [
    {
     "name": "stdout",
     "output_type": "stream",
     "text": [
      "[3.21828183 2.        ]\n"
     ]
    }
   ],
   "source": [
    "print(par.y)"
   ]
  },
  {
   "cell_type": "markdown",
   "id": "b78eac87-c26f-447f-9ca6-4e63037158bf",
   "metadata": {
    "papermill": {
     "duration": 0.015957,
     "end_time": "2023-07-13T13:40:24.757963",
     "exception": false,
     "start_time": "2023-07-13T13:40:24.742006",
     "status": "completed"
    },
    "tags": []
   },
   "source": [
    "**Jacobian:**\n",
    "\n",
    "$$ \n",
    "\\boldsymbol{J}_{\\boldsymbol{x}}=\\left[\\begin{array}{ccc}\n",
    "\\frac{\\partial f_{1}}{\\partial x_{1}} & \\frac{\\partial f_{1}}{\\partial x_{2}} & \\frac{\\partial f_{1}}{\\partial x_{3}}\\\\\n",
    "\\frac{\\partial f_{2}}{\\partial x_{1}} & \\frac{\\partial f_{2}}{\\partial x_{2}} & \\frac{\\partial f_{2}}{\\partial x_{3}}\n",
    "\\end{array}\\right]\n",
    "$$"
   ]
  },
  {
   "cell_type": "code",
   "execution_count": 9,
   "id": "b38fecbb-5d59-4a0d-b5be-054ecb962e76",
   "metadata": {
    "execution": {
     "iopub.execute_input": "2023-07-13T13:40:24.791867Z",
     "iopub.status.busy": "2023-07-13T13:40:24.790870Z",
     "iopub.status.idle": "2023-07-13T13:40:24.942961Z",
     "shell.execute_reply": "2023-07-13T13:40:24.941968Z"
    },
    "papermill": {
     "duration": 0.174029,
     "end_time": "2023-07-13T13:40:24.946949",
     "exception": false,
     "start_time": "2023-07-13T13:40:24.772920",
     "status": "completed"
    },
    "tags": []
   },
   "outputs": [
    {
     "name": "stdout",
     "output_type": "stream",
     "text": [
      "[[0.5        0.         2.71828183]\n",
      " [0.         2.         0.        ]]\n"
     ]
    }
   ],
   "source": [
    "print(par.Jx)"
   ]
  },
  {
   "cell_type": "markdown",
   "id": "ad446c1e",
   "metadata": {
    "papermill": {
     "duration": 0.012965,
     "end_time": "2023-07-13T13:40:24.976867",
     "exception": false,
     "start_time": "2023-07-13T13:40:24.963902",
     "status": "completed"
    },
    "tags": []
   },
   "source": [
    "## 4. <a id='toc4_'></a>[Clean up](#toc0_)"
   ]
  },
  {
   "cell_type": "code",
   "execution_count": 10,
   "id": "f0e0274e-7ef5-409b-b739-67ddb2d93d38",
   "metadata": {
    "execution": {
     "iopub.execute_input": "2023-07-13T13:40:25.007781Z",
     "iopub.status.busy": "2023-07-13T13:40:25.006783Z",
     "iopub.status.idle": "2023-07-13T13:40:25.187435Z",
     "shell.execute_reply": "2023-07-13T13:40:25.186444Z"
    },
    "papermill": {
     "duration": 0.200598,
     "end_time": "2023-07-13T13:40:25.191424",
     "exception": false,
     "start_time": "2023-07-13T13:40:24.990826",
     "status": "completed"
    },
    "tags": []
   },
   "outputs": [],
   "source": [
    "example_autodiff.clean_up()"
   ]
  },
  {
   "cell_type": "code",
   "execution_count": 11,
   "id": "bf614cbe-0819-4683-9a3f-6c7f4f0ac56f",
   "metadata": {
    "execution": {
     "iopub.execute_input": "2023-07-13T13:40:25.226328Z",
     "iopub.status.busy": "2023-07-13T13:40:25.226328Z",
     "iopub.status.idle": "2023-07-13T13:40:25.644434Z",
     "shell.execute_reply": "2023-07-13T13:40:25.642445Z"
    },
    "papermill": {
     "duration": 0.44104,
     "end_time": "2023-07-13T13:40:25.649418",
     "exception": false,
     "start_time": "2023-07-13T13:40:25.208378",
     "status": "completed"
    },
    "tags": []
   },
   "outputs": [],
   "source": [
    "def remove(filename):\n",
    "    if os.path.exists(filename): os.remove(filename)\n",
    "    \n",
    "remove(f'cppfuncs/autodiff-main.zip')\n",
    "remove(f'cppfuncs/Eigen-main.zip')\n",
    "shutil.rmtree(f'cppfuncs/autodiff/')\n",
    "shutil.rmtree(f'cppfuncs/Eigen/')"
   ]
  }
 ],
 "metadata": {
  "kernelspec": {
   "display_name": "Python 3 (ipykernel)",
   "language": "python",
   "name": "python3"
  },
  "language_info": {
   "codemirror_mode": {
    "name": "ipython",
    "version": 3
   },
   "file_extension": ".py",
   "mimetype": "text/x-python",
   "name": "python",
   "nbconvert_exporter": "python",
   "pygments_lexer": "ipython3",
   "version": "3.11.3"
  },
  "papermill": {
   "default_parameters": {},
   "duration": 22.044872,
   "end_time": "2023-07-13T13:40:26.015402",
   "environment_variables": {},
   "exception": null,
   "input_path": "03d. Using autodiff.ipynb",
   "output_path": "temp_notebooks/03d. Using autodiff.ipynb",
   "parameters": {},
   "start_time": "2023-07-13T13:40:03.970530",
   "version": "2.4.0"
  }
 },
 "nbformat": 4,
 "nbformat_minor": 5
}
