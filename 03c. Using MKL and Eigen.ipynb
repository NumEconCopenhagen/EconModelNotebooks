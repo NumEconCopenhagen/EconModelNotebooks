{
 "cells": [
  {
   "cell_type": "markdown",
   "id": "bec156c3-3bf8-4076-9997-3ba0b2b02df8",
   "metadata": {},
   "source": [
    "# Using MKL and Eigen"
   ]
  },
  {
   "cell_type": "markdown",
   "id": "4f27105e-5ab8-4fee-9c7e-0b40be4e6d79",
   "metadata": {},
   "source": [
    "This notebooks shows how to speed up matrix multiplication and solving (sparse) linear equation systems with the **Math Kernal Library (MKL)** from Intel and **[Eigen](https://eigen.tuxfamily.org/index.php?title=Main_Page)**. Using explicit parallization with OpenMP in particular provide a significant speed-up."
   ]
  },
  {
   "cell_type": "markdown",
   "id": "70131225-f113-4d5b-bab2-7b41ed119be5",
   "metadata": {},
   "source": [
    "**Timing computer:** Windows 10 computer with 2x Intel(R) Xeon(R) Gold 6254 3.10 GHz CPUs (18 cores, 36 logical processes each) and 768 GB of RAM."
   ]
  },
  {
   "cell_type": "markdown",
   "id": "f907e510-7652-4eec-ae16-a3c2128e37cc",
   "metadata": {},
   "source": [
    "# Imports"
   ]
  },
  {
   "cell_type": "code",
   "execution_count": 1,
   "id": "1ca79284-da8b-4fd3-8ba7-48faedb1c548",
   "metadata": {},
   "outputs": [],
   "source": [
    "%load_ext autoreload\n",
    "%autoreload 2\n",
    "\n",
    "import os\n",
    "import shutil\n",
    "import urllib.request\n",
    "import numpy as np\n",
    "import scipy.linalg\n",
    "import scipy.sparse\n",
    "import scipy.sparse.linalg\n",
    "import scipy.io\n",
    "\n",
    "import time\n",
    "\n",
    "from EconModel import cpptools"
   ]
  },
  {
   "cell_type": "markdown",
   "id": "2d858914-2273-4372-a02d-9094689661cb",
   "metadata": {},
   "source": [
    "# Setup and settings"
   ]
  },
  {
   "cell_type": "code",
   "execution_count": 2,
   "id": "dc574d96-451d-4d4d-aa51-1639a4619505",
   "metadata": {},
   "outputs": [
    {
     "name": "stdout",
     "output_type": "stream",
     "text": [
      "Eigen succesfully installed\n"
     ]
    }
   ],
   "source": [
    "cpptools.setup_Eigen(do_print=True)"
   ]
  },
  {
   "cell_type": "markdown",
   "id": "846d6606-3e3e-4cce-b2ec-afe02a7be263",
   "metadata": {},
   "source": [
    "**Settings:**"
   ]
  },
  {
   "cell_type": "code",
   "execution_count": 3,
   "id": "d454ae8e-c765-4028-803c-1e896908ca9e",
   "metadata": {},
   "outputs": [],
   "source": [
    "threads_vec = [(1,72),(2,36),(4,18),(8,9),(9,8),(18,4),(36,2),(72,1)]"
   ]
  },
  {
   "cell_type": "markdown",
   "id": "3c37bfc1-e0b9-4c38-a857-4b4420bfbeb4",
   "metadata": {
    "tags": []
   },
   "source": [
    "# Compile C++"
   ]
  },
  {
   "cell_type": "code",
   "execution_count": 4,
   "id": "unlikely-administration",
   "metadata": {},
   "outputs": [],
   "source": [
    "flags = '/LD /EHsc /O3 /openmp /std:c++17 /Qmkl /QxCOMMON-AVX512 /Icppfuncs/'\n",
    "example_MKL = cpptools.link_to_cpp('cppfuncs/example_MKL.cpp',\n",
    "                                   options={'compiler':'intel','flags':flags})"
   ]
  },
  {
   "cell_type": "markdown",
   "id": "15744e05-1073-4aae-ab48-99048713ce70",
   "metadata": {
    "tags": []
   },
   "source": [
    "# Matrix multiplication"
   ]
  },
  {
   "cell_type": "markdown",
   "id": "ccbf6456-b70b-4322-be01-025caa4a1951",
   "metadata": {},
   "source": [
    "$$\n",
    "C = \\alpha A B + \\beta C\n",
    "$$"
   ]
  },
  {
   "cell_type": "code",
   "execution_count": 5,
   "id": "c742bf68-a3c0-45f4-aa33-3d9e7572de67",
   "metadata": {},
   "outputs": [],
   "source": [
    "alpha = 1.0\n",
    "beta = 0.0\n",
    "    \n",
    "def allocate_mat(n=300,nrep=500):\n",
    "    \n",
    "    # varying sizes to test code\n",
    "    \n",
    "    np.random.seed(17)\n",
    "    \n",
    "    A = np.random.uniform(size=(nrep,2*n,n))\n",
    "    B = np.random.uniform(size=(nrep,n,3*n))\n",
    "    C = np.random.uniform(size=(nrep,2*n,3*n))\n",
    "    \n",
    "    return A,B,C\n"
   ]
  },
  {
   "cell_type": "code",
   "execution_count": 6,
   "id": "43a973a3-8c67-4b79-ab1b-5eef9830bab7",
   "metadata": {},
   "outputs": [],
   "source": [
    "def matmul_np(alpha,beta,A,B,C):\n",
    "        \n",
    "    t0 = time.perf_counter()\n",
    "    C[:,:,:] = alpha*(A@B)+beta*C\n",
    "    secs = time.perf_counter()-t0\n",
    "    \n",
    "    return secs\n"
   ]
  },
  {
   "cell_type": "code",
   "execution_count": 7,
   "id": "92681220-829b-4fbd-9bd3-242f1d67b979",
   "metadata": {},
   "outputs": [],
   "source": [
    "def matmul_BLAS(alpha,beta,A,B,C,threads_internal,threads_omp):\n",
    "    \n",
    "    nrep,m,k = A.shape\n",
    "    nrep,k,n = B.shape\n",
    "    nrep,m,n = C.shape\n",
    "    \n",
    "    secs = example_MKL.matmul_BLAS(nrep,m,n,k,alpha,beta,A,B,C,threads_internal,threads_omp)\n",
    "    \n",
    "    return secs\n",
    "    "
   ]
  },
  {
   "cell_type": "code",
   "execution_count": 8,
   "id": "e6d1a551-8003-40c7-8b94-a15f6fcdd52d",
   "metadata": {},
   "outputs": [],
   "source": [
    "def matmul_Eigen(alpha,beta,A,B,C,threads_internal,threads_omp):\n",
    "    \n",
    "    nrep,m,k = A.shape\n",
    "    nrep,k,n = B.shape\n",
    "    nrep,m,n = C.shape\n",
    "    \n",
    "    secs = example_MKL.matmul_Eigen(nrep,m,n,k,alpha,beta,A,B,C,threads_internal,threads_omp)\n",
    "    \n",
    "    return secs\n",
    "    "
   ]
  },
  {
   "cell_type": "markdown",
   "id": "d182b534-303d-42e9-9259-476a667c5534",
   "metadata": {},
   "source": [
    "**Test with single matrix multiplication:**"
   ]
  },
  {
   "cell_type": "code",
   "execution_count": 9,
   "id": "3a8d50fd-8c4a-43a9-bc13-b4ca001d8b0e",
   "metadata": {},
   "outputs": [
    {
     "name": "stdout",
     "output_type": "stream",
     "text": [
      "n = 500:\n",
      "numpy:                               64 ms\n",
      "mkl (no threads, no omp):            22 ms\n",
      "mkl (all internal, no omp):           4 ms\n",
      "Eigen (no threads, no omp):          33 ms\n",
      "Eigen (all internal, no omp):        21 ms\n",
      "\n",
      "n = 1000:\n",
      "numpy:                              141 ms\n",
      "mkl (no threads, no omp):           135 ms\n",
      "mkl (all internal, no omp):          17 ms\n",
      "Eigen (no threads, no omp):         222 ms\n",
      "Eigen (all internal, no omp):       145 ms\n",
      "\n",
      "n = 2000:\n",
      "numpy:                              823 ms\n",
      "mkl (no threads, no omp):          1208 ms\n",
      "mkl (all internal, no omp):         259 ms\n",
      "Eigen (no threads, no omp):        1524 ms\n",
      "Eigen (all internal, no omp):       511 ms\n",
      "\n"
     ]
    }
   ],
   "source": [
    "for n in [500,1000,2000]:\n",
    "    \n",
    "    print(f'{n = }:') \n",
    "    \n",
    "    # numpy\n",
    "    A,B,C = allocate_mat(n,1)\n",
    "    name = 'numpy:'\n",
    "    secs = matmul_np(alpha,beta,A,B,C)\n",
    "    print(f'{name:30s} {secs*1000:8.0f} ms')\n",
    "\n",
    "    # mkl\n",
    "    A,B,C = allocate_mat(n,1)\n",
    "    name = f'mkl (no threads, no omp):'\n",
    "    secs = matmul_BLAS(alpha,beta,A,B,C,1,1)\n",
    "    print(f'{name:30s} {secs*1000:8.0f} ms')\n",
    "\n",
    "    A,B,C = allocate_mat(n,1)\n",
    "    name = f'mkl (all internal, no omp):'\n",
    "    secs = matmul_BLAS(alpha,beta,A,B,C,72,1)\n",
    "    print(f'{name:30s} {secs*1000:8.0f} ms')\n",
    "    \n",
    "    # Eigen\n",
    "    A,B,C = allocate_mat(n,1)\n",
    "    name = f'Eigen (no threads, no omp):'\n",
    "    secs = matmul_Eigen(alpha,beta,A,B,C,1,1)\n",
    "    print(f'{name:30s} {secs*1000:8.0f} ms')\n",
    "\n",
    "    A,B,C = allocate_mat(n,1)\n",
    "    name = f'Eigen (all internal, no omp):'\n",
    "    secs = matmul_Eigen(alpha,beta,A,B,C,72,1)\n",
    "    print(f'{name:30s} {secs*1000:8.0f} ms')    \n",
    "    \n",
    "    print('')"
   ]
  },
  {
   "cell_type": "markdown",
   "id": "3783f895-bca3-497f-9cba-8bb1dd32b455",
   "metadata": {},
   "source": [
    "**Test with multiple matrix multiplications:**"
   ]
  },
  {
   "cell_type": "code",
   "execution_count": 10,
   "id": "bffe08ee-b331-47e9-81c9-003899b2871c",
   "metadata": {},
   "outputs": [
    {
     "name": "stdout",
     "output_type": "stream",
     "text": [
      "n = 300, nrep = 500:\n",
      "numpy:                             6254 ms\n",
      "mkl (internal= 1,omp=72):           281 ms\n",
      "mkl (internal= 2,omp=36):           225 ms\n",
      "mkl (internal= 4,omp=18):           226 ms\n",
      "mkl (internal= 8,omp= 9):           252 ms\n",
      "mkl (internal= 9,omp= 8):           269 ms\n",
      "mkl (internal=18,omp= 4):           526 ms\n",
      "mkl (internal=36,omp= 2):           988 ms\n",
      "mkl (internal=72,omp= 1):           213 ms\n",
      "\n",
      "n = 500, nrep = 300:\n",
      "numpy:                             9556 ms\n",
      "mkl (internal= 1,omp=72):           536 ms\n",
      "mkl (internal= 2,omp=36):           533 ms\n",
      "mkl (internal= 4,omp=18):           548 ms\n",
      "mkl (internal= 8,omp= 9):           649 ms\n",
      "mkl (internal= 9,omp= 8):           735 ms\n",
      "mkl (internal=18,omp= 4):          1396 ms\n",
      "mkl (internal=36,omp= 2):          2589 ms\n",
      "mkl (internal=72,omp= 1):           478 ms\n",
      "\n"
     ]
    }
   ],
   "source": [
    "for (n,nrep) in [(300,500),(500,300)]:\n",
    "    \n",
    "    print(f'{n = }, {nrep = }:') \n",
    "    \n",
    "    A,B,C = allocate_mat(n,nrep)\n",
    "    \n",
    "    # numpy\n",
    "    name = 'numpy:'\n",
    "    secs = matmul_np(alpha,beta,A,B,C)\n",
    "    print(f'{name:30s} {secs*1000:8.0f} ms')\n",
    "    C_np = C.copy()\n",
    "    \n",
    "    # mkl\n",
    "    for (threads_internal,threads_omp) in threads_vec:\n",
    "        \n",
    "        name = f'mkl (internal={threads_internal:2d},omp={threads_omp:2d}):'\n",
    "        C[:] = 0\n",
    "        secs = matmul_BLAS(alpha,beta,A,B,C,threads_internal,threads_omp)\n",
    "        print(f'{name:30s} {secs*1000:8.0f} ms')\n",
    "        \n",
    "    # check results are the same\n",
    "    max_abs_diff = np.max(np.abs(C_np-C))\n",
    "    assert np.isclose(max_abs_diff,0.0)   \n",
    "    \n",
    "    print('')\n",
    "    "
   ]
  },
  {
   "cell_type": "markdown",
   "id": "5cfa26ad-677b-4598-a6d0-5f82a7d34e88",
   "metadata": {
    "tags": []
   },
   "source": [
    "# Solve linear equation system"
   ]
  },
  {
   "cell_type": "markdown",
   "id": "f2fac8e7-2c4a-4677-8814-345e0075f4bf",
   "metadata": {},
   "source": [
    "$$\n",
    "Ax = b\n",
    "$$"
   ]
  },
  {
   "cell_type": "code",
   "execution_count": 11,
   "id": "abb147a9-003a-4846-9db6-c71df172c4b9",
   "metadata": {},
   "outputs": [],
   "source": [
    "def allocate_solve_mat(n=500,nrhs=100,nrep=500):\n",
    "    \n",
    "    np.random.seed(17)\n",
    "\n",
    "    A = np.random.uniform(size=(nrep,n,n))\n",
    "    x = np.random.uniform(size=(nrep,n,nrhs))\n",
    "    b = A@x\n",
    "\n",
    "    return A,b,x\n"
   ]
  },
  {
   "cell_type": "code",
   "execution_count": 12,
   "id": "0598b06c-df96-4877-aa33-7642de2d1165",
   "metadata": {},
   "outputs": [],
   "source": [
    "def solve_np(A,b):\n",
    "    \n",
    "    t0 = time.perf_counter()\n",
    "    x = np.zeros(b.shape)\n",
    "    for i in range(A.shape[0]):\n",
    "        x[i,:,:] = np.linalg.solve(A[i],b[i])\n",
    "    secs = time.perf_counter()-t0\n",
    "    \n",
    "    return x,secs"
   ]
  },
  {
   "cell_type": "code",
   "execution_count": 13,
   "id": "d3f5ec5a-ab84-4602-a5a5-298de0ab4344",
   "metadata": {},
   "outputs": [],
   "source": [
    "def solve_LAPACKE(A,b,x,threads_internal,threads_omp):\n",
    "    \n",
    "    nrep,n,_ = A.shape\n",
    "    _,_,nrh = b.shape\n",
    "    \n",
    "    b_old = b.copy()\n",
    "    secs = example_MKL.solve_LAPACKE(nrep,n,nrh,A,b,threads_internal,threads_omp)\n",
    "    x[:] = b.copy()\n",
    "    b[:] = b_old\n",
    "    \n",
    "    return x,secs"
   ]
  },
  {
   "cell_type": "code",
   "execution_count": 14,
   "id": "e0a50318-cc2e-4c51-985d-1e1a5097cd2a",
   "metadata": {},
   "outputs": [],
   "source": [
    "def solve_Eigen(A,b,x,threads_internal,threads_omp):\n",
    "    \n",
    "    nrep,n,_ = A.shape\n",
    "    _,_,nrh = b.shape\n",
    "    \n",
    "    b_old = b.copy()\n",
    "    secs = example_MKL.solve_Eigen(nrep,n,nrh,A,b,threads_internal,threads_omp)\n",
    "    x[:] = b.copy()\n",
    "    b[:] = b_old\n",
    "    \n",
    "    return x,secs"
   ]
  },
  {
   "cell_type": "markdown",
   "id": "6c81015b-937b-44e0-acd8-53e61ea0f317",
   "metadata": {},
   "source": [
    "**Test solving multiple equations systems at once:**"
   ]
  },
  {
   "cell_type": "code",
   "execution_count": 15,
   "id": "38c09b6d-6aa1-42bb-87e3-064c06f82141",
   "metadata": {},
   "outputs": [
    {
     "name": "stdout",
     "output_type": "stream",
     "text": [
      "numpy                              2265 ms\n",
      "mkl (internal= 1,omp=72):          1368 ms\n",
      "mkl (internal= 2,omp=36):           622 ms\n",
      "mkl (internal= 4,omp=18):           528 ms\n",
      "mkl (internal= 8,omp= 9):           649 ms\n",
      "mkl (internal= 9,omp= 8):           654 ms\n",
      "mkl (internal=18,omp= 4):           826 ms\n",
      "mkl (internal=36,omp= 2):          1417 ms\n",
      "mkl (internal=72,omp= 1):          1475 ms\n",
      "Eigen (internal= 1,omp=72):        4377 ms\n",
      "Eigen (internal= 2,omp=36):        1855 ms\n",
      "Eigen (internal= 4,omp=18):        1569 ms\n",
      "Eigen (internal= 8,omp= 9):        1181 ms\n",
      "Eigen (internal= 9,omp= 8):        1144 ms\n",
      "Eigen (internal=18,omp= 4):        1327 ms\n",
      "Eigen (internal=36,omp= 2):        2098 ms\n",
      "Eigen (internal=72,omp= 1):        3149 ms\n"
     ]
    }
   ],
   "source": [
    "# numpy\n",
    "name = 'numpy'\n",
    "A,b,x = allocate_solve_mat()\n",
    "x,secs = solve_np(A,b)\n",
    "print(f'{name:30s} {secs*1000:8.0f} ms')\n",
    "x_np = x.copy()\n",
    "\n",
    "# mkl\n",
    "for (threads_internal,threads_omp) in threads_vec:\n",
    "\n",
    "    name = f'mkl (internal={threads_internal:2d},omp={threads_omp:2d}):'\n",
    "    A,b,x = allocate_solve_mat()\n",
    "    x,secs = solve_LAPACKE(A,b,x,threads_internal,threads_omp)\n",
    "    print(f'{name:30s} {secs*1000:8.0f} ms')\n",
    "\n",
    "# check results are the same\n",
    "max_abs_diff = np.max(np.abs(x_np-x))\n",
    "assert max_abs_diff < 1e-7\n",
    "    \n",
    "# Eigen\n",
    "for (threads_internal,threads_omp) in threads_vec:\n",
    "\n",
    "    name = f'Eigen (internal={threads_internal:2d},omp={threads_omp:2d}):'\n",
    "    A,b,x = allocate_solve_mat()\n",
    "    x,secs = solve_Eigen(A,b,x,threads_internal,threads_omp)\n",
    "    print(f'{name:30s} {secs*1000:8.0f} ms')     \n",
    "    \n",
    "# check results are the same\n",
    "max_abs_diff = np.max(np.abs(x_np-x))\n",
    "assert max_abs_diff < 1e-7    \n"
   ]
  },
  {
   "cell_type": "markdown",
   "id": "21056a9e-7685-48c9-b038-59fdfa4c12df",
   "metadata": {
    "tags": []
   },
   "source": [
    "# Sparse matrices"
   ]
  },
  {
   "cell_type": "code",
   "execution_count": 16,
   "id": "8b975489-356c-44d0-838a-94a6e6315830",
   "metadata": {},
   "outputs": [],
   "source": [
    "nrep = 100\n",
    "\n",
    "# A\n",
    "url = 'https://math.nist.gov/pub/MatrixMarket2/SPARSKIT/tokamak/utm1700b.mtx.gz'\n",
    "urllib.request.urlretrieve(url,'matrices/utm1700b.mtx.gz')\n",
    "A = scipy.io.mmread('matrices/utm1700b.mtx.gz')\n",
    "nrow,ncol = A.shape\n",
    "\n",
    "# numpy\n",
    "A_np = np.broadcast_to(A.toarray(),(nrep,nrow,ncol)) \n",
    "\n",
    "# csr\n",
    "A_csr = scipy.sparse.csr_array(A)\n",
    "\n",
    "nnz = A_csr.data.size\n",
    "data = np.broadcast_to(A_csr.data,(nrep,nnz))\n",
    "indices = np.broadcast_to(A_csr.indices,(nrep,nnz))\n",
    "indptr = np.broadcast_to(A_csr.indptr,(nrep,ncol+1))\n",
    "\n",
    "# b\n",
    "url = 'https://math.nist.gov/pub/MatrixMarket2/SPARSKIT/tokamak/utm1700b_rhs1.mtx.gz'\n",
    "urllib.request.urlretrieve(url,'matrices/utm1700b_rhs1.mtx.gz')\n",
    "b = scipy.io.mmread('matrices/utm1700b_rhs1.mtx.gz')\n",
    "b = np.broadcast_to(b.ravel(),(nrep,nrow))\n"
   ]
  },
  {
   "cell_type": "markdown",
   "id": "0a77071a-6e2a-446d-af15-b6d102d1fd4c",
   "metadata": {},
   "source": [
    "**Test solving multiple equations systems at once:**"
   ]
  },
  {
   "cell_type": "code",
   "execution_count": 17,
   "id": "44ecc02e-02e2-4b0d-853d-e7a0323e458d",
   "metadata": {
    "tags": []
   },
   "outputs": [
    {
     "name": "stdout",
     "output_type": "stream",
     "text": [
      "numpy                         :     4075 ms\n",
      "spsolve                       :      936 ms\n",
      "Eigen (internal= 1,omp=72):   :      343 ms\n",
      "Eigen (internal= 2,omp=36):   :      198 ms\n",
      "Eigen (internal= 4,omp=18):   :      170 ms\n",
      "Eigen (internal= 8,omp= 9):   :      175 ms\n",
      "Eigen (internal= 9,omp= 8):   :      183 ms\n",
      "Eigen (internal=18,omp= 4):   :      320 ms\n",
      "Eigen (internal=36,omp= 2):   :      612 ms\n",
      "Eigen (internal=72,omp= 1):   :     1218 ms\n"
     ]
    }
   ],
   "source": [
    "# numpy\n",
    "name = 'numpy' \n",
    "x_np = np.zeros((nrep,nrow))\n",
    "\n",
    "t0 = time.perf_counter()\n",
    "for i in range(nrep):\n",
    "    x_np[i] = np.linalg.solve(A_np[i],b[i])\n",
    "secs = time.perf_counter()-t0\n",
    "print(f'{name:30s}: {secs*1000:8.0f} ms')\n",
    "\n",
    "for i in range(nrep): assert np.max(np.abs(A_np[i]@x_np[i]-b[i])) < 1e-7\n",
    "\n",
    "# spsolve\n",
    "name = 'spsolve' \n",
    "x_sp = np.zeros((nrep,nrow))\n",
    "\n",
    "t0 = time.perf_counter()\n",
    "for i in range(nrep):\n",
    "    x_sp[i] = scipy.sparse.linalg.spsolve(A_csr,b[i])\n",
    "secs = time.perf_counter()-t0\n",
    "print(f'{name:30s}: {secs*1000:8.0f} ms')\n",
    "\n",
    "for i in range(nrep): assert np.max(np.abs(A_csr@x_sp[i]-b[i])) < 1e-7\n",
    "\n",
    "# Eigen\n",
    "name = 'Eigen_ParadisoLU'\n",
    "x_Eigen = np.zeros((nrep,nrow))\n",
    "\n",
    "for (threads_internal,threads_omp) in threads_vec:\n",
    "    \n",
    "    name = f'Eigen (internal={threads_internal:2d},omp={threads_omp:2d}):'\n",
    "    secs = example_MKL.solve_sparse_Eigen(nrep,nrow,ncol,nnz,indptr,indices,data,b,x_Eigen,\n",
    "                                          threads_internal,threads_omp)\n",
    "    print(f'{name:30s}: {secs*1000:8.0f} ms')\n",
    "\n",
    "for i in range(nrep): assert np.max(np.abs(A_csr@x_Eigen[i]-b[i])) < 1e-7"
   ]
  },
  {
   "cell_type": "markdown",
   "id": "59be5f85-023f-4429-91a1-52beede44730",
   "metadata": {
    "tags": []
   },
   "source": [
    "# Clean up"
   ]
  },
  {
   "cell_type": "code",
   "execution_count": 18,
   "id": "f0e0274e-7ef5-409b-b739-67ddb2d93d38",
   "metadata": {},
   "outputs": [],
   "source": [
    "example_MKL.clean_up()"
   ]
  },
  {
   "cell_type": "code",
   "execution_count": 19,
   "id": "cef23703-66ae-46e4-8e03-3b8ad6668121",
   "metadata": {},
   "outputs": [],
   "source": [
    "os.remove(f'cppfuncs/Eigen-master.zip')\n",
    "shutil.rmtree(f'cppfuncs/Eigen/')"
   ]
  }
 ],
 "metadata": {
  "kernelspec": {
   "display_name": "Python 3 (ipykernel)",
   "language": "python",
   "name": "python3"
  },
  "language_info": {
   "codemirror_mode": {
    "name": "ipython",
    "version": 3
   },
   "file_extension": ".py",
   "mimetype": "text/x-python",
   "name": "python",
   "nbconvert_exporter": "python",
   "pygments_lexer": "ipython3",
   "version": "3.9.10"
  },
  "toc-autonumbering": true
 },
 "nbformat": 4,
 "nbformat_minor": 5
}
