{
 "cells": [
  {
   "cell_type": "markdown",
   "id": "e44b3d7b",
   "metadata": {
    "papermill": {
     "duration": 0.005674,
     "end_time": "2023-07-13T13:37:24.787584",
     "exception": false,
     "start_time": "2023-07-13T13:37:24.781910",
     "status": "completed"
    },
    "tags": []
   },
   "source": [
    "# Using MKL and Eigen"
   ]
  },
  {
   "cell_type": "markdown",
   "id": "ac865d86",
   "metadata": {
    "papermill": {
     "duration": 0.00598,
     "end_time": "2023-07-13T13:37:24.799549",
     "exception": false,
     "start_time": "2023-07-13T13:37:24.793569",
     "status": "completed"
    },
    "tags": []
   },
   "source": [
    "**Table of contents**<a id='toc0_'></a>    \n",
    "- 1. [Imports](#toc1_)    \n",
    "- 2. [Setup and settings](#toc2_)    \n",
    "- 3. [Compile C++](#toc3_)    \n",
    "- 4. [Matrix multiplication](#toc4_)    \n",
    "- 5. [Solve linear equation system](#toc5_)    \n",
    "- 6. [Sparse matrices](#toc6_)    \n",
    "- 7. [Clean up](#toc7_)    \n",
    "\n",
    "<!-- vscode-jupyter-toc-config\n",
    "\tnumbering=true\n",
    "\tanchor=true\n",
    "\tflat=false\n",
    "\tminLevel=2\n",
    "\tmaxLevel=6\n",
    "\t/vscode-jupyter-toc-config -->\n",
    "<!-- THIS CELL WILL BE REPLACED ON TOC UPDATE. DO NOT WRITE YOUR TEXT IN THIS CELL -->"
   ]
  },
  {
   "cell_type": "markdown",
   "id": "4f27105e-5ab8-4fee-9c7e-0b40be4e6d79",
   "metadata": {
    "papermill": {
     "duration": 0.005986,
     "end_time": "2023-07-13T13:37:24.812515",
     "exception": false,
     "start_time": "2023-07-13T13:37:24.806529",
     "status": "completed"
    },
    "tags": []
   },
   "source": [
    "This notebooks shows how to speed up matrix multiplication and solving (sparse) linear equation systems with the **Math Kernal Library (MKL)** from Intel and **[Eigen](https://eigen.tuxfamily.org/index.php?title=Main_Page)**. Using explicit parallization with OpenMP in particular provide a significant speed-up."
   ]
  },
  {
   "cell_type": "markdown",
   "id": "5cd9f66d",
   "metadata": {
    "papermill": {
     "duration": 0.005982,
     "end_time": "2023-07-13T13:37:24.824478",
     "exception": false,
     "start_time": "2023-07-13T13:37:24.818496",
     "status": "completed"
    },
    "tags": []
   },
   "source": [
    "**Timing computer:** Windows 10 computer with 2x Intel(R) Xeon(R) Gold 6254 3.10 GHz CPUs (18 cores, 36 logical processes each) and 768 GB of RAM."
   ]
  },
  {
   "cell_type": "markdown",
   "id": "346693a2",
   "metadata": {
    "papermill": {
     "duration": 0.005983,
     "end_time": "2023-07-13T13:37:24.836477",
     "exception": false,
     "start_time": "2023-07-13T13:37:24.830494",
     "status": "completed"
    },
    "tags": []
   },
   "source": [
    "## 1. <a id='toc1_'></a>[Imports](#toc0_)"
   ]
  },
  {
   "cell_type": "code",
   "execution_count": 1,
   "id": "0aabed03",
   "metadata": {
    "execution": {
     "iopub.execute_input": "2023-07-13T13:37:24.850402Z",
     "iopub.status.busy": "2023-07-13T13:37:24.849406Z",
     "iopub.status.idle": "2023-07-13T13:37:25.280164Z",
     "shell.execute_reply": "2023-07-13T13:37:25.279161Z"
    },
    "papermill": {
     "duration": 0.439732,
     "end_time": "2023-07-13T13:37:25.282158",
     "exception": false,
     "start_time": "2023-07-13T13:37:24.842426",
     "status": "completed"
    },
    "tags": []
   },
   "outputs": [],
   "source": [
    "%load_ext autoreload\n",
    "%autoreload 2\n",
    "\n",
    "import os\n",
    "import shutil\n",
    "import urllib.request\n",
    "import numpy as np\n",
    "import scipy.linalg\n",
    "import scipy.sparse\n",
    "import scipy.sparse.linalg\n",
    "import scipy.io\n",
    "\n",
    "import time\n",
    "\n",
    "from EconModel import cpptools"
   ]
  },
  {
   "cell_type": "markdown",
   "id": "8ec47644",
   "metadata": {
    "papermill": {
     "duration": 0.006978,
     "end_time": "2023-07-13T13:37:25.296115",
     "exception": false,
     "start_time": "2023-07-13T13:37:25.289137",
     "status": "completed"
    },
    "tags": []
   },
   "source": [
    "## 2. <a id='toc2_'></a>[Setup and settings](#toc0_)"
   ]
  },
  {
   "cell_type": "code",
   "execution_count": 2,
   "id": "dc574d96-451d-4d4d-aa51-1639a4619505",
   "metadata": {
    "execution": {
     "iopub.execute_input": "2023-07-13T13:37:25.313067Z",
     "iopub.status.busy": "2023-07-13T13:37:25.312071Z",
     "iopub.status.idle": "2023-07-13T13:37:37.366574Z",
     "shell.execute_reply": "2023-07-13T13:37:37.364651Z"
    },
    "papermill": {
     "duration": 12.070429,
     "end_time": "2023-07-13T13:37:37.373556",
     "exception": false,
     "start_time": "2023-07-13T13:37:25.303127",
     "status": "completed"
    },
    "tags": []
   },
   "outputs": [
    {
     "name": "stdout",
     "output_type": "stream",
     "text": [
      "Eigen succesfully installed\n"
     ]
    }
   ],
   "source": [
    "cpptools.setup_Eigen(do_print=True)"
   ]
  },
  {
   "cell_type": "markdown",
   "id": "846d6606-3e3e-4cce-b2ec-afe02a7be263",
   "metadata": {
    "papermill": {
     "duration": 0.02792,
     "end_time": "2023-07-13T13:37:37.423410",
     "exception": false,
     "start_time": "2023-07-13T13:37:37.395490",
     "status": "completed"
    },
    "tags": []
   },
   "source": [
    "**Settings:**"
   ]
  },
  {
   "cell_type": "code",
   "execution_count": 3,
   "id": "8c7bc56b",
   "metadata": {
    "execution": {
     "iopub.execute_input": "2023-07-13T13:37:37.536084Z",
     "iopub.status.busy": "2023-07-13T13:37:37.535087Z",
     "iopub.status.idle": "2023-07-13T13:37:37.837368Z",
     "shell.execute_reply": "2023-07-13T13:37:37.833382Z"
    },
    "papermill": {
     "duration": 0.365094,
     "end_time": "2023-07-13T13:37:37.842349",
     "exception": false,
     "start_time": "2023-07-13T13:37:37.477255",
     "status": "completed"
    },
    "tags": []
   },
   "outputs": [],
   "source": [
    "threads_vec = [(1,8),(2,4),(4,4)]"
   ]
  },
  {
   "cell_type": "markdown",
   "id": "3947fe3f",
   "metadata": {
    "papermill": {
     "duration": 0.019943,
     "end_time": "2023-07-13T13:37:37.882234",
     "exception": false,
     "start_time": "2023-07-13T13:37:37.862291",
     "status": "completed"
    },
    "tags": []
   },
   "source": [
    "## 3. <a id='toc3_'></a>[Compile C++](#toc0_)"
   ]
  },
  {
   "cell_type": "code",
   "execution_count": 4,
   "id": "7dfb74ba",
   "metadata": {
    "execution": {
     "iopub.execute_input": "2023-07-13T13:37:37.925110Z",
     "iopub.status.busy": "2023-07-13T13:37:37.924113Z",
     "iopub.status.idle": "2023-07-13T13:37:59.767130Z",
     "shell.execute_reply": "2023-07-13T13:37:59.767130Z"
    },
    "papermill": {
     "duration": 21.869943,
     "end_time": "2023-07-13T13:37:59.771125",
     "exception": false,
     "start_time": "2023-07-13T13:37:37.901182",
     "status": "completed"
    },
    "tags": []
   },
   "outputs": [],
   "source": [
    "flags = '/LD /EHsc /O3 /openmp /std:c++17 /Qmkl /Icppfuncs/'\n",
    "#flags = '/LD /EHsc /O3 /openmp /std:c++17 /Qmkl /QxCOMMON-AVX512 /Icppfuncs/'\n",
    "example_MKL = cpptools.link_to_cpp('cppfuncs/example_MKL.cpp',\n",
    "                                   options={'compiler':'intel','flags':flags})"
   ]
  },
  {
   "cell_type": "markdown",
   "id": "d1e6f1fa",
   "metadata": {
    "papermill": {
     "duration": 0.012965,
     "end_time": "2023-07-13T13:37:59.795056",
     "exception": false,
     "start_time": "2023-07-13T13:37:59.782091",
     "status": "completed"
    },
    "tags": []
   },
   "source": [
    "## 4. <a id='toc4_'></a>[Matrix multiplication](#toc0_)"
   ]
  },
  {
   "cell_type": "markdown",
   "id": "ccbf6456-b70b-4322-be01-025caa4a1951",
   "metadata": {
    "papermill": {
     "duration": 0.009594,
     "end_time": "2023-07-13T13:37:59.817988",
     "exception": false,
     "start_time": "2023-07-13T13:37:59.808394",
     "status": "completed"
    },
    "tags": []
   },
   "source": [
    "$$\n",
    "C = \\alpha A B + \\beta C\n",
    "$$"
   ]
  },
  {
   "cell_type": "code",
   "execution_count": 5,
   "id": "c742bf68-a3c0-45f4-aa33-3d9e7572de67",
   "metadata": {
    "execution": {
     "iopub.execute_input": "2023-07-13T13:37:59.849896Z",
     "iopub.status.busy": "2023-07-13T13:37:59.849896Z",
     "iopub.status.idle": "2023-07-13T13:38:00.015351Z",
     "shell.execute_reply": "2023-07-13T13:38:00.014348Z"
    },
    "papermill": {
     "duration": 0.187393,
     "end_time": "2023-07-13T13:38:00.019341",
     "exception": false,
     "start_time": "2023-07-13T13:37:59.831948",
     "status": "completed"
    },
    "tags": []
   },
   "outputs": [],
   "source": [
    "alpha = 1.0\n",
    "beta = 0.0\n",
    "    \n",
    "def allocate_mat(n=300,nrep=500):\n",
    "    \n",
    "    # varying sizes to test code\n",
    "    \n",
    "    np.random.seed(17)\n",
    "    \n",
    "    A = np.random.uniform(size=(nrep,2*n,n))\n",
    "    B = np.random.uniform(size=(nrep,n,3*n))\n",
    "    C = np.random.uniform(size=(nrep,2*n,3*n))\n",
    "    \n",
    "    return A,B,C\n"
   ]
  },
  {
   "cell_type": "code",
   "execution_count": 6,
   "id": "43a973a3-8c67-4b79-ab1b-5eef9830bab7",
   "metadata": {
    "execution": {
     "iopub.execute_input": "2023-07-13T13:38:00.059226Z",
     "iopub.status.busy": "2023-07-13T13:38:00.058228Z",
     "iopub.status.idle": "2023-07-13T13:38:00.200391Z",
     "shell.execute_reply": "2023-07-13T13:38:00.198399Z"
    },
    "papermill": {
     "duration": 0.168084,
     "end_time": "2023-07-13T13:38:00.207371",
     "exception": false,
     "start_time": "2023-07-13T13:38:00.039287",
     "status": "completed"
    },
    "tags": []
   },
   "outputs": [],
   "source": [
    "def matmul_np(alpha,beta,A,B,C):\n",
    "        \n",
    "    t0 = time.perf_counter()\n",
    "    C[:,:,:] = alpha*(A@B)+beta*C\n",
    "    secs = time.perf_counter()-t0\n",
    "    \n",
    "    return secs\n"
   ]
  },
  {
   "cell_type": "code",
   "execution_count": 7,
   "id": "92681220-829b-4fbd-9bd3-242f1d67b979",
   "metadata": {
    "execution": {
     "iopub.execute_input": "2023-07-13T13:38:00.257762Z",
     "iopub.status.busy": "2023-07-13T13:38:00.255765Z",
     "iopub.status.idle": "2023-07-13T13:38:00.446722Z",
     "shell.execute_reply": "2023-07-13T13:38:00.445725Z"
    },
    "papermill": {
     "duration": 0.223398,
     "end_time": "2023-07-13T13:38:00.448716",
     "exception": false,
     "start_time": "2023-07-13T13:38:00.225318",
     "status": "completed"
    },
    "tags": []
   },
   "outputs": [],
   "source": [
    "def matmul_BLAS(alpha,beta,A,B,C,threads_internal,threads_omp):\n",
    "    \n",
    "    nrep,m,k = A.shape\n",
    "    nrep,k,n = B.shape\n",
    "    nrep,m,n = C.shape\n",
    "    \n",
    "    secs = example_MKL.matmul_BLAS(nrep,m,n,k,alpha,beta,A,B,C,threads_internal,threads_omp)\n",
    "    \n",
    "    return secs\n",
    "    "
   ]
  },
  {
   "cell_type": "code",
   "execution_count": 8,
   "id": "e6d1a551-8003-40c7-8b94-a15f6fcdd52d",
   "metadata": {
    "execution": {
     "iopub.execute_input": "2023-07-13T13:38:00.480626Z",
     "iopub.status.busy": "2023-07-13T13:38:00.479631Z",
     "iopub.status.idle": "2023-07-13T13:38:00.592861Z",
     "shell.execute_reply": "2023-07-13T13:38:00.592861Z"
    },
    "papermill": {
     "duration": 0.134163,
     "end_time": "2023-07-13T13:38:00.595843",
     "exception": false,
     "start_time": "2023-07-13T13:38:00.461680",
     "status": "completed"
    },
    "tags": []
   },
   "outputs": [],
   "source": [
    "def matmul_Eigen(alpha,beta,A,B,C,threads_internal,threads_omp):\n",
    "    \n",
    "    nrep,m,k = A.shape\n",
    "    nrep,k,n = B.shape\n",
    "    nrep,m,n = C.shape\n",
    "    \n",
    "    secs = example_MKL.matmul_Eigen(nrep,m,n,k,alpha,beta,A,B,C,threads_internal,threads_omp)\n",
    "    \n",
    "    return secs\n",
    "    "
   ]
  },
  {
   "cell_type": "markdown",
   "id": "d182b534-303d-42e9-9259-476a667c5534",
   "metadata": {
    "papermill": {
     "duration": 0.014957,
     "end_time": "2023-07-13T13:38:00.626752",
     "exception": false,
     "start_time": "2023-07-13T13:38:00.611795",
     "status": "completed"
    },
    "tags": []
   },
   "source": [
    "**Test with single matrix multiplication:**"
   ]
  },
  {
   "cell_type": "code",
   "execution_count": 9,
   "id": "3a8d50fd-8c4a-43a9-bc13-b4ca001d8b0e",
   "metadata": {
    "execution": {
     "iopub.execute_input": "2023-07-13T13:38:00.657664Z",
     "iopub.status.busy": "2023-07-13T13:38:00.657664Z",
     "iopub.status.idle": "2023-07-13T13:38:19.974229Z",
     "shell.execute_reply": "2023-07-13T13:38:19.974229Z"
    },
    "papermill": {
     "duration": 19.339501,
     "end_time": "2023-07-13T13:38:19.978219",
     "exception": false,
     "start_time": "2023-07-13T13:38:00.638718",
     "status": "completed"
    },
    "tags": []
   },
   "outputs": [
    {
     "name": "stdout",
     "output_type": "stream",
     "text": [
      "n = 500:\n",
      "numpy:                               80 ms\n"
     ]
    },
    {
     "name": "stdout",
     "output_type": "stream",
     "text": [
      "mkl (no threads, no omp):            96 ms\n",
      "mkl (all internal, no omp):          44 ms\n"
     ]
    },
    {
     "name": "stdout",
     "output_type": "stream",
     "text": [
      "Eigen (no threads, no omp):         133 ms\n",
      "Eigen (all internal, no omp):        42 ms\n",
      "\n",
      "n = 1000:\n"
     ]
    },
    {
     "name": "stdout",
     "output_type": "stream",
     "text": [
      "numpy:                              466 ms\n"
     ]
    },
    {
     "name": "stdout",
     "output_type": "stream",
     "text": [
      "mkl (no threads, no omp):           688 ms\n"
     ]
    },
    {
     "name": "stdout",
     "output_type": "stream",
     "text": [
      "mkl (all internal, no omp):         166 ms\n"
     ]
    },
    {
     "name": "stdout",
     "output_type": "stream",
     "text": [
      "Eigen (no threads, no omp):         666 ms\n"
     ]
    },
    {
     "name": "stdout",
     "output_type": "stream",
     "text": [
      "Eigen (all internal, no omp):       233 ms\n",
      "\n",
      "n = 2000:\n"
     ]
    },
    {
     "name": "stdout",
     "output_type": "stream",
     "text": [
      "numpy:                             1686 ms\n"
     ]
    },
    {
     "name": "stdout",
     "output_type": "stream",
     "text": [
      "mkl (no threads, no omp):          3220 ms\n"
     ]
    },
    {
     "name": "stdout",
     "output_type": "stream",
     "text": [
      "mkl (all internal, no omp):        1244 ms\n"
     ]
    },
    {
     "name": "stdout",
     "output_type": "stream",
     "text": [
      "Eigen (no threads, no omp):        3393 ms\n"
     ]
    },
    {
     "name": "stdout",
     "output_type": "stream",
     "text": [
      "Eigen (all internal, no omp):      1938 ms\n",
      "\n"
     ]
    }
   ],
   "source": [
    "threads = 4\n",
    "for n in [500,1000,2000]:\n",
    "    \n",
    "    print(f'{n = }:') \n",
    "    \n",
    "    # numpy\n",
    "    A,B,C = allocate_mat(n,1)\n",
    "    name = 'numpy:'\n",
    "    secs = matmul_np(alpha,beta,A,B,C)\n",
    "    print(f'{name:30s} {secs*1000:8.0f} ms')\n",
    "\n",
    "    # mkl\n",
    "    A,B,C = allocate_mat(n,1)\n",
    "    name = f'mkl (no threads, no omp):'\n",
    "    secs = matmul_BLAS(alpha,beta,A,B,C,1,1)\n",
    "    print(f'{name:30s} {secs*1000:8.0f} ms')\n",
    "\n",
    "    A,B,C = allocate_mat(n,1)\n",
    "    name = f'mkl (all internal, no omp):'\n",
    "    secs = matmul_BLAS(alpha,beta,A,B,C,threads,1)\n",
    "    print(f'{name:30s} {secs*1000:8.0f} ms')\n",
    "    \n",
    "    # Eigen\n",
    "    A,B,C = allocate_mat(n,1)\n",
    "    name = f'Eigen (no threads, no omp):'\n",
    "    secs = matmul_Eigen(alpha,beta,A,B,C,1,1)\n",
    "    print(f'{name:30s} {secs*1000:8.0f} ms')\n",
    "\n",
    "    A,B,C = allocate_mat(n,1)\n",
    "    name = f'Eigen (all internal, no omp):'\n",
    "    secs = matmul_Eigen(alpha,beta,A,B,C,threads,1)\n",
    "    print(f'{name:30s} {secs*1000:8.0f} ms')    \n",
    "    \n",
    "    print('')"
   ]
  },
  {
   "cell_type": "markdown",
   "id": "44023737",
   "metadata": {
    "papermill": {
     "duration": 0.016953,
     "end_time": "2023-07-13T13:38:20.014117",
     "exception": false,
     "start_time": "2023-07-13T13:38:19.997164",
     "status": "completed"
    },
    "tags": []
   },
   "source": [
    "**Test with multiple matrix multiplications:**"
   ]
  },
  {
   "cell_type": "code",
   "execution_count": 10,
   "id": "8a5bb951",
   "metadata": {
    "execution": {
     "iopub.execute_input": "2023-07-13T13:38:20.055998Z",
     "iopub.status.busy": "2023-07-13T13:38:20.055998Z",
     "iopub.status.idle": "2023-07-13T13:38:55.671403Z",
     "shell.execute_reply": "2023-07-13T13:38:55.665415Z"
    },
    "papermill": {
     "duration": 35.636341,
     "end_time": "2023-07-13T13:38:55.674395",
     "exception": false,
     "start_time": "2023-07-13T13:38:20.038054",
     "status": "completed"
    },
    "tags": []
   },
   "outputs": [
    {
     "name": "stdout",
     "output_type": "stream",
     "text": [
      "n = 200, nrep = 400:\n"
     ]
    },
    {
     "name": "stdout",
     "output_type": "stream",
     "text": [
      "numpy:                             2275 ms\n"
     ]
    },
    {
     "name": "stdout",
     "output_type": "stream",
     "text": [
      "mkl (internal= 1,omp= 8):           403 ms\n"
     ]
    },
    {
     "name": "stdout",
     "output_type": "stream",
     "text": [
      "mkl (internal= 2,omp= 4):           622 ms\n"
     ]
    },
    {
     "name": "stdout",
     "output_type": "stream",
     "text": [
      "mkl (internal= 4,omp= 4):           478 ms\n"
     ]
    },
    {
     "name": "stdout",
     "output_type": "stream",
     "text": [
      "\n",
      "n = 400, nrep = 200:\n"
     ]
    },
    {
     "name": "stdout",
     "output_type": "stream",
     "text": [
      "numpy:                            14858 ms\n"
     ]
    },
    {
     "name": "stdout",
     "output_type": "stream",
     "text": [
      "mkl (internal= 1,omp= 8):          2069 ms\n"
     ]
    },
    {
     "name": "stdout",
     "output_type": "stream",
     "text": [
      "mkl (internal= 2,omp= 4):          2069 ms\n"
     ]
    },
    {
     "name": "stdout",
     "output_type": "stream",
     "text": [
      "mkl (internal= 4,omp= 4):          2203 ms\n"
     ]
    },
    {
     "name": "stdout",
     "output_type": "stream",
     "text": [
      "\n"
     ]
    }
   ],
   "source": [
    "for (n,nrep) in [(200,400),(400,200)]:\n",
    "    \n",
    "    print(f'{n = }, {nrep = }:') \n",
    "    \n",
    "    A,B,C = allocate_mat(n,nrep)\n",
    "    \n",
    "    # numpy\n",
    "    name = 'numpy:'\n",
    "    secs = matmul_np(alpha,beta,A,B,C)\n",
    "    print(f'{name:30s} {secs*1000:8.0f} ms')\n",
    "    C_np = C.copy()\n",
    "    \n",
    "    # mkl\n",
    "    for (threads_internal,threads_omp) in threads_vec:\n",
    "        \n",
    "        name = f'mkl (internal={threads_internal:2d},omp={threads_omp:2d}):'\n",
    "        C[:] = 0\n",
    "        secs = matmul_BLAS(alpha,beta,A,B,C,threads_internal,threads_omp)\n",
    "        print(f'{name:30s} {secs*1000:8.0f} ms')\n",
    "        \n",
    "    # check results are the same\n",
    "    max_abs_diff = np.max(np.abs(C_np-C))\n",
    "    assert np.isclose(max_abs_diff,0.0)   \n",
    "    \n",
    "    print('')\n",
    "    "
   ]
  },
  {
   "cell_type": "markdown",
   "id": "3fc1b15b",
   "metadata": {
    "papermill": {
     "duration": 0.01097,
     "end_time": "2023-07-13T13:38:55.696333",
     "exception": false,
     "start_time": "2023-07-13T13:38:55.685363",
     "status": "completed"
    },
    "tags": []
   },
   "source": [
    "## 5. <a id='toc5_'></a>[Solve linear equation system](#toc0_)"
   ]
  },
  {
   "cell_type": "markdown",
   "id": "f2fac8e7-2c4a-4677-8814-345e0075f4bf",
   "metadata": {
    "papermill": {
     "duration": 0.009971,
     "end_time": "2023-07-13T13:38:55.716276",
     "exception": false,
     "start_time": "2023-07-13T13:38:55.706305",
     "status": "completed"
    },
    "tags": []
   },
   "source": [
    "$$\n",
    "Ax = b\n",
    "$$"
   ]
  },
  {
   "cell_type": "code",
   "execution_count": 11,
   "id": "abb147a9-003a-4846-9db6-c71df172c4b9",
   "metadata": {
    "execution": {
     "iopub.execute_input": "2023-07-13T13:38:55.743314Z",
     "iopub.status.busy": "2023-07-13T13:38:55.741320Z",
     "iopub.status.idle": "2023-07-13T13:38:55.912019Z",
     "shell.execute_reply": "2023-07-13T13:38:55.912019Z"
    },
    "papermill": {
     "duration": 0.190762,
     "end_time": "2023-07-13T13:38:55.915015",
     "exception": false,
     "start_time": "2023-07-13T13:38:55.724253",
     "status": "completed"
    },
    "tags": []
   },
   "outputs": [],
   "source": [
    "def allocate_solve_mat(n=500,nrhs=100,nrep=500):\n",
    "    \n",
    "    np.random.seed(17)\n",
    "\n",
    "    A = np.random.uniform(size=(nrep,n,n))\n",
    "    x = np.random.uniform(size=(nrep,n,nrhs))\n",
    "    b = A@x\n",
    "\n",
    "    return A,b,x"
   ]
  },
  {
   "cell_type": "code",
   "execution_count": 12,
   "id": "0598b06c-df96-4877-aa33-7642de2d1165",
   "metadata": {
    "execution": {
     "iopub.execute_input": "2023-07-13T13:38:55.935954Z",
     "iopub.status.busy": "2023-07-13T13:38:55.935954Z",
     "iopub.status.idle": "2023-07-13T13:38:56.021596Z",
     "shell.execute_reply": "2023-07-13T13:38:56.021596Z"
    },
    "papermill": {
     "duration": 0.099638,
     "end_time": "2023-07-13T13:38:56.023627",
     "exception": false,
     "start_time": "2023-07-13T13:38:55.923989",
     "status": "completed"
    },
    "tags": []
   },
   "outputs": [],
   "source": [
    "def solve_np(A,b):\n",
    "    \n",
    "    t0 = time.perf_counter()\n",
    "    x = np.zeros(b.shape)\n",
    "    for i in range(A.shape[0]):\n",
    "        x[i,:,:] = np.linalg.solve(A[i],b[i])\n",
    "    secs = time.perf_counter()-t0\n",
    "    \n",
    "    return x,secs"
   ]
  },
  {
   "cell_type": "code",
   "execution_count": 13,
   "id": "d3f5ec5a-ab84-4602-a5a5-298de0ab4344",
   "metadata": {
    "execution": {
     "iopub.execute_input": "2023-07-13T13:38:56.048525Z",
     "iopub.status.busy": "2023-07-13T13:38:56.047528Z",
     "iopub.status.idle": "2023-07-13T13:38:56.133570Z",
     "shell.execute_reply": "2023-07-13T13:38:56.133570Z"
    },
    "papermill": {
     "duration": 0.101027,
     "end_time": "2023-07-13T13:38:56.135592",
     "exception": false,
     "start_time": "2023-07-13T13:38:56.034565",
     "status": "completed"
    },
    "tags": []
   },
   "outputs": [],
   "source": [
    "def solve_LAPACKE(A,b,x,threads_internal,threads_omp):\n",
    "    \n",
    "    nrep,n,_ = A.shape\n",
    "    _,_,nrh = b.shape\n",
    "    \n",
    "    b_old = b.copy()\n",
    "    secs = example_MKL.solve_LAPACKE(nrep,n,nrh,A,b,threads_internal,threads_omp)\n",
    "    x[:] = b.copy()\n",
    "    b[:] = b_old\n",
    "    \n",
    "    return x,secs"
   ]
  },
  {
   "cell_type": "code",
   "execution_count": 14,
   "id": "e0a50318-cc2e-4c51-985d-1e1a5097cd2a",
   "metadata": {
    "execution": {
     "iopub.execute_input": "2023-07-13T13:38:56.156504Z",
     "iopub.status.busy": "2023-07-13T13:38:56.156504Z",
     "iopub.status.idle": "2023-07-13T13:38:56.239583Z",
     "shell.execute_reply": "2023-07-13T13:38:56.239583Z"
    },
    "papermill": {
     "duration": 0.097069,
     "end_time": "2023-07-13T13:38:56.241608",
     "exception": false,
     "start_time": "2023-07-13T13:38:56.144539",
     "status": "completed"
    },
    "tags": []
   },
   "outputs": [],
   "source": [
    "def solve_Eigen(A,b,x,threads_internal,threads_omp):\n",
    "    \n",
    "    nrep,n,_ = A.shape\n",
    "    _,_,nrh = b.shape\n",
    "    \n",
    "    b_old = b.copy()\n",
    "    secs = example_MKL.solve_Eigen(nrep,n,nrh,A,b,threads_internal,threads_omp)\n",
    "    x[:] = b.copy()\n",
    "    b[:] = b_old\n",
    "    \n",
    "    return x,secs"
   ]
  },
  {
   "cell_type": "markdown",
   "id": "6c81015b-937b-44e0-acd8-53e61ea0f317",
   "metadata": {
    "papermill": {
     "duration": 0.014959,
     "end_time": "2023-07-13T13:38:56.268501",
     "exception": false,
     "start_time": "2023-07-13T13:38:56.253542",
     "status": "completed"
    },
    "tags": []
   },
   "source": [
    "**Test solving multiple equations systems at once:**"
   ]
  },
  {
   "cell_type": "code",
   "execution_count": 15,
   "id": "89192387",
   "metadata": {
    "execution": {
     "iopub.execute_input": "2023-07-13T13:38:56.295424Z",
     "iopub.status.busy": "2023-07-13T13:38:56.295424Z",
     "iopub.status.idle": "2023-07-13T13:39:39.348107Z",
     "shell.execute_reply": "2023-07-13T13:39:39.347112Z"
    },
    "papermill": {
     "duration": 43.068638,
     "end_time": "2023-07-13T13:39:39.351099",
     "exception": false,
     "start_time": "2023-07-13T13:38:56.282461",
     "status": "completed"
    },
    "tags": []
   },
   "outputs": [
    {
     "name": "stdout",
     "output_type": "stream",
     "text": [
      "numpy                              2808 ms\n"
     ]
    },
    {
     "name": "stdout",
     "output_type": "stream",
     "text": [
      "mkl (internal= 1,omp= 8):          2344 ms\n"
     ]
    },
    {
     "name": "stdout",
     "output_type": "stream",
     "text": [
      "mkl (internal= 2,omp= 4):          2451 ms\n"
     ]
    },
    {
     "name": "stdout",
     "output_type": "stream",
     "text": [
      "mkl (internal= 4,omp= 4):          2917 ms\n"
     ]
    },
    {
     "name": "stdout",
     "output_type": "stream",
     "text": [
      "Eigen (internal= 1,omp= 8):        2221 ms\n"
     ]
    },
    {
     "name": "stdout",
     "output_type": "stream",
     "text": [
      "Eigen (internal= 2,omp= 4):        3261 ms\n"
     ]
    },
    {
     "name": "stdout",
     "output_type": "stream",
     "text": [
      "Eigen (internal= 4,omp= 4):        3218 ms\n"
     ]
    }
   ],
   "source": [
    "# numpy\n",
    "name = 'numpy'\n",
    "A,b,x = allocate_solve_mat()\n",
    "x,secs = solve_np(A,b)\n",
    "print(f'{name:30s} {secs*1000:8.0f} ms')\n",
    "x_np = x.copy()\n",
    "\n",
    "# mkl\n",
    "for (threads_internal,threads_omp) in threads_vec:\n",
    "\n",
    "    name = f'mkl (internal={threads_internal:2d},omp={threads_omp:2d}):'\n",
    "    A,b,x = allocate_solve_mat()\n",
    "    x,secs = solve_LAPACKE(A,b,x,threads_internal,threads_omp)\n",
    "    print(f'{name:30s} {secs*1000:8.0f} ms')\n",
    "\n",
    "# check results are the same\n",
    "max_abs_diff = np.max(np.abs(x_np-x))\n",
    "assert max_abs_diff < 1e-7\n",
    "    \n",
    "# Eigen\n",
    "for (threads_internal,threads_omp) in threads_vec:\n",
    "\n",
    "    name = f'Eigen (internal={threads_internal:2d},omp={threads_omp:2d}):'\n",
    "    A,b,x = allocate_solve_mat()\n",
    "    x,secs = solve_Eigen(A,b,x,threads_internal,threads_omp)\n",
    "    print(f'{name:30s} {secs*1000:8.0f} ms')     \n",
    "    \n",
    "# check results are the same\n",
    "max_abs_diff = np.max(np.abs(x_np-x))\n",
    "assert max_abs_diff < 1e-7    \n"
   ]
  },
  {
   "cell_type": "markdown",
   "id": "a09de5e3",
   "metadata": {
    "papermill": {
     "duration": 0.018999,
     "end_time": "2023-07-13T13:39:39.391067",
     "exception": false,
     "start_time": "2023-07-13T13:39:39.372068",
     "status": "completed"
    },
    "tags": []
   },
   "source": [
    "## 6. <a id='toc6_'></a>[Sparse matrices](#toc0_)"
   ]
  },
  {
   "cell_type": "code",
   "execution_count": 16,
   "id": "8b975489-356c-44d0-838a-94a6e6315830",
   "metadata": {
    "execution": {
     "iopub.execute_input": "2023-07-13T13:39:39.427472Z",
     "iopub.status.busy": "2023-07-13T13:39:39.427472Z",
     "iopub.status.idle": "2023-07-13T13:39:41.706568Z",
     "shell.execute_reply": "2023-07-13T13:39:41.705610Z"
    },
    "papermill": {
     "duration": 2.301034,
     "end_time": "2023-07-13T13:39:41.708564",
     "exception": false,
     "start_time": "2023-07-13T13:39:39.407530",
     "status": "completed"
    },
    "tags": []
   },
   "outputs": [],
   "source": [
    "nrep = 100\n",
    "\n",
    "# A\n",
    "url = 'https://math.nist.gov/pub/MatrixMarket2/SPARSKIT/tokamak/utm1700b.mtx.gz'\n",
    "urllib.request.urlretrieve(url,'matrices/utm1700b.mtx.gz')\n",
    "A = scipy.io.mmread('matrices/utm1700b.mtx.gz')\n",
    "nrow,ncol = A.shape\n",
    "\n",
    "# numpy\n",
    "A_np = np.broadcast_to(A.toarray(),(nrep,nrow,ncol)) \n",
    "\n",
    "# csr\n",
    "A_csr = scipy.sparse.csr_array(A)\n",
    "\n",
    "nnz = A_csr.data.size\n",
    "data = np.broadcast_to(A_csr.data,(nrep,nnz))\n",
    "indices = np.broadcast_to(A_csr.indices,(nrep,nnz))\n",
    "indptr = np.broadcast_to(A_csr.indptr,(nrep,ncol+1))\n",
    "\n",
    "# b\n",
    "url = 'https://math.nist.gov/pub/MatrixMarket2/SPARSKIT/tokamak/utm1700b_rhs1.mtx.gz'\n",
    "urllib.request.urlretrieve(url,'matrices/utm1700b_rhs1.mtx.gz')\n",
    "b = scipy.io.mmread('matrices/utm1700b_rhs1.mtx.gz')\n",
    "b = np.broadcast_to(b.ravel(),(nrep,nrow))\n"
   ]
  },
  {
   "cell_type": "markdown",
   "id": "0a77071a-6e2a-446d-af15-b6d102d1fd4c",
   "metadata": {
    "papermill": {
     "duration": 0.014959,
     "end_time": "2023-07-13T13:39:41.732496",
     "exception": false,
     "start_time": "2023-07-13T13:39:41.717537",
     "status": "completed"
    },
    "tags": []
   },
   "source": [
    "**Test solving multiple equations systems at once:**"
   ]
  },
  {
   "cell_type": "code",
   "execution_count": 17,
   "id": "66229fb1",
   "metadata": {
    "execution": {
     "iopub.execute_input": "2023-07-13T13:39:41.755434Z",
     "iopub.status.busy": "2023-07-13T13:39:41.754437Z",
     "iopub.status.idle": "2023-07-13T13:39:55.450099Z",
     "shell.execute_reply": "2023-07-13T13:39:55.448104Z"
    },
    "papermill": {
     "duration": 13.709626,
     "end_time": "2023-07-13T13:39:55.454089",
     "exception": false,
     "start_time": "2023-07-13T13:39:41.744463",
     "status": "completed"
    },
    "tags": []
   },
   "outputs": [
    {
     "name": "stdout",
     "output_type": "stream",
     "text": [
      "numpy                         :     9013 ms\n"
     ]
    },
    {
     "name": "stdout",
     "output_type": "stream",
     "text": [
      "spsolve                       :     1268 ms\n"
     ]
    },
    {
     "name": "stdout",
     "output_type": "stream",
     "text": [
      "Eigen (internal= 1,omp= 8):   :      867 ms\n"
     ]
    },
    {
     "name": "stdout",
     "output_type": "stream",
     "text": [
      "Eigen (internal= 2,omp= 4):   :     1024 ms\n"
     ]
    },
    {
     "name": "stdout",
     "output_type": "stream",
     "text": [
      "Eigen (internal= 4,omp= 4):   :     1227 ms\n"
     ]
    }
   ],
   "source": [
    "# numpy\n",
    "name = 'numpy' \n",
    "x_np = np.zeros((nrep,nrow))\n",
    "\n",
    "t0 = time.perf_counter()\n",
    "for i in range(nrep):\n",
    "    x_np[i] = np.linalg.solve(A_np[i],b[i])\n",
    "secs = time.perf_counter()-t0\n",
    "print(f'{name:30s}: {secs*1000:8.0f} ms')\n",
    "\n",
    "for i in range(nrep): assert np.max(np.abs(A_np[i]@x_np[i]-b[i])) < 1e-7\n",
    "\n",
    "# spsolve\n",
    "name = 'spsolve' \n",
    "x_sp = np.zeros((nrep,nrow))\n",
    "\n",
    "t0 = time.perf_counter()\n",
    "for i in range(nrep):\n",
    "    x_sp[i] = scipy.sparse.linalg.spsolve(A_csr,b[i])\n",
    "secs = time.perf_counter()-t0\n",
    "print(f'{name:30s}: {secs*1000:8.0f} ms')\n",
    "\n",
    "for i in range(nrep): assert np.max(np.abs(A_csr@x_sp[i]-b[i])) < 1e-7\n",
    "\n",
    "# Eigen\n",
    "name = 'Eigen_ParadisoLU'\n",
    "x_Eigen = np.zeros((nrep,nrow))\n",
    "\n",
    "for (threads_internal,threads_omp) in threads_vec:\n",
    "    \n",
    "    name = f'Eigen (internal={threads_internal:2d},omp={threads_omp:2d}):'\n",
    "    secs = example_MKL.solve_sparse_Eigen(nrep,nrow,ncol,nnz,indptr,indices,data,b,x_Eigen,\n",
    "                                          threads_internal,threads_omp)\n",
    "    print(f'{name:30s}: {secs*1000:8.0f} ms')\n",
    "\n",
    "for i in range(nrep): assert np.max(np.abs(A_csr@x_Eigen[i]-b[i])) < 1e-7"
   ]
  },
  {
   "cell_type": "markdown",
   "id": "12e7dc37",
   "metadata": {
    "papermill": {
     "duration": 0.021939,
     "end_time": "2023-07-13T13:39:55.499959",
     "exception": false,
     "start_time": "2023-07-13T13:39:55.478020",
     "status": "completed"
    },
    "tags": []
   },
   "source": [
    "## 7. <a id='toc7_'></a>[Clean up](#toc0_)"
   ]
  },
  {
   "cell_type": "code",
   "execution_count": 18,
   "id": "f0e0274e-7ef5-409b-b739-67ddb2d93d38",
   "metadata": {
    "execution": {
     "iopub.execute_input": "2023-07-13T13:39:55.561786Z",
     "iopub.status.busy": "2023-07-13T13:39:55.560789Z",
     "iopub.status.idle": "2023-07-13T13:39:55.730960Z",
     "shell.execute_reply": "2023-07-13T13:39:55.729966Z"
    },
    "papermill": {
     "duration": 0.206072,
     "end_time": "2023-07-13T13:39:55.734950",
     "exception": false,
     "start_time": "2023-07-13T13:39:55.528878",
     "status": "completed"
    },
    "tags": []
   },
   "outputs": [],
   "source": [
    "example_MKL.clean_up()"
   ]
  },
  {
   "cell_type": "code",
   "execution_count": 19,
   "id": "cef23703-66ae-46e4-8e03-3b8ad6668121",
   "metadata": {
    "execution": {
     "iopub.execute_input": "2023-07-13T13:39:55.791791Z",
     "iopub.status.busy": "2023-07-13T13:39:55.790793Z",
     "iopub.status.idle": "2023-07-13T13:39:56.369179Z",
     "shell.execute_reply": "2023-07-13T13:39:56.367184Z"
    },
    "papermill": {
     "duration": 0.614285,
     "end_time": "2023-07-13T13:39:56.373167",
     "exception": false,
     "start_time": "2023-07-13T13:39:55.758882",
     "status": "completed"
    },
    "tags": []
   },
   "outputs": [],
   "source": [
    "os.remove(f'cppfuncs/Eigen-main.zip')\n",
    "shutil.rmtree(f'cppfuncs/Eigen/')"
   ]
  }
 ],
 "metadata": {
  "kernelspec": {
   "display_name": "Python 3 (ipykernel)",
   "language": "python",
   "name": "python3"
  },
  "language_info": {
   "codemirror_mode": {
    "name": "ipython",
    "version": 3
   },
   "file_extension": ".py",
   "mimetype": "text/x-python",
   "name": "python",
   "nbconvert_exporter": "python",
   "pygments_lexer": "ipython3",
   "version": "3.11.3"
  },
  "papermill": {
   "default_parameters": {},
   "duration": 154.862621,
   "end_time": "2023-07-13T13:39:57.865999",
   "environment_variables": {},
   "exception": null,
   "input_path": "03c. Using MKL and Eigen.ipynb",
   "output_path": "temp_notebooks/03c. Using MKL and Eigen.ipynb",
   "parameters": {},
   "start_time": "2023-07-13T13:37:23.003378",
   "version": "2.4.0"
  },
  "toc-autonumbering": true
 },
 "nbformat": 4,
 "nbformat_minor": 5
}