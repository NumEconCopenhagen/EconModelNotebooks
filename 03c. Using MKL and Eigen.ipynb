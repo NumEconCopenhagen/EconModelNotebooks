{
 "cells": [
  {
   "cell_type": "markdown",
   "id": "e44b3d7b",
   "metadata": {
    "papermill": {
     "duration": 0.016054,
     "end_time": "2023-07-13T14:55:35.946595",
     "exception": false,
     "start_time": "2023-07-13T14:55:35.930541",
     "status": "completed"
    },
    "tags": []
   },
   "source": [
    "# Using MKL and Eigen"
   ]
  },
  {
   "cell_type": "markdown",
   "id": "ac865d86",
   "metadata": {
    "papermill": {
     "duration": 0.006006,
     "end_time": "2023-07-13T14:55:35.960608",
     "exception": false,
     "start_time": "2023-07-13T14:55:35.954602",
     "status": "completed"
    },
    "tags": []
   },
   "source": [
    "**Table of contents**<a id='toc0_'></a>    \n",
    "- 1. [Imports](#toc1_)    \n",
    "- 2. [Setup and settings](#toc2_)    \n",
    "- 3. [Compile C++](#toc3_)    \n",
    "- 4. [Matrix multiplication](#toc4_)    \n",
    "- 5. [Solve linear equation system](#toc5_)    \n",
    "- 6. [Sparse matrices](#toc6_)    \n",
    "- 7. [Clean up](#toc7_)    \n",
    "\n",
    "<!-- vscode-jupyter-toc-config\n",
    "\tnumbering=true\n",
    "\tanchor=true\n",
    "\tflat=false\n",
    "\tminLevel=2\n",
    "\tmaxLevel=6\n",
    "\t/vscode-jupyter-toc-config -->\n",
    "<!-- THIS CELL WILL BE REPLACED ON TOC UPDATE. DO NOT WRITE YOUR TEXT IN THIS CELL -->"
   ]
  },
  {
   "cell_type": "markdown",
   "id": "4f27105e-5ab8-4fee-9c7e-0b40be4e6d79",
   "metadata": {
    "papermill": {
     "duration": 0.006999,
     "end_time": "2023-07-13T14:55:35.973616",
     "exception": false,
     "start_time": "2023-07-13T14:55:35.966617",
     "status": "completed"
    },
    "tags": []
   },
   "source": [
    "This notebooks shows how to speed up matrix multiplication and solving (sparse) linear equation systems with the **Math Kernal Library (MKL)** from Intel and **[Eigen](https://eigen.tuxfamily.org/index.php?title=Main_Page)**. Using explicit parallization with OpenMP in particular provide a significant speed-up."
   ]
  },
  {
   "cell_type": "markdown",
   "id": "5cd9f66d",
   "metadata": {
    "papermill": {
     "duration": 0.005993,
     "end_time": "2023-07-13T14:55:35.985626",
     "exception": false,
     "start_time": "2023-07-13T14:55:35.979633",
     "status": "completed"
    },
    "tags": []
   },
   "source": [
    "**Timing computer:** Windows 10 computer with 2x Intel(R) Xeon(R) Gold 6254 3.10 GHz CPUs (18 cores, 36 logical processes each) and 768 GB of RAM."
   ]
  },
  {
   "cell_type": "markdown",
   "id": "346693a2",
   "metadata": {
    "papermill": {
     "duration": 0.006005,
     "end_time": "2023-07-13T14:55:35.997634",
     "exception": false,
     "start_time": "2023-07-13T14:55:35.991629",
     "status": "completed"
    },
    "tags": []
   },
   "source": [
    "## 1. <a id='toc1_'></a>[Imports](#toc0_)"
   ]
  },
  {
   "cell_type": "code",
   "execution_count": 1,
   "id": "0aabed03",
   "metadata": {
    "execution": {
     "iopub.execute_input": "2023-07-13T14:55:36.011651Z",
     "iopub.status.busy": "2023-07-13T14:55:36.010644Z",
     "iopub.status.idle": "2023-07-13T14:55:36.290814Z",
     "shell.execute_reply": "2023-07-13T14:55:36.290814Z"
    },
    "papermill": {
     "duration": 0.291227,
     "end_time": "2023-07-13T14:55:36.294868",
     "exception": false,
     "start_time": "2023-07-13T14:55:36.003641",
     "status": "completed"
    },
    "tags": []
   },
   "outputs": [],
   "source": [
    "%load_ext autoreload\n",
    "%autoreload 2\n",
    "\n",
    "import os\n",
    "import shutil\n",
    "import urllib.request\n",
    "import numpy as np\n",
    "import scipy.linalg\n",
    "import scipy.sparse\n",
    "import scipy.sparse.linalg\n",
    "import scipy.io\n",
    "\n",
    "import time\n",
    "\n",
    "from EconModel import cpptools"
   ]
  },
  {
   "cell_type": "markdown",
   "id": "8ec47644",
   "metadata": {
    "papermill": {
     "duration": 0.006982,
     "end_time": "2023-07-13T14:55:36.315877",
     "exception": false,
     "start_time": "2023-07-13T14:55:36.308895",
     "status": "completed"
    },
    "tags": []
   },
   "source": [
    "## 2. <a id='toc2_'></a>[Setup and settings](#toc0_)"
   ]
  },
  {
   "cell_type": "code",
   "execution_count": 2,
   "id": "dc574d96-451d-4d4d-aa51-1639a4619505",
   "metadata": {
    "execution": {
     "iopub.execute_input": "2023-07-13T14:55:36.329889Z",
     "iopub.status.busy": "2023-07-13T14:55:36.328887Z",
     "iopub.status.idle": "2023-07-13T14:55:39.563613Z",
     "shell.execute_reply": "2023-07-13T14:55:39.562612Z"
    },
    "papermill": {
     "duration": 3.244732,
     "end_time": "2023-07-13T14:55:39.566615",
     "exception": false,
     "start_time": "2023-07-13T14:55:36.321883",
     "status": "completed"
    },
    "tags": []
   },
   "outputs": [
    {
     "name": "stdout",
     "output_type": "stream",
     "text": [
      "Eigen succesfully installed\n"
     ]
    }
   ],
   "source": [
    "cpptools.setup_Eigen(do_print=True)"
   ]
  },
  {
   "cell_type": "markdown",
   "id": "846d6606-3e3e-4cce-b2ec-afe02a7be263",
   "metadata": {
    "papermill": {
     "duration": 0.007005,
     "end_time": "2023-07-13T14:55:39.587631",
     "exception": false,
     "start_time": "2023-07-13T14:55:39.580626",
     "status": "completed"
    },
    "tags": []
   },
   "source": [
    "**Settings:**"
   ]
  },
  {
   "cell_type": "code",
   "execution_count": 3,
   "id": "8c7bc56b",
   "metadata": {
    "execution": {
     "iopub.execute_input": "2023-07-13T14:55:39.604688Z",
     "iopub.status.busy": "2023-07-13T14:55:39.603687Z",
     "iopub.status.idle": "2023-07-13T14:55:39.661731Z",
     "shell.execute_reply": "2023-07-13T14:55:39.661731Z"
    },
    "papermill": {
     "duration": 0.070105,
     "end_time": "2023-07-13T14:55:39.664741",
     "exception": false,
     "start_time": "2023-07-13T14:55:39.594636",
     "status": "completed"
    },
    "tags": []
   },
   "outputs": [],
   "source": [
    "threads_vec = [(1,8),(2,4),(4,4)]"
   ]
  },
  {
   "cell_type": "markdown",
   "id": "3947fe3f",
   "metadata": {
    "papermill": {
     "duration": 0.006004,
     "end_time": "2023-07-13T14:55:39.681747",
     "exception": false,
     "start_time": "2023-07-13T14:55:39.675743",
     "status": "completed"
    },
    "tags": []
   },
   "source": [
    "## 3. <a id='toc3_'></a>[Compile C++](#toc0_)"
   ]
  },
  {
   "cell_type": "code",
   "execution_count": 4,
   "id": "7dfb74ba",
   "metadata": {
    "execution": {
     "iopub.execute_input": "2023-07-13T14:55:39.696759Z",
     "iopub.status.busy": "2023-07-13T14:55:39.695761Z",
     "iopub.status.idle": "2023-07-13T14:55:51.057565Z",
     "shell.execute_reply": "2023-07-13T14:55:51.057565Z"
    },
    "papermill": {
     "duration": 11.371816,
     "end_time": "2023-07-13T14:55:51.060568",
     "exception": false,
     "start_time": "2023-07-13T14:55:39.688752",
     "status": "completed"
    },
    "tags": []
   },
   "outputs": [],
   "source": [
    "flags = '/LD /EHsc /O3 /openmp /std:c++17 /Qmkl /Icppfuncs/'\n",
    "#flags = '/LD /EHsc /O3 /openmp /std:c++17 /Qmkl /QxCOMMON-AVX512 /Icppfuncs/'\n",
    "example_MKL = cpptools.link_to_cpp('cppfuncs/example_MKL.cpp',\n",
    "                                   options={'compiler':'intel','flags':flags})"
   ]
  },
  {
   "cell_type": "markdown",
   "id": "d1e6f1fa",
   "metadata": {
    "papermill": {
     "duration": 0.006004,
     "end_time": "2023-07-13T14:55:51.076580",
     "exception": false,
     "start_time": "2023-07-13T14:55:51.070576",
     "status": "completed"
    },
    "tags": []
   },
   "source": [
    "## 4. <a id='toc4_'></a>[Matrix multiplication](#toc0_)"
   ]
  },
  {
   "cell_type": "markdown",
   "id": "ccbf6456-b70b-4322-be01-025caa4a1951",
   "metadata": {
    "papermill": {
     "duration": 0.006002,
     "end_time": "2023-07-13T14:55:51.089589",
     "exception": false,
     "start_time": "2023-07-13T14:55:51.083587",
     "status": "completed"
    },
    "tags": []
   },
   "source": [
    "$$\n",
    "C = \\alpha A B + \\beta C\n",
    "$$"
   ]
  },
  {
   "cell_type": "code",
   "execution_count": 5,
   "id": "c742bf68-a3c0-45f4-aa33-3d9e7572de67",
   "metadata": {
    "execution": {
     "iopub.execute_input": "2023-07-13T14:55:51.104601Z",
     "iopub.status.busy": "2023-07-13T14:55:51.103601Z",
     "iopub.status.idle": "2023-07-13T14:55:51.163646Z",
     "shell.execute_reply": "2023-07-13T14:55:51.163646Z"
    },
    "papermill": {
     "duration": 0.071054,
     "end_time": "2023-07-13T14:55:51.166648",
     "exception": false,
     "start_time": "2023-07-13T14:55:51.095594",
     "status": "completed"
    },
    "tags": []
   },
   "outputs": [],
   "source": [
    "alpha = 1.0\n",
    "beta = 0.0\n",
    "    \n",
    "def allocate_mat(n=300,nrep=500):\n",
    "    \n",
    "    # varying sizes to test code\n",
    "    \n",
    "    np.random.seed(17)\n",
    "    \n",
    "    A = np.random.uniform(size=(nrep,2*n,n))\n",
    "    B = np.random.uniform(size=(nrep,n,3*n))\n",
    "    C = np.random.uniform(size=(nrep,2*n,3*n))\n",
    "    \n",
    "    return A,B,C\n"
   ]
  },
  {
   "cell_type": "code",
   "execution_count": 6,
   "id": "43a973a3-8c67-4b79-ab1b-5eef9830bab7",
   "metadata": {
    "execution": {
     "iopub.execute_input": "2023-07-13T14:55:51.190667Z",
     "iopub.status.busy": "2023-07-13T14:55:51.189666Z",
     "iopub.status.idle": "2023-07-13T14:55:51.243705Z",
     "shell.execute_reply": "2023-07-13T14:55:51.243705Z"
    },
    "papermill": {
     "duration": 0.065048,
     "end_time": "2023-07-13T14:55:51.246708",
     "exception": false,
     "start_time": "2023-07-13T14:55:51.181660",
     "status": "completed"
    },
    "tags": []
   },
   "outputs": [],
   "source": [
    "def matmul_np(alpha,beta,A,B,C):\n",
    "        \n",
    "    t0 = time.perf_counter()\n",
    "    C[:,:,:] = alpha*(A@B)+beta*C\n",
    "    secs = time.perf_counter()-t0\n",
    "    \n",
    "    return secs\n"
   ]
  },
  {
   "cell_type": "code",
   "execution_count": 7,
   "id": "92681220-829b-4fbd-9bd3-242f1d67b979",
   "metadata": {
    "execution": {
     "iopub.execute_input": "2023-07-13T14:55:51.266723Z",
     "iopub.status.busy": "2023-07-13T14:55:51.266723Z",
     "iopub.status.idle": "2023-07-13T14:55:51.320765Z",
     "shell.execute_reply": "2023-07-13T14:55:51.320765Z"
    },
    "papermill": {
     "duration": 0.065051,
     "end_time": "2023-07-13T14:55:51.323768",
     "exception": false,
     "start_time": "2023-07-13T14:55:51.258717",
     "status": "completed"
    },
    "tags": []
   },
   "outputs": [],
   "source": [
    "def matmul_BLAS(alpha,beta,A,B,C,threads_internal,threads_omp):\n",
    "    \n",
    "    nrep,m,k = A.shape\n",
    "    nrep,k,n = B.shape\n",
    "    nrep,m,n = C.shape\n",
    "    \n",
    "    secs = example_MKL.matmul_BLAS(nrep,m,n,k,alpha,beta,A,B,C,threads_internal,threads_omp)\n",
    "    \n",
    "    return secs\n",
    "    "
   ]
  },
  {
   "cell_type": "code",
   "execution_count": 8,
   "id": "e6d1a551-8003-40c7-8b94-a15f6fcdd52d",
   "metadata": {
    "execution": {
     "iopub.execute_input": "2023-07-13T14:55:51.345785Z",
     "iopub.status.busy": "2023-07-13T14:55:51.344784Z",
     "iopub.status.idle": "2023-07-13T14:55:51.399825Z",
     "shell.execute_reply": "2023-07-13T14:55:51.399825Z"
    },
    "papermill": {
     "duration": 0.066051,
     "end_time": "2023-07-13T14:55:51.402828",
     "exception": false,
     "start_time": "2023-07-13T14:55:51.336777",
     "status": "completed"
    },
    "tags": []
   },
   "outputs": [],
   "source": [
    "def matmul_Eigen(alpha,beta,A,B,C,threads_internal,threads_omp):\n",
    "    \n",
    "    nrep,m,k = A.shape\n",
    "    nrep,k,n = B.shape\n",
    "    nrep,m,n = C.shape\n",
    "    \n",
    "    secs = example_MKL.matmul_Eigen(nrep,m,n,k,alpha,beta,A,B,C,threads_internal,threads_omp)\n",
    "    \n",
    "    return secs\n",
    "    "
   ]
  },
  {
   "cell_type": "markdown",
   "id": "d182b534-303d-42e9-9259-476a667c5534",
   "metadata": {
    "papermill": {
     "duration": 0.008005,
     "end_time": "2023-07-13T14:55:51.423843",
     "exception": false,
     "start_time": "2023-07-13T14:55:51.415838",
     "status": "completed"
    },
    "tags": []
   },
   "source": [
    "**Test with single matrix multiplication:**"
   ]
  },
  {
   "cell_type": "code",
   "execution_count": 9,
   "id": "3a8d50fd-8c4a-43a9-bc13-b4ca001d8b0e",
   "metadata": {
    "execution": {
     "iopub.execute_input": "2023-07-13T14:55:51.447863Z",
     "iopub.status.busy": "2023-07-13T14:55:51.446862Z",
     "iopub.status.idle": "2023-07-13T14:55:59.893290Z",
     "shell.execute_reply": "2023-07-13T14:55:59.891333Z"
    },
    "papermill": {
     "duration": 8.46144,
     "end_time": "2023-07-13T14:55:59.899294",
     "exception": false,
     "start_time": "2023-07-13T14:55:51.437854",
     "status": "completed"
    },
    "tags": []
   },
   "outputs": [
    {
     "name": "stdout",
     "output_type": "stream",
     "text": [
      "n = 500:\n",
      "numpy:                               50 ms\n",
      "mkl (no threads, no omp):            27 ms\n",
      "mkl (all internal, no omp):           8 ms\n"
     ]
    },
    {
     "name": "stdout",
     "output_type": "stream",
     "text": [
      "Eigen (no threads, no omp):          32 ms\n",
      "Eigen (all internal, no omp):        17 ms\n",
      "\n",
      "n = 1000:\n"
     ]
    },
    {
     "name": "stdout",
     "output_type": "stream",
     "text": [
      "numpy:                              157 ms\n"
     ]
    },
    {
     "name": "stdout",
     "output_type": "stream",
     "text": [
      "mkl (no threads, no omp):           167 ms\n",
      "mkl (all internal, no omp):          53 ms\n"
     ]
    },
    {
     "name": "stdout",
     "output_type": "stream",
     "text": [
      "Eigen (no threads, no omp):         217 ms\n"
     ]
    },
    {
     "name": "stdout",
     "output_type": "stream",
     "text": [
      "Eigen (all internal, no omp):       107 ms\n",
      "\n",
      "n = 2000:\n"
     ]
    },
    {
     "name": "stdout",
     "output_type": "stream",
     "text": [
      "numpy:                              599 ms\n"
     ]
    },
    {
     "name": "stdout",
     "output_type": "stream",
     "text": [
      "mkl (no threads, no omp):          1285 ms\n"
     ]
    },
    {
     "name": "stdout",
     "output_type": "stream",
     "text": [
      "mkl (all internal, no omp):         321 ms\n"
     ]
    },
    {
     "name": "stdout",
     "output_type": "stream",
     "text": [
      "Eigen (no threads, no omp):        1564 ms\n"
     ]
    },
    {
     "name": "stdout",
     "output_type": "stream",
     "text": [
      "Eigen (all internal, no omp):       634 ms\n",
      "\n"
     ]
    }
   ],
   "source": [
    "threads = 4\n",
    "for n in [500,1000,2000]:\n",
    "    \n",
    "    print(f'{n = }:') \n",
    "    \n",
    "    # numpy\n",
    "    A,B,C = allocate_mat(n,1)\n",
    "    name = 'numpy:'\n",
    "    secs = matmul_np(alpha,beta,A,B,C)\n",
    "    print(f'{name:30s} {secs*1000:8.0f} ms')\n",
    "\n",
    "    # mkl\n",
    "    A,B,C = allocate_mat(n,1)\n",
    "    name = f'mkl (no threads, no omp):'\n",
    "    secs = matmul_BLAS(alpha,beta,A,B,C,1,1)\n",
    "    print(f'{name:30s} {secs*1000:8.0f} ms')\n",
    "\n",
    "    A,B,C = allocate_mat(n,1)\n",
    "    name = f'mkl (all internal, no omp):'\n",
    "    secs = matmul_BLAS(alpha,beta,A,B,C,threads,1)\n",
    "    print(f'{name:30s} {secs*1000:8.0f} ms')\n",
    "    \n",
    "    # Eigen\n",
    "    A,B,C = allocate_mat(n,1)\n",
    "    name = f'Eigen (no threads, no omp):'\n",
    "    secs = matmul_Eigen(alpha,beta,A,B,C,1,1)\n",
    "    print(f'{name:30s} {secs*1000:8.0f} ms')\n",
    "\n",
    "    A,B,C = allocate_mat(n,1)\n",
    "    name = f'Eigen (all internal, no omp):'\n",
    "    secs = matmul_Eigen(alpha,beta,A,B,C,threads,1)\n",
    "    print(f'{name:30s} {secs*1000:8.0f} ms')    \n",
    "    \n",
    "    print('')"
   ]
  },
  {
   "cell_type": "markdown",
   "id": "44023737",
   "metadata": {
    "papermill": {
     "duration": 0.008007,
     "end_time": "2023-07-13T14:55:59.918309",
     "exception": false,
     "start_time": "2023-07-13T14:55:59.910302",
     "status": "completed"
    },
    "tags": []
   },
   "source": [
    "**Test with multiple matrix multiplications:**"
   ]
  },
  {
   "cell_type": "code",
   "execution_count": 10,
   "id": "8a5bb951",
   "metadata": {
    "execution": {
     "iopub.execute_input": "2023-07-13T14:55:59.934320Z",
     "iopub.status.busy": "2023-07-13T14:55:59.933320Z",
     "iopub.status.idle": "2023-07-13T14:56:20.016586Z",
     "shell.execute_reply": "2023-07-13T14:56:20.013583Z"
    },
    "papermill": {
     "duration": 20.097277,
     "end_time": "2023-07-13T14:56:20.022591",
     "exception": false,
     "start_time": "2023-07-13T14:55:59.925314",
     "status": "completed"
    },
    "tags": []
   },
   "outputs": [
    {
     "name": "stdout",
     "output_type": "stream",
     "text": [
      "n = 200, nrep = 400:\n"
     ]
    },
    {
     "name": "stdout",
     "output_type": "stream",
     "text": [
      "numpy:                             2892 ms\n"
     ]
    },
    {
     "name": "stdout",
     "output_type": "stream",
     "text": [
      "mkl (internal= 1,omp= 8):            99 ms\n"
     ]
    },
    {
     "name": "stdout",
     "output_type": "stream",
     "text": [
      "mkl (internal= 2,omp= 4):           160 ms\n"
     ]
    },
    {
     "name": "stdout",
     "output_type": "stream",
     "text": [
      "mkl (internal= 4,omp= 4):           160 ms\n"
     ]
    },
    {
     "name": "stdout",
     "output_type": "stream",
     "text": [
      "\n",
      "n = 400, nrep = 200:\n"
     ]
    },
    {
     "name": "stdout",
     "output_type": "stream",
     "text": [
      "numpy:                             4861 ms\n"
     ]
    },
    {
     "name": "stdout",
     "output_type": "stream",
     "text": [
      "mkl (internal= 1,omp= 8):           299 ms\n"
     ]
    },
    {
     "name": "stdout",
     "output_type": "stream",
     "text": [
      "mkl (internal= 2,omp= 4):           574 ms\n"
     ]
    },
    {
     "name": "stdout",
     "output_type": "stream",
     "text": [
      "mkl (internal= 4,omp= 4):           560 ms\n"
     ]
    },
    {
     "name": "stdout",
     "output_type": "stream",
     "text": [
      "\n"
     ]
    }
   ],
   "source": [
    "for (n,nrep) in [(200,400),(400,200)]:\n",
    "    \n",
    "    print(f'{n = }, {nrep = }:') \n",
    "    \n",
    "    A,B,C = allocate_mat(n,nrep)\n",
    "    \n",
    "    # numpy\n",
    "    name = 'numpy:'\n",
    "    secs = matmul_np(alpha,beta,A,B,C)\n",
    "    print(f'{name:30s} {secs*1000:8.0f} ms')\n",
    "    C_np = C.copy()\n",
    "    \n",
    "    # mkl\n",
    "    for (threads_internal,threads_omp) in threads_vec:\n",
    "        \n",
    "        name = f'mkl (internal={threads_internal:2d},omp={threads_omp:2d}):'\n",
    "        C[:] = 0\n",
    "        secs = matmul_BLAS(alpha,beta,A,B,C,threads_internal,threads_omp)\n",
    "        print(f'{name:30s} {secs*1000:8.0f} ms')\n",
    "        \n",
    "    # check results are the same\n",
    "    max_abs_diff = np.max(np.abs(C_np-C))\n",
    "    assert np.isclose(max_abs_diff,0.0)   \n",
    "    \n",
    "    print('')\n",
    "    "
   ]
  },
  {
   "cell_type": "markdown",
   "id": "3fc1b15b",
   "metadata": {
    "papermill": {
     "duration": 0.011008,
     "end_time": "2023-07-13T14:56:20.049612",
     "exception": false,
     "start_time": "2023-07-13T14:56:20.038604",
     "status": "completed"
    },
    "tags": []
   },
   "source": [
    "## 5. <a id='toc5_'></a>[Solve linear equation system](#toc0_)"
   ]
  },
  {
   "cell_type": "markdown",
   "id": "f2fac8e7-2c4a-4677-8814-345e0075f4bf",
   "metadata": {
    "papermill": {
     "duration": 0.011006,
     "end_time": "2023-07-13T14:56:20.071629",
     "exception": false,
     "start_time": "2023-07-13T14:56:20.060623",
     "status": "completed"
    },
    "tags": []
   },
   "source": [
    "$$\n",
    "Ax = b\n",
    "$$"
   ]
  },
  {
   "cell_type": "code",
   "execution_count": 11,
   "id": "abb147a9-003a-4846-9db6-c71df172c4b9",
   "metadata": {
    "execution": {
     "iopub.execute_input": "2023-07-13T14:56:20.097647Z",
     "iopub.status.busy": "2023-07-13T14:56:20.095646Z",
     "iopub.status.idle": "2023-07-13T14:56:20.164699Z",
     "shell.execute_reply": "2023-07-13T14:56:20.163744Z"
    },
    "papermill": {
     "duration": 0.086109,
     "end_time": "2023-07-13T14:56:20.167745",
     "exception": false,
     "start_time": "2023-07-13T14:56:20.081636",
     "status": "completed"
    },
    "tags": []
   },
   "outputs": [],
   "source": [
    "def allocate_solve_mat(n=500,nrhs=100,nrep=500):\n",
    "    \n",
    "    np.random.seed(17)\n",
    "\n",
    "    A = np.random.uniform(size=(nrep,n,n))\n",
    "    x = np.random.uniform(size=(nrep,n,nrhs))\n",
    "    b = A@x\n",
    "\n",
    "    return A,b,x"
   ]
  },
  {
   "cell_type": "code",
   "execution_count": 12,
   "id": "0598b06c-df96-4877-aa33-7642de2d1165",
   "metadata": {
    "execution": {
     "iopub.execute_input": "2023-07-13T14:56:20.193720Z",
     "iopub.status.busy": "2023-07-13T14:56:20.192719Z",
     "iopub.status.idle": "2023-07-13T14:56:20.252766Z",
     "shell.execute_reply": "2023-07-13T14:56:20.251765Z"
    },
    "papermill": {
     "duration": 0.072098,
     "end_time": "2023-07-13T14:56:20.255811",
     "exception": false,
     "start_time": "2023-07-13T14:56:20.183713",
     "status": "completed"
    },
    "tags": []
   },
   "outputs": [],
   "source": [
    "def solve_np(A,b):\n",
    "    \n",
    "    t0 = time.perf_counter()\n",
    "    x = np.zeros(b.shape)\n",
    "    for i in range(A.shape[0]):\n",
    "        x[i,:,:] = np.linalg.solve(A[i],b[i])\n",
    "    secs = time.perf_counter()-t0\n",
    "    \n",
    "    return x,secs"
   ]
  },
  {
   "cell_type": "code",
   "execution_count": 13,
   "id": "d3f5ec5a-ab84-4602-a5a5-298de0ab4344",
   "metadata": {
    "execution": {
     "iopub.execute_input": "2023-07-13T14:56:20.280788Z",
     "iopub.status.busy": "2023-07-13T14:56:20.279787Z",
     "iopub.status.idle": "2023-07-13T14:56:20.337872Z",
     "shell.execute_reply": "2023-07-13T14:56:20.336829Z"
    },
    "papermill": {
     "duration": 0.070052,
     "end_time": "2023-07-13T14:56:20.340875",
     "exception": false,
     "start_time": "2023-07-13T14:56:20.270823",
     "status": "completed"
    },
    "tags": []
   },
   "outputs": [],
   "source": [
    "def solve_LAPACKE(A,b,x,threads_internal,threads_omp):\n",
    "    \n",
    "    nrep,n,_ = A.shape\n",
    "    _,_,nrh = b.shape\n",
    "    \n",
    "    b_old = b.copy()\n",
    "    secs = example_MKL.solve_LAPACKE(nrep,n,nrh,A,b,threads_internal,threads_omp)\n",
    "    x[:] = b.copy()\n",
    "    b[:] = b_old\n",
    "    \n",
    "    return x,secs"
   ]
  },
  {
   "cell_type": "code",
   "execution_count": 14,
   "id": "e0a50318-cc2e-4c51-985d-1e1a5097cd2a",
   "metadata": {
    "execution": {
     "iopub.execute_input": "2023-07-13T14:56:20.366852Z",
     "iopub.status.busy": "2023-07-13T14:56:20.365852Z",
     "iopub.status.idle": "2023-07-13T14:56:20.420933Z",
     "shell.execute_reply": "2023-07-13T14:56:20.419934Z"
    },
    "papermill": {
     "duration": 0.067091,
     "end_time": "2023-07-13T14:56:20.423935",
     "exception": false,
     "start_time": "2023-07-13T14:56:20.356844",
     "status": "completed"
    },
    "tags": []
   },
   "outputs": [],
   "source": [
    "def solve_Eigen(A,b,x,threads_internal,threads_omp):\n",
    "    \n",
    "    nrep,n,_ = A.shape\n",
    "    _,_,nrh = b.shape\n",
    "    \n",
    "    b_old = b.copy()\n",
    "    secs = example_MKL.solve_Eigen(nrep,n,nrh,A,b,threads_internal,threads_omp)\n",
    "    x[:] = b.copy()\n",
    "    b[:] = b_old\n",
    "    \n",
    "    return x,secs"
   ]
  },
  {
   "cell_type": "markdown",
   "id": "6c81015b-937b-44e0-acd8-53e61ea0f317",
   "metadata": {
    "papermill": {
     "duration": 0.019014,
     "end_time": "2023-07-13T14:56:20.458921",
     "exception": false,
     "start_time": "2023-07-13T14:56:20.439907",
     "status": "completed"
    },
    "tags": []
   },
   "source": [
    "**Test solving multiple equations systems at once:**"
   ]
  },
  {
   "cell_type": "code",
   "execution_count": 15,
   "id": "89192387",
   "metadata": {
    "execution": {
     "iopub.execute_input": "2023-07-13T14:56:20.478938Z",
     "iopub.status.busy": "2023-07-13T14:56:20.477937Z",
     "iopub.status.idle": "2023-07-13T14:56:46.621733Z",
     "shell.execute_reply": "2023-07-13T14:56:46.620733Z"
    },
    "papermill": {
     "duration": 26.161812,
     "end_time": "2023-07-13T14:56:46.629740",
     "exception": false,
     "start_time": "2023-07-13T14:56:20.467928",
     "status": "completed"
    },
    "tags": []
   },
   "outputs": [
    {
     "name": "stdout",
     "output_type": "stream",
     "text": [
      "numpy                              1955 ms\n"
     ]
    },
    {
     "name": "stdout",
     "output_type": "stream",
     "text": [
      "mkl (internal= 1,omp= 8):           864 ms\n"
     ]
    },
    {
     "name": "stdout",
     "output_type": "stream",
     "text": [
      "mkl (internal= 2,omp= 4):          1083 ms\n"
     ]
    },
    {
     "name": "stdout",
     "output_type": "stream",
     "text": [
      "mkl (internal= 4,omp= 4):          1029 ms\n"
     ]
    },
    {
     "name": "stdout",
     "output_type": "stream",
     "text": [
      "Eigen (internal= 1,omp= 8):        2087 ms\n"
     ]
    },
    {
     "name": "stdout",
     "output_type": "stream",
     "text": [
      "Eigen (internal= 2,omp= 4):        1821 ms\n"
     ]
    },
    {
     "name": "stdout",
     "output_type": "stream",
     "text": [
      "Eigen (internal= 4,omp= 4):        1985 ms\n"
     ]
    }
   ],
   "source": [
    "# numpy\n",
    "name = 'numpy'\n",
    "A,b,x = allocate_solve_mat()\n",
    "x,secs = solve_np(A,b)\n",
    "print(f'{name:30s} {secs*1000:8.0f} ms')\n",
    "x_np = x.copy()\n",
    "\n",
    "# mkl\n",
    "for (threads_internal,threads_omp) in threads_vec:\n",
    "\n",
    "    name = f'mkl (internal={threads_internal:2d},omp={threads_omp:2d}):'\n",
    "    A,b,x = allocate_solve_mat()\n",
    "    x,secs = solve_LAPACKE(A,b,x,threads_internal,threads_omp)\n",
    "    print(f'{name:30s} {secs*1000:8.0f} ms')\n",
    "\n",
    "# check results are the same\n",
    "max_abs_diff = np.max(np.abs(x_np-x))\n",
    "assert max_abs_diff < 1e-7\n",
    "    \n",
    "# Eigen\n",
    "for (threads_internal,threads_omp) in threads_vec:\n",
    "\n",
    "    name = f'Eigen (internal={threads_internal:2d},omp={threads_omp:2d}):'\n",
    "    A,b,x = allocate_solve_mat()\n",
    "    x,secs = solve_Eigen(A,b,x,threads_internal,threads_omp)\n",
    "    print(f'{name:30s} {secs*1000:8.0f} ms')     \n",
    "    \n",
    "# check results are the same\n",
    "max_abs_diff = np.max(np.abs(x_np-x))\n",
    "assert max_abs_diff < 1e-7    \n"
   ]
  },
  {
   "cell_type": "markdown",
   "id": "a09de5e3",
   "metadata": {
    "papermill": {
     "duration": 0.009007,
     "end_time": "2023-07-13T14:56:46.652758",
     "exception": false,
     "start_time": "2023-07-13T14:56:46.643751",
     "status": "completed"
    },
    "tags": []
   },
   "source": [
    "## 6. <a id='toc6_'></a>[Sparse matrices](#toc0_)"
   ]
  },
  {
   "cell_type": "code",
   "execution_count": 16,
   "id": "8b975489-356c-44d0-838a-94a6e6315830",
   "metadata": {
    "execution": {
     "iopub.execute_input": "2023-07-13T14:56:46.670771Z",
     "iopub.status.busy": "2023-07-13T14:56:46.670771Z",
     "iopub.status.idle": "2023-07-13T14:56:48.586467Z",
     "shell.execute_reply": "2023-07-13T14:56:48.585471Z"
    },
    "papermill": {
     "duration": 1.926704,
     "end_time": "2023-07-13T14:56:48.588468",
     "exception": false,
     "start_time": "2023-07-13T14:56:46.661764",
     "status": "completed"
    },
    "tags": []
   },
   "outputs": [],
   "source": [
    "nrep = 100\n",
    "\n",
    "# A\n",
    "url = 'https://math.nist.gov/pub/MatrixMarket2/SPARSKIT/tokamak/utm1700b.mtx.gz'\n",
    "urllib.request.urlretrieve(url,'matrices/utm1700b.mtx.gz')\n",
    "A = scipy.io.mmread('matrices/utm1700b.mtx.gz')\n",
    "nrow,ncol = A.shape\n",
    "\n",
    "# numpy\n",
    "A_np = np.broadcast_to(A.toarray(),(nrep,nrow,ncol)) \n",
    "\n",
    "# csr\n",
    "A_csr = scipy.sparse.csr_array(A)\n",
    "\n",
    "nnz = A_csr.data.size\n",
    "data = np.broadcast_to(A_csr.data,(nrep,nnz))\n",
    "indices = np.broadcast_to(A_csr.indices,(nrep,nnz))\n",
    "indptr = np.broadcast_to(A_csr.indptr,(nrep,ncol+1))\n",
    "\n",
    "# b\n",
    "url = 'https://math.nist.gov/pub/MatrixMarket2/SPARSKIT/tokamak/utm1700b_rhs1.mtx.gz'\n",
    "urllib.request.urlretrieve(url,'matrices/utm1700b_rhs1.mtx.gz')\n",
    "b = scipy.io.mmread('matrices/utm1700b_rhs1.mtx.gz')\n",
    "b = np.broadcast_to(b.ravel(),(nrep,nrow))\n"
   ]
  },
  {
   "cell_type": "markdown",
   "id": "0a77071a-6e2a-446d-af15-b6d102d1fd4c",
   "metadata": {
    "papermill": {
     "duration": 0.008007,
     "end_time": "2023-07-13T14:56:48.605482",
     "exception": false,
     "start_time": "2023-07-13T14:56:48.597475",
     "status": "completed"
    },
    "tags": []
   },
   "source": [
    "**Test solving multiple equations systems at once:**"
   ]
  },
  {
   "cell_type": "code",
   "execution_count": 17,
   "id": "66229fb1",
   "metadata": {
    "execution": {
     "iopub.execute_input": "2023-07-13T14:56:48.622514Z",
     "iopub.status.busy": "2023-07-13T14:56:48.621491Z",
     "iopub.status.idle": "2023-07-13T14:56:54.500902Z",
     "shell.execute_reply": "2023-07-13T14:56:54.500902Z"
    },
    "papermill": {
     "duration": 5.892418,
     "end_time": "2023-07-13T14:56:54.504905",
     "exception": false,
     "start_time": "2023-07-13T14:56:48.612487",
     "status": "completed"
    },
    "tags": []
   },
   "outputs": [
    {
     "name": "stdout",
     "output_type": "stream",
     "text": [
      "numpy                         :     3337 ms\n"
     ]
    },
    {
     "name": "stdout",
     "output_type": "stream",
     "text": [
      "spsolve                       :     1168 ms\n"
     ]
    },
    {
     "name": "stdout",
     "output_type": "stream",
     "text": [
      "Eigen (internal= 1,omp= 8):   :      376 ms\n"
     ]
    },
    {
     "name": "stdout",
     "output_type": "stream",
     "text": [
      "Eigen (internal= 2,omp= 4):   :      450 ms\n"
     ]
    },
    {
     "name": "stdout",
     "output_type": "stream",
     "text": [
      "Eigen (internal= 4,omp= 4):   :      390 ms\n"
     ]
    }
   ],
   "source": [
    "# numpy\n",
    "name = 'numpy' \n",
    "x_np = np.zeros((nrep,nrow))\n",
    "\n",
    "t0 = time.perf_counter()\n",
    "for i in range(nrep):\n",
    "    x_np[i] = np.linalg.solve(A_np[i],b[i])\n",
    "secs = time.perf_counter()-t0\n",
    "print(f'{name:30s}: {secs*1000:8.0f} ms')\n",
    "\n",
    "for i in range(nrep): assert np.max(np.abs(A_np[i]@x_np[i]-b[i])) < 1e-7\n",
    "\n",
    "# spsolve\n",
    "name = 'spsolve' \n",
    "x_sp = np.zeros((nrep,nrow))\n",
    "\n",
    "t0 = time.perf_counter()\n",
    "for i in range(nrep):\n",
    "    x_sp[i] = scipy.sparse.linalg.spsolve(A_csr,b[i])\n",
    "secs = time.perf_counter()-t0\n",
    "print(f'{name:30s}: {secs*1000:8.0f} ms')\n",
    "\n",
    "for i in range(nrep): assert np.max(np.abs(A_csr@x_sp[i]-b[i])) < 1e-7\n",
    "\n",
    "# Eigen\n",
    "name = 'Eigen_ParadisoLU'\n",
    "x_Eigen = np.zeros((nrep,nrow))\n",
    "\n",
    "for (threads_internal,threads_omp) in threads_vec:\n",
    "    \n",
    "    name = f'Eigen (internal={threads_internal:2d},omp={threads_omp:2d}):'\n",
    "    secs = example_MKL.solve_sparse_Eigen(nrep,nrow,ncol,nnz,indptr,indices,data,b,x_Eigen,\n",
    "                                          threads_internal,threads_omp)\n",
    "    print(f'{name:30s}: {secs*1000:8.0f} ms')\n",
    "\n",
    "for i in range(nrep): assert np.max(np.abs(A_csr@x_Eigen[i]-b[i])) < 1e-7"
   ]
  },
  {
   "cell_type": "markdown",
   "id": "12e7dc37",
   "metadata": {
    "papermill": {
     "duration": 0.011008,
     "end_time": "2023-07-13T14:56:54.531925",
     "exception": false,
     "start_time": "2023-07-13T14:56:54.520917",
     "status": "completed"
    },
    "tags": []
   },
   "source": [
    "## 7. <a id='toc7_'></a>[Clean up](#toc0_)"
   ]
  },
  {
   "cell_type": "code",
   "execution_count": 18,
   "id": "f0e0274e-7ef5-409b-b739-67ddb2d93d38",
   "metadata": {
    "execution": {
     "iopub.execute_input": "2023-07-13T14:56:54.551940Z",
     "iopub.status.busy": "2023-07-13T14:56:54.550940Z",
     "iopub.status.idle": "2023-07-13T14:56:54.637005Z",
     "shell.execute_reply": "2023-07-13T14:56:54.637005Z"
    },
    "papermill": {
     "duration": 0.099075,
     "end_time": "2023-07-13T14:56:54.641008",
     "exception": false,
     "start_time": "2023-07-13T14:56:54.541933",
     "status": "completed"
    },
    "tags": []
   },
   "outputs": [],
   "source": [
    "example_MKL.clean_up()"
   ]
  },
  {
   "cell_type": "code",
   "execution_count": 19,
   "id": "cef23703-66ae-46e4-8e03-3b8ad6668121",
   "metadata": {
    "execution": {
     "iopub.execute_input": "2023-07-13T14:56:54.667027Z",
     "iopub.status.busy": "2023-07-13T14:56:54.666027Z",
     "iopub.status.idle": "2023-07-13T14:56:54.925223Z",
     "shell.execute_reply": "2023-07-13T14:56:54.924222Z"
    },
    "papermill": {
     "duration": 0.270204,
     "end_time": "2023-07-13T14:56:54.927224",
     "exception": false,
     "start_time": "2023-07-13T14:56:54.657020",
     "status": "completed"
    },
    "tags": []
   },
   "outputs": [],
   "source": [
    "os.remove(f'cppfuncs/Eigen-main.zip')\n",
    "shutil.rmtree(f'cppfuncs/Eigen/')"
   ]
  }
 ],
 "metadata": {
  "kernelspec": {
   "display_name": "Python 3 (ipykernel)",
   "language": "python",
   "name": "python3"
  },
  "language_info": {
   "codemirror_mode": {
    "name": "ipython",
    "version": 3
   },
   "file_extension": ".py",
   "mimetype": "text/x-python",
   "name": "python",
   "nbconvert_exporter": "python",
   "pygments_lexer": "ipython3",
   "version": "3.11.3"
  },
  "papermill": {
   "default_parameters": {},
   "duration": 81.27643,
   "end_time": "2023-07-13T14:56:55.561759",
   "environment_variables": {},
   "exception": null,
   "input_path": "03c. Using MKL and Eigen.ipynb",
   "output_path": "temp_notebooks/03c. Using MKL and Eigen.ipynb",
   "parameters": {},
   "start_time": "2023-07-13T14:55:34.285329",
   "version": "2.4.0"
  },
  "toc-autonumbering": true
 },
 "nbformat": 4,
 "nbformat_minor": 5
}