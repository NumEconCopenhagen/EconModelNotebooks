{
 "cells": [
  {
   "cell_type": "markdown",
   "id": "bec156c3-3bf8-4076-9997-3ba0b2b02df8",
   "metadata": {},
   "source": [
    "# Using MKL"
   ]
  },
  {
   "cell_type": "markdown",
   "id": "4f27105e-5ab8-4fee-9c7e-0b40be4e6d79",
   "metadata": {},
   "source": [
    "This notebooks shows how to call functions from the **Math Kernal Library (MKL)** with the Intel-compiler."
   ]
  },
  {
   "cell_type": "markdown",
   "id": "f907e510-7652-4eec-ae16-a3c2128e37cc",
   "metadata": {},
   "source": [
    "# Imports"
   ]
  },
  {
   "cell_type": "code",
   "execution_count": 1,
   "id": "1ca79284-da8b-4fd3-8ba7-48faedb1c548",
   "metadata": {},
   "outputs": [],
   "source": [
    "%load_ext autoreload\n",
    "%autoreload 2\n",
    "\n",
    "import numpy as np\n",
    "\n",
    "from EconModel import cpptools"
   ]
  },
  {
   "cell_type": "markdown",
   "id": "3c37bfc1-e0b9-4c38-a857-4b4420bfbeb4",
   "metadata": {},
   "source": [
    "# Compile test file"
   ]
  },
  {
   "cell_type": "code",
   "execution_count": 2,
   "id": "unlikely-administration",
   "metadata": {},
   "outputs": [],
   "source": [
    "flags = '/LD /EHsc /O3 /openmp /Qmkl'\n",
    "example_MKL = cpptools.link_to_cpp('cppfuncs/example_MKL.cpp',options={'compiler':'intel','flags':flags})"
   ]
  },
  {
   "cell_type": "code",
   "execution_count": 3,
   "id": "c742bf68-a3c0-45f4-aa33-3d9e7572de67",
   "metadata": {},
   "outputs": [],
   "source": [
    "m = 2000\n",
    "k = 200\n",
    "n = 1000\n",
    "\n",
    "alpha = 1.0\n",
    "beta = 0.0\n",
    "\n",
    "A = np.zeros((m,k))\n",
    "B = np.zeros((k,n))\n",
    "C = np.zeros((m,n))\n",
    "\n",
    "A.ravel()[:] = np.arange(m*k)+1\n",
    "B.ravel()[:] = -np.arange(k*n)-1"
   ]
  },
  {
   "cell_type": "markdown",
   "id": "15744e05-1073-4aae-ab48-99048713ce70",
   "metadata": {
    "tags": []
   },
   "source": [
    "# Run test file"
   ]
  },
  {
   "cell_type": "code",
   "execution_count": 4,
   "id": "25469b9f-5244-42f0-865e-1b1f28dbcec4",
   "metadata": {},
   "outputs": [
    {
     "name": "stdout",
     "output_type": "stream",
     "text": [
      "\n",
      " This example computes real matrix C=alpha*A*B+beta*C using \n",
      " Intel(R) MKL function dgemm, where A, B, and  C are matrices and \n",
      " alpha and beta are double precision scalars\n",
      "\n"
     ]
    }
   ],
   "source": [
    "# a. numpy\n",
    "Cnp = alpha*(A@B)+beta*C\n",
    "\n",
    "# b. mkl\n",
    "example_MKL.multmat(m,n,k,alpha,beta,A.ravel(),B.ravel(),C.ravel())"
   ]
  },
  {
   "cell_type": "markdown",
   "id": "1fbc2a18-e690-4118-9943-5d301e559a49",
   "metadata": {},
   "source": [
    "**Check** result is the same as in `numpy`:"
   ]
  },
  {
   "cell_type": "code",
   "execution_count": 5,
   "id": "ebae1ba3-875e-4a73-a03c-9f7889503248",
   "metadata": {},
   "outputs": [
    {
     "name": "stdout",
     "output_type": "stream",
     "text": [
      "0.0e+00\n"
     ]
    }
   ],
   "source": [
    "max_abs_diff = np.max(np.abs(Cnp-C))\n",
    "print(f'{max_abs_diff:.1e}')"
   ]
  },
  {
   "cell_type": "markdown",
   "id": "59be5f85-023f-4429-91a1-52beede44730",
   "metadata": {
    "tags": []
   },
   "source": [
    "# Clean up"
   ]
  },
  {
   "cell_type": "code",
   "execution_count": 6,
   "id": "f0e0274e-7ef5-409b-b739-67ddb2d93d38",
   "metadata": {},
   "outputs": [],
   "source": [
    "example_MKL.clean_up()"
   ]
  }
 ],
 "metadata": {
  "kernelspec": {
   "display_name": "Python 3 (ipykernel)",
   "language": "python",
   "name": "python3"
  },
  "language_info": {
   "codemirror_mode": {
    "name": "ipython",
    "version": 3
   },
   "file_extension": ".py",
   "mimetype": "text/x-python",
   "name": "python",
   "nbconvert_exporter": "python",
   "pygments_lexer": "ipython3",
   "version": "3.9.10"
  }
 },
 "nbformat": 4,
 "nbformat_minor": 5
}
