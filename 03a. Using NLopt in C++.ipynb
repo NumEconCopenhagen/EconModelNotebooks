{
 "cells": [
  {
   "cell_type": "markdown",
   "id": "cbd51405",
   "metadata": {
    "papermill": {
     "duration": 0.007974,
     "end_time": "2023-07-13T13:36:16.686317",
     "exception": false,
     "start_time": "2023-07-13T13:36:16.678343",
     "status": "completed"
    },
    "tags": []
   },
   "source": [
    "# Using NLopt in C++"
   ]
  },
  {
   "cell_type": "markdown",
   "id": "65aa62ca",
   "metadata": {
    "papermill": {
     "duration": 0.006978,
     "end_time": "2023-07-13T13:36:16.702268",
     "exception": false,
     "start_time": "2023-07-13T13:36:16.695290",
     "status": "completed"
    },
    "tags": []
   },
   "source": [
    "**Table of contents**<a id='toc0_'></a>    \n",
    "- 1. [Imports](#toc1_)    \n",
    "- 2. [Setup NLopt](#toc2_)    \n",
    "- 3. [Compile test file](#toc3_)    \n",
    "- 4. [ Run test file](#toc4_)    \n",
    "- 5. [Clean up](#toc5_)    \n",
    "\n",
    "<!-- vscode-jupyter-toc-config\n",
    "\tnumbering=true\n",
    "\tanchor=true\n",
    "\tflat=false\n",
    "\tminLevel=2\n",
    "\tmaxLevel=6\n",
    "\t/vscode-jupyter-toc-config -->\n",
    "<!-- THIS CELL WILL BE REPLACED ON TOC UPDATE. DO NOT WRITE YOUR TEXT IN THIS CELL -->"
   ]
  },
  {
   "cell_type": "markdown",
   "id": "1896a228",
   "metadata": {
    "papermill": {
     "duration": 0.004984,
     "end_time": "2023-07-13T13:36:16.714232",
     "exception": false,
     "start_time": "2023-07-13T13:36:16.709248",
     "status": "completed"
    },
    "tags": []
   },
   "source": [
    "The **NLopt library** provides a number of very useful numerical optimizers for use in C++. This notebooks show how to use them, when calling C++ from Python."
   ]
  },
  {
   "cell_type": "markdown",
   "id": "9cc22e33",
   "metadata": {
    "papermill": {
     "duration": 0.003989,
     "end_time": "2023-07-13T13:36:16.723206",
     "exception": false,
     "start_time": "2023-07-13T13:36:16.719217",
     "status": "completed"
    },
    "tags": []
   },
   "source": [
    "**In this notebook:** \n",
    "\n",
    "1. Download the **NLopt library 2.4.2** (from [https://nlopt.readthedocs.io/](https://nlopt.readthedocs.io/))\n",
    "2. Unzip it to **/cppfuncs**\n",
    "3. Run a setup command\n",
    "4. Use it in practice\n",
    "\n",
    "**Requirement:** *The Visual Studio compiler is required for building NLopt.*"
   ]
  },
  {
   "cell_type": "markdown",
   "id": "b1463a43",
   "metadata": {
    "papermill": {
     "duration": 0.003986,
     "end_time": "2023-07-13T13:36:16.733177",
     "exception": false,
     "start_time": "2023-07-13T13:36:16.729191",
     "status": "completed"
    },
    "tags": []
   },
   "source": [
    "## 1. <a id='toc1_'></a>[Imports](#toc0_)"
   ]
  },
  {
   "cell_type": "code",
   "execution_count": 1,
   "id": "03e04043",
   "metadata": {
    "execution": {
     "iopub.execute_input": "2023-07-13T13:36:16.745143Z",
     "iopub.status.busy": "2023-07-13T13:36:16.745143Z",
     "iopub.status.idle": "2023-07-13T13:36:16.927526Z",
     "shell.execute_reply": "2023-07-13T13:36:16.927526Z"
    },
    "papermill": {
     "duration": 0.191362,
     "end_time": "2023-07-13T13:36:16.929523",
     "exception": false,
     "start_time": "2023-07-13T13:36:16.738161",
     "status": "completed"
    },
    "tags": []
   },
   "outputs": [],
   "source": [
    "%load_ext autoreload\n",
    "%autoreload 2\n",
    "\n",
    "import os\n",
    "import shutil\n",
    "\n",
    "from EconModel import cpptools"
   ]
  },
  {
   "cell_type": "markdown",
   "id": "13731ccd",
   "metadata": {
    "papermill": {
     "duration": 0.003988,
     "end_time": "2023-07-13T13:36:16.938496",
     "exception": false,
     "start_time": "2023-07-13T13:36:16.934508",
     "status": "completed"
    },
    "tags": []
   },
   "source": [
    "## 2. <a id='toc2_'></a>[Setup NLopt](#toc0_)"
   ]
  },
  {
   "cell_type": "code",
   "execution_count": 2,
   "id": "4d4c7622",
   "metadata": {
    "execution": {
     "iopub.execute_input": "2023-07-13T13:36:16.950462Z",
     "iopub.status.busy": "2023-07-13T13:36:16.950462Z",
     "iopub.status.idle": "2023-07-13T13:36:20.535450Z",
     "shell.execute_reply": "2023-07-13T13:36:20.535450Z"
    },
    "papermill": {
     "duration": 3.591973,
     "end_time": "2023-07-13T13:36:20.537450",
     "exception": false,
     "start_time": "2023-07-13T13:36:16.945477",
     "status": "completed"
    },
    "tags": []
   },
   "outputs": [
    {
     "name": "stdout",
     "output_type": "stream",
     "text": [
      "compile.bat:\n",
      "cd /d \"C:/Program Files/Microsoft Visual Studio/2022/Community/VC/Auxiliary/Build/\"\n",
      "call vcvarsall.bat x64\n",
      "cd /d \"c:\\Users\\gmf123\\Dropbox\\Repositories\\EconModelNotebooks/cppfuncs/nlopt-2.4.2-dll64/\"\n",
      "lib /def:libnlopt-0.def /machine:x64"
     ]
    },
    {
     "name": "stdout",
     "output_type": "stream",
     "text": [
      "terminal:\n",
      "\n",
      "(base) c:\\Users\\gmf123\\Dropbox\\Repositories\\EconModelNotebooks>cd /d \"C:/Program Files/Microsoft Visual Studio/2022/Community/VC/Auxiliary/Build/\" \n",
      "\n",
      "(base) C:\\Program Files\\Microsoft Visual Studio\\2022\\Community\\VC\\Auxiliary\\Build>call vcvarsall.bat x64 \n",
      "**********************************************************************\n",
      "** Visual Studio 2022 Developer Command Prompt v17.0.6\n",
      "** Copyright (c) 2021 Microsoft Corporation\n",
      "**********************************************************************\n",
      "[vcvarsall.bat] Environment initialized for: 'x64'\n",
      "Microsoft (R) Library Manager Version 14.30.30709.0\n",
      "Copyright (C) Microsoft Corporation.  All rights reserved.\n",
      "\n",
      "   Creating library libnlopt-0.lib and object libnlopt-0.exp\n",
      "\n",
      "C++ files compiled\n",
      "NLopt successfully installed\n"
     ]
    }
   ],
   "source": [
    "cpptools.setup_nlopt(folder='cppfuncs/',do_print=True)"
   ]
  },
  {
   "cell_type": "markdown",
   "id": "3b06ded8",
   "metadata": {
    "papermill": {
     "duration": 0.005983,
     "end_time": "2023-07-13T13:36:20.548416",
     "exception": false,
     "start_time": "2023-07-13T13:36:20.542433",
     "status": "completed"
    },
    "tags": []
   },
   "source": [
    "## 3. <a id='toc3_'></a>[Compile test file](#toc0_)"
   ]
  },
  {
   "cell_type": "markdown",
   "id": "3bb05c80",
   "metadata": {
    "papermill": {
     "duration": 0.00399,
     "end_time": "2023-07-13T13:36:20.558389",
     "exception": false,
     "start_time": "2023-07-13T13:36:20.554399",
     "status": "completed"
    },
    "tags": []
   },
   "source": [
    "Compile test file with `#include \"cppfuncs/nlopt-2.4.2-dll64\\nlopt.h\"`."
   ]
  },
  {
   "cell_type": "code",
   "execution_count": 3,
   "id": "6a0a3441",
   "metadata": {
    "execution": {
     "iopub.execute_input": "2023-07-13T13:36:20.570350Z",
     "iopub.status.busy": "2023-07-13T13:36:20.570350Z",
     "iopub.status.idle": "2023-07-13T13:36:28.070069Z",
     "shell.execute_reply": "2023-07-13T13:36:28.070069Z"
    },
    "papermill": {
     "duration": 7.508697,
     "end_time": "2023-07-13T13:36:28.072068",
     "exception": false,
     "start_time": "2023-07-13T13:36:20.563371",
     "status": "completed"
    },
    "tags": []
   },
   "outputs": [],
   "source": [
    "example_NLopt = cpptools.link_to_cpp('cppfuncs//example_NLopt.cpp',print_log=True,options={'compiler':'intel'})"
   ]
  },
  {
   "cell_type": "markdown",
   "id": "c6251820",
   "metadata": {
    "papermill": {
     "duration": 0.003988,
     "end_time": "2023-07-13T13:36:28.080042",
     "exception": false,
     "start_time": "2023-07-13T13:36:28.076054",
     "status": "completed"
    },
    "tags": []
   },
   "source": [
    "## 4. <a id='toc4_'></a>[ Run test file](#toc0_)"
   ]
  },
  {
   "cell_type": "code",
   "execution_count": 4,
   "id": "0bf2c967",
   "metadata": {
    "execution": {
     "iopub.execute_input": "2023-07-13T13:36:28.094001Z",
     "iopub.status.busy": "2023-07-13T13:36:28.094001Z",
     "iopub.status.idle": "2023-07-13T13:36:28.261963Z",
     "shell.execute_reply": "2023-07-13T13:36:28.261963Z"
    },
    "papermill": {
     "duration": 0.176939,
     "end_time": "2023-07-13T13:36:28.263961",
     "exception": false,
     "start_time": "2023-07-13T13:36:28.087022",
     "status": "completed"
    },
    "tags": []
   },
   "outputs": [
    {
     "name": "stdout",
     "output_type": "stream",
     "text": [
      "found minimum at f(0.21825,0.38175) = 0.03134113069\n",
      "time:  0.09, inside  0.09, evals = 464\n"
     ]
    }
   ],
   "source": [
    "example_NLopt.optimize()"
   ]
  },
  {
   "cell_type": "markdown",
   "id": "4e967631",
   "metadata": {
    "papermill": {
     "duration": 0.00399,
     "end_time": "2023-07-13T13:36:28.273934",
     "exception": false,
     "start_time": "2023-07-13T13:36:28.269944",
     "status": "completed"
    },
    "tags": []
   },
   "source": [
    "**Note:** The log can also be accessed manually:"
   ]
  },
  {
   "cell_type": "code",
   "execution_count": 5,
   "id": "3843d40e",
   "metadata": {
    "execution": {
     "iopub.execute_input": "2023-07-13T13:36:28.286893Z",
     "iopub.status.busy": "2023-07-13T13:36:28.286893Z",
     "iopub.status.idle": "2023-07-13T13:36:28.361317Z",
     "shell.execute_reply": "2023-07-13T13:36:28.361317Z"
    },
    "papermill": {
     "duration": 0.083401,
     "end_time": "2023-07-13T13:36:28.363315",
     "exception": false,
     "start_time": "2023-07-13T13:36:28.279914",
     "status": "completed"
    },
    "tags": []
   },
   "outputs": [
    {
     "name": "stdout",
     "output_type": "stream",
     "text": [
      "found minimum at f(0.21825,0.38175) = 0.03134113069\n",
      "time:  0.09, inside  0.09, evals = 464\n",
      "\n"
     ]
    }
   ],
   "source": [
    "print(example_NLopt.log['optimize'])"
   ]
  },
  {
   "cell_type": "markdown",
   "id": "a141cfc9",
   "metadata": {
    "papermill": {
     "duration": 0.004987,
     "end_time": "2023-07-13T13:36:28.374283",
     "exception": false,
     "start_time": "2023-07-13T13:36:28.369296",
     "status": "completed"
    },
    "tags": []
   },
   "source": [
    "## 5. <a id='toc5_'></a>[Clean up](#toc0_)"
   ]
  },
  {
   "cell_type": "code",
   "execution_count": 6,
   "id": "f21edef0",
   "metadata": {
    "execution": {
     "iopub.execute_input": "2023-07-13T13:36:28.387244Z",
     "iopub.status.busy": "2023-07-13T13:36:28.387244Z",
     "iopub.status.idle": "2023-07-13T13:36:28.456014Z",
     "shell.execute_reply": "2023-07-13T13:36:28.456014Z"
    },
    "papermill": {
     "duration": 0.078745,
     "end_time": "2023-07-13T13:36:28.458012",
     "exception": false,
     "start_time": "2023-07-13T13:36:28.379267",
     "status": "completed"
    },
    "tags": []
   },
   "outputs": [],
   "source": [
    "example_NLopt.clean_up()"
   ]
  },
  {
   "cell_type": "code",
   "execution_count": 7,
   "id": "59b24f7d",
   "metadata": {
    "execution": {
     "iopub.execute_input": "2023-07-13T13:36:28.468978Z",
     "iopub.status.busy": "2023-07-13T13:36:28.468978Z",
     "iopub.status.idle": "2023-07-13T13:36:28.644428Z",
     "shell.execute_reply": "2023-07-13T13:36:28.643425Z"
    },
    "papermill": {
     "duration": 0.184415,
     "end_time": "2023-07-13T13:36:28.646421",
     "exception": false,
     "start_time": "2023-07-13T13:36:28.462006",
     "status": "completed"
    },
    "tags": []
   },
   "outputs": [],
   "source": [
    "os.remove('cppfuncs/nlopt-2.4.2-dll64.zip')\n",
    "shutil.rmtree('cppfuncs/nlopt-2.4.2-dll64/')"
   ]
  }
 ],
 "metadata": {
  "kernelspec": {
   "display_name": "Python 3 (ipykernel)",
   "language": "python",
   "name": "python3"
  },
  "language_info": {
   "codemirror_mode": {
    "name": "ipython",
    "version": 3
   },
   "file_extension": ".py",
   "mimetype": "text/x-python",
   "name": "python",
   "nbconvert_exporter": "python",
   "pygments_lexer": "ipython3",
   "version": "3.11.3"
  },
  "papermill": {
   "default_parameters": {},
   "duration": 14.122966,
   "end_time": "2023-07-13T13:36:29.007883",
   "environment_variables": {},
   "exception": null,
   "input_path": "03a. Using NLopt in C++.ipynb",
   "output_path": "temp_notebooks/03a. Using NLopt in C++.ipynb",
   "parameters": {},
   "start_time": "2023-07-13T13:36:14.884917",
   "version": "2.4.0"
  }
 },
 "nbformat": 4,
 "nbformat_minor": 5
}