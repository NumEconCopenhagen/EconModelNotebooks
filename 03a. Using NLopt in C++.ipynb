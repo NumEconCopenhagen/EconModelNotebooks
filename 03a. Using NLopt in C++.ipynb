{
 "cells": [
  {
   "cell_type": "markdown",
   "metadata": {},
   "source": [
    "# Using NLopt in C++"
   ]
  },
  {
   "cell_type": "markdown",
   "metadata": {},
   "source": [
    "The **NLopt library** provides a number of very useful numerical optimizers for use in C++. This notebooks show how to use them, when calling C++ from Python."
   ]
  },
  {
   "cell_type": "markdown",
   "metadata": {},
   "source": [
    "**In this notebook:** \n",
    "\n",
    "1. Download the **NLopt library 2.4.2** (from [https://nlopt.readthedocs.io/](https://nlopt.readthedocs.io/))\n",
    "2. Unzip it to **/cppfuncs**\n",
    "3. Run a setup command\n",
    "4. Use it in practice\n",
    "\n",
    "**Requirement:** *The Visual Studio compiler is required for building NLopt.*"
   ]
  },
  {
   "cell_type": "markdown",
   "metadata": {},
   "source": [
    "# Imports"
   ]
  },
  {
   "cell_type": "code",
   "execution_count": 1,
   "metadata": {},
   "outputs": [],
   "source": [
    "%load_ext autoreload\n",
    "%autoreload 2\n",
    "\n",
    "import os\n",
    "import shutil\n",
    "\n",
    "from EconModel import cpptools"
   ]
  },
  {
   "cell_type": "markdown",
   "metadata": {},
   "source": [
    "# Setup NLopt"
   ]
  },
  {
   "cell_type": "code",
   "execution_count": 2,
   "metadata": {},
   "outputs": [
    {
     "name": "stdout",
     "output_type": "stream",
     "text": [
      "compile.bat:\n",
      "cd /d \"C:/Program Files/Microsoft Visual Studio/2022/Community/VC/Auxiliary/Build/\"\n",
      "call vcvarsall.bat x64\n",
      "cd /d \"C:\\Users\\gmf123\\Dropbox\\Repositories\\EconModelNotebooks/cppfuncs/nlopt-2.4.2-dll64/\"\n",
      "lib /def:libnlopt-0.def /machine:x64terminal:\n",
      "\n",
      "(base) C:\\Users\\gmf123\\Dropbox\\Repositories\\EconModelNotebooks>cd /d \"C:/Program Files/Microsoft Visual Studio/2022/Community/VC/Auxiliary/Build/\" \n",
      "\n",
      "(base) C:\\Program Files\\Microsoft Visual Studio\\2022\\Community\\VC\\Auxiliary\\Build>call vcvarsall.bat x64 \n",
      "**********************************************************************\n",
      "** Visual Studio 2022 Developer Command Prompt v17.0.6\n",
      "** Copyright (c) 2021 Microsoft Corporation\n",
      "**********************************************************************\n",
      "[vcvarsall.bat] Environment initialized for: 'x64'\n",
      "Microsoft (R) Library Manager Version 14.30.30709.0\n",
      "Copyright (C) Microsoft Corporation.  All rights reserved.\n",
      "\n",
      "   Creating library libnlopt-0.lib and object libnlopt-0.exp\n",
      "\n",
      "C++ files compiled\n",
      "NLopt successfully installed\n"
     ]
    }
   ],
   "source": [
    "cpptools.setup_nlopt(folder='cppfuncs/',do_print=True)"
   ]
  },
  {
   "cell_type": "markdown",
   "metadata": {},
   "source": [
    "# Compile test file"
   ]
  },
  {
   "cell_type": "markdown",
   "metadata": {},
   "source": [
    "Compile test file with `#include \"cppfuncs/nlopt-2.4.2-dll64\\nlopt.h\"`."
   ]
  },
  {
   "cell_type": "code",
   "execution_count": 3,
   "metadata": {},
   "outputs": [],
   "source": [
    "example_NLopt = cpptools.link_to_cpp('cppfuncs//example_NLopt.cpp',print_log=True,options={'compiler':'intel'})"
   ]
  },
  {
   "cell_type": "markdown",
   "metadata": {},
   "source": [
    "#  Run test file"
   ]
  },
  {
   "cell_type": "code",
   "execution_count": 4,
   "metadata": {},
   "outputs": [
    {
     "name": "stdout",
     "output_type": "stream",
     "text": [
      "found minimum at f(0.21825,0.38175) = 0.03134113069\n",
      "time:  0.06, inside  0.06, evals = 464\n"
     ]
    }
   ],
   "source": [
    "example_NLopt.optimize()"
   ]
  },
  {
   "cell_type": "markdown",
   "metadata": {},
   "source": [
    "**Note:** The log can also be accessed manually:"
   ]
  },
  {
   "cell_type": "code",
   "execution_count": 5,
   "metadata": {},
   "outputs": [
    {
     "name": "stdout",
     "output_type": "stream",
     "text": [
      "found minimum at f(0.21825,0.38175) = 0.03134113069\n",
      "time:  0.06, inside  0.06, evals = 464\n",
      "\n"
     ]
    }
   ],
   "source": [
    "print(example_NLopt.log['optimize'])"
   ]
  },
  {
   "cell_type": "markdown",
   "metadata": {
    "tags": []
   },
   "source": [
    "# Clean up"
   ]
  },
  {
   "cell_type": "code",
   "execution_count": 6,
   "metadata": {},
   "outputs": [],
   "source": [
    "example_NLopt.clean_up()"
   ]
  },
  {
   "cell_type": "code",
   "execution_count": 7,
   "metadata": {},
   "outputs": [],
   "source": [
    "os.remove('cppfuncs/nlopt-2.4.2-dll64.zip')\n",
    "shutil.rmtree('cppfuncs/nlopt-2.4.2-dll64/')"
   ]
  }
 ],
 "metadata": {
  "kernelspec": {
   "display_name": "Python 3 (ipykernel)",
   "language": "python",
   "name": "python3"
  },
  "language_info": {
   "codemirror_mode": {
    "name": "ipython",
    "version": 3
   },
   "file_extension": ".py",
   "mimetype": "text/x-python",
   "name": "python",
   "nbconvert_exporter": "python",
   "pygments_lexer": "ipython3",
   "version": "3.9.10"
  }
 },
 "nbformat": 4,
 "nbformat_minor": 4
}
