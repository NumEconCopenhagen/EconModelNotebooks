{
 "cells": [
  {
   "cell_type": "markdown",
   "id": "cbd51405",
   "metadata": {
    "papermill": {
     "duration": 0.010008,
     "end_time": "2023-07-13T16:17:40.652561",
     "exception": false,
     "start_time": "2023-07-13T16:17:40.642553",
     "status": "completed"
    },
    "tags": []
   },
   "source": [
    "# Using NLopt in C++"
   ]
  },
  {
   "cell_type": "markdown",
   "id": "65aa62ca",
   "metadata": {
    "papermill": {
     "duration": 0.005007,
     "end_time": "2023-07-13T16:17:40.662570",
     "exception": false,
     "start_time": "2023-07-13T16:17:40.657563",
     "status": "completed"
    },
    "tags": []
   },
   "source": [
    "**Table of contents**<a id='toc0_'></a>    \n",
    "- 1. [Imports](#toc1_)    \n",
    "- 2. [Setup NLopt](#toc2_)    \n",
    "- 3. [Compile test file](#toc3_)    \n",
    "- 4. [ Run test file](#toc4_)    \n",
    "- 5. [Clean up](#toc5_)    \n",
    "\n",
    "<!-- vscode-jupyter-toc-config\n",
    "\tnumbering=true\n",
    "\tanchor=true\n",
    "\tflat=false\n",
    "\tminLevel=2\n",
    "\tmaxLevel=6\n",
    "\t/vscode-jupyter-toc-config -->\n",
    "<!-- THIS CELL WILL BE REPLACED ON TOC UPDATE. DO NOT WRITE YOUR TEXT IN THIS CELL -->"
   ]
  },
  {
   "cell_type": "markdown",
   "id": "1896a228",
   "metadata": {
    "papermill": {
     "duration": 0.003002,
     "end_time": "2023-07-13T16:17:40.669575",
     "exception": false,
     "start_time": "2023-07-13T16:17:40.666573",
     "status": "completed"
    },
    "tags": []
   },
   "source": [
    "The **NLopt library** provides a number of very useful numerical optimizers for use in C++. This notebooks show how to use them, when calling C++ from Python."
   ]
  },
  {
   "cell_type": "markdown",
   "id": "9cc22e33",
   "metadata": {
    "papermill": {
     "duration": 0.004003,
     "end_time": "2023-07-13T16:17:40.677582",
     "exception": false,
     "start_time": "2023-07-13T16:17:40.673579",
     "status": "completed"
    },
    "tags": []
   },
   "source": [
    "**In this notebook:** \n",
    "\n",
    "1. Download the **NLopt library 2.4.2** (from [https://nlopt.readthedocs.io/](https://nlopt.readthedocs.io/))\n",
    "2. Unzip it to **/cppfuncs**\n",
    "3. Run a setup command\n",
    "4. Use it in practice\n",
    "\n",
    "**Requirement:** *The Visual Studio compiler is required for building NLopt.*"
   ]
  },
  {
   "cell_type": "markdown",
   "id": "b1463a43",
   "metadata": {
    "papermill": {
     "duration": 0.004002,
     "end_time": "2023-07-13T16:17:40.684586",
     "exception": false,
     "start_time": "2023-07-13T16:17:40.680584",
     "status": "completed"
    },
    "tags": []
   },
   "source": [
    "## 1. <a id='toc1_'></a>[Imports](#toc0_)"
   ]
  },
  {
   "cell_type": "code",
   "execution_count": 1,
   "id": "03e04043",
   "metadata": {
    "execution": {
     "iopub.execute_input": "2023-07-13T16:17:40.694595Z",
     "iopub.status.busy": "2023-07-13T16:17:40.693595Z",
     "iopub.status.idle": "2023-07-13T16:17:40.861731Z",
     "shell.execute_reply": "2023-07-13T16:17:40.861731Z"
    },
    "papermill": {
     "duration": 0.176143,
     "end_time": "2023-07-13T16:17:40.864733",
     "exception": false,
     "start_time": "2023-07-13T16:17:40.688590",
     "status": "completed"
    },
    "tags": []
   },
   "outputs": [],
   "source": [
    "%load_ext autoreload\n",
    "%autoreload 2\n",
    "\n",
    "import os\n",
    "import shutil\n",
    "\n",
    "from EconModel import cpptools"
   ]
  },
  {
   "cell_type": "markdown",
   "id": "13731ccd",
   "metadata": {
    "papermill": {
     "duration": 0.005061,
     "end_time": "2023-07-13T16:17:40.880803",
     "exception": false,
     "start_time": "2023-07-13T16:17:40.875742",
     "status": "completed"
    },
    "tags": []
   },
   "source": [
    "## 2. <a id='toc2_'></a>[Setup NLopt](#toc0_)"
   ]
  },
  {
   "cell_type": "code",
   "execution_count": 2,
   "id": "4d4c7622",
   "metadata": {
    "execution": {
     "iopub.execute_input": "2023-07-13T16:17:40.890754Z",
     "iopub.status.busy": "2023-07-13T16:17:40.889753Z",
     "iopub.status.idle": "2023-07-13T16:17:44.438687Z",
     "shell.execute_reply": "2023-07-13T16:17:44.437686Z"
    },
    "papermill": {
     "duration": 3.556898,
     "end_time": "2023-07-13T16:17:44.441647",
     "exception": false,
     "start_time": "2023-07-13T16:17:40.884749",
     "status": "completed"
    },
    "tags": []
   },
   "outputs": [
    {
     "name": "stdout",
     "output_type": "stream",
     "text": [
      "compile.bat:\n",
      "cd /d \"C:/Program Files/Microsoft Visual Studio/2022/Community/VC/Auxiliary/Build/\"\n",
      "call vcvarsall.bat x64\n",
      "cd /d \"c:\\Users\\gmf123\\Dropbox\\Repositories\\EconModelNotebooks/cppfuncs/nlopt-2.4.2-dll64/\"\n",
      "lib /def:libnlopt-0.def /machine:x64terminal:\n",
      "\n",
      "(base) c:\\Users\\gmf123\\Dropbox\\Repositories\\EconModelNotebooks>cd /d \"C:/Program Files/Microsoft Visual Studio/2022/Community/VC/Auxiliary/Build/\" \n",
      "\n",
      "(base) C:\\Program Files\\Microsoft Visual Studio\\2022\\Community\\VC\\Auxiliary\\Build>call vcvarsall.bat x64 \n",
      "**********************************************************************\n",
      "** Visual Studio 2022 Developer Command Prompt v17.0.6\n",
      "** Copyright (c) 2021 Microsoft Corporation\n",
      "**********************************************************************\n",
      "[vcvarsall.bat] Environment initialized for: 'x64'\n",
      "Microsoft (R) Library Manager Version 14.30.30709.0\n",
      "Copyright (C) Microsoft Corporation.  All rights reserved.\n",
      "\n",
      "   Creating library libnlopt-0.lib and object libnlopt-0.exp\n",
      "\n",
      "C++ files compiled\n",
      "NLopt successfully installed\n"
     ]
    }
   ],
   "source": [
    "cpptools.setup_nlopt(folder='cppfuncs/',do_print=True)"
   ]
  },
  {
   "cell_type": "markdown",
   "id": "3b06ded8",
   "metadata": {
    "papermill": {
     "duration": 0.004003,
     "end_time": "2023-07-13T16:17:44.456659",
     "exception": false,
     "start_time": "2023-07-13T16:17:44.452656",
     "status": "completed"
    },
    "tags": []
   },
   "source": [
    "## 3. <a id='toc3_'></a>[Compile test file](#toc0_)"
   ]
  },
  {
   "cell_type": "markdown",
   "id": "3bb05c80",
   "metadata": {
    "papermill": {
     "duration": 0.004003,
     "end_time": "2023-07-13T16:17:44.465666",
     "exception": false,
     "start_time": "2023-07-13T16:17:44.461663",
     "status": "completed"
    },
    "tags": []
   },
   "source": [
    "Compile test file with `#include \"cppfuncs/nlopt-2.4.2-dll64\\nlopt.h\"`."
   ]
  },
  {
   "cell_type": "code",
   "execution_count": 3,
   "id": "6a0a3441",
   "metadata": {
    "execution": {
     "iopub.execute_input": "2023-07-13T16:17:44.475675Z",
     "iopub.status.busy": "2023-07-13T16:17:44.474674Z",
     "iopub.status.idle": "2023-07-13T16:17:50.425557Z",
     "shell.execute_reply": "2023-07-13T16:17:50.424571Z"
    },
    "papermill": {
     "duration": 5.959891,
     "end_time": "2023-07-13T16:17:50.429561",
     "exception": false,
     "start_time": "2023-07-13T16:17:44.469670",
     "status": "completed"
    },
    "tags": []
   },
   "outputs": [],
   "source": [
    "example_NLopt = cpptools.link_to_cpp('cppfuncs//example_NLopt.cpp',print_log=True,options={'compiler':'intel'})"
   ]
  },
  {
   "cell_type": "markdown",
   "id": "c6251820",
   "metadata": {
    "papermill": {
     "duration": 0.005959,
     "end_time": "2023-07-13T16:17:50.444528",
     "exception": false,
     "start_time": "2023-07-13T16:17:50.438569",
     "status": "completed"
    },
    "tags": []
   },
   "source": [
    "## 4. <a id='toc4_'></a>[ Run test file](#toc0_)"
   ]
  },
  {
   "cell_type": "code",
   "execution_count": 4,
   "id": "0bf2c967",
   "metadata": {
    "execution": {
     "iopub.execute_input": "2023-07-13T16:17:50.454537Z",
     "iopub.status.busy": "2023-07-13T16:17:50.453537Z",
     "iopub.status.idle": "2023-07-13T16:17:50.597652Z",
     "shell.execute_reply": "2023-07-13T16:17:50.597652Z"
    },
    "papermill": {
     "duration": 0.152123,
     "end_time": "2023-07-13T16:17:50.600654",
     "exception": false,
     "start_time": "2023-07-13T16:17:50.448531",
     "status": "completed"
    },
    "tags": []
   },
   "outputs": [
    {
     "name": "stdout",
     "output_type": "stream",
     "text": [
      "found minimum at f(0.21825,0.38175) = 0.03134113069\n",
      "time:  0.09, inside  0.09, evals = 464\n"
     ]
    }
   ],
   "source": [
    "example_NLopt.optimize()"
   ]
  },
  {
   "cell_type": "markdown",
   "id": "4e967631",
   "metadata": {
    "papermill": {
     "duration": 0.00596,
     "end_time": "2023-07-13T16:17:50.615666",
     "exception": false,
     "start_time": "2023-07-13T16:17:50.609706",
     "status": "completed"
    },
    "tags": []
   },
   "source": [
    "**Note:** The log can also be accessed manually:"
   ]
  },
  {
   "cell_type": "code",
   "execution_count": 5,
   "id": "3843d40e",
   "metadata": {
    "execution": {
     "iopub.execute_input": "2023-07-13T16:17:50.625674Z",
     "iopub.status.busy": "2023-07-13T16:17:50.624674Z",
     "iopub.status.idle": "2023-07-13T16:17:50.679718Z",
     "shell.execute_reply": "2023-07-13T16:17:50.679718Z"
    },
    "papermill": {
     "duration": 0.06305,
     "end_time": "2023-07-13T16:17:50.682720",
     "exception": false,
     "start_time": "2023-07-13T16:17:50.619670",
     "status": "completed"
    },
    "tags": []
   },
   "outputs": [
    {
     "name": "stdout",
     "output_type": "stream",
     "text": [
      "found minimum at f(0.21825,0.38175) = 0.03134113069\n",
      "time:  0.09, inside  0.09, evals = 464\n",
      "\n"
     ]
    }
   ],
   "source": [
    "print(example_NLopt.log['optimize'])"
   ]
  },
  {
   "cell_type": "markdown",
   "id": "a141cfc9",
   "metadata": {
    "papermill": {
     "duration": 0.006005,
     "end_time": "2023-07-13T16:17:50.697733",
     "exception": false,
     "start_time": "2023-07-13T16:17:50.691728",
     "status": "completed"
    },
    "tags": []
   },
   "source": [
    "## 5. <a id='toc5_'></a>[Clean up](#toc0_)"
   ]
  },
  {
   "cell_type": "code",
   "execution_count": 6,
   "id": "f21edef0",
   "metadata": {
    "execution": {
     "iopub.execute_input": "2023-07-13T16:17:50.706740Z",
     "iopub.status.busy": "2023-07-13T16:17:50.706740Z",
     "iopub.status.idle": "2023-07-13T16:17:50.755780Z",
     "shell.execute_reply": "2023-07-13T16:17:50.755780Z"
    },
    "papermill": {
     "duration": 0.057046,
     "end_time": "2023-07-13T16:17:50.758782",
     "exception": false,
     "start_time": "2023-07-13T16:17:50.701736",
     "status": "completed"
    },
    "tags": []
   },
   "outputs": [],
   "source": [
    "example_NLopt.clean_up()"
   ]
  },
  {
   "cell_type": "code",
   "execution_count": 7,
   "id": "59b24f7d",
   "metadata": {
    "execution": {
     "iopub.execute_input": "2023-07-13T16:17:50.775796Z",
     "iopub.status.busy": "2023-07-13T16:17:50.775796Z",
     "iopub.status.idle": "2023-07-13T16:17:50.842850Z",
     "shell.execute_reply": "2023-07-13T16:17:50.842850Z"
    },
    "papermill": {
     "duration": 0.077019,
     "end_time": "2023-07-13T16:17:50.845853",
     "exception": false,
     "start_time": "2023-07-13T16:17:50.768834",
     "status": "completed"
    },
    "tags": []
   },
   "outputs": [],
   "source": [
    "os.remove('cppfuncs/nlopt-2.4.2-dll64.zip')"
   ]
  },
  {
   "cell_type": "code",
   "execution_count": 8,
   "id": "ca0ba53e",
   "metadata": {},
   "outputs": [],
   "source": [
    "shutil.rmtree('cppfuncs/nlopt-2.4.2-dll64/')"
   ]
  }
 ],
 "metadata": {
  "kernelspec": {
   "display_name": "Python 3 (ipykernel)",
   "language": "python",
   "name": "python3"
  },
  "language_info": {
   "codemirror_mode": {
    "name": "ipython",
    "version": 3
   },
   "file_extension": ".py",
   "mimetype": "text/x-python",
   "name": "python",
   "nbconvert_exporter": "python",
   "pygments_lexer": "ipython3",
   "version": "3.12.4"
  },
  "papermill": {
   "default_parameters": {},
   "duration": 12.544245,
   "end_time": "2023-07-13T16:17:51.074082",
   "environment_variables": {},
   "exception": null,
   "input_path": "03a. Using NLopt in C++.ipynb",
   "output_path": "temp_notebooks/03a. Using NLopt in C++.ipynb",
   "parameters": {},
   "start_time": "2023-07-13T16:17:38.529837",
   "version": "2.4.0"
  }
 },
 "nbformat": 4,
 "nbformat_minor": 5
}
