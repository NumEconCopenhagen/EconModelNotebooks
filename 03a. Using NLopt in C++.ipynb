{
 "cells": [
  {
   "cell_type": "markdown",
   "id": "cbd51405",
   "metadata": {
    "papermill": {
     "duration": 0.010005,
     "end_time": "2023-07-13T14:54:58.138204",
     "exception": false,
     "start_time": "2023-07-13T14:54:58.128199",
     "status": "completed"
    },
    "tags": []
   },
   "source": [
    "# Using NLopt in C++"
   ]
  },
  {
   "cell_type": "markdown",
   "id": "65aa62ca",
   "metadata": {
    "papermill": {
     "duration": 0.005018,
     "end_time": "2023-07-13T14:54:58.149225",
     "exception": false,
     "start_time": "2023-07-13T14:54:58.144207",
     "status": "completed"
    },
    "tags": []
   },
   "source": [
    "**Table of contents**<a id='toc0_'></a>    \n",
    "- 1. [Imports](#toc1_)    \n",
    "- 2. [Setup NLopt](#toc2_)    \n",
    "- 3. [Compile test file](#toc3_)    \n",
    "- 4. [ Run test file](#toc4_)    \n",
    "- 5. [Clean up](#toc5_)    \n",
    "\n",
    "<!-- vscode-jupyter-toc-config\n",
    "\tnumbering=true\n",
    "\tanchor=true\n",
    "\tflat=false\n",
    "\tminLevel=2\n",
    "\tmaxLevel=6\n",
    "\t/vscode-jupyter-toc-config -->\n",
    "<!-- THIS CELL WILL BE REPLACED ON TOC UPDATE. DO NOT WRITE YOUR TEXT IN THIS CELL -->"
   ]
  },
  {
   "cell_type": "markdown",
   "id": "1896a228",
   "metadata": {
    "papermill": {
     "duration": 0.004005,
     "end_time": "2023-07-13T14:54:58.156217",
     "exception": false,
     "start_time": "2023-07-13T14:54:58.152212",
     "status": "completed"
    },
    "tags": []
   },
   "source": [
    "The **NLopt library** provides a number of very useful numerical optimizers for use in C++. This notebooks show how to use them, when calling C++ from Python."
   ]
  },
  {
   "cell_type": "markdown",
   "id": "9cc22e33",
   "metadata": {
    "papermill": {
     "duration": 0.004006,
     "end_time": "2023-07-13T14:54:58.164224",
     "exception": false,
     "start_time": "2023-07-13T14:54:58.160218",
     "status": "completed"
    },
    "tags": []
   },
   "source": [
    "**In this notebook:** \n",
    "\n",
    "1. Download the **NLopt library 2.4.2** (from [https://nlopt.readthedocs.io/](https://nlopt.readthedocs.io/))\n",
    "2. Unzip it to **/cppfuncs**\n",
    "3. Run a setup command\n",
    "4. Use it in practice\n",
    "\n",
    "**Requirement:** *The Visual Studio compiler is required for building NLopt.*"
   ]
  },
  {
   "cell_type": "markdown",
   "id": "b1463a43",
   "metadata": {
    "papermill": {
     "duration": 0.004003,
     "end_time": "2023-07-13T14:54:58.171229",
     "exception": false,
     "start_time": "2023-07-13T14:54:58.167226",
     "status": "completed"
    },
    "tags": []
   },
   "source": [
    "## 1. <a id='toc1_'></a>[Imports](#toc0_)"
   ]
  },
  {
   "cell_type": "code",
   "execution_count": 1,
   "id": "03e04043",
   "metadata": {
    "execution": {
     "iopub.execute_input": "2023-07-13T14:54:58.181236Z",
     "iopub.status.busy": "2023-07-13T14:54:58.180234Z",
     "iopub.status.idle": "2023-07-13T14:54:58.323300Z",
     "shell.execute_reply": "2023-07-13T14:54:58.323300Z"
    },
    "papermill": {
     "duration": 0.152072,
     "end_time": "2023-07-13T14:54:58.327303",
     "exception": false,
     "start_time": "2023-07-13T14:54:58.175231",
     "status": "completed"
    },
    "tags": []
   },
   "outputs": [],
   "source": [
    "%load_ext autoreload\n",
    "%autoreload 2\n",
    "\n",
    "import os\n",
    "import shutil\n",
    "\n",
    "from EconModel import cpptools"
   ]
  },
  {
   "cell_type": "markdown",
   "id": "13731ccd",
   "metadata": {
    "papermill": {
     "duration": 0.005005,
     "end_time": "2023-07-13T14:54:58.342359",
     "exception": false,
     "start_time": "2023-07-13T14:54:58.337354",
     "status": "completed"
    },
    "tags": []
   },
   "source": [
    "## 2. <a id='toc2_'></a>[Setup NLopt](#toc0_)"
   ]
  },
  {
   "cell_type": "code",
   "execution_count": 2,
   "id": "4d4c7622",
   "metadata": {
    "execution": {
     "iopub.execute_input": "2023-07-13T14:54:58.353368Z",
     "iopub.status.busy": "2023-07-13T14:54:58.352366Z",
     "iopub.status.idle": "2023-07-13T14:55:01.365981Z",
     "shell.execute_reply": "2023-07-13T14:55:01.365023Z"
    },
    "papermill": {
     "duration": 3.022638,
     "end_time": "2023-07-13T14:55:01.369028",
     "exception": false,
     "start_time": "2023-07-13T14:54:58.346390",
     "status": "completed"
    },
    "tags": []
   },
   "outputs": [
    {
     "name": "stdout",
     "output_type": "stream",
     "text": [
      "compile.bat:\n",
      "cd /d \"C:/Program Files/Microsoft Visual Studio/2022/Community/VC/Auxiliary/Build/\"\n",
      "call vcvarsall.bat x64\n",
      "cd /d \"c:\\Users\\gmf123.UNICPH\\Documents\\repositories\\EconModelNotebooks/cppfuncs/nlopt-2.4.2-dll64/\"\n",
      "lib /def:libnlopt-0.def /machine:x64"
     ]
    },
    {
     "name": "stdout",
     "output_type": "stream",
     "text": [
      "terminal:\n",
      "\n",
      "(c:\\Users\\gmf123.UNICPH\\AppData\\Local\\anaconda3) c:\\Users\\gmf123.UNICPH\\Documents\\repositories\\EconModelNotebooks>cd /d \"C:/Program Files/Microsoft Visual Studio/2022/Community/VC/Auxiliary/Build/\" \n",
      "\n",
      "(c:\\Users\\gmf123.UNICPH\\AppData\\Local\\anaconda3) C:\\Program Files\\Microsoft Visual Studio\\2022\\Community\\VC\\Auxiliary\\Build>call vcvarsall.bat x64 \n",
      "**********************************************************************\n",
      "** Visual Studio 2022 Developer Command Prompt v17.0.6\n",
      "** Copyright (c) 2021 Microsoft Corporation\n",
      "**********************************************************************\n",
      "[vcvarsall.bat] Environment initialized for: 'x64'\n",
      "Microsoft (R) Library Manager Version 14.30.30709.0\n",
      "Copyright (C) Microsoft Corporation.  All rights reserved.\n",
      "\n",
      "   Creating library libnlopt-0.lib and object libnlopt-0.exp\n",
      "\n",
      "C++ files compiled\n",
      "NLopt successfully installed\n"
     ]
    }
   ],
   "source": [
    "cpptools.setup_nlopt(folder='cppfuncs/',do_print=True)"
   ]
  },
  {
   "cell_type": "markdown",
   "id": "3b06ded8",
   "metadata": {
    "papermill": {
     "duration": 0.005004,
     "end_time": "2023-07-13T14:55:01.385037",
     "exception": false,
     "start_time": "2023-07-13T14:55:01.380033",
     "status": "completed"
    },
    "tags": []
   },
   "source": [
    "## 3. <a id='toc3_'></a>[Compile test file](#toc0_)"
   ]
  },
  {
   "cell_type": "markdown",
   "id": "3bb05c80",
   "metadata": {
    "papermill": {
     "duration": 0.004001,
     "end_time": "2023-07-13T14:55:01.393043",
     "exception": false,
     "start_time": "2023-07-13T14:55:01.389042",
     "status": "completed"
    },
    "tags": []
   },
   "source": [
    "Compile test file with `#include \"cppfuncs/nlopt-2.4.2-dll64\\nlopt.h\"`."
   ]
  },
  {
   "cell_type": "code",
   "execution_count": 3,
   "id": "6a0a3441",
   "metadata": {
    "execution": {
     "iopub.execute_input": "2023-07-13T14:55:01.403052Z",
     "iopub.status.busy": "2023-07-13T14:55:01.402049Z",
     "iopub.status.idle": "2023-07-13T14:55:05.535549Z",
     "shell.execute_reply": "2023-07-13T14:55:05.534501Z"
    },
    "papermill": {
     "duration": 4.142502,
     "end_time": "2023-07-13T14:55:05.539549",
     "exception": false,
     "start_time": "2023-07-13T14:55:01.397047",
     "status": "completed"
    },
    "tags": []
   },
   "outputs": [],
   "source": [
    "example_NLopt = cpptools.link_to_cpp('cppfuncs//example_NLopt.cpp',print_log=True,options={'compiler':'intel'})"
   ]
  },
  {
   "cell_type": "markdown",
   "id": "c6251820",
   "metadata": {
    "papermill": {
     "duration": 0.005962,
     "end_time": "2023-07-13T14:55:05.554517",
     "exception": false,
     "start_time": "2023-07-13T14:55:05.548555",
     "status": "completed"
    },
    "tags": []
   },
   "source": [
    "## 4. <a id='toc4_'></a>[ Run test file](#toc0_)"
   ]
  },
  {
   "cell_type": "code",
   "execution_count": 4,
   "id": "0bf2c967",
   "metadata": {
    "execution": {
     "iopub.execute_input": "2023-07-13T14:55:05.565524Z",
     "iopub.status.busy": "2023-07-13T14:55:05.564525Z",
     "iopub.status.idle": "2023-07-13T14:55:05.712679Z",
     "shell.execute_reply": "2023-07-13T14:55:05.711679Z"
    },
    "papermill": {
     "duration": 0.157163,
     "end_time": "2023-07-13T14:55:05.715683",
     "exception": false,
     "start_time": "2023-07-13T14:55:05.558520",
     "status": "completed"
    },
    "tags": []
   },
   "outputs": [
    {
     "name": "stdout",
     "output_type": "stream",
     "text": [
      "found minimum at f(0.21825,0.38175) = 0.03134113069\n",
      "time:  0.08, inside  0.08, evals = 464\n"
     ]
    }
   ],
   "source": [
    "example_NLopt.optimize()"
   ]
  },
  {
   "cell_type": "markdown",
   "id": "4e967631",
   "metadata": {
    "papermill": {
     "duration": 0.005004,
     "end_time": "2023-07-13T14:55:05.731651",
     "exception": false,
     "start_time": "2023-07-13T14:55:05.726647",
     "status": "completed"
    },
    "tags": []
   },
   "source": [
    "**Note:** The log can also be accessed manually:"
   ]
  },
  {
   "cell_type": "code",
   "execution_count": 5,
   "id": "3843d40e",
   "metadata": {
    "execution": {
     "iopub.execute_input": "2023-07-13T14:55:05.742659Z",
     "iopub.status.busy": "2023-07-13T14:55:05.741659Z",
     "iopub.status.idle": "2023-07-13T14:55:05.797746Z",
     "shell.execute_reply": "2023-07-13T14:55:05.797746Z"
    },
    "papermill": {
     "duration": 0.064091,
     "end_time": "2023-07-13T14:55:05.800745",
     "exception": false,
     "start_time": "2023-07-13T14:55:05.736654",
     "status": "completed"
    },
    "tags": []
   },
   "outputs": [
    {
     "name": "stdout",
     "output_type": "stream",
     "text": [
      "found minimum at f(0.21825,0.38175) = 0.03134113069\n",
      "time:  0.08, inside  0.08, evals = 464\n",
      "\n"
     ]
    }
   ],
   "source": [
    "print(example_NLopt.log['optimize'])"
   ]
  },
  {
   "cell_type": "markdown",
   "id": "a141cfc9",
   "metadata": {
    "papermill": {
     "duration": 0.005005,
     "end_time": "2023-07-13T14:55:05.814758",
     "exception": false,
     "start_time": "2023-07-13T14:55:05.809753",
     "status": "completed"
    },
    "tags": []
   },
   "source": [
    "## 5. <a id='toc5_'></a>[Clean up](#toc0_)"
   ]
  },
  {
   "cell_type": "code",
   "execution_count": 6,
   "id": "f21edef0",
   "metadata": {
    "execution": {
     "iopub.execute_input": "2023-07-13T14:55:05.825722Z",
     "iopub.status.busy": "2023-07-13T14:55:05.824721Z",
     "iopub.status.idle": "2023-07-13T14:55:05.877805Z",
     "shell.execute_reply": "2023-07-13T14:55:05.876804Z"
    },
    "papermill": {
     "duration": 0.06109,
     "end_time": "2023-07-13T14:55:05.880807",
     "exception": false,
     "start_time": "2023-07-13T14:55:05.819717",
     "status": "completed"
    },
    "tags": []
   },
   "outputs": [],
   "source": [
    "example_NLopt.clean_up()"
   ]
  },
  {
   "cell_type": "code",
   "execution_count": 7,
   "id": "59b24f7d",
   "metadata": {
    "execution": {
     "iopub.execute_input": "2023-07-13T14:55:05.897821Z",
     "iopub.status.busy": "2023-07-13T14:55:05.897821Z",
     "iopub.status.idle": "2023-07-13T14:55:05.985843Z",
     "shell.execute_reply": "2023-07-13T14:55:05.985843Z"
    },
    "papermill": {
     "duration": 0.098012,
     "end_time": "2023-07-13T14:55:05.987845",
     "exception": false,
     "start_time": "2023-07-13T14:55:05.889833",
     "status": "completed"
    },
    "tags": []
   },
   "outputs": [],
   "source": [
    "os.remove('cppfuncs/nlopt-2.4.2-dll64.zip')\n",
    "shutil.rmtree('cppfuncs/nlopt-2.4.2-dll64/')"
   ]
  }
 ],
 "metadata": {
  "kernelspec": {
   "display_name": "Python 3 (ipykernel)",
   "language": "python",
   "name": "python3"
  },
  "language_info": {
   "codemirror_mode": {
    "name": "ipython",
    "version": 3
   },
   "file_extension": ".py",
   "mimetype": "text/x-python",
   "name": "python",
   "nbconvert_exporter": "python",
   "pygments_lexer": "ipython3",
   "version": "3.11.3"
  },
  "papermill": {
   "default_parameters": {},
   "duration": 9.600719,
   "end_time": "2023-07-13T14:55:06.110981",
   "environment_variables": {},
   "exception": null,
   "input_path": "03a. Using NLopt in C++.ipynb",
   "output_path": "temp_notebooks/03a. Using NLopt in C++.ipynb",
   "parameters": {},
   "start_time": "2023-07-13T14:54:56.510262",
   "version": "2.4.0"
  }
 },
 "nbformat": 4,
 "nbformat_minor": 5
}