{
 "cells": [
  {
   "cell_type": "markdown",
   "metadata": {},
   "source": [
    "# Using the EconModelClass"
   ]
  },
  {
   "cell_type": "markdown",
   "metadata": {},
   "source": [
    "`EconModel` is a small package for easily working with economic models in Python. It has four objectives:\n",
    "\n",
    "1. Make it easy to write well-structed code.\n",
    "1. Provide standard functionality for copying, saving and loading.\n",
    "1. Provide an easy interface to call [numba](http://numba.pydata.org/) JIT compilled functions.\n",
    "1. Provide an easy interface to call C++ functions.\n",
    "\n",
    "The two first objectives should be of interest to everybody, while the two last objectives are for more advanced users."
   ]
  },
  {
   "cell_type": "markdown",
   "metadata": {},
   "source": [
    "This notebook provides a simple example for using the `EconModelClass`. See documentation in [EconModel/README.md](https://github.com/NumEconCopenhagen/EconModel#econmodel)."
   ]
  },
  {
   "cell_type": "code",
   "execution_count": 1,
   "metadata": {},
   "outputs": [],
   "source": [
    "%load_ext autoreload\n",
    "%autoreload 2\n",
    "\n",
    "import shutil\n",
    "import numpy as np\n",
    "import numba as nb\n",
    "\n",
    "from EconModel import EconModelClass, jit"
   ]
  },
  {
   "cell_type": "markdown",
   "metadata": {},
   "source": [
    "# Baseline Usage"
   ]
  },
  {
   "cell_type": "markdown",
   "metadata": {},
   "source": [
    "The model is **required** to have the following three methods:\n",
    "\n",
    "1. `.settings()`: Choose fundamental settings.\n",
    "1. `.setup()`: Set free parameters.\n",
    "1. `.allocate()`: Set compound parameters and allocate arrays.\n",
    "\n",
    "When the model is initialized `.settings()`, `.setup()` and `.allocate()` are all called (in that order).\n",
    "\n",
    "Per default the namespaces `.par` (for parameters), `.sol` (for solution objects) and `.sim` (for simulation objects) are available. The philosophy of the package is that all the content of the model is contained in these namespaces. After the model has been initialized, no additional entries should be added to the namespaces, and each entry should only change *value(s)* (or shape for arrays), but never *type* (or number of dimensions for arrays)."
   ]
  },
  {
   "cell_type": "code",
   "execution_count": 2,
   "metadata": {},
   "outputs": [],
   "source": [
    "class MyModelClass(EconModelClass):\n",
    "    \n",
    "    # __init__ is inherited from EconModelClass\n",
    "    \n",
    "    def settings(self): # required\n",
    "        \"\"\" choose settings \"\"\"\n",
    "            \n",
    "        pass # nothing chosen here\n",
    "    \n",
    "    def setup(self): # required\n",
    "        \"\"\" set free parameters \"\"\"\n",
    "        \n",
    "        par = self.par\n",
    "        \n",
    "        par.N = 10\n",
    "        par.a = 2.0\n",
    "        par.b = 1.0\n",
    "        par.threads = 4\n",
    "        par.txt = 'a'\n",
    "        par.txtlist = 'N|threads'\n",
    "        \n",
    "    def allocate(self): # required\n",
    "        \"\"\" set compound parameters and allocate arrays \"\"\"\n",
    "        \n",
    "        par = self.par\n",
    "        sol = self.sol\n",
    "        \n",
    "        par.X = np.linspace(0,10,par.N)\n",
    "        sol.Y = np.zeros(par.N)\n",
    "    \n",
    "    def solve(self): # user-defined\n",
    "        \"\"\" solve the model\"\"\"\n",
    "        \n",
    "        par = self.par\n",
    "        sol = self.sol\n",
    "        \n",
    "        sol.Y[:] = par.X*(par.a+par.b)\n"
   ]
  },
  {
   "cell_type": "markdown",
   "metadata": {},
   "source": [
    "In `.settings()` the user can change the default behavior by specifying: \n",
    "\n",
    "1. `self.savefolder = str`: Filepath to save in and load from (default: 'saved').\n",
    "1. `self.namespaces = [str]`: List of namespaces (in addition to `.par`, `.sol`, `.sol`).\n",
    "1. `self.other_attrs = [str]`: List of additional attributes to be copied and saved.\n"
   ]
  },
  {
   "cell_type": "markdown",
   "metadata": {},
   "source": [
    "## Setup"
   ]
  },
  {
   "cell_type": "code",
   "execution_count": 3,
   "metadata": {},
   "outputs": [],
   "source": [
    "model = MyModelClass(name='example')"
   ]
  },
  {
   "cell_type": "code",
   "execution_count": 4,
   "metadata": {},
   "outputs": [],
   "source": [
    "model.solve()"
   ]
  },
  {
   "cell_type": "markdown",
   "metadata": {},
   "source": [
    "**Print description:**"
   ]
  },
  {
   "cell_type": "code",
   "execution_count": 5,
   "metadata": {},
   "outputs": [
    {
     "name": "stdout",
     "output_type": "stream",
     "text": [
      "Modelclass: MyModelClass\n",
      "Name: example\n",
      "\n",
      "namespaces: ['sim', 'sol', 'par']\n",
      "other_attrs: []\n",
      "savefolder: saved\n",
      "cpp_filename: None\n",
      "\n",
      "sim:\n",
      " memory, gb: 0.0\n",
      "\n",
      "sol:\n",
      " Y = ndarray with shape = (10,) [dtype: float64]\n",
      " memory, gb: 0.0\n",
      "\n",
      "par:\n",
      " N = 10 [int]\n",
      " a = 2.0 [float]\n",
      " b = 1.0 [float]\n",
      " threads = 4 [int]\n",
      " txt = a [str]\n",
      " txtlist = N|threads [str]\n",
      " X = ndarray with shape = (10,) [dtype: float64]\n",
      " memory, gb: 0.0\n",
      "\n"
     ]
    }
   ],
   "source": [
    "print(model)"
   ]
  },
  {
   "cell_type": "markdown",
   "metadata": {},
   "source": [
    "**Updating at initialization:**"
   ]
  },
  {
   "cell_type": "code",
   "execution_count": 6,
   "metadata": {},
   "outputs": [
    {
     "name": "stdout",
     "output_type": "stream",
     "text": [
      "3.0\n"
     ]
    }
   ],
   "source": [
    "model_alt = MyModelClass(name='alt',par={'a':3.0,'b':1.2})\n",
    "print(model_alt.par.a)"
   ]
  },
  {
   "cell_type": "markdown",
   "metadata": {},
   "source": [
    "**Unpack for later use:**"
   ]
  },
  {
   "cell_type": "code",
   "execution_count": 7,
   "metadata": {},
   "outputs": [],
   "source": [
    "par = model.par\n",
    "sol = model.sol"
   ]
  },
  {
   "cell_type": "markdown",
   "metadata": {},
   "source": [
    "**Under the hood:** Each namespace is techically a `SimpleNamespace` (from `types`)"
   ]
  },
  {
   "cell_type": "code",
   "execution_count": 8,
   "metadata": {},
   "outputs": [
    {
     "data": {
      "text/plain": [
       "types.SimpleNamespace"
      ]
     },
     "execution_count": 8,
     "metadata": {},
     "output_type": "execute_result"
    }
   ],
   "source": [
    "type(par)"
   ]
  },
  {
   "cell_type": "markdown",
   "metadata": {},
   "source": [
    "## Copy, save and load"
   ]
  },
  {
   "cell_type": "code",
   "execution_count": 9,
   "metadata": {},
   "outputs": [],
   "source": [
    "model_copy = model.copy(name='example_copy')\n",
    "model_copy.save()"
   ]
  },
  {
   "cell_type": "code",
   "execution_count": 10,
   "metadata": {},
   "outputs": [
    {
     "name": "stdout",
     "output_type": "stream",
     "text": [
      "Modelclass: MyModelClass\n",
      "Name: example_copy\n",
      "\n",
      "namespaces: ['sim', 'sol', 'par']\n",
      "other_attrs: []\n",
      "savefolder: saved\n",
      "cpp_filename: None\n",
      "\n",
      "sim:\n",
      " memory, gb: 0.0\n",
      "\n",
      "sol:\n",
      " Y = ndarray with shape = (10,) [dtype: float64]\n",
      " memory, gb: 0.0\n",
      "\n",
      "par:\n",
      " N = 10 [int]\n",
      " a = 2.0 [float]\n",
      " b = 1.0 [float]\n",
      " threads = 4 [int]\n",
      " txt = a [str]\n",
      " txtlist = N|threads [str]\n",
      " X = ndarray with shape = (10,) [dtype: float64]\n",
      " memory, gb: 0.0\n",
      "\n"
     ]
    }
   ],
   "source": [
    "model_loaded = MyModelClass(name='example_copy',load=True)\n",
    "print(model_loaded)"
   ]
  },
  {
   "cell_type": "markdown",
   "metadata": {},
   "source": [
    "## To and from dictionary "
   ]
  },
  {
   "cell_type": "code",
   "execution_count": 11,
   "metadata": {},
   "outputs": [
    {
     "name": "stdout",
     "output_type": "stream",
     "text": [
      "Modelclass: MyModelClass\n",
      "Name: example_dict\n",
      "\n",
      "namespaces: ['sim', 'sol', 'par']\n",
      "other_attrs: []\n",
      "savefolder: saved\n",
      "cpp_filename: None\n",
      "\n",
      "sim:\n",
      " memory, gb: 0.0\n",
      "\n",
      "sol:\n",
      " Y = ndarray with shape = (10,) [dtype: float64]\n",
      " memory, gb: 0.0\n",
      "\n",
      "par:\n",
      " N = 10 [int]\n",
      " a = 2.0 [float]\n",
      " b = 1.0 [float]\n",
      " threads = 4 [int]\n",
      " txt = a [str]\n",
      " txtlist = N|threads [str]\n",
      " X = ndarray with shape = (10,) [dtype: float64]\n",
      " memory, gb: 0.0\n",
      "\n"
     ]
    }
   ],
   "source": [
    "modeldict = model.as_dict()\n",
    "model_dict = MyModelClass(name='example_dict',from_dict=modeldict)\n",
    "print(model_dict)"
   ]
  },
  {
   "cell_type": "markdown",
   "metadata": {},
   "source": [
    "# Numba"
   ]
  },
  {
   "cell_type": "markdown",
   "metadata": {},
   "source": [
    "**Goal:** Call [numba](http://numba.pydata.org/) JIT compilled functions easily using namespaces.\n",
    "\n",
    "**Problem:** [numba](http://numba.pydata.org/) only allows specific types (and not e.g. `SimpleNamespace`).\n",
    "\n",
    "**Under-the-hood:** `jit(model)` temporarily turns all namespaces into `namedtuples`, which can be used as input in JIT compilled functions. "
   ]
  },
  {
   "cell_type": "code",
   "execution_count": 12,
   "metadata": {},
   "outputs": [],
   "source": [
    "@nb.njit\n",
    "def fun(par,sol):\n",
    "    sol.Y[:] = par.X*(par.a+par.b)"
   ]
  },
  {
   "cell_type": "code",
   "execution_count": 13,
   "metadata": {},
   "outputs": [],
   "source": [
    "def test_numba(model):\n",
    "    with jit(model) as model_jit:\n",
    "        fun(model_jit.par,model_jit.sol)"
   ]
  },
  {
   "cell_type": "code",
   "execution_count": 14,
   "metadata": {},
   "outputs": [
    {
     "name": "stdout",
     "output_type": "stream",
     "text": [
      "Wall time: 689 ms\n",
      "Wall time: 0 ns\n"
     ]
    }
   ],
   "source": [
    "%time test_numba(model)\n",
    "%time test_numba(model)"
   ]
  },
  {
   "cell_type": "markdown",
   "metadata": {},
   "source": [
    "**Note:** The first run is slower due to compiling."
   ]
  },
  {
   "cell_type": "markdown",
   "metadata": {},
   "source": [
    "**Check result:**"
   ]
  },
  {
   "cell_type": "code",
   "execution_count": 15,
   "metadata": {},
   "outputs": [],
   "source": [
    "assert np.allclose(par.X*(par.a+par.b),sol.Y)"
   ]
  },
  {
   "cell_type": "markdown",
   "metadata": {},
   "source": [
    "## Advanced: Recompilling"
   ]
  },
  {
   "cell_type": "markdown",
   "metadata": {},
   "source": [
    "When a new model is created, re-compilation of JIT functions are normally necessary:"
   ]
  },
  {
   "cell_type": "code",
   "execution_count": 16,
   "metadata": {},
   "outputs": [
    {
     "name": "stdout",
     "output_type": "stream",
     "text": [
      "Wall time: 194 ms\n",
      "Wall time: 501 µs\n"
     ]
    }
   ],
   "source": [
    "model_new = MyModelClass(name='numba_new')\n",
    "%time test_numba(model_new)\n",
    "%time test_numba(model_new)"
   ]
  },
  {
   "cell_type": "markdown",
   "metadata": {},
   "source": [
    "This is *not* the case, when a copy is made instead:"
   ]
  },
  {
   "cell_type": "code",
   "execution_count": 17,
   "metadata": {},
   "outputs": [
    {
     "name": "stdout",
     "output_type": "stream",
     "text": [
      "Wall time: 500 µs\n"
     ]
    }
   ],
   "source": [
    "model_new_ = model_new.copy(name='numba_new_copy')\n",
    "%time test_numba(model_new_)"
   ]
  },
  {
   "cell_type": "markdown",
   "metadata": {},
   "source": [
    "## Advanced: Type inference"
   ]
  },
  {
   "cell_type": "markdown",
   "metadata": {},
   "source": [
    "When the model is created **all types are infered** and the information is saved in the nested-dict `_ns_specs`. E.g.:"
   ]
  },
  {
   "cell_type": "code",
   "execution_count": 18,
   "metadata": {},
   "outputs": [
    {
     "data": {
      "text/plain": [
       "{'sim': {},\n",
       " 'sol': {'Y': [numpy.ndarray]},\n",
       " 'par': {'N': [int, numpy.int32],\n",
       "  'a': [float, numpy.float64],\n",
       "  'b': [float, numpy.float64],\n",
       "  'threads': [int, numpy.int32],\n",
       "  'txt': [str],\n",
       "  'txtlist': [str],\n",
       "  'X': [numpy.ndarray]}}"
      ]
     },
     "execution_count": 18,
     "metadata": {},
     "output_type": "execute_result"
    }
   ],
   "source": [
    "model._ns_specs['types']"
   ]
  },
  {
   "cell_type": "code",
   "execution_count": 19,
   "metadata": {},
   "outputs": [
    {
     "data": {
      "text/plain": [
       "{'sim': {}, 'sol': {'Y': dtype('float64')}, 'par': {'X': dtype('float64')}}"
      ]
     },
     "execution_count": 19,
     "metadata": {},
     "output_type": "execute_result"
    }
   ],
   "source": [
    "model._ns_specs['np_dtypes']"
   ]
  },
  {
   "cell_type": "code",
   "execution_count": 20,
   "metadata": {},
   "outputs": [
    {
     "data": {
      "text/plain": [
       "{'sim': {}, 'sol': {'Y': 1}, 'par': {'X': 1}}"
      ]
     },
     "execution_count": 20,
     "metadata": {},
     "output_type": "execute_result"
    }
   ],
   "source": [
    "model._ns_specs['np_ndims']"
   ]
  },
  {
   "cell_type": "markdown",
   "metadata": {},
   "source": [
    "**The types must NOT change afterwards**. If they do, an error is raised when using  `jit`."
   ]
  },
  {
   "cell_type": "code",
   "execution_count": 21,
   "metadata": {},
   "outputs": [],
   "source": [
    "def test_numba_errors(model):\n",
    "    try:\n",
    "        test_numba(model)\n",
    "    except ValueError as e:\n",
    "        print(f'ValueError: {e}')\n",
    "    else:\n",
    "        print('no errors raised')"
   ]
  },
  {
   "cell_type": "code",
   "execution_count": 22,
   "metadata": {},
   "outputs": [
    {
     "name": "stdout",
     "output_type": "stream",
     "text": [
      "ValueError: par.a has type <class 'int'>, should be in [<class 'float'>, <class 'numpy.float64'>]\n"
     ]
    }
   ],
   "source": [
    "model_test = model.copy()\n",
    "model_test.par.a = 1\n",
    "test_numba_errors(model_test)"
   ]
  },
  {
   "cell_type": "code",
   "execution_count": 23,
   "metadata": {},
   "outputs": [
    {
     "name": "stdout",
     "output_type": "stream",
     "text": [
      "ValueError: c is not allowed in .par\n"
     ]
    }
   ],
   "source": [
    "model_test = model.copy()\n",
    "model_test.par.c = np.nan\n",
    "test_numba_errors(model_test)"
   ]
  },
  {
   "cell_type": "code",
   "execution_count": 24,
   "metadata": {},
   "outputs": [
    {
     "name": "stdout",
     "output_type": "stream",
     "text": [
      "ValueError: par.X has ndim 2, should be 1\n"
     ]
    }
   ],
   "source": [
    "model_test = model.copy()\n",
    "model_test.par.X = np.zeros((1,1))\n",
    "test_numba_errors(model_test)"
   ]
  },
  {
   "cell_type": "code",
   "execution_count": 25,
   "metadata": {},
   "outputs": [
    {
     "name": "stdout",
     "output_type": "stream",
     "text": [
      "ValueError: par.X has dtype int32, should be float64\n"
     ]
    }
   ],
   "source": [
    "model_test = model.copy()\n",
    "model_test.par.X = model.par.X.astype('int')\n",
    "test_numba_errors(model_test)"
   ]
  },
  {
   "cell_type": "markdown",
   "metadata": {},
   "source": [
    "**If types *must* to be changed, then it is necessary to re-infer types:**"
   ]
  },
  {
   "cell_type": "code",
   "execution_count": 26,
   "metadata": {},
   "outputs": [
    {
     "name": "stdout",
     "output_type": "stream",
     "text": [
      "no errors raised\n"
     ]
    }
   ],
   "source": [
    "model_test = model.copy()\n",
    "model_test.par.a = 1\n",
    "model_test.infer_types()\n",
    "test_numba_errors(model_test)"
   ]
  },
  {
   "cell_type": "markdown",
   "metadata": {},
   "source": [
    "**Namedtuples** are immutables, so attributes cannot be changed while using `jit`:"
   ]
  },
  {
   "cell_type": "code",
   "execution_count": 27,
   "metadata": {},
   "outputs": [
    {
     "name": "stderr",
     "output_type": "stream",
     "text": [
      "Traceback (most recent call last):\n",
      "  File \"C:\\Users\\gmf123\\AppData\\Local\\Temp\\ipykernel_9684\\2942967087.py\", line 3, in <module>\n",
      "    model_jit.par.a = 3.0\n",
      "AttributeError: can't set attribute\n"
     ]
    }
   ],
   "source": [
    "try:\n",
    "    with jit(model,show_exc=True) as model_jit:\n",
    "        model_jit.par.a = 3.0\n",
    "except AttributeError as e:\n",
    "    pass"
   ]
  },
  {
   "cell_type": "markdown",
   "metadata": {
    "tags": []
   },
   "source": [
    "# Calling C++"
   ]
  },
  {
   "cell_type": "markdown",
   "metadata": {},
   "source": [
    "**Goal:** Call C++ functions easily using namespaces.\n",
    "\n",
    "**Problems:** Requires compilation and linking."
   ]
  },
  {
   "cell_type": "markdown",
   "metadata": {},
   "source": [
    "**Compilers:** One of these compilers must be installed\n",
    "\n",
    "* **vs**: Free *Microsoft Visual Studio 2022 Community Edition* ([link](https://visualstudio.microsoft.com/downloads/))\n",
    "* **intel:** Free *Intel one API* ([link](https://www.intel.com/content/www/us/en/developer/tools/oneapi/base-toolkit-download.html))\n",
    "\n",
    "For parallization we will use **OpenMP**."
   ]
  },
  {
   "cell_type": "markdown",
   "metadata": {},
   "source": [
    "**Platform:** Tested on *Windows*."
   ]
  },
  {
   "cell_type": "markdown",
   "metadata": {},
   "source": [
    "**Interface:**\n",
    "\n",
    "1. all elements in **namespaces** are availible as **C++ structs** with `_struct` appended (default, else specify `.cpp_structsmap` in `.settings()`).\n",
    "2. `cpptools.link_to_cpp()` is called by `.link_to_cpp` using `.cpp_filename` and the result is returned in `.cpp`.\n",
    "3. `cpp_options` is the compiler options.\n",
    "4. by default `force_compile=True` when calling `.link_to_cpp`."
   ]
  },
  {
   "cell_type": "markdown",
   "metadata": {},
   "source": [
    "**Details:** Provided in `02. More on calling C++.ipynb`."
   ]
  },
  {
   "cell_type": "markdown",
   "metadata": {},
   "source": [
    "**The extended model specification is:**"
   ]
  },
  {
   "cell_type": "code",
   "execution_count": 28,
   "metadata": {},
   "outputs": [],
   "source": [
    "class MyModelClass_cpp(MyModelClass):\n",
    "    \n",
    "    def settings(self):\n",
    "        \n",
    "        self.cpp_filename = 'cppfuncs/example.cpp' # required for using C++\n",
    "        self.cpp_options = {'compiler':'vs'} # optional\n",
    "        self.cpp_structsmap = {'par':'par_struct'} # optional\n",
    "    \n",
    "model_cpp = MyModelClass_cpp(name='model_cpp') "
   ]
  },
  {
   "cell_type": "markdown",
   "metadata": {},
   "source": [
    "**Link:**"
   ]
  },
  {
   "cell_type": "code",
   "execution_count": 29,
   "metadata": {},
   "outputs": [
    {
     "name": "stdout",
     "output_type": "stream",
     "text": [
      "Linking to: cppfuncs/example.cpp\n",
      "\n",
      "### finding all included files ###\n",
      "\n",
      "logs.cpp\n",
      "par_struct.cpp\n",
      "sol_struct.cpp\n",
      "example_include.cpp\n",
      "\n",
      "### writing structs ###\n",
      "\n",
      "cppfuncs/sim_struct.cpp\n",
      "\n",
      "cppfuncs/sol_struct.cpp\n",
      " double* Y;\n",
      "\n",
      "cppfuncs/par_struct.cpp\n",
      " int N;\n",
      " double a;\n",
      " double b;\n",
      " int threads;\n",
      " char* txt;\n",
      " char* txtlist;\n",
      " double* X;\n",
      "\n",
      "### analyzing cppfuncs/example.cpp ###\n",
      "\n",
      "function: fun\n",
      "return type: void\n",
      "argument types: ['par_struct*', 'sol_struct*']\n",
      "\n",
      "function: fun_nostruct\n",
      "return type: void\n",
      "argument types: ['double*', 'double*', 'int', 'double', 'double', 'int', 'char*']\n",
      "\n",
      "### analyzing cppfuncs/logs.cpp ###\n",
      "\n",
      "### analyzing cppfuncs/par_struct.cpp ###\n",
      "\n",
      "### analyzing cppfuncs/sol_struct.cpp ###\n",
      "\n",
      "### analyzing cppfuncs/example_include.cpp ###\n",
      "\n",
      "function: fun_nostruct_alt\n",
      "return type: void\n",
      "argument types: ['double*', 'double*', 'int', 'double', 'double', 'int', 'char*']\n",
      "\n",
      "function: I_DO_NOTHING\n",
      "return type: double\n",
      "argument types: []\n",
      "\n",
      "### compiling and linking ###\n",
      "\n",
      "compile.bat:\n",
      "cd /d \"C:/Program Files/Microsoft Visual Studio/2022/Community/VC/Auxiliary/Build/\"\n",
      "call vcvarsall.bat x64\n",
      "cd /d \"C:\\Users\\gmf123\\Dropbox\\Repositories\\EconModelNotebooks\"\n",
      "cl /LD /EHsc /Ox /openmp cppfuncs/example.cpp setup_omp.cpp \n",
      "\n",
      "terminal:\n",
      "\n",
      "(base) C:\\Users\\gmf123\\Dropbox\\Repositories\\EconModelNotebooks>cd /d \"C:/Program Files/Microsoft Visual Studio/2022/Community/VC/Auxiliary/Build/\" \n",
      "\n",
      "(base) C:\\Program Files\\Microsoft Visual Studio\\2022\\Community\\VC\\Auxiliary\\Build>call vcvarsall.bat x64 \n",
      "**********************************************************************\n",
      "** Visual Studio 2022 Developer Command Prompt v17.0.6\n",
      "** Copyright (c) 2021 Microsoft Corporation\n",
      "**********************************************************************\n",
      "[vcvarsall.bat] Environment initialized for: 'x64'\n",
      "example.cpp\n",
      "setup_omp.cpp\n",
      "Generating Code...\n",
      "Microsoft (R) Incremental Linker Version 14.30.30709.0\n",
      "Copyright (C) Microsoft Corporation.  All rights reserved.\n",
      "\n",
      "/out:example.dll \n",
      "/dll \n",
      "/implib:example.lib \n",
      "example.obj \n",
      "setup_omp.obj \n",
      "   Creating library example.lib and object example.exp\n",
      "\n",
      "Microsoft (R) C/C++ Optimizing Compiler Version 19.30.30709 for x64\n",
      "Copyright (C) Microsoft Corporation.  All rights reserved.\n",
      "\n",
      "\n",
      "C++ files compiled\n",
      "C++ files loaded\n",
      "\n",
      "DONE!\n",
      "\n"
     ]
    }
   ],
   "source": [
    "model_cpp.link_to_cpp(do_print=True)"
   ]
  },
  {
   "cell_type": "markdown",
   "metadata": {},
   "source": [
    "**Compile warnings and errors** are shown in the terminal."
   ]
  },
  {
   "cell_type": "markdown",
   "metadata": {},
   "source": [
    "**Call C++:** It is now easy to call the C++ function"
   ]
  },
  {
   "cell_type": "code",
   "execution_count": 30,
   "metadata": {},
   "outputs": [
    {
     "name": "stdout",
     "output_type": "stream",
     "text": [
      "\n",
      "fun(...)\n",
      "omp_get_thread_num() =  1, omp_get_num_procs() =  8\n",
      "string-value: a\n",
      "looked up value par->a = 2\n",
      "is \"a\" in \"N|threads\": false\n",
      "looked up value par->N = 10\n",
      "looked up value par->threads = 4\n",
      "\n"
     ]
    }
   ],
   "source": [
    "model_cpp.cpp.fun(par,sol)\n",
    "assert np.allclose(par.X*(par.a+par.b),sol.Y)"
   ]
  },
  {
   "cell_type": "markdown",
   "metadata": {},
   "source": [
    "**Re-compile:**"
   ]
  },
  {
   "cell_type": "code",
   "execution_count": 31,
   "metadata": {},
   "outputs": [],
   "source": [
    "model_cpp.cpp.recompile()"
   ]
  },
  {
   "cell_type": "markdown",
   "metadata": {},
   "source": [
    "**Multiple models:** "
   ]
  },
  {
   "cell_type": "code",
   "execution_count": 32,
   "metadata": {},
   "outputs": [
    {
     "name": "stdout",
     "output_type": "stream",
     "text": [
      "\n",
      "fun_nostruct(...)\n",
      "omp_get_thread_num() =  1, omp_get_num_procs() =  8\n",
      "omp_get_thread_num() =  2, omp_get_num_procs() =  8\n",
      "string-value: a\n",
      "test was succesfull\n",
      "\n"
     ]
    }
   ],
   "source": [
    "# a. don't compile when the .dll file is already loaded\n",
    "model_cpp_alt = MyModelClass_cpp('testcpp_alt')\n",
    "model_cpp_alt.link_to_cpp(force_compile=False) # default is force_compile = True\n",
    "\n",
    "# b. function call\n",
    "par = model_cpp_alt.par\n",
    "model_cpp_alt.cpp.fun_nostruct(par.X,sol.Y,par.N,par.a,par.b,par.threads,par.txt)\n",
    "assert np.allclose(par.X*(par.a+par.b),sol.Y)\n",
    "\n",
    "# c. delink without removing the .dll file\n",
    "model_cpp.cpp.delink()\n",
    "\n",
    "# d. delete model -> automatically calls .cpp.delink()\n",
    "del model_cpp_alt\n",
    "\n",
    "# e. now we can compile again\n",
    "model_cpp_alt = MyModelClass_cpp('testcpp_alt')\n",
    "model_cpp_alt.link_to_cpp()\n",
    "model_cpp_alt.cpp.clean_up()"
   ]
  },
  {
   "cell_type": "markdown",
   "metadata": {},
   "source": [
    "# Clean-up"
   ]
  },
  {
   "cell_type": "code",
   "execution_count": 33,
   "metadata": {},
   "outputs": [],
   "source": [
    "shutil.rmtree('saved')"
   ]
  }
 ],
 "metadata": {
  "kernelspec": {
   "display_name": "Python 3 (ipykernel)",
   "language": "python",
   "name": "python3"
  },
  "language_info": {
   "codemirror_mode": {
    "name": "ipython",
    "version": 3
   },
   "file_extension": ".py",
   "mimetype": "text/x-python",
   "name": "python",
   "nbconvert_exporter": "python",
   "pygments_lexer": "ipython3",
   "version": "3.9.10"
  },
  "toc": {
   "base_numbering": 1,
   "nav_menu": {},
   "number_sections": true,
   "sideBar": true,
   "skip_h1_title": false,
   "title_cell": "Table of Contents",
   "title_sidebar": "Contents",
   "toc_cell": true,
   "toc_position": {},
   "toc_section_display": true,
   "toc_window_display": false
  },
  "toc-autonumbering": true
 },
 "nbformat": 4,
 "nbformat_minor": 4
}
