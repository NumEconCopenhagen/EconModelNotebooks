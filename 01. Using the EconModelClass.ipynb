{
 "cells": [
  {
   "cell_type": "markdown",
   "id": "f5256459",
   "metadata": {
    "papermill": {
     "duration": 0.009973,
     "end_time": "2023-07-13T13:35:32.391768",
     "exception": false,
     "start_time": "2023-07-13T13:35:32.381795",
     "status": "completed"
    },
    "tags": []
   },
   "source": [
    "# Using the EconModelClass"
   ]
  },
  {
   "cell_type": "markdown",
   "id": "f9552c74",
   "metadata": {
    "papermill": {
     "duration": 0.010968,
     "end_time": "2023-07-13T13:35:32.413703",
     "exception": false,
     "start_time": "2023-07-13T13:35:32.402735",
     "status": "completed"
    },
    "tags": []
   },
   "source": [
    "**Table of contents**<a id='toc0_'></a>    \n",
    "- 1. [Baseline Usage](#toc1_)    \n",
    "- 2. [Copy, save and load](#toc2_)    \n",
    "- 3. [To and from dictionary](#toc3_)    \n",
    "- 4. [Numba](#toc4_)    \n",
    "  - 4.1. [Advanced: Recompilling](#toc4_1_)    \n",
    "  - 4.2. [Advanced: Type inference](#toc4_2_)    \n",
    "  - 4.3. [Advanced: Error handling](#toc4_3_)    \n",
    "- 5. [Calling C++](#toc5_)    \n",
    "- 6. [Clean-up](#toc6_)    \n",
    "\n",
    "<!-- vscode-jupyter-toc-config\n",
    "\tnumbering=true\n",
    "\tanchor=true\n",
    "\tflat=false\n",
    "\tminLevel=2\n",
    "\tmaxLevel=6\n",
    "\t/vscode-jupyter-toc-config -->\n",
    "<!-- THIS CELL WILL BE REPLACED ON TOC UPDATE. DO NOT WRITE YOUR TEXT IN THIS CELL -->"
   ]
  },
  {
   "attachments": {},
   "cell_type": "markdown",
   "id": "e4d84da7",
   "metadata": {
    "papermill": {
     "duration": 0.011961,
     "end_time": "2023-07-13T13:35:32.437630",
     "exception": false,
     "start_time": "2023-07-13T13:35:32.425669",
     "status": "completed"
    },
    "tags": []
   },
   "source": [
    "`EconModel` is a small package for easily working with economic models in Python. It has four objectives:\n",
    "\n",
    "1. Make it easy to write well-structed code.\n",
    "1. Provide standard functionality for copying, saving and loading.\n",
    "1. Provide an easy interface to call [numba](http://numba.pydata.org/) JIT compilled functions.\n",
    "1. Provide an easy interface to call C++ functions.\n",
    "\n",
    "The two first objectives should be of interest to everybody, while the two last objectives are for more advanced users."
   ]
  },
  {
   "attachments": {},
   "cell_type": "markdown",
   "id": "ab8d2fa9",
   "metadata": {
    "papermill": {
     "duration": 0.011962,
     "end_time": "2023-07-13T13:35:32.461556",
     "exception": false,
     "start_time": "2023-07-13T13:35:32.449594",
     "status": "completed"
    },
    "tags": []
   },
   "source": [
    "This notebook provides a simple example for using the `EconModelClass`. See documentation in [EconModel/README.md](https://github.com/NumEconCopenhagen/EconModel#econmodel)."
   ]
  },
  {
   "cell_type": "code",
   "execution_count": 1,
   "id": "23e3a357",
   "metadata": {
    "execution": {
     "iopub.execute_input": "2023-07-13T13:35:32.487477Z",
     "iopub.status.busy": "2023-07-13T13:35:32.487477Z",
     "iopub.status.idle": "2023-07-13T13:35:33.753250Z",
     "shell.execute_reply": "2023-07-13T13:35:33.752748Z"
    },
    "papermill": {
     "duration": 1.28073,
     "end_time": "2023-07-13T13:35:33.754250",
     "exception": false,
     "start_time": "2023-07-13T13:35:32.473520",
     "status": "completed"
    },
    "tags": []
   },
   "outputs": [],
   "source": [
    "%load_ext autoreload\n",
    "%autoreload 2\n",
    "\n",
    "import shutil\n",
    "import numpy as np\n",
    "import numba as nb\n",
    "\n",
    "from EconModel import EconModelClass, jit"
   ]
  },
  {
   "cell_type": "markdown",
   "id": "86119eee",
   "metadata": {
    "papermill": {
     "duration": 0.011964,
     "end_time": "2023-07-13T13:35:33.778178",
     "exception": false,
     "start_time": "2023-07-13T13:35:33.766214",
     "status": "completed"
    },
    "tags": []
   },
   "source": [
    "## 1. <a id='toc1_'></a>[Baseline Usage](#toc0_)"
   ]
  },
  {
   "attachments": {},
   "cell_type": "markdown",
   "id": "cbe7cc3c",
   "metadata": {
    "papermill": {
     "duration": 0.012959,
     "end_time": "2023-07-13T13:35:33.805094",
     "exception": false,
     "start_time": "2023-07-13T13:35:33.792135",
     "status": "completed"
    },
    "tags": []
   },
   "source": [
    "The model is **required** to have the following three methods:\n",
    "\n",
    "1. `.settings()`: Choose fundamental settings.\n",
    "1. `.setup()`: Set free parameters.\n",
    "1. `.allocate()`: Set compound parameters and allocate arrays.\n",
    "\n",
    "When the model is initialized the call order is:\n",
    "\n",
    "1. `.settings()`\n",
    "2. `.setup()` \n",
    "3. `.allocate()`\n",
    "\n",
    "Per default the namespaces `.par` (for parameters), `.sol` (for solution objects) and `.sim` (for simulation objects) are available.\n",
    "\n",
    "The philosophy of the package is that all the content of the model is contained in these namespaces. \n",
    "\n",
    "After the model has been initialized, no additional entries should be added to the namespaces, and each entry should only change *value(s)* (or shape for arrays), but never *type* (or number of dimensions for arrays)."
   ]
  },
  {
   "cell_type": "code",
   "execution_count": 2,
   "id": "d10938f3",
   "metadata": {
    "execution": {
     "iopub.execute_input": "2023-07-13T13:35:33.835041Z",
     "iopub.status.busy": "2023-07-13T13:35:33.835041Z",
     "iopub.status.idle": "2023-07-13T13:35:33.921491Z",
     "shell.execute_reply": "2023-07-13T13:35:33.921491Z"
    },
    "papermill": {
     "duration": 0.104405,
     "end_time": "2023-07-13T13:35:33.923488",
     "exception": false,
     "start_time": "2023-07-13T13:35:33.819083",
     "status": "completed"
    },
    "tags": []
   },
   "outputs": [],
   "source": [
    "class MyModelClass(EconModelClass):\n",
    "    \n",
    "    # __init__ is inherited from EconModelClass\n",
    "    \n",
    "    def settings(self): # required\n",
    "        \"\"\" choose settings \"\"\"\n",
    "            \n",
    "        pass # nothing chosen here\n",
    "    \n",
    "    def setup(self): # required\n",
    "        \"\"\" set free parameters \"\"\"\n",
    "        \n",
    "        par = self.par\n",
    "        \n",
    "        par.N = 10\n",
    "        par.a = 2.0\n",
    "        par.b = 1.0\n",
    "        par.threads = 4\n",
    "        par.txt = 'a'\n",
    "        par.txtlist = 'N|threads'\n",
    "        \n",
    "    def allocate(self): # required\n",
    "        \"\"\" set compound parameters and allocate arrays \"\"\"\n",
    "        \n",
    "        par = self.par\n",
    "        sol = self.sol\n",
    "        \n",
    "        par.X = np.linspace(0,10,par.N)\n",
    "        sol.Y = np.zeros(par.N)\n",
    "    \n",
    "    def solve(self): # user-defined\n",
    "        \"\"\" solve the model\"\"\"\n",
    "        \n",
    "        par = self.par\n",
    "        sol = self.sol\n",
    "        \n",
    "        sol.Y[:] = par.X*(par.a+par.b)\n"
   ]
  },
  {
   "attachments": {},
   "cell_type": "markdown",
   "id": "5b4ba1d3",
   "metadata": {
    "papermill": {
     "duration": 0.015952,
     "end_time": "2023-07-13T13:35:33.954394",
     "exception": false,
     "start_time": "2023-07-13T13:35:33.938442",
     "status": "completed"
    },
    "tags": []
   },
   "source": [
    "In `.settings()` the user can change the default behavior by specifying: \n",
    "\n",
    "1. `self.savefolder = str`: Filepath to save in and load from (default: 'saved').\n",
    "1. `self.namespaces = [str]`: List of namespaces (in addition to `.par`, `.sol`, `.sol`).\n",
    "1. `self.other_attrs = [str]`: List of additional attributes to be copied and saved.\n"
   ]
  },
  {
   "cell_type": "code",
   "execution_count": 3,
   "id": "f114c3dd",
   "metadata": {
    "execution": {
     "iopub.execute_input": "2023-07-13T13:35:33.987294Z",
     "iopub.status.busy": "2023-07-13T13:35:33.987294Z",
     "iopub.status.idle": "2023-07-13T13:35:34.056285Z",
     "shell.execute_reply": "2023-07-13T13:35:34.056285Z"
    },
    "papermill": {
     "duration": 0.087966,
     "end_time": "2023-07-13T13:35:34.058312",
     "exception": false,
     "start_time": "2023-07-13T13:35:33.970346",
     "status": "completed"
    },
    "tags": []
   },
   "outputs": [],
   "source": [
    "model = MyModelClass(name='example')"
   ]
  },
  {
   "cell_type": "code",
   "execution_count": 4,
   "id": "a8887a5b",
   "metadata": {
    "execution": {
     "iopub.execute_input": "2023-07-13T13:35:34.085206Z",
     "iopub.status.busy": "2023-07-13T13:35:34.085206Z",
     "iopub.status.idle": "2023-07-13T13:35:34.152039Z",
     "shell.execute_reply": "2023-07-13T13:35:34.152039Z"
    },
    "papermill": {
     "duration": 0.083753,
     "end_time": "2023-07-13T13:35:34.154005",
     "exception": false,
     "start_time": "2023-07-13T13:35:34.070252",
     "status": "completed"
    },
    "tags": []
   },
   "outputs": [],
   "source": [
    "model.solve()"
   ]
  },
  {
   "attachments": {},
   "cell_type": "markdown",
   "id": "50f5b4d3",
   "metadata": {
    "papermill": {
     "duration": 0.010965,
     "end_time": "2023-07-13T13:35:34.175938",
     "exception": false,
     "start_time": "2023-07-13T13:35:34.164973",
     "status": "completed"
    },
    "tags": []
   },
   "source": [
    "**Print description:**"
   ]
  },
  {
   "cell_type": "code",
   "execution_count": 5,
   "id": "1a9c8514",
   "metadata": {
    "execution": {
     "iopub.execute_input": "2023-07-13T13:35:34.202858Z",
     "iopub.status.busy": "2023-07-13T13:35:34.201865Z",
     "iopub.status.idle": "2023-07-13T13:35:34.268065Z",
     "shell.execute_reply": "2023-07-13T13:35:34.268065Z"
    },
    "papermill": {
     "duration": 0.081184,
     "end_time": "2023-07-13T13:35:34.270086",
     "exception": false,
     "start_time": "2023-07-13T13:35:34.188902",
     "status": "completed"
    },
    "tags": []
   },
   "outputs": [
    {
     "name": "stdout",
     "output_type": "stream",
     "text": [
      "Modelclass: MyModelClass\n",
      "Name: example\n",
      "\n",
      "namespaces: ['par', 'sol', 'sim']\n",
      "other_attrs: []\n",
      "savefolder: saved\n",
      "cpp_filename: None\n",
      "\n",
      "par:\n",
      " N = 10 [int]\n",
      " a = 2.0 [float]\n",
      " b = 1.0 [float]\n",
      " threads = 4 [int]\n",
      " txt = a [str]\n",
      " txtlist = N|threads [str]\n",
      " X = ndarray[float64] with shape = (10,) [0.0 mb]\n",
      " memory, gb: 0.0\n",
      "\n",
      "sol:\n",
      " Y = ndarray[float64] with shape = (10,) [0.0 mb]\n",
      " memory, gb: 0.0\n",
      "\n",
      "sim:\n",
      " memory, gb: 0.0\n",
      "\n"
     ]
    }
   ],
   "source": [
    "print(model)"
   ]
  },
  {
   "attachments": {},
   "cell_type": "markdown",
   "id": "b1473ee9",
   "metadata": {
    "papermill": {
     "duration": 0.010965,
     "end_time": "2023-07-13T13:35:34.291994",
     "exception": false,
     "start_time": "2023-07-13T13:35:34.281029",
     "status": "completed"
    },
    "tags": []
   },
   "source": [
    "**Updating at initialization.** Called after `.setup()`, but before `.allocate()`."
   ]
  },
  {
   "cell_type": "code",
   "execution_count": 6,
   "id": "a437ad5d",
   "metadata": {
    "execution": {
     "iopub.execute_input": "2023-07-13T13:35:34.320911Z",
     "iopub.status.busy": "2023-07-13T13:35:34.319911Z",
     "iopub.status.idle": "2023-07-13T13:35:34.389334Z",
     "shell.execute_reply": "2023-07-13T13:35:34.389334Z"
    },
    "papermill": {
     "duration": 0.085386,
     "end_time": "2023-07-13T13:35:34.390341",
     "exception": false,
     "start_time": "2023-07-13T13:35:34.304955",
     "status": "completed"
    },
    "tags": []
   },
   "outputs": [
    {
     "name": "stdout",
     "output_type": "stream",
     "text": [
      "3.0\n"
     ]
    }
   ],
   "source": [
    "model_alt = MyModelClass(name='alt',par={'a':3.0,'b':1.2})\n",
    "print(model_alt.par.a)"
   ]
  },
  {
   "attachments": {},
   "cell_type": "markdown",
   "id": "f66c1013",
   "metadata": {
    "papermill": {
     "duration": 0.011961,
     "end_time": "2023-07-13T13:35:34.414271",
     "exception": false,
     "start_time": "2023-07-13T13:35:34.402310",
     "status": "completed"
    },
    "tags": []
   },
   "source": [
    "**Unpack for later use:**"
   ]
  },
  {
   "cell_type": "code",
   "execution_count": 7,
   "id": "cfe2194e",
   "metadata": {
    "execution": {
     "iopub.execute_input": "2023-07-13T13:35:34.441189Z",
     "iopub.status.busy": "2023-07-13T13:35:34.440193Z",
     "iopub.status.idle": "2023-07-13T13:35:34.506341Z",
     "shell.execute_reply": "2023-07-13T13:35:34.505664Z"
    },
    "papermill": {
     "duration": 0.082103,
     "end_time": "2023-07-13T13:35:34.507340",
     "exception": false,
     "start_time": "2023-07-13T13:35:34.425237",
     "status": "completed"
    },
    "tags": []
   },
   "outputs": [],
   "source": [
    "par = model.par\n",
    "sol = model.sol"
   ]
  },
  {
   "attachments": {},
   "cell_type": "markdown",
   "id": "36f61408",
   "metadata": {
    "papermill": {
     "duration": 0.013958,
     "end_time": "2023-07-13T13:35:34.536252",
     "exception": false,
     "start_time": "2023-07-13T13:35:34.522294",
     "status": "completed"
    },
    "tags": []
   },
   "source": [
    "**Under the hood:** Each namespace is techically a `SimpleNamespace` (from `types`)"
   ]
  },
  {
   "cell_type": "code",
   "execution_count": 8,
   "id": "f95bf68f",
   "metadata": {
    "execution": {
     "iopub.execute_input": "2023-07-13T13:35:34.564834Z",
     "iopub.status.busy": "2023-07-13T13:35:34.564171Z",
     "iopub.status.idle": "2023-07-13T13:35:34.645677Z",
     "shell.execute_reply": "2023-07-13T13:35:34.644672Z"
    },
    "papermill": {
     "duration": 0.099468,
     "end_time": "2023-07-13T13:35:34.648684",
     "exception": false,
     "start_time": "2023-07-13T13:35:34.549216",
     "status": "completed"
    },
    "tags": []
   },
   "outputs": [
    {
     "data": {
      "text/plain": [
       "types.SimpleNamespace"
      ]
     },
     "execution_count": 8,
     "metadata": {},
     "output_type": "execute_result"
    }
   ],
   "source": [
    "type(par)"
   ]
  },
  {
   "cell_type": "markdown",
   "id": "ec62e58c",
   "metadata": {
    "papermill": {
     "duration": 0.015952,
     "end_time": "2023-07-13T13:35:34.676574",
     "exception": false,
     "start_time": "2023-07-13T13:35:34.660622",
     "status": "completed"
    },
    "tags": []
   },
   "source": [
    "## 2. <a id='toc2_'></a>[Copy, save and load](#toc0_)"
   ]
  },
  {
   "cell_type": "code",
   "execution_count": 9,
   "id": "c283708b",
   "metadata": {
    "execution": {
     "iopub.execute_input": "2023-07-13T13:35:34.710473Z",
     "iopub.status.busy": "2023-07-13T13:35:34.710473Z",
     "iopub.status.idle": "2023-07-13T13:35:34.781847Z",
     "shell.execute_reply": "2023-07-13T13:35:34.780840Z"
    },
    "papermill": {
     "duration": 0.087318,
     "end_time": "2023-07-13T13:35:34.783836",
     "exception": false,
     "start_time": "2023-07-13T13:35:34.696518",
     "status": "completed"
    },
    "tags": []
   },
   "outputs": [],
   "source": [
    "model_copy = model.copy(name='example_copy')\n",
    "model_copy.save()"
   ]
  },
  {
   "cell_type": "code",
   "execution_count": 10,
   "id": "04447120",
   "metadata": {
    "execution": {
     "iopub.execute_input": "2023-07-13T13:35:34.809804Z",
     "iopub.status.busy": "2023-07-13T13:35:34.808759Z",
     "iopub.status.idle": "2023-07-13T13:35:34.889999Z",
     "shell.execute_reply": "2023-07-13T13:35:34.889341Z"
    },
    "papermill": {
     "duration": 0.095189,
     "end_time": "2023-07-13T13:35:34.890997",
     "exception": false,
     "start_time": "2023-07-13T13:35:34.795808",
     "status": "completed"
    },
    "tags": []
   },
   "outputs": [
    {
     "name": "stdout",
     "output_type": "stream",
     "text": [
      "Modelclass: MyModelClass\n",
      "Name: example_copy\n",
      "\n",
      "namespaces: ['par', 'sol', 'sim']\n",
      "other_attrs: []\n",
      "savefolder: saved\n",
      "cpp_filename: None\n",
      "\n",
      "par:\n",
      " N = 10 [int]\n",
      " a = 2.0 [float]\n",
      " b = 1.0 [float]\n",
      " threads = 4 [int]\n",
      " txt = a [str]\n",
      " txtlist = N|threads [str]\n",
      " X = ndarray[float64] with shape = (10,) [0.0 mb]\n",
      " memory, gb: 0.0\n",
      "\n",
      "sol:\n",
      " Y = ndarray[float64] with shape = (10,) [0.0 mb]\n",
      " memory, gb: 0.0\n",
      "\n",
      "sim:\n",
      " memory, gb: 0.0\n",
      "\n"
     ]
    }
   ],
   "source": [
    "model_loaded = MyModelClass(name='example_copy',load=True)\n",
    "print(model_loaded)"
   ]
  },
  {
   "cell_type": "markdown",
   "id": "052ffa32",
   "metadata": {
    "papermill": {
     "duration": 0.012963,
     "end_time": "2023-07-13T13:35:34.916922",
     "exception": false,
     "start_time": "2023-07-13T13:35:34.903959",
     "status": "completed"
    },
    "tags": []
   },
   "source": [
    "## 3. <a id='toc3_'></a>[To and from dictionary](#toc0_)"
   ]
  },
  {
   "cell_type": "code",
   "execution_count": 11,
   "id": "16162065",
   "metadata": {
    "execution": {
     "iopub.execute_input": "2023-07-13T13:35:34.946834Z",
     "iopub.status.busy": "2023-07-13T13:35:34.945838Z",
     "iopub.status.idle": "2023-07-13T13:35:35.015215Z",
     "shell.execute_reply": "2023-07-13T13:35:35.015215Z"
    },
    "papermill": {
     "duration": 0.085334,
     "end_time": "2023-07-13T13:35:35.017216",
     "exception": false,
     "start_time": "2023-07-13T13:35:34.931882",
     "status": "completed"
    },
    "tags": []
   },
   "outputs": [
    {
     "name": "stdout",
     "output_type": "stream",
     "text": [
      "Modelclass: MyModelClass\n",
      "Name: example_dict\n",
      "\n",
      "namespaces: ['par', 'sol', 'sim']\n",
      "other_attrs: []\n",
      "savefolder: saved\n",
      "cpp_filename: None\n",
      "\n",
      "par:\n",
      " N = 10 [int]\n",
      " a = 2.0 [float]\n",
      " b = 1.0 [float]\n",
      " threads = 4 [int]\n",
      " txt = a [str]\n",
      " txtlist = N|threads [str]\n",
      " X = ndarray[float64] with shape = (10,) [0.0 mb]\n",
      " memory, gb: 0.0\n",
      "\n",
      "sol:\n",
      " Y = ndarray[float64] with shape = (10,) [0.0 mb]\n",
      " memory, gb: 0.0\n",
      "\n",
      "sim:\n",
      " memory, gb: 0.0\n",
      "\n"
     ]
    }
   ],
   "source": [
    "modeldict = model.as_dict()\n",
    "model_dict = MyModelClass(name='example_dict',from_dict=modeldict)\n",
    "print(model_dict)"
   ]
  },
  {
   "cell_type": "markdown",
   "id": "9a399e7b",
   "metadata": {
    "papermill": {
     "duration": 0.011962,
     "end_time": "2023-07-13T13:35:35.040144",
     "exception": false,
     "start_time": "2023-07-13T13:35:35.028182",
     "status": "completed"
    },
    "tags": []
   },
   "source": [
    "## 4. <a id='toc4_'></a>[Numba](#toc0_)"
   ]
  },
  {
   "attachments": {},
   "cell_type": "markdown",
   "id": "9c787968",
   "metadata": {
    "papermill": {
     "duration": 0.012964,
     "end_time": "2023-07-13T13:35:35.066068",
     "exception": false,
     "start_time": "2023-07-13T13:35:35.053104",
     "status": "completed"
    },
    "tags": []
   },
   "source": [
    "**Goal:** Call [numba](http://numba.pydata.org/) JIT compilled functions easily using namespaces.\n",
    "\n",
    "**Problem:** [numba](http://numba.pydata.org/) only allows specific types (and not e.g. `SimpleNamespace`).\n",
    "\n",
    "**Under-the-hood:** `jit(model)` temporarily turns all namespaces into `namedtuples`, which can be used as input in JIT compilled functions. "
   ]
  },
  {
   "cell_type": "code",
   "execution_count": 12,
   "id": "72d6664a",
   "metadata": {
    "execution": {
     "iopub.execute_input": "2023-07-13T13:35:35.090991Z",
     "iopub.status.busy": "2023-07-13T13:35:35.090991Z",
     "iopub.status.idle": "2023-07-13T13:35:35.204640Z",
     "shell.execute_reply": "2023-07-13T13:35:35.204640Z"
    },
    "papermill": {
     "duration": 0.128575,
     "end_time": "2023-07-13T13:35:35.205639",
     "exception": false,
     "start_time": "2023-07-13T13:35:35.077064",
     "status": "completed"
    },
    "tags": []
   },
   "outputs": [],
   "source": [
    "@nb.njit\n",
    "def fun(par,sol):\n",
    "    sol.Y[:] = par.X*(par.a+par.b)"
   ]
  },
  {
   "cell_type": "code",
   "execution_count": 13,
   "id": "8a9f909e",
   "metadata": {
    "execution": {
     "iopub.execute_input": "2023-07-13T13:35:35.235549Z",
     "iopub.status.busy": "2023-07-13T13:35:35.235549Z",
     "iopub.status.idle": "2023-07-13T13:35:35.301937Z",
     "shell.execute_reply": "2023-07-13T13:35:35.301937Z"
    },
    "papermill": {
     "duration": 0.08334,
     "end_time": "2023-07-13T13:35:35.302937",
     "exception": false,
     "start_time": "2023-07-13T13:35:35.219597",
     "status": "completed"
    },
    "tags": []
   },
   "outputs": [],
   "source": [
    "def test_numba(model):\n",
    "    with jit(model) as model_jit:\n",
    "        fun(model_jit.par,model_jit.sol)"
   ]
  },
  {
   "cell_type": "code",
   "execution_count": 14,
   "id": "624b5bdf",
   "metadata": {
    "execution": {
     "iopub.execute_input": "2023-07-13T13:35:35.327863Z",
     "iopub.status.busy": "2023-07-13T13:35:35.327863Z",
     "iopub.status.idle": "2023-07-13T13:35:36.955894Z",
     "shell.execute_reply": "2023-07-13T13:35:36.955401Z"
    },
    "papermill": {
     "duration": 1.641024,
     "end_time": "2023-07-13T13:35:36.956927",
     "exception": false,
     "start_time": "2023-07-13T13:35:35.315903",
     "status": "completed"
    },
    "tags": []
   },
   "outputs": [
    {
     "name": "stdout",
     "output_type": "stream",
     "text": [
      "CPU times: total: 656 ms\n",
      "Wall time: 1.54 s\n",
      "CPU times: total: 0 ns\n",
      "Wall time: 997 µs\n"
     ]
    }
   ],
   "source": [
    "%time test_numba(model)\n",
    "%time test_numba(model)"
   ]
  },
  {
   "attachments": {},
   "cell_type": "markdown",
   "id": "9e2a07de",
   "metadata": {
    "papermill": {
     "duration": 0.010966,
     "end_time": "2023-07-13T13:35:36.979824",
     "exception": false,
     "start_time": "2023-07-13T13:35:36.968858",
     "status": "completed"
    },
    "tags": []
   },
   "source": [
    "**Note:** The first run is slower due to compiling."
   ]
  },
  {
   "attachments": {},
   "cell_type": "markdown",
   "id": "eef478b2",
   "metadata": {
    "papermill": {
     "duration": 0.012959,
     "end_time": "2023-07-13T13:35:37.006743",
     "exception": false,
     "start_time": "2023-07-13T13:35:36.993784",
     "status": "completed"
    },
    "tags": []
   },
   "source": [
    "**Check result:**"
   ]
  },
  {
   "cell_type": "code",
   "execution_count": 15,
   "id": "8218abc8",
   "metadata": {
    "execution": {
     "iopub.execute_input": "2023-07-13T13:35:37.041641Z",
     "iopub.status.busy": "2023-07-13T13:35:37.040640Z",
     "iopub.status.idle": "2023-07-13T13:35:37.143896Z",
     "shell.execute_reply": "2023-07-13T13:35:37.143896Z"
    },
    "papermill": {
     "duration": 0.123199,
     "end_time": "2023-07-13T13:35:37.145895",
     "exception": false,
     "start_time": "2023-07-13T13:35:37.022696",
     "status": "completed"
    },
    "tags": []
   },
   "outputs": [],
   "source": [
    "assert np.allclose(par.X*(par.a+par.b),sol.Y)"
   ]
  },
  {
   "cell_type": "markdown",
   "id": "34d90be5",
   "metadata": {
    "papermill": {
     "duration": 0.01595,
     "end_time": "2023-07-13T13:35:37.175802",
     "exception": false,
     "start_time": "2023-07-13T13:35:37.159852",
     "status": "completed"
    },
    "tags": []
   },
   "source": [
    "### 4.1. <a id='toc4_1_'></a>[Advanced: Recompilling](#toc0_)"
   ]
  },
  {
   "attachments": {},
   "cell_type": "markdown",
   "id": "8ab6c0d8",
   "metadata": {
    "papermill": {
     "duration": 0.020935,
     "end_time": "2023-07-13T13:35:37.220666",
     "exception": false,
     "start_time": "2023-07-13T13:35:37.199731",
     "status": "completed"
    },
    "tags": []
   },
   "source": [
    "When a new model is created, re-compilation of JIT functions are normally necessary:"
   ]
  },
  {
   "cell_type": "code",
   "execution_count": 16,
   "id": "6f9c3b37",
   "metadata": {
    "execution": {
     "iopub.execute_input": "2023-07-13T13:35:37.262539Z",
     "iopub.status.busy": "2023-07-13T13:35:37.261541Z",
     "iopub.status.idle": "2023-07-13T13:35:37.508878Z",
     "shell.execute_reply": "2023-07-13T13:35:37.508173Z"
    },
    "papermill": {
     "duration": 0.266319,
     "end_time": "2023-07-13T13:35:37.509914",
     "exception": false,
     "start_time": "2023-07-13T13:35:37.243595",
     "status": "completed"
    },
    "tags": []
   },
   "outputs": [
    {
     "name": "stdout",
     "output_type": "stream",
     "text": [
      "CPU times: total: 172 ms\n",
      "Wall time: 166 ms\n",
      "CPU times: total: 0 ns\n",
      "Wall time: 0 ns\n"
     ]
    }
   ],
   "source": [
    "model_new = MyModelClass(name='numba_new')\n",
    "%time test_numba(model_new)\n",
    "%time test_numba(model_new)"
   ]
  },
  {
   "attachments": {},
   "cell_type": "markdown",
   "id": "fb453244",
   "metadata": {
    "papermill": {
     "duration": 0.010992,
     "end_time": "2023-07-13T13:35:37.532833",
     "exception": false,
     "start_time": "2023-07-13T13:35:37.521841",
     "status": "completed"
    },
    "tags": []
   },
   "source": [
    "This is *not* the case, when a copy is made instead:"
   ]
  },
  {
   "cell_type": "code",
   "execution_count": 17,
   "id": "cf0c6301",
   "metadata": {
    "execution": {
     "iopub.execute_input": "2023-07-13T13:35:37.558729Z",
     "iopub.status.busy": "2023-07-13T13:35:37.557733Z",
     "iopub.status.idle": "2023-07-13T13:35:37.628262Z",
     "shell.execute_reply": "2023-07-13T13:35:37.628262Z"
    },
    "papermill": {
     "duration": 0.085488,
     "end_time": "2023-07-13T13:35:37.630259",
     "exception": false,
     "start_time": "2023-07-13T13:35:37.544771",
     "status": "completed"
    },
    "tags": []
   },
   "outputs": [
    {
     "name": "stdout",
     "output_type": "stream",
     "text": [
      "CPU times: total: 15.6 ms\n",
      "Wall time: 998 µs\n"
     ]
    }
   ],
   "source": [
    "model_new_ = model_new.copy(name='numba_new_copy')\n",
    "%time test_numba(model_new_)"
   ]
  },
  {
   "cell_type": "markdown",
   "id": "03bcdff2",
   "metadata": {
    "papermill": {
     "duration": 0.01296,
     "end_time": "2023-07-13T13:35:37.658174",
     "exception": false,
     "start_time": "2023-07-13T13:35:37.645214",
     "status": "completed"
    },
    "tags": []
   },
   "source": [
    "### 4.2. <a id='toc4_2_'></a>[Advanced: Type inference](#toc0_)"
   ]
  },
  {
   "attachments": {},
   "cell_type": "markdown",
   "id": "2f8ef93f",
   "metadata": {
    "papermill": {
     "duration": 0.01296,
     "end_time": "2023-07-13T13:35:37.686089",
     "exception": false,
     "start_time": "2023-07-13T13:35:37.673129",
     "status": "completed"
    },
    "tags": []
   },
   "source": [
    "When the model is created **all types are infered** and the information is saved in the nested-dict `_ns_specs`. E.g.:"
   ]
  },
  {
   "cell_type": "code",
   "execution_count": 18,
   "id": "cff9584c",
   "metadata": {
    "execution": {
     "iopub.execute_input": "2023-07-13T13:35:37.718989Z",
     "iopub.status.busy": "2023-07-13T13:35:37.718989Z",
     "iopub.status.idle": "2023-07-13T13:35:37.799286Z",
     "shell.execute_reply": "2023-07-13T13:35:37.799286Z"
    },
    "papermill": {
     "duration": 0.101239,
     "end_time": "2023-07-13T13:35:37.801285",
     "exception": false,
     "start_time": "2023-07-13T13:35:37.700046",
     "status": "completed"
    },
    "tags": []
   },
   "outputs": [
    {
     "data": {
      "text/plain": [
       "{'par': {'N': [int, numpy.int32],\n",
       "  'a': [float, numpy.float64],\n",
       "  'b': [float, numpy.float64],\n",
       "  'threads': [int, numpy.int32],\n",
       "  'txt': [str],\n",
       "  'txtlist': [str],\n",
       "  'X': [numpy.ndarray]},\n",
       " 'sol': {'Y': [numpy.ndarray]},\n",
       " 'sim': {}}"
      ]
     },
     "execution_count": 18,
     "metadata": {},
     "output_type": "execute_result"
    }
   ],
   "source": [
    "model._ns_specs['types']"
   ]
  },
  {
   "cell_type": "code",
   "execution_count": 19,
   "id": "387418a5",
   "metadata": {
    "execution": {
     "iopub.execute_input": "2023-07-13T13:35:37.894999Z",
     "iopub.status.busy": "2023-07-13T13:35:37.894003Z",
     "iopub.status.idle": "2023-07-13T13:35:37.980069Z",
     "shell.execute_reply": "2023-07-13T13:35:37.979819Z"
    },
    "papermill": {
     "duration": 0.104013,
     "end_time": "2023-07-13T13:35:37.982066",
     "exception": false,
     "start_time": "2023-07-13T13:35:37.878053",
     "status": "completed"
    },
    "tags": []
   },
   "outputs": [
    {
     "data": {
      "text/plain": [
       "{'par': {'X': dtype('float64')}, 'sol': {'Y': dtype('float64')}, 'sim': {}}"
      ]
     },
     "execution_count": 19,
     "metadata": {},
     "output_type": "execute_result"
    }
   ],
   "source": [
    "model._ns_specs['np_dtypes']"
   ]
  },
  {
   "cell_type": "code",
   "execution_count": 20,
   "id": "79fd3ddd",
   "metadata": {
    "execution": {
     "iopub.execute_input": "2023-07-13T13:35:38.006990Z",
     "iopub.status.busy": "2023-07-13T13:35:38.006990Z",
     "iopub.status.idle": "2023-07-13T13:35:38.084960Z",
     "shell.execute_reply": "2023-07-13T13:35:38.084034Z"
    },
    "papermill": {
     "duration": 0.092931,
     "end_time": "2023-07-13T13:35:38.085962",
     "exception": false,
     "start_time": "2023-07-13T13:35:37.993031",
     "status": "completed"
    },
    "tags": []
   },
   "outputs": [
    {
     "data": {
      "text/plain": [
       "{'par': {'X': 1}, 'sol': {'Y': 1}, 'sim': {}}"
      ]
     },
     "execution_count": 20,
     "metadata": {},
     "output_type": "execute_result"
    }
   ],
   "source": [
    "model._ns_specs['np_ndims']"
   ]
  },
  {
   "attachments": {},
   "cell_type": "markdown",
   "id": "68800b51",
   "metadata": {
    "papermill": {
     "duration": 0.011965,
     "end_time": "2023-07-13T13:35:38.111883",
     "exception": false,
     "start_time": "2023-07-13T13:35:38.099918",
     "status": "completed"
    },
    "tags": []
   },
   "source": [
    "**The types must NOT change afterwards**. If they do, an error is raised when using  `jit`."
   ]
  },
  {
   "cell_type": "code",
   "execution_count": 21,
   "id": "d60a0367",
   "metadata": {
    "execution": {
     "iopub.execute_input": "2023-07-13T13:35:38.143787Z",
     "iopub.status.busy": "2023-07-13T13:35:38.142788Z",
     "iopub.status.idle": "2023-07-13T13:35:38.220276Z",
     "shell.execute_reply": "2023-07-13T13:35:38.219404Z"
    },
    "papermill": {
     "duration": 0.094475,
     "end_time": "2023-07-13T13:35:38.221311",
     "exception": false,
     "start_time": "2023-07-13T13:35:38.126836",
     "status": "completed"
    },
    "tags": []
   },
   "outputs": [],
   "source": [
    "def test_numba_errors(model):\n",
    "    try:\n",
    "        test_numba(model)\n",
    "    except ValueError as e:\n",
    "        print(f'ValueError: {e}')\n",
    "    else:\n",
    "        print('no errors raised')"
   ]
  },
  {
   "cell_type": "code",
   "execution_count": 22,
   "id": "6011e57d",
   "metadata": {
    "execution": {
     "iopub.execute_input": "2023-07-13T13:35:38.248195Z",
     "iopub.status.busy": "2023-07-13T13:35:38.247301Z",
     "iopub.status.idle": "2023-07-13T13:35:38.322226Z",
     "shell.execute_reply": "2023-07-13T13:35:38.322226Z"
    },
    "papermill": {
     "duration": 0.088989,
     "end_time": "2023-07-13T13:35:38.324224",
     "exception": false,
     "start_time": "2023-07-13T13:35:38.235235",
     "status": "completed"
    },
    "tags": []
   },
   "outputs": [
    {
     "name": "stdout",
     "output_type": "stream",
     "text": [
      "ValueError: par.a has type <class 'int'>, should be in [<class 'float'>, <class 'numpy.float64'>]\n"
     ]
    }
   ],
   "source": [
    "model_test = model.copy()\n",
    "model_test.par.a = 1\n",
    "test_numba_errors(model_test)"
   ]
  },
  {
   "cell_type": "code",
   "execution_count": 23,
   "id": "230ca3b3",
   "metadata": {
    "execution": {
     "iopub.execute_input": "2023-07-13T13:35:38.352140Z",
     "iopub.status.busy": "2023-07-13T13:35:38.352140Z",
     "iopub.status.idle": "2023-07-13T13:35:38.424801Z",
     "shell.execute_reply": "2023-07-13T13:35:38.424037Z"
    },
    "papermill": {
     "duration": 0.088652,
     "end_time": "2023-07-13T13:35:38.425836",
     "exception": false,
     "start_time": "2023-07-13T13:35:38.337184",
     "status": "completed"
    },
    "tags": []
   },
   "outputs": [
    {
     "name": "stdout",
     "output_type": "stream",
     "text": [
      "ValueError: c is not allowed in .par\n"
     ]
    }
   ],
   "source": [
    "model_test = model.copy()\n",
    "model_test.par.c = np.nan\n",
    "test_numba_errors(model_test)"
   ]
  },
  {
   "cell_type": "code",
   "execution_count": 24,
   "id": "07eb60f9",
   "metadata": {
    "execution": {
     "iopub.execute_input": "2023-07-13T13:35:38.449729Z",
     "iopub.status.busy": "2023-07-13T13:35:38.448731Z",
     "iopub.status.idle": "2023-07-13T13:35:38.519947Z",
     "shell.execute_reply": "2023-07-13T13:35:38.519947Z"
    },
    "papermill": {
     "duration": 0.085176,
     "end_time": "2023-07-13T13:35:38.521943",
     "exception": false,
     "start_time": "2023-07-13T13:35:38.436767",
     "status": "completed"
    },
    "tags": []
   },
   "outputs": [
    {
     "name": "stdout",
     "output_type": "stream",
     "text": [
      "ValueError: par.X has ndim 2, should be 1\n"
     ]
    }
   ],
   "source": [
    "model_test = model.copy()\n",
    "model_test.par.X = np.zeros((1,1))\n",
    "test_numba_errors(model_test)"
   ]
  },
  {
   "cell_type": "code",
   "execution_count": 25,
   "id": "6778c1e8",
   "metadata": {
    "execution": {
     "iopub.execute_input": "2023-07-13T13:35:38.550857Z",
     "iopub.status.busy": "2023-07-13T13:35:38.550857Z",
     "iopub.status.idle": "2023-07-13T13:35:38.619667Z",
     "shell.execute_reply": "2023-07-13T13:35:38.619012Z"
    },
    "papermill": {
     "duration": 0.083768,
     "end_time": "2023-07-13T13:35:38.620667",
     "exception": false,
     "start_time": "2023-07-13T13:35:38.536899",
     "status": "completed"
    },
    "tags": []
   },
   "outputs": [
    {
     "name": "stdout",
     "output_type": "stream",
     "text": [
      "ValueError: par.X has dtype int32, should be float64\n"
     ]
    }
   ],
   "source": [
    "model_test = model.copy()\n",
    "model_test.par.X = model.par.X.astype('int')\n",
    "test_numba_errors(model_test)"
   ]
  },
  {
   "attachments": {},
   "cell_type": "markdown",
   "id": "62f19e5b",
   "metadata": {
    "papermill": {
     "duration": 0.011965,
     "end_time": "2023-07-13T13:35:38.645592",
     "exception": false,
     "start_time": "2023-07-13T13:35:38.633627",
     "status": "completed"
    },
    "tags": []
   },
   "source": [
    "**If types *must* to be changed, then it is necessary to re-infer types:**"
   ]
  },
  {
   "cell_type": "code",
   "execution_count": 26,
   "id": "8abe9064",
   "metadata": {
    "execution": {
     "iopub.execute_input": "2023-07-13T13:35:38.672666Z",
     "iopub.status.busy": "2023-07-13T13:35:38.672666Z",
     "iopub.status.idle": "2023-07-13T13:35:38.907516Z",
     "shell.execute_reply": "2023-07-13T13:35:38.906877Z"
    },
    "papermill": {
     "duration": 0.249,
     "end_time": "2023-07-13T13:35:38.908558",
     "exception": false,
     "start_time": "2023-07-13T13:35:38.659558",
     "status": "completed"
    },
    "tags": []
   },
   "outputs": [
    {
     "name": "stdout",
     "output_type": "stream",
     "text": [
      "no errors raised\n"
     ]
    }
   ],
   "source": [
    "model_test = model.copy()\n",
    "model_test.par.a = 1\n",
    "model_test.infer_types()\n",
    "test_numba_errors(model_test)"
   ]
  },
  {
   "attachments": {},
   "cell_type": "markdown",
   "id": "71759c35",
   "metadata": {
    "papermill": {
     "duration": 0.012963,
     "end_time": "2023-07-13T13:35:38.932445",
     "exception": false,
     "start_time": "2023-07-13T13:35:38.919482",
     "status": "completed"
    },
    "tags": []
   },
   "source": [
    "**Namedtuples** are immutables, so attributes cannot be changed while using `jit`:"
   ]
  },
  {
   "cell_type": "code",
   "execution_count": 27,
   "id": "74ead286",
   "metadata": {
    "execution": {
     "iopub.execute_input": "2023-07-13T13:35:38.957369Z",
     "iopub.status.busy": "2023-07-13T13:35:38.957369Z",
     "iopub.status.idle": "2023-07-13T13:35:39.028458Z",
     "shell.execute_reply": "2023-07-13T13:35:39.027801Z"
    },
    "papermill": {
     "duration": 0.085104,
     "end_time": "2023-07-13T13:35:39.029510",
     "exception": false,
     "start_time": "2023-07-13T13:35:38.944406",
     "status": "completed"
    },
    "tags": []
   },
   "outputs": [
    {
     "name": "stderr",
     "output_type": "stream",
     "text": [
      "Traceback (most recent call last):\n",
      "  File \"C:\\Users\\gmf123\\AppData\\Local\\Temp\\ipykernel_18836\\1634112854.py\", line 3, in <module>\n",
      "    model_jit.par.a = 3.0\n",
      "    ^^^^^^^^^^^^^^^\n",
      "AttributeError: can't set attribute\n"
     ]
    }
   ],
   "source": [
    "try:\n",
    "    with jit(model) as model_jit:\n",
    "        model_jit.par.a = 3.0\n",
    "except AttributeError as e:\n",
    "    pass"
   ]
  },
  {
   "cell_type": "markdown",
   "id": "8a2e518b",
   "metadata": {
    "papermill": {
     "duration": 0.012944,
     "end_time": "2023-07-13T13:35:39.053385",
     "exception": false,
     "start_time": "2023-07-13T13:35:39.040441",
     "status": "completed"
    },
    "tags": []
   },
   "source": [
    "### 4.3. <a id='toc4_3_'></a>[Advanced: Error handling](#toc0_)"
   ]
  },
  {
   "cell_type": "markdown",
   "id": "51c2a289",
   "metadata": {
    "papermill": {
     "duration": 0.015951,
     "end_time": "2023-07-13T13:35:39.085288",
     "exception": false,
     "start_time": "2023-07-13T13:35:39.069337",
     "status": "completed"
    },
    "tags": []
   },
   "source": [
    "Printing of exceptions can be turned off if necessary."
   ]
  },
  {
   "cell_type": "code",
   "execution_count": 28,
   "id": "6ce7e55f",
   "metadata": {
    "execution": {
     "iopub.execute_input": "2023-07-13T13:35:39.111245Z",
     "iopub.status.busy": "2023-07-13T13:35:39.110213Z",
     "iopub.status.idle": "2023-07-13T13:35:39.180743Z",
     "shell.execute_reply": "2023-07-13T13:35:39.180078Z"
    },
    "papermill": {
     "duration": 0.084492,
     "end_time": "2023-07-13T13:35:39.181744",
     "exception": false,
     "start_time": "2023-07-13T13:35:39.097252",
     "status": "completed"
    },
    "tags": []
   },
   "outputs": [
    {
     "name": "stdout",
     "output_type": "stream",
     "text": [
      "can't set attribute\n"
     ]
    }
   ],
   "source": [
    "try:\n",
    "    with jit(model,show_exc=False) as model_jit:\n",
    "        model_jit.par.a = 3.0\n",
    "except AttributeError as e:\n",
    "    print(e)"
   ]
  },
  {
   "cell_type": "markdown",
   "id": "471987ea",
   "metadata": {
    "papermill": {
     "duration": 0.012964,
     "end_time": "2023-07-13T13:35:39.206670",
     "exception": false,
     "start_time": "2023-07-13T13:35:39.193706",
     "status": "completed"
    },
    "tags": []
   },
   "source": [
    "## 5. <a id='toc5_'></a>[Calling C++](#toc0_)"
   ]
  },
  {
   "attachments": {},
   "cell_type": "markdown",
   "id": "a4493b05",
   "metadata": {
    "papermill": {
     "duration": 0.012925,
     "end_time": "2023-07-13T13:35:39.233585",
     "exception": false,
     "start_time": "2023-07-13T13:35:39.220660",
     "status": "completed"
    },
    "tags": []
   },
   "source": [
    "**Goal:** Call C++ functions easily using namespaces.\n",
    "\n",
    "**Problems:** Requires compilation and linking."
   ]
  },
  {
   "attachments": {},
   "cell_type": "markdown",
   "id": "fe1c7d5b",
   "metadata": {
    "papermill": {
     "duration": 0.017257,
     "end_time": "2023-07-13T13:35:39.263311",
     "exception": false,
     "start_time": "2023-07-13T13:35:39.246054",
     "status": "completed"
    },
    "tags": []
   },
   "source": [
    "**Compilers:** One of these compilers must be installed\n",
    "\n",
    "* **vs**: Free *Microsoft Visual Studio 2022 Community Edition* ([link](https://visualstudio.microsoft.com/downloads/))\n",
    "* **intel:** Free *Intel one API* ([link](https://www.intel.com/content/www/us/en/developer/tools/oneapi/base-toolkit-download.html))\n",
    "\n",
    "For parallization we will use **OpenMP**."
   ]
  },
  {
   "attachments": {},
   "cell_type": "markdown",
   "id": "a8350668",
   "metadata": {
    "papermill": {
     "duration": 0.011998,
     "end_time": "2023-07-13T13:35:39.287238",
     "exception": false,
     "start_time": "2023-07-13T13:35:39.275240",
     "status": "completed"
    },
    "tags": []
   },
   "source": [
    "**Platform:** Tested on *Windows*."
   ]
  },
  {
   "attachments": {},
   "cell_type": "markdown",
   "id": "52e3d4ca",
   "metadata": {
    "papermill": {
     "duration": 0.012962,
     "end_time": "2023-07-13T13:35:39.313125",
     "exception": false,
     "start_time": "2023-07-13T13:35:39.300163",
     "status": "completed"
    },
    "tags": []
   },
   "source": [
    "**Interface:**\n",
    "\n",
    "1. all elements in **namespaces** are availible as **C++ structs** with `_struct` appended (default, else specify `.cpp_structsmap` in `.settings()`).\n",
    "2. `cpptools.link_to_cpp()` is called by `.link_to_cpp` using `.cpp_filename` and the result is returned in `.cpp`.\n",
    "3. `cpp_options` is the compiler options.\n",
    "4. by default `force_compile=True` when calling `.link_to_cpp`."
   ]
  },
  {
   "attachments": {},
   "cell_type": "markdown",
   "id": "b1d20dc2",
   "metadata": {
    "papermill": {
     "duration": 0.012959,
     "end_time": "2023-07-13T13:35:39.341040",
     "exception": false,
     "start_time": "2023-07-13T13:35:39.328081",
     "status": "completed"
    },
    "tags": []
   },
   "source": [
    "**Details:** Provided in `02. More on calling C++.ipynb`."
   ]
  },
  {
   "attachments": {},
   "cell_type": "markdown",
   "id": "2883d052",
   "metadata": {
    "papermill": {
     "duration": 0.012954,
     "end_time": "2023-07-13T13:35:39.366960",
     "exception": false,
     "start_time": "2023-07-13T13:35:39.354006",
     "status": "completed"
    },
    "tags": []
   },
   "source": [
    "**The extended model specification is:**"
   ]
  },
  {
   "cell_type": "code",
   "execution_count": 29,
   "id": "b669f882",
   "metadata": {
    "execution": {
     "iopub.execute_input": "2023-07-13T13:35:39.392882Z",
     "iopub.status.busy": "2023-07-13T13:35:39.392882Z",
     "iopub.status.idle": "2023-07-13T13:35:39.463077Z",
     "shell.execute_reply": "2023-07-13T13:35:39.463077Z"
    },
    "papermill": {
     "duration": 0.085152,
     "end_time": "2023-07-13T13:35:39.465072",
     "exception": false,
     "start_time": "2023-07-13T13:35:39.379920",
     "status": "completed"
    },
    "tags": []
   },
   "outputs": [],
   "source": [
    "class MyModelClass_cpp(MyModelClass):\n",
    "    \n",
    "    def settings(self):\n",
    "        \n",
    "        self.cpp_filename = 'cppfuncs/example.cpp' # required for using C++\n",
    "        self.cpp_options = {'compiler':'vs'} # optional\n",
    "        self.cpp_structsmap = {'par':'par_struct'} # optional\n",
    "    \n",
    "model_cpp = MyModelClass_cpp(name='model_cpp') "
   ]
  },
  {
   "attachments": {},
   "cell_type": "markdown",
   "id": "29231bfa",
   "metadata": {
    "papermill": {
     "duration": 0.011965,
     "end_time": "2023-07-13T13:35:39.489997",
     "exception": false,
     "start_time": "2023-07-13T13:35:39.478032",
     "status": "completed"
    },
    "tags": []
   },
   "source": [
    "**Link:**"
   ]
  },
  {
   "cell_type": "code",
   "execution_count": 30,
   "id": "bb4dc47d",
   "metadata": {
    "execution": {
     "iopub.execute_input": "2023-07-13T13:35:39.512927Z",
     "iopub.status.busy": "2023-07-13T13:35:39.512927Z",
     "iopub.status.idle": "2023-07-13T13:35:42.595802Z",
     "shell.execute_reply": "2023-07-13T13:35:42.595802Z"
    },
    "papermill": {
     "duration": 3.096803,
     "end_time": "2023-07-13T13:35:42.597800",
     "exception": false,
     "start_time": "2023-07-13T13:35:39.500997",
     "status": "completed"
    },
    "tags": []
   },
   "outputs": [
    {
     "name": "stdout",
     "output_type": "stream",
     "text": [
      "Linking to: cppfuncs/example.cpp\n",
      "\n",
      "### finding all included files ###\n",
      "\n",
      "logs.cpp\n",
      "par_struct.cpp\n",
      "sol_struct.cpp\n",
      "example_include.cpp\n",
      "\n",
      "### writing structs ###\n",
      "\n",
      "cppfuncs/par_struct.cpp\n",
      " int N;\n",
      " double a;\n",
      " double b;\n",
      " int threads;\n",
      " char* txt;\n",
      " char* txtlist;\n",
      " double* X;\n",
      "\n",
      "cppfuncs/sol_struct.cpp\n",
      " double* Y;\n",
      "\n",
      "cppfuncs/sim_struct.cpp\n",
      "\n",
      "### analyzing cppfuncs/example.cpp ###\n",
      "\n",
      "function: fun\n",
      "return type: void\n",
      "argument types: ['par_struct*', 'sol_struct*']\n",
      "\n",
      "function: fun_nostruct\n",
      "return type: void\n",
      "argument types: ['double*', 'double*', 'int', 'double', 'double', 'int', 'char*']\n",
      "\n",
      "### analyzing cppfuncs/logs.cpp ###\n",
      "\n",
      "### analyzing cppfuncs/par_struct.cpp ###\n",
      "\n",
      "### analyzing cppfuncs/sol_struct.cpp ###\n",
      "\n",
      "### analyzing cppfuncs/example_include.cpp ###\n",
      "\n",
      "function: fun_nostruct_alt\n",
      "return type: void\n",
      "argument types: ['double*', 'double*', 'int', 'double', 'double', 'int', 'char*']\n",
      "\n",
      "function: I_DO_NOTHING\n",
      "return type: double\n",
      "argument types: []\n",
      "\n",
      "### compiling and linking ###\n",
      "\n",
      "compile.bat:\n",
      "cd /d \"C:/Program Files/Microsoft Visual Studio/2022/Community/VC/Auxiliary/Build/\"\n",
      "call vcvarsall.bat x64\n",
      "cd /d \"c:\\Users\\gmf123\\Dropbox\\Repositories\\EconModelNotebooks\"\n",
      "cl /LD /EHsc /Ox /openmp cppfuncs/example.cpp setup_omp.cpp \n",
      "\n"
     ]
    },
    {
     "name": "stdout",
     "output_type": "stream",
     "text": [
      "terminal:\n",
      "\n",
      "(base) c:\\Users\\gmf123\\Dropbox\\Repositories\\EconModelNotebooks>cd /d \"C:/Program Files/Microsoft Visual Studio/2022/Community/VC/Auxiliary/Build/\" \n",
      "\n",
      "(base) C:\\Program Files\\Microsoft Visual Studio\\2022\\Community\\VC\\Auxiliary\\Build>call vcvarsall.bat x64 \n",
      "**********************************************************************\n",
      "** Visual Studio 2022 Developer Command Prompt v17.0.6\n",
      "** Copyright (c) 2021 Microsoft Corporation\n",
      "**********************************************************************\n",
      "[vcvarsall.bat] Environment initialized for: 'x64'\n",
      "example.cpp\n",
      "setup_omp.cpp\n",
      "Generating Code...\n",
      "Microsoft (R) Incremental Linker Version 14.30.30709.0\n",
      "Copyright (C) Microsoft Corporation.  All rights reserved.\n",
      "\n",
      "/out:example.dll \n",
      "/dll \n",
      "/implib:example.lib \n",
      "example.obj \n",
      "setup_omp.obj \n",
      "   Creating library example.lib and object example.exp\n",
      "\n",
      "Microsoft (R) C/C++ Optimizing Compiler Version 19.30.30709 for x64\n",
      "Copyright (C) Microsoft Corporation.  All rights reserved.\n",
      "\n",
      "\n",
      "C++ files compiled\n",
      "C++ files loaded\n",
      "\n",
      "DONE!\n",
      "\n"
     ]
    }
   ],
   "source": [
    "model_cpp.link_to_cpp(do_print=True)"
   ]
  },
  {
   "attachments": {},
   "cell_type": "markdown",
   "id": "1759ace7",
   "metadata": {
    "papermill": {
     "duration": 0.018946,
     "end_time": "2023-07-13T13:35:42.631699",
     "exception": false,
     "start_time": "2023-07-13T13:35:42.612753",
     "status": "completed"
    },
    "tags": []
   },
   "source": [
    "**Compile warnings and errors** are shown in the terminal."
   ]
  },
  {
   "attachments": {},
   "cell_type": "markdown",
   "id": "40957c4b",
   "metadata": {
    "papermill": {
     "duration": 0.017947,
     "end_time": "2023-07-13T13:35:42.665595",
     "exception": false,
     "start_time": "2023-07-13T13:35:42.647648",
     "status": "completed"
    },
    "tags": []
   },
   "source": [
    "**Call C++:** It is now easy to call the C++ function"
   ]
  },
  {
   "cell_type": "code",
   "execution_count": 31,
   "id": "d845ff03",
   "metadata": {
    "execution": {
     "iopub.execute_input": "2023-07-13T13:35:42.710458Z",
     "iopub.status.busy": "2023-07-13T13:35:42.709462Z",
     "iopub.status.idle": "2023-07-13T13:35:42.809374Z",
     "shell.execute_reply": "2023-07-13T13:35:42.809374Z"
    },
    "papermill": {
     "duration": 0.116862,
     "end_time": "2023-07-13T13:35:42.810373",
     "exception": false,
     "start_time": "2023-07-13T13:35:42.693511",
     "status": "completed"
    },
    "tags": []
   },
   "outputs": [
    {
     "name": "stdout",
     "output_type": "stream",
     "text": [
      "\n",
      "fun(...)\n",
      "omp_get_thread_num() =  1, omp_get_num_procs() =  8\n",
      "string-value: a\n",
      "looked up value par->a = 2\n",
      "is \"a\" in \"N|threads\": false\n",
      "looked up value par->N = 10\n",
      "looked up value par->threads = 4\n",
      "\n"
     ]
    }
   ],
   "source": [
    "model_cpp.cpp.fun(par,sol)\n",
    "assert np.allclose(par.X*(par.a+par.b),sol.Y)"
   ]
  },
  {
   "attachments": {},
   "cell_type": "markdown",
   "id": "e8c53dec",
   "metadata": {
    "papermill": {
     "duration": 0.014956,
     "end_time": "2023-07-13T13:35:42.841281",
     "exception": false,
     "start_time": "2023-07-13T13:35:42.826325",
     "status": "completed"
    },
    "tags": []
   },
   "source": [
    "**Re-compile:**"
   ]
  },
  {
   "cell_type": "code",
   "execution_count": 32,
   "id": "d387a084",
   "metadata": {
    "execution": {
     "iopub.execute_input": "2023-07-13T13:35:42.876175Z",
     "iopub.status.busy": "2023-07-13T13:35:42.876175Z",
     "iopub.status.idle": "2023-07-13T13:35:45.261447Z",
     "shell.execute_reply": "2023-07-13T13:35:45.261447Z"
    },
    "papermill": {
     "duration": 2.405219,
     "end_time": "2023-07-13T13:35:45.263448",
     "exception": false,
     "start_time": "2023-07-13T13:35:42.858229",
     "status": "completed"
    },
    "tags": []
   },
   "outputs": [],
   "source": [
    "model_cpp.cpp.recompile()"
   ]
  },
  {
   "attachments": {},
   "cell_type": "markdown",
   "id": "ead86a86",
   "metadata": {
    "papermill": {
     "duration": 0.01396,
     "end_time": "2023-07-13T13:35:45.289372",
     "exception": false,
     "start_time": "2023-07-13T13:35:45.275412",
     "status": "completed"
    },
    "tags": []
   },
   "source": [
    "**Multiple models:** "
   ]
  },
  {
   "cell_type": "code",
   "execution_count": 33,
   "id": "e283fd33",
   "metadata": {
    "execution": {
     "iopub.execute_input": "2023-07-13T13:35:45.319281Z",
     "iopub.status.busy": "2023-07-13T13:35:45.318283Z",
     "iopub.status.idle": "2023-07-13T13:35:47.776862Z",
     "shell.execute_reply": "2023-07-13T13:35:47.776862Z"
    },
    "papermill": {
     "duration": 2.474531,
     "end_time": "2023-07-13T13:35:47.778860",
     "exception": false,
     "start_time": "2023-07-13T13:35:45.304329",
     "status": "completed"
    },
    "tags": []
   },
   "outputs": [
    {
     "name": "stdout",
     "output_type": "stream",
     "text": [
      "\n",
      "fun_nostruct(...)\n",
      "omp_get_thread_num() =  0, omp_get_num_procs() =  8\n",
      "string-value: a\n",
      "test was succesfull\n",
      "\n"
     ]
    }
   ],
   "source": [
    "# a. don't compile when the .dll file is already loaded\n",
    "model_cpp_alt = MyModelClass_cpp('testcpp_alt')\n",
    "model_cpp_alt.link_to_cpp(force_compile=False) # default is force_compile = True\n",
    "\n",
    "# b. function call\n",
    "par = model_cpp_alt.par\n",
    "model_cpp_alt.cpp.fun_nostruct(par.X,sol.Y,par.N,par.a,par.b,par.threads,par.txt)\n",
    "assert np.allclose(par.X*(par.a+par.b),sol.Y)\n",
    "\n",
    "# c. delink without removing the .dll file\n",
    "model_cpp.cpp.delink()\n",
    "\n",
    "# d. delete model -> automatically calls .cpp.delink()\n",
    "del model_cpp_alt\n",
    "\n",
    "# e. now we can compile again\n",
    "model_cpp_alt = MyModelClass_cpp('testcpp_alt')\n",
    "model_cpp_alt.link_to_cpp()\n",
    "model_cpp_alt.cpp.clean_up()"
   ]
  },
  {
   "cell_type": "markdown",
   "id": "ee9259af",
   "metadata": {
    "papermill": {
     "duration": 0.018947,
     "end_time": "2023-07-13T13:35:47.815754",
     "exception": false,
     "start_time": "2023-07-13T13:35:47.796807",
     "status": "completed"
    },
    "tags": []
   },
   "source": [
    "## 6. <a id='toc6_'></a>[Clean-up](#toc0_)"
   ]
  },
  {
   "cell_type": "code",
   "execution_count": 34,
   "id": "2036e4b2",
   "metadata": {
    "execution": {
     "iopub.execute_input": "2023-07-13T13:35:47.872638Z",
     "iopub.status.busy": "2023-07-13T13:35:47.871645Z",
     "iopub.status.idle": "2023-07-13T13:35:47.974983Z",
     "shell.execute_reply": "2023-07-13T13:35:47.974983Z"
    },
    "papermill": {
     "duration": 0.133418,
     "end_time": "2023-07-13T13:35:47.976980",
     "exception": false,
     "start_time": "2023-07-13T13:35:47.843562",
     "status": "completed"
    },
    "tags": []
   },
   "outputs": [],
   "source": [
    "shutil.rmtree('saved')"
   ]
  }
 ],
 "metadata": {
  "kernelspec": {
   "display_name": "Python 3 (ipykernel)",
   "language": "python",
   "name": "python3"
  },
  "language_info": {
   "codemirror_mode": {
    "name": "ipython",
    "version": 3
   },
   "file_extension": ".py",
   "mimetype": "text/x-python",
   "name": "python",
   "nbconvert_exporter": "python",
   "pygments_lexer": "ipython3",
   "version": "3.11.3"
  },
  "papermill": {
   "default_parameters": {},
   "duration": 18.053949,
   "end_time": "2023-07-13T13:35:48.468365",
   "environment_variables": {},
   "exception": null,
   "input_path": "01. Using the EconModelClass.ipynb",
   "output_path": "temp_notebooks/01. Using the EconModelClass.ipynb",
   "parameters": {},
   "start_time": "2023-07-13T13:35:30.414416",
   "version": "2.4.0"
  },
  "toc": {
   "base_numbering": 1,
   "nav_menu": {},
   "number_sections": true,
   "sideBar": true,
   "skip_h1_title": false,
   "title_cell": "Table of Contents",
   "title_sidebar": "Contents",
   "toc_cell": true,
   "toc_position": {},
   "toc_section_display": true,
   "toc_window_display": false
  },
  "toc-autonumbering": true
 },
 "nbformat": 4,
 "nbformat_minor": 5
}