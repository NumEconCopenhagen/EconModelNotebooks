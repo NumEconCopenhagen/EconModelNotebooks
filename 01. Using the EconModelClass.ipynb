{
 "cells": [
  {
   "cell_type": "markdown",
   "id": "f5256459",
   "metadata": {
    "papermill": {
     "duration": 0.020017,
     "end_time": "2023-07-13T16:17:01.175454",
     "exception": false,
     "start_time": "2023-07-13T16:17:01.155437",
     "status": "completed"
    },
    "tags": []
   },
   "source": [
    "# Using the EconModelClass"
   ]
  },
  {
   "cell_type": "markdown",
   "id": "f9552c74",
   "metadata": {
    "papermill": {
     "duration": 0.011009,
     "end_time": "2023-07-13T16:17:01.198472",
     "exception": false,
     "start_time": "2023-07-13T16:17:01.187463",
     "status": "completed"
    },
    "tags": []
   },
   "source": [
    "**Table of contents**<a id='toc0_'></a>    \n",
    "- 1. [Baseline Usage](#toc1_)    \n",
    "- 2. [Copy, save and load](#toc2_)    \n",
    "- 3. [To and from dictionary](#toc3_)    \n",
    "- 4. [Numba](#toc4_)    \n",
    "  - 4.1. [Advanced: Recompilling](#toc4_1_)    \n",
    "  - 4.2. [Advanced: Type inference](#toc4_2_)    \n",
    "  - 4.3. [Advanced: Error handling](#toc4_3_)    \n",
    "- 5. [Calling C++](#toc5_)    \n",
    "- 6. [Clean-up](#toc6_)    \n",
    "\n",
    "<!-- vscode-jupyter-toc-config\n",
    "\tnumbering=true\n",
    "\tanchor=true\n",
    "\tflat=false\n",
    "\tminLevel=2\n",
    "\tmaxLevel=6\n",
    "\t/vscode-jupyter-toc-config -->\n",
    "<!-- THIS CELL WILL BE REPLACED ON TOC UPDATE. DO NOT WRITE YOUR TEXT IN THIS CELL -->"
   ]
  },
  {
   "attachments": {},
   "cell_type": "markdown",
   "id": "e4d84da7",
   "metadata": {
    "papermill": {
     "duration": 0.010008,
     "end_time": "2023-07-13T16:17:01.218489",
     "exception": false,
     "start_time": "2023-07-13T16:17:01.208481",
     "status": "completed"
    },
    "tags": []
   },
   "source": [
    "`EconModel` is a small package for easily working with economic models in Python. It has four objectives:\n",
    "\n",
    "1. Make it easy to write well-structed code.\n",
    "1. Provide standard functionality for copying, saving and loading.\n",
    "1. Provide an easy interface to call [numba](http://numba.pydata.org/) JIT compilled functions.\n",
    "1. Provide an easy interface to call C++ functions.\n",
    "\n",
    "The two first objectives should be of interest to everybody, while the two last objectives are for more advanced users."
   ]
  },
  {
   "attachments": {},
   "cell_type": "markdown",
   "id": "ab8d2fa9",
   "metadata": {
    "papermill": {
     "duration": 0.011008,
     "end_time": "2023-07-13T16:17:01.240505",
     "exception": false,
     "start_time": "2023-07-13T16:17:01.229497",
     "status": "completed"
    },
    "tags": []
   },
   "source": [
    "This notebook provides a simple example for using the `EconModelClass`. See documentation in [EconModel/README.md](https://github.com/NumEconCopenhagen/EconModel#econmodel)."
   ]
  },
  {
   "cell_type": "code",
   "execution_count": 1,
   "id": "23e3a357",
   "metadata": {
    "execution": {
     "iopub.execute_input": "2023-07-13T16:17:01.263526Z",
     "iopub.status.busy": "2023-07-13T16:17:01.262525Z",
     "iopub.status.idle": "2023-07-13T16:17:01.776943Z",
     "shell.execute_reply": "2023-07-13T16:17:01.776943Z"
    },
    "papermill": {
     "duration": 0.530432,
     "end_time": "2023-07-13T16:17:01.780947",
     "exception": false,
     "start_time": "2023-07-13T16:17:01.250515",
     "status": "completed"
    },
    "tags": []
   },
   "outputs": [],
   "source": [
    "%load_ext autoreload\n",
    "%autoreload 2\n",
    "\n",
    "import shutil\n",
    "import numpy as np\n",
    "import numba as nb\n",
    "\n",
    "from EconModel import EconModelClass, jit"
   ]
  },
  {
   "cell_type": "markdown",
   "id": "86119eee",
   "metadata": {
    "papermill": {
     "duration": 0.011011,
     "end_time": "2023-07-13T16:17:01.810971",
     "exception": false,
     "start_time": "2023-07-13T16:17:01.799960",
     "status": "completed"
    },
    "tags": []
   },
   "source": [
    "## 1. <a id='toc1_'></a>[Baseline Usage](#toc0_)"
   ]
  },
  {
   "attachments": {},
   "cell_type": "markdown",
   "id": "cbe7cc3c",
   "metadata": {
    "papermill": {
     "duration": 0.011009,
     "end_time": "2023-07-13T16:17:01.831989",
     "exception": false,
     "start_time": "2023-07-13T16:17:01.820980",
     "status": "completed"
    },
    "tags": []
   },
   "source": [
    "The model is **required** to have the following three methods:\n",
    "\n",
    "1. `.settings()`: Choose fundamental settings.\n",
    "1. `.setup()`: Set free parameters.\n",
    "1. `.allocate()`: Set compound parameters and allocate arrays.\n",
    "\n",
    "When the model is initialized the call order is:\n",
    "\n",
    "1. `.settings()`\n",
    "2. `.setup()` \n",
    "3. `.allocate()`\n",
    "\n",
    "Per default the namespaces `.par` (for parameters), `.sol` (for solution objects) and `.sim` (for simulation objects) are available.\n",
    "\n",
    "The philosophy of the package is that all the content of the model is contained in these namespaces. \n",
    "\n",
    "After the model has been initialized, no additional entries should be added to the namespaces, and each entry should only change *value(s)* (or shape for arrays), but never *type* (or number of dimensions for arrays)."
   ]
  },
  {
   "cell_type": "code",
   "execution_count": 2,
   "id": "d10938f3",
   "metadata": {
    "execution": {
     "iopub.execute_input": "2023-07-13T16:17:01.855007Z",
     "iopub.status.busy": "2023-07-13T16:17:01.854006Z",
     "iopub.status.idle": "2023-07-13T16:17:01.921060Z",
     "shell.execute_reply": "2023-07-13T16:17:01.921060Z"
    },
    "papermill": {
     "duration": 0.082067,
     "end_time": "2023-07-13T16:17:01.924063",
     "exception": false,
     "start_time": "2023-07-13T16:17:01.841996",
     "status": "completed"
    },
    "tags": []
   },
   "outputs": [],
   "source": [
    "class MyModelClass(EconModelClass):\n",
    "    \n",
    "    # __init__ is inherited from EconModelClass\n",
    "    \n",
    "    def settings(self): # required\n",
    "        \"\"\" choose settings \"\"\"\n",
    "            \n",
    "        pass # nothing chosen here\n",
    "    \n",
    "    def setup(self): # required\n",
    "        \"\"\" set free parameters \"\"\"\n",
    "        \n",
    "        par = self.par\n",
    "        \n",
    "        par.N = 10\n",
    "        par.a = 2.0\n",
    "        par.b = 1.0\n",
    "        par.threads = 4\n",
    "        par.txt = 'a'\n",
    "        par.txtlist = 'N|threads'\n",
    "        \n",
    "    def allocate(self): # required\n",
    "        \"\"\" set compound parameters and allocate arrays \"\"\"\n",
    "        \n",
    "        par = self.par\n",
    "        sol = self.sol\n",
    "        \n",
    "        par.X = np.linspace(0,10,par.N)\n",
    "        sol.Y = np.zeros(par.N)\n",
    "        par.Z = np.ones(par.N,dtype=int)\n",
    "    \n",
    "    def solve(self): # user-defined\n",
    "        \"\"\" solve the model\"\"\"\n",
    "        \n",
    "        par = self.par\n",
    "        sol = self.sol\n",
    "        \n",
    "        sol.Y[:] = par.X*(par.a+par.b)*par.Z\n"
   ]
  },
  {
   "attachments": {},
   "cell_type": "markdown",
   "id": "5b4ba1d3",
   "metadata": {
    "papermill": {
     "duration": 0.011009,
     "end_time": "2023-07-13T16:17:01.954087",
     "exception": false,
     "start_time": "2023-07-13T16:17:01.943078",
     "status": "completed"
    },
    "tags": []
   },
   "source": [
    "In `.settings()` the user can change the default behavior by specifying: \n",
    "\n",
    "1. `self.savefolder = str`: Filepath to save in and load from (default: 'saved').\n",
    "1. `self.namespaces = [str]`: List of namespaces (in addition to `.par`, `.sol`, `.sol`).\n",
    "1. `self.other_attrs = [str]`: List of additional attributes to be copied and saved.\n"
   ]
  },
  {
   "cell_type": "code",
   "execution_count": 3,
   "id": "f114c3dd",
   "metadata": {
    "execution": {
     "iopub.execute_input": "2023-07-13T16:17:01.978106Z",
     "iopub.status.busy": "2023-07-13T16:17:01.977106Z",
     "iopub.status.idle": "2023-07-13T16:17:02.054168Z",
     "shell.execute_reply": "2023-07-13T16:17:02.054168Z"
    },
    "papermill": {
     "duration": 0.092075,
     "end_time": "2023-07-13T16:17:02.057171",
     "exception": false,
     "start_time": "2023-07-13T16:17:01.965096",
     "status": "completed"
    },
    "tags": []
   },
   "outputs": [],
   "source": [
    "model = MyModelClass(name='example')"
   ]
  },
  {
   "cell_type": "code",
   "execution_count": 4,
   "id": "a8887a5b",
   "metadata": {
    "execution": {
     "iopub.execute_input": "2023-07-13T16:17:02.095201Z",
     "iopub.status.busy": "2023-07-13T16:17:02.094201Z",
     "iopub.status.idle": "2023-07-13T16:17:02.157252Z",
     "shell.execute_reply": "2023-07-13T16:17:02.156250Z"
    },
    "papermill": {
     "duration": 0.08607,
     "end_time": "2023-07-13T16:17:02.160254",
     "exception": false,
     "start_time": "2023-07-13T16:17:02.074184",
     "status": "completed"
    },
    "tags": []
   },
   "outputs": [],
   "source": [
    "model.solve()"
   ]
  },
  {
   "attachments": {},
   "cell_type": "markdown",
   "id": "50f5b4d3",
   "metadata": {
    "papermill": {
     "duration": 0.011009,
     "end_time": "2023-07-13T16:17:02.190278",
     "exception": false,
     "start_time": "2023-07-13T16:17:02.179269",
     "status": "completed"
    },
    "tags": []
   },
   "source": [
    "**Print description:**"
   ]
  },
  {
   "cell_type": "code",
   "execution_count": 5,
   "id": "1a9c8514",
   "metadata": {
    "execution": {
     "iopub.execute_input": "2023-07-13T16:17:02.214298Z",
     "iopub.status.busy": "2023-07-13T16:17:02.214298Z",
     "iopub.status.idle": "2023-07-13T16:17:02.293360Z",
     "shell.execute_reply": "2023-07-13T16:17:02.292359Z"
    },
    "papermill": {
     "duration": 0.095075,
     "end_time": "2023-07-13T16:17:02.296362",
     "exception": false,
     "start_time": "2023-07-13T16:17:02.201287",
     "status": "completed"
    },
    "tags": []
   },
   "outputs": [
    {
     "name": "stdout",
     "output_type": "stream",
     "text": [
      "Modelclass: MyModelClass\n",
      "Name: example\n",
      "\n",
      "namespaces: ['par', 'sol', 'sim']\n",
      "other_attrs: []\n",
      "savefolder: saved\n",
      "cpp_filename: None\n",
      "\n",
      "par:\n",
      " N = 10 [int]\n",
      " a = 2.0 [float]\n",
      " b = 1.0 [float]\n",
      " threads = 4 [int]\n",
      " txt = a [str]\n",
      " txtlist = N|threads [str]\n",
      " X = ndarray[float64] with shape = (10,) [0.0 mb]\n",
      " Z = ndarray[int32] with shape = (10,) [0.0 mb]\n",
      " memory: 0.0 mb\n",
      "\n",
      "sol:\n",
      " Y = ndarray[float64] with shape = (10,) [0.0 mb]\n",
      " memory: 0.0 mb\n",
      "\n",
      "sim:\n",
      " memory: 0.0 mb\n",
      "\n"
     ]
    }
   ],
   "source": [
    "print(model)"
   ]
  },
  {
   "attachments": {},
   "cell_type": "markdown",
   "id": "b1473ee9",
   "metadata": {
    "papermill": {
     "duration": 0.010008,
     "end_time": "2023-07-13T16:17:02.323385",
     "exception": false,
     "start_time": "2023-07-13T16:17:02.313377",
     "status": "completed"
    },
    "tags": []
   },
   "source": [
    "**Updating at initialization.** Called after `.setup()`, but before `.allocate()`."
   ]
  },
  {
   "cell_type": "code",
   "execution_count": 6,
   "id": "a437ad5d",
   "metadata": {
    "execution": {
     "iopub.execute_input": "2023-07-13T16:17:02.348406Z",
     "iopub.status.busy": "2023-07-13T16:17:02.347405Z",
     "iopub.status.idle": "2023-07-13T16:17:02.410456Z",
     "shell.execute_reply": "2023-07-13T16:17:02.410456Z"
    },
    "papermill": {
     "duration": 0.079064,
     "end_time": "2023-07-13T16:17:02.413459",
     "exception": false,
     "start_time": "2023-07-13T16:17:02.334395",
     "status": "completed"
    },
    "tags": []
   },
   "outputs": [
    {
     "name": "stdout",
     "output_type": "stream",
     "text": [
      "3.0\n"
     ]
    }
   ],
   "source": [
    "model_alt = MyModelClass(name='alt',par={'a':3.0,'b':1.2})\n",
    "print(model_alt.par.a)"
   ]
  },
  {
   "attachments": {},
   "cell_type": "markdown",
   "id": "f66c1013",
   "metadata": {
    "papermill": {
     "duration": 0.011009,
     "end_time": "2023-07-13T16:17:02.443483",
     "exception": false,
     "start_time": "2023-07-13T16:17:02.432474",
     "status": "completed"
    },
    "tags": []
   },
   "source": [
    "**Unpack for later use:**"
   ]
  },
  {
   "cell_type": "code",
   "execution_count": 7,
   "id": "cfe2194e",
   "metadata": {
    "execution": {
     "iopub.execute_input": "2023-07-13T16:17:02.467502Z",
     "iopub.status.busy": "2023-07-13T16:17:02.467502Z",
     "iopub.status.idle": "2023-07-13T16:17:02.528552Z",
     "shell.execute_reply": "2023-07-13T16:17:02.528552Z"
    },
    "papermill": {
     "duration": 0.077064,
     "end_time": "2023-07-13T16:17:02.531554",
     "exception": false,
     "start_time": "2023-07-13T16:17:02.454490",
     "status": "completed"
    },
    "tags": []
   },
   "outputs": [],
   "source": [
    "par = model.par\n",
    "sol = model.sol"
   ]
  },
  {
   "attachments": {},
   "cell_type": "markdown",
   "id": "36f61408",
   "metadata": {
    "papermill": {
     "duration": 0.010008,
     "end_time": "2023-07-13T16:17:02.558576",
     "exception": false,
     "start_time": "2023-07-13T16:17:02.548568",
     "status": "completed"
    },
    "tags": []
   },
   "source": [
    "**Under the hood:** Each namespace is techically a `SimpleNamespace` (from `types`)"
   ]
  },
  {
   "cell_type": "code",
   "execution_count": 8,
   "id": "f95bf68f",
   "metadata": {
    "execution": {
     "iopub.execute_input": "2023-07-13T16:17:02.583597Z",
     "iopub.status.busy": "2023-07-13T16:17:02.582596Z",
     "iopub.status.idle": "2023-07-13T16:17:02.659658Z",
     "shell.execute_reply": "2023-07-13T16:17:02.658657Z"
    },
    "papermill": {
     "duration": 0.092076,
     "end_time": "2023-07-13T16:17:02.662660",
     "exception": false,
     "start_time": "2023-07-13T16:17:02.570584",
     "status": "completed"
    },
    "tags": []
   },
   "outputs": [
    {
     "data": {
      "text/plain": [
       "types.SimpleNamespace"
      ]
     },
     "execution_count": 8,
     "metadata": {},
     "output_type": "execute_result"
    }
   ],
   "source": [
    "type(par)"
   ]
  },
  {
   "cell_type": "markdown",
   "id": "ec62e58c",
   "metadata": {
    "papermill": {
     "duration": 0.011009,
     "end_time": "2023-07-13T16:17:02.690683",
     "exception": false,
     "start_time": "2023-07-13T16:17:02.679674",
     "status": "completed"
    },
    "tags": []
   },
   "source": [
    "## 2. <a id='toc2_'></a>[Copy, save and load](#toc0_)"
   ]
  },
  {
   "cell_type": "code",
   "execution_count": 9,
   "id": "c283708b",
   "metadata": {
    "execution": {
     "iopub.execute_input": "2023-07-13T16:17:02.723709Z",
     "iopub.status.busy": "2023-07-13T16:17:02.722708Z",
     "iopub.status.idle": "2023-07-13T16:17:02.796769Z",
     "shell.execute_reply": "2023-07-13T16:17:02.796769Z"
    },
    "papermill": {
     "duration": 0.09908,
     "end_time": "2023-07-13T16:17:02.800772",
     "exception": false,
     "start_time": "2023-07-13T16:17:02.701692",
     "status": "completed"
    },
    "tags": []
   },
   "outputs": [],
   "source": [
    "model_copy = model.copy(name='example_copy')\n",
    "model_copy.save()"
   ]
  },
  {
   "cell_type": "code",
   "execution_count": 10,
   "id": "04447120",
   "metadata": {
    "execution": {
     "iopub.execute_input": "2023-07-13T16:17:02.832798Z",
     "iopub.status.busy": "2023-07-13T16:17:02.831797Z",
     "iopub.status.idle": "2023-07-13T16:17:02.909860Z",
     "shell.execute_reply": "2023-07-13T16:17:02.908859Z"
    },
    "papermill": {
     "duration": 0.093076,
     "end_time": "2023-07-13T16:17:02.912863",
     "exception": false,
     "start_time": "2023-07-13T16:17:02.819787",
     "status": "completed"
    },
    "tags": []
   },
   "outputs": [
    {
     "name": "stdout",
     "output_type": "stream",
     "text": [
      "Modelclass: MyModelClass\n",
      "Name: example_copy\n",
      "\n",
      "namespaces: ['par', 'sol', 'sim']\n",
      "other_attrs: []\n",
      "savefolder: saved\n",
      "cpp_filename: None\n",
      "\n",
      "par:\n",
      " N = 10 [int]\n",
      " a = 2.0 [float]\n",
      " b = 1.0 [float]\n",
      " threads = 4 [int]\n",
      " txt = a [str]\n",
      " txtlist = N|threads [str]\n",
      " X = ndarray[float64] with shape = (10,) [0.0 mb]\n",
      " Z = ndarray[int32] with shape = (10,) [0.0 mb]\n",
      " memory: 0.0 mb\n",
      "\n",
      "sol:\n",
      " Y = ndarray[float64] with shape = (10,) [0.0 mb]\n",
      " memory: 0.0 mb\n",
      "\n",
      "sim:\n",
      " memory: 0.0 mb\n",
      "\n"
     ]
    }
   ],
   "source": [
    "model_loaded = MyModelClass(name='example_copy',load=True)\n",
    "print(model_loaded)"
   ]
  },
  {
   "cell_type": "markdown",
   "id": "052ffa32",
   "metadata": {
    "papermill": {
     "duration": 0.011009,
     "end_time": "2023-07-13T16:17:02.941887",
     "exception": false,
     "start_time": "2023-07-13T16:17:02.930878",
     "status": "completed"
    },
    "tags": []
   },
   "source": [
    "## 3. <a id='toc3_'></a>[To and from dictionary](#toc0_)"
   ]
  },
  {
   "cell_type": "code",
   "execution_count": 11,
   "id": "16162065",
   "metadata": {
    "execution": {
     "iopub.execute_input": "2023-07-13T16:17:02.965906Z",
     "iopub.status.busy": "2023-07-13T16:17:02.965906Z",
     "iopub.status.idle": "2023-07-13T16:17:03.048974Z",
     "shell.execute_reply": "2023-07-13T16:17:03.048974Z"
    },
    "papermill": {
     "duration": 0.100081,
     "end_time": "2023-07-13T16:17:03.052977",
     "exception": false,
     "start_time": "2023-07-13T16:17:02.952896",
     "status": "completed"
    },
    "tags": []
   },
   "outputs": [
    {
     "name": "stdout",
     "output_type": "stream",
     "text": [
      "Modelclass: MyModelClass\n",
      "Name: example_dict\n",
      "\n",
      "namespaces: ['par', 'sol', 'sim']\n",
      "other_attrs: []\n",
      "savefolder: saved\n",
      "cpp_filename: None\n",
      "\n",
      "par:\n",
      " N = 10 [int]\n",
      " a = 2.0 [float]\n",
      " b = 1.0 [float]\n",
      " threads = 4 [int]\n",
      " txt = a [str]\n",
      " txtlist = N|threads [str]\n",
      " X = ndarray[float64] with shape = (10,) [0.0 mb]\n",
      " Z = ndarray[int32] with shape = (10,) [0.0 mb]\n",
      " memory: 0.0 mb\n",
      "\n",
      "sol:\n",
      " Y = ndarray[float64] with shape = (10,) [0.0 mb]\n",
      " memory: 0.0 mb\n",
      "\n",
      "sim:\n",
      " memory: 0.0 mb\n",
      "\n"
     ]
    }
   ],
   "source": [
    "modeldict = model.as_dict()\n",
    "model_dict = MyModelClass(name='example_dict',from_dict=modeldict)\n",
    "print(model_dict)"
   ]
  },
  {
   "cell_type": "markdown",
   "id": "9a399e7b",
   "metadata": {
    "papermill": {
     "duration": 0.011009,
     "end_time": "2023-07-13T16:17:03.082001",
     "exception": false,
     "start_time": "2023-07-13T16:17:03.070992",
     "status": "completed"
    },
    "tags": []
   },
   "source": [
    "## 4. <a id='toc4_'></a>[Numba](#toc0_)"
   ]
  },
  {
   "attachments": {},
   "cell_type": "markdown",
   "id": "9c787968",
   "metadata": {
    "papermill": {
     "duration": 0.011009,
     "end_time": "2023-07-13T16:17:03.103018",
     "exception": false,
     "start_time": "2023-07-13T16:17:03.092009",
     "status": "completed"
    },
    "tags": []
   },
   "source": [
    "**Goal:** Call [numba](http://numba.pydata.org/) JIT compilled functions easily using namespaces.\n",
    "\n",
    "**Problem:** [numba](http://numba.pydata.org/) only allows specific types (and not e.g. `SimpleNamespace`).\n",
    "\n",
    "**Under-the-hood:** `jit(model)` temporarily turns all namespaces into `namedtuples`, which can be used as input in JIT compilled functions. "
   ]
  },
  {
   "cell_type": "code",
   "execution_count": 12,
   "id": "72d6664a",
   "metadata": {
    "execution": {
     "iopub.execute_input": "2023-07-13T16:17:03.127037Z",
     "iopub.status.busy": "2023-07-13T16:17:03.126037Z",
     "iopub.status.idle": "2023-07-13T16:17:03.193091Z",
     "shell.execute_reply": "2023-07-13T16:17:03.193091Z"
    },
    "papermill": {
     "duration": 0.082066,
     "end_time": "2023-07-13T16:17:03.196093",
     "exception": false,
     "start_time": "2023-07-13T16:17:03.114027",
     "status": "completed"
    },
    "tags": []
   },
   "outputs": [],
   "source": [
    "@nb.njit\n",
    "def fun(par,sol):\n",
    "    sol.Y[:] = par.X*(par.a+par.b)"
   ]
  },
  {
   "cell_type": "code",
   "execution_count": 13,
   "id": "8a9f909e",
   "metadata": {
    "execution": {
     "iopub.execute_input": "2023-07-13T16:17:03.228120Z",
     "iopub.status.busy": "2023-07-13T16:17:03.227119Z",
     "iopub.status.idle": "2023-07-13T16:17:03.287168Z",
     "shell.execute_reply": "2023-07-13T16:17:03.287168Z"
    },
    "papermill": {
     "duration": 0.075061,
     "end_time": "2023-07-13T16:17:03.290170",
     "exception": false,
     "start_time": "2023-07-13T16:17:03.215109",
     "status": "completed"
    },
    "tags": []
   },
   "outputs": [],
   "source": [
    "def test_numba(model):\n",
    "    with jit(model) as model_jit:\n",
    "        fun(model_jit.par,model_jit.sol)"
   ]
  },
  {
   "cell_type": "code",
   "execution_count": 14,
   "id": "624b5bdf",
   "metadata": {
    "execution": {
     "iopub.execute_input": "2023-07-13T16:17:03.324198Z",
     "iopub.status.busy": "2023-07-13T16:17:03.324198Z",
     "iopub.status.idle": "2023-07-13T16:17:04.047785Z",
     "shell.execute_reply": "2023-07-13T16:17:04.047785Z"
    },
    "papermill": {
     "duration": 0.7396,
     "end_time": "2023-07-13T16:17:04.051788",
     "exception": false,
     "start_time": "2023-07-13T16:17:03.312188",
     "status": "completed"
    },
    "tags": []
   },
   "outputs": [
    {
     "name": "stdout",
     "output_type": "stream",
     "text": [
      "CPU times: total: 703 ms\n",
      "Wall time: 797 ms\n",
      "CPU times: total: 0 ns\n",
      "Wall time: 0 ns\n"
     ]
    }
   ],
   "source": [
    "%time test_numba(model)\n",
    "%time test_numba(model)"
   ]
  },
  {
   "attachments": {},
   "cell_type": "markdown",
   "id": "9e2a07de",
   "metadata": {
    "papermill": {
     "duration": 0.021017,
     "end_time": "2023-07-13T16:17:04.090820",
     "exception": false,
     "start_time": "2023-07-13T16:17:04.069803",
     "status": "completed"
    },
    "tags": []
   },
   "source": [
    "**Note:** The first run is slower due to compiling."
   ]
  },
  {
   "attachments": {},
   "cell_type": "markdown",
   "id": "eef478b2",
   "metadata": {
    "papermill": {
     "duration": 0.011008,
     "end_time": "2023-07-13T16:17:04.114839",
     "exception": false,
     "start_time": "2023-07-13T16:17:04.103831",
     "status": "completed"
    },
    "tags": []
   },
   "source": [
    "**Check result:**"
   ]
  },
  {
   "cell_type": "code",
   "execution_count": 15,
   "id": "8218abc8",
   "metadata": {
    "execution": {
     "iopub.execute_input": "2023-07-13T16:17:04.138859Z",
     "iopub.status.busy": "2023-07-13T16:17:04.137858Z",
     "iopub.status.idle": "2023-07-13T16:17:04.209917Z",
     "shell.execute_reply": "2023-07-13T16:17:04.209917Z"
    },
    "papermill": {
     "duration": 0.087071,
     "end_time": "2023-07-13T16:17:04.212919",
     "exception": false,
     "start_time": "2023-07-13T16:17:04.125848",
     "status": "completed"
    },
    "tags": []
   },
   "outputs": [],
   "source": [
    "assert np.allclose(par.X*(par.a+par.b),sol.Y)"
   ]
  },
  {
   "cell_type": "markdown",
   "id": "34d90be5",
   "metadata": {
    "papermill": {
     "duration": 0.011009,
     "end_time": "2023-07-13T16:17:04.243945",
     "exception": false,
     "start_time": "2023-07-13T16:17:04.232936",
     "status": "completed"
    },
    "tags": []
   },
   "source": [
    "### 4.1. <a id='toc4_1_'></a>[Advanced: Recompilling](#toc0_)"
   ]
  },
  {
   "attachments": {},
   "cell_type": "markdown",
   "id": "8ab6c0d8",
   "metadata": {
    "papermill": {
     "duration": 0.011009,
     "end_time": "2023-07-13T16:17:04.265963",
     "exception": false,
     "start_time": "2023-07-13T16:17:04.254954",
     "status": "completed"
    },
    "tags": []
   },
   "source": [
    "When a new model is created, re-compilation of JIT functions are normally necessary:"
   ]
  },
  {
   "cell_type": "code",
   "execution_count": 16,
   "id": "6f9c3b37",
   "metadata": {
    "execution": {
     "iopub.execute_input": "2023-07-13T16:17:04.289982Z",
     "iopub.status.busy": "2023-07-13T16:17:04.288981Z",
     "iopub.status.idle": "2023-07-13T16:17:04.541187Z",
     "shell.execute_reply": "2023-07-13T16:17:04.541187Z"
    },
    "papermill": {
     "duration": 0.267217,
     "end_time": "2023-07-13T16:17:04.544189",
     "exception": false,
     "start_time": "2023-07-13T16:17:04.276972",
     "status": "completed"
    },
    "tags": []
   },
   "outputs": [
    {
     "name": "stdout",
     "output_type": "stream",
     "text": [
      "CPU times: total: 172 ms\n",
      "Wall time: 160 ms\n",
      "CPU times: total: 0 ns\n",
      "Wall time: 0 ns\n"
     ]
    }
   ],
   "source": [
    "model_new = MyModelClass(name='numba_new')\n",
    "%time test_numba(model_new)\n",
    "%time test_numba(model_new)"
   ]
  },
  {
   "attachments": {},
   "cell_type": "markdown",
   "id": "fb453244",
   "metadata": {
    "papermill": {
     "duration": 0.011009,
     "end_time": "2023-07-13T16:17:04.575215",
     "exception": false,
     "start_time": "2023-07-13T16:17:04.564206",
     "status": "completed"
    },
    "tags": []
   },
   "source": [
    "This is *not* the case, when a copy is made instead:"
   ]
  },
  {
   "cell_type": "code",
   "execution_count": 17,
   "id": "cf0c6301",
   "metadata": {
    "execution": {
     "iopub.execute_input": "2023-07-13T16:17:04.599234Z",
     "iopub.status.busy": "2023-07-13T16:17:04.598233Z",
     "iopub.status.idle": "2023-07-13T16:17:04.681301Z",
     "shell.execute_reply": "2023-07-13T16:17:04.681301Z"
    },
    "papermill": {
     "duration": 0.098079,
     "end_time": "2023-07-13T16:17:04.684303",
     "exception": false,
     "start_time": "2023-07-13T16:17:04.586224",
     "status": "completed"
    },
    "tags": []
   },
   "outputs": [
    {
     "name": "stdout",
     "output_type": "stream",
     "text": [
      "CPU times: total: 0 ns\n",
      "Wall time: 0 ns\n"
     ]
    }
   ],
   "source": [
    "model_new_ = model_new.copy(name='numba_new_copy')\n",
    "%time test_numba(model_new_)"
   ]
  },
  {
   "cell_type": "markdown",
   "id": "03bcdff2",
   "metadata": {
    "papermill": {
     "duration": 0.01201,
     "end_time": "2023-07-13T16:17:04.716330",
     "exception": false,
     "start_time": "2023-07-13T16:17:04.704320",
     "status": "completed"
    },
    "tags": []
   },
   "source": [
    "### 4.2. <a id='toc4_2_'></a>[Advanced: Type inference](#toc0_)"
   ]
  },
  {
   "attachments": {},
   "cell_type": "markdown",
   "id": "2f8ef93f",
   "metadata": {
    "papermill": {
     "duration": 0.011009,
     "end_time": "2023-07-13T16:17:04.738347",
     "exception": false,
     "start_time": "2023-07-13T16:17:04.727338",
     "status": "completed"
    },
    "tags": []
   },
   "source": [
    "When the model is created **all types are infered** and the information is saved in the nested-dict `_ns_specs`. E.g.:"
   ]
  },
  {
   "cell_type": "code",
   "execution_count": 18,
   "id": "cff9584c",
   "metadata": {
    "execution": {
     "iopub.execute_input": "2023-07-13T16:17:04.762367Z",
     "iopub.status.busy": "2023-07-13T16:17:04.761366Z",
     "iopub.status.idle": "2023-07-13T16:17:04.845434Z",
     "shell.execute_reply": "2023-07-13T16:17:04.844434Z"
    },
    "papermill": {
     "duration": 0.099081,
     "end_time": "2023-07-13T16:17:04.848437",
     "exception": false,
     "start_time": "2023-07-13T16:17:04.749356",
     "status": "completed"
    },
    "tags": []
   },
   "outputs": [
    {
     "data": {
      "text/plain": [
       "{'par': {'N': [int, numpy.int32],\n",
       "  'a': [float, numpy.float64],\n",
       "  'b': [float, numpy.float64],\n",
       "  'threads': [int, numpy.int32],\n",
       "  'txt': [str],\n",
       "  'txtlist': [str],\n",
       "  'X': [numpy.ndarray],\n",
       "  'Z': [numpy.ndarray]},\n",
       " 'sol': {'Y': [numpy.ndarray]},\n",
       " 'sim': {}}"
      ]
     },
     "execution_count": 18,
     "metadata": {},
     "output_type": "execute_result"
    }
   ],
   "source": [
    "model._ns_specs['types']"
   ]
  },
  {
   "cell_type": "code",
   "execution_count": 19,
   "id": "387418a5",
   "metadata": {
    "execution": {
     "iopub.execute_input": "2023-07-13T16:17:04.920496Z",
     "iopub.status.busy": "2023-07-13T16:17:04.919495Z",
     "iopub.status.idle": "2023-07-13T16:17:04.992555Z",
     "shell.execute_reply": "2023-07-13T16:17:04.991554Z"
    },
    "papermill": {
     "duration": 0.089073,
     "end_time": "2023-07-13T16:17:04.995557",
     "exception": false,
     "start_time": "2023-07-13T16:17:04.906484",
     "status": "completed"
    },
    "tags": []
   },
   "outputs": [
    {
     "data": {
      "text/plain": [
       "{'par': {'X': dtype('float64'), 'Z': dtype('int32')},\n",
       " 'sol': {'Y': dtype('float64')},\n",
       " 'sim': {}}"
      ]
     },
     "execution_count": 19,
     "metadata": {},
     "output_type": "execute_result"
    }
   ],
   "source": [
    "model._ns_specs['np_dtypes']"
   ]
  },
  {
   "cell_type": "code",
   "execution_count": 20,
   "id": "79fd3ddd",
   "metadata": {
    "execution": {
     "iopub.execute_input": "2023-07-13T16:17:05.025584Z",
     "iopub.status.busy": "2023-07-13T16:17:05.025584Z",
     "iopub.status.idle": "2023-07-13T16:17:05.113656Z",
     "shell.execute_reply": "2023-07-13T16:17:05.112655Z"
    },
    "papermill": {
     "duration": 0.103085,
     "end_time": "2023-07-13T16:17:05.116658",
     "exception": false,
     "start_time": "2023-07-13T16:17:05.013573",
     "status": "completed"
    },
    "tags": []
   },
   "outputs": [
    {
     "data": {
      "text/plain": [
       "{'par': {'X': 1, 'Z': 1}, 'sol': {'Y': 1}, 'sim': {}}"
      ]
     },
     "execution_count": 20,
     "metadata": {},
     "output_type": "execute_result"
    }
   ],
   "source": [
    "model._ns_specs['np_ndims']"
   ]
  },
  {
   "attachments": {},
   "cell_type": "markdown",
   "id": "68800b51",
   "metadata": {
    "papermill": {
     "duration": 0.01201,
     "end_time": "2023-07-13T16:17:05.146683",
     "exception": false,
     "start_time": "2023-07-13T16:17:05.134673",
     "status": "completed"
    },
    "tags": []
   },
   "source": [
    "**The types must NOT change afterwards**. If they do, an error is raised when using  `jit`."
   ]
  },
  {
   "cell_type": "code",
   "execution_count": 21,
   "id": "d60a0367",
   "metadata": {
    "execution": {
     "iopub.execute_input": "2023-07-13T16:17:05.171703Z",
     "iopub.status.busy": "2023-07-13T16:17:05.170702Z",
     "iopub.status.idle": "2023-07-13T16:17:05.240760Z",
     "shell.execute_reply": "2023-07-13T16:17:05.240760Z"
    },
    "papermill": {
     "duration": 0.086069,
     "end_time": "2023-07-13T16:17:05.243760",
     "exception": false,
     "start_time": "2023-07-13T16:17:05.157691",
     "status": "completed"
    },
    "tags": []
   },
   "outputs": [],
   "source": [
    "def test_numba_errors(model):\n",
    "    try:\n",
    "        test_numba(model)\n",
    "    except ValueError as e:\n",
    "        print(f'ValueError: {e}')\n",
    "    else:\n",
    "        print('no errors raised')"
   ]
  },
  {
   "cell_type": "code",
   "execution_count": 22,
   "id": "6011e57d",
   "metadata": {
    "execution": {
     "iopub.execute_input": "2023-07-13T16:17:05.276789Z",
     "iopub.status.busy": "2023-07-13T16:17:05.276789Z",
     "iopub.status.idle": "2023-07-13T16:17:05.347847Z",
     "shell.execute_reply": "2023-07-13T16:17:05.347847Z"
    },
    "papermill": {
     "duration": 0.087071,
     "end_time": "2023-07-13T16:17:05.350849",
     "exception": false,
     "start_time": "2023-07-13T16:17:05.263778",
     "status": "completed"
    },
    "tags": []
   },
   "outputs": [
    {
     "name": "stdout",
     "output_type": "stream",
     "text": [
      "ValueError: par.a has type int, should be in ['float', 'numpy.float64']\n"
     ]
    }
   ],
   "source": [
    "model_test = model.copy()\n",
    "model_test.par.a = 1\n",
    "test_numba_errors(model_test)"
   ]
  },
  {
   "cell_type": "code",
   "execution_count": 23,
   "id": "230ca3b3",
   "metadata": {
    "execution": {
     "iopub.execute_input": "2023-07-13T16:17:05.383876Z",
     "iopub.status.busy": "2023-07-13T16:17:05.382875Z",
     "iopub.status.idle": "2023-07-13T16:17:05.451931Z",
     "shell.execute_reply": "2023-07-13T16:17:05.451931Z"
    },
    "papermill": {
     "duration": 0.084068,
     "end_time": "2023-07-13T16:17:05.454934",
     "exception": false,
     "start_time": "2023-07-13T16:17:05.370866",
     "status": "completed"
    },
    "tags": []
   },
   "outputs": [
    {
     "name": "stdout",
     "output_type": "stream",
     "text": [
      "ValueError: c is not allowed in .par\n"
     ]
    }
   ],
   "source": [
    "model_test = model.copy()\n",
    "model_test.par.c = np.nan\n",
    "test_numba_errors(model_test)"
   ]
  },
  {
   "cell_type": "code",
   "execution_count": 24,
   "id": "07eb60f9",
   "metadata": {
    "execution": {
     "iopub.execute_input": "2023-07-13T16:17:05.487961Z",
     "iopub.status.busy": "2023-07-13T16:17:05.486960Z",
     "iopub.status.idle": "2023-07-13T16:17:05.558018Z",
     "shell.execute_reply": "2023-07-13T16:17:05.558018Z"
    },
    "papermill": {
     "duration": 0.087071,
     "end_time": "2023-07-13T16:17:05.561020",
     "exception": false,
     "start_time": "2023-07-13T16:17:05.473949",
     "status": "completed"
    },
    "tags": []
   },
   "outputs": [
    {
     "name": "stdout",
     "output_type": "stream",
     "text": [
      "ValueError: par.X has ndim 2, should be 1\n"
     ]
    }
   ],
   "source": [
    "model_test = model.copy()\n",
    "model_test.par.X = np.zeros((1,1))\n",
    "test_numba_errors(model_test)"
   ]
  },
  {
   "cell_type": "code",
   "execution_count": 25,
   "id": "6778c1e8",
   "metadata": {
    "execution": {
     "iopub.execute_input": "2023-07-13T16:17:05.593047Z",
     "iopub.status.busy": "2023-07-13T16:17:05.592046Z",
     "iopub.status.idle": "2023-07-13T16:17:05.679116Z",
     "shell.execute_reply": "2023-07-13T16:17:05.679116Z"
    },
    "papermill": {
     "duration": 0.102083,
     "end_time": "2023-07-13T16:17:05.682119",
     "exception": false,
     "start_time": "2023-07-13T16:17:05.580036",
     "status": "completed"
    },
    "tags": []
   },
   "outputs": [
    {
     "name": "stdout",
     "output_type": "stream",
     "text": [
      "ValueError: par.X has dtype int32, should be float64\n"
     ]
    }
   ],
   "source": [
    "model_test = model.copy()\n",
    "model_test.par.X = model.par.X.astype('int')\n",
    "test_numba_errors(model_test)"
   ]
  },
  {
   "attachments": {},
   "cell_type": "markdown",
   "id": "62f19e5b",
   "metadata": {
    "papermill": {
     "duration": 0.012009,
     "end_time": "2023-07-13T16:17:05.713144",
     "exception": false,
     "start_time": "2023-07-13T16:17:05.701135",
     "status": "completed"
    },
    "tags": []
   },
   "source": [
    "**If types *must* to be changed, then it is necessary to re-infer types:**"
   ]
  },
  {
   "cell_type": "code",
   "execution_count": 26,
   "id": "8abe9064",
   "metadata": {
    "execution": {
     "iopub.execute_input": "2023-07-13T16:17:05.738164Z",
     "iopub.status.busy": "2023-07-13T16:17:05.737164Z",
     "iopub.status.idle": "2023-07-13T16:17:05.972355Z",
     "shell.execute_reply": "2023-07-13T16:17:05.972355Z"
    },
    "papermill": {
     "duration": 0.252206,
     "end_time": "2023-07-13T16:17:05.976359",
     "exception": false,
     "start_time": "2023-07-13T16:17:05.724153",
     "status": "completed"
    },
    "tags": []
   },
   "outputs": [
    {
     "name": "stdout",
     "output_type": "stream",
     "text": [
      "no errors raised\n"
     ]
    }
   ],
   "source": [
    "model_test = model.copy()\n",
    "model_test.par.a = 1\n",
    "model_test.infer_types()\n",
    "test_numba_errors(model_test)"
   ]
  },
  {
   "attachments": {},
   "cell_type": "markdown",
   "id": "71759c35",
   "metadata": {
    "papermill": {
     "duration": 0.011008,
     "end_time": "2023-07-13T16:17:06.006383",
     "exception": false,
     "start_time": "2023-07-13T16:17:05.995375",
     "status": "completed"
    },
    "tags": []
   },
   "source": [
    "**Namedtuples** are immutables, so attributes cannot be changed while using `jit`:"
   ]
  },
  {
   "cell_type": "code",
   "execution_count": 27,
   "id": "74ead286",
   "metadata": {
    "execution": {
     "iopub.execute_input": "2023-07-13T16:17:06.032404Z",
     "iopub.status.busy": "2023-07-13T16:17:06.031404Z",
     "iopub.status.idle": "2023-07-13T16:17:06.102461Z",
     "shell.execute_reply": "2023-07-13T16:17:06.102461Z"
    },
    "papermill": {
     "duration": 0.088071,
     "end_time": "2023-07-13T16:17:06.106464",
     "exception": false,
     "start_time": "2023-07-13T16:17:06.018393",
     "status": "completed"
    },
    "tags": []
   },
   "outputs": [
    {
     "name": "stderr",
     "output_type": "stream",
     "text": [
      "Traceback (most recent call last):\n",
      "  File \"C:\\Users\\gmf123\\AppData\\Local\\Temp\\ipykernel_10872\\1634112854.py\", line 3, in <module>\n",
      "    model_jit.par.a = 3.0\n",
      "    ^^^^^^^^^^^^^^^\n",
      "AttributeError: can't set attribute\n"
     ]
    }
   ],
   "source": [
    "try:\n",
    "    with jit(model) as model_jit:\n",
    "        model_jit.par.a = 3.0\n",
    "except AttributeError as e:\n",
    "    pass"
   ]
  },
  {
   "cell_type": "markdown",
   "id": "8a2e518b",
   "metadata": {
    "papermill": {
     "duration": 0.013011,
     "end_time": "2023-07-13T16:17:06.137490",
     "exception": false,
     "start_time": "2023-07-13T16:17:06.124479",
     "status": "completed"
    },
    "tags": []
   },
   "source": [
    "### 4.3. <a id='toc4_3_'></a>[Advanced: Error handling](#toc0_)"
   ]
  },
  {
   "cell_type": "markdown",
   "id": "51c2a289",
   "metadata": {
    "papermill": {
     "duration": 0.012009,
     "end_time": "2023-07-13T16:17:06.160508",
     "exception": false,
     "start_time": "2023-07-13T16:17:06.148499",
     "status": "completed"
    },
    "tags": []
   },
   "source": [
    "Printing of exceptions can be turned off if necessary."
   ]
  },
  {
   "cell_type": "code",
   "execution_count": 28,
   "id": "6ce7e55f",
   "metadata": {
    "execution": {
     "iopub.execute_input": "2023-07-13T16:17:06.185529Z",
     "iopub.status.busy": "2023-07-13T16:17:06.184528Z",
     "iopub.status.idle": "2023-07-13T16:17:06.264593Z",
     "shell.execute_reply": "2023-07-13T16:17:06.264593Z"
    },
    "papermill": {
     "duration": 0.096079,
     "end_time": "2023-07-13T16:17:06.267596",
     "exception": false,
     "start_time": "2023-07-13T16:17:06.171517",
     "status": "completed"
    },
    "tags": []
   },
   "outputs": [
    {
     "name": "stdout",
     "output_type": "stream",
     "text": [
      "can't set attribute\n"
     ]
    }
   ],
   "source": [
    "try:\n",
    "    with jit(model,show_exc=False) as model_jit:\n",
    "        model_jit.par.a = 3.0\n",
    "except AttributeError as e:\n",
    "    print(e)"
   ]
  },
  {
   "cell_type": "markdown",
   "id": "471987ea",
   "metadata": {
    "papermill": {
     "duration": 0.011009,
     "end_time": "2023-07-13T16:17:06.298621",
     "exception": false,
     "start_time": "2023-07-13T16:17:06.287612",
     "status": "completed"
    },
    "tags": []
   },
   "source": [
    "## 5. <a id='toc5_'></a>[Calling C++](#toc0_)"
   ]
  },
  {
   "attachments": {},
   "cell_type": "markdown",
   "id": "a4493b05",
   "metadata": {
    "papermill": {
     "duration": 0.012011,
     "end_time": "2023-07-13T16:17:06.322641",
     "exception": false,
     "start_time": "2023-07-13T16:17:06.310630",
     "status": "completed"
    },
    "tags": []
   },
   "source": [
    "**Goal:** Call C++ functions easily using namespaces.\n",
    "\n",
    "**Problems:** Requires compilation and linking."
   ]
  },
  {
   "attachments": {},
   "cell_type": "markdown",
   "id": "fe1c7d5b",
   "metadata": {
    "papermill": {
     "duration": 0.011009,
     "end_time": "2023-07-13T16:17:06.344659",
     "exception": false,
     "start_time": "2023-07-13T16:17:06.333650",
     "status": "completed"
    },
    "tags": []
   },
   "source": [
    "**Compilers:** One of these compilers must be installed\n",
    "\n",
    "* **vs**: Free *Microsoft Visual Studio 2022 Community Edition* ([link](https://visualstudio.microsoft.com/downloads/))\n",
    "* **intel:** Free *Intel one API* ([link](https://www.intel.com/content/www/us/en/developer/tools/oneapi/base-toolkit-download.html))\n",
    "\n",
    "For parallization we will use **OpenMP**."
   ]
  },
  {
   "attachments": {},
   "cell_type": "markdown",
   "id": "a8350668",
   "metadata": {
    "papermill": {
     "duration": 0.011008,
     "end_time": "2023-07-13T16:17:06.367677",
     "exception": false,
     "start_time": "2023-07-13T16:17:06.356669",
     "status": "completed"
    },
    "tags": []
   },
   "source": [
    "**Platform:** Tested on *Windows*."
   ]
  },
  {
   "attachments": {},
   "cell_type": "markdown",
   "id": "52e3d4ca",
   "metadata": {
    "papermill": {
     "duration": 0.011009,
     "end_time": "2023-07-13T16:17:06.390696",
     "exception": false,
     "start_time": "2023-07-13T16:17:06.379687",
     "status": "completed"
    },
    "tags": []
   },
   "source": [
    "**Interface:**\n",
    "\n",
    "1. all elements in **namespaces** are availible as **C++ structs** with `_struct` appended (default, else specify `.cpp_structsmap` in `.settings()`).\n",
    "2. `cpptools.link_to_cpp()` is called by `.link_to_cpp` using `.cpp_filename` and the result is returned in `.cpp`.\n",
    "3. `cpp_options` is the compiler options.\n",
    "4. by default `force_compile=True` when calling `.link_to_cpp`."
   ]
  },
  {
   "attachments": {},
   "cell_type": "markdown",
   "id": "b1d20dc2",
   "metadata": {
    "papermill": {
     "duration": 0.011009,
     "end_time": "2023-07-13T16:17:06.414716",
     "exception": false,
     "start_time": "2023-07-13T16:17:06.403707",
     "status": "completed"
    },
    "tags": []
   },
   "source": [
    "**Details:** Provided in `02. More on calling C++.ipynb`."
   ]
  },
  {
   "attachments": {},
   "cell_type": "markdown",
   "id": "2883d052",
   "metadata": {
    "papermill": {
     "duration": 0.01101,
     "end_time": "2023-07-13T16:17:06.437735",
     "exception": false,
     "start_time": "2023-07-13T16:17:06.426725",
     "status": "completed"
    },
    "tags": []
   },
   "source": [
    "**The extended model specification is:**"
   ]
  },
  {
   "cell_type": "code",
   "execution_count": 29,
   "id": "b669f882",
   "metadata": {
    "execution": {
     "iopub.execute_input": "2023-07-13T16:17:06.463756Z",
     "iopub.status.busy": "2023-07-13T16:17:06.462753Z",
     "iopub.status.idle": "2023-07-13T16:17:06.542820Z",
     "shell.execute_reply": "2023-07-13T16:17:06.542820Z"
    },
    "papermill": {
     "duration": 0.097078,
     "end_time": "2023-07-13T16:17:06.546823",
     "exception": false,
     "start_time": "2023-07-13T16:17:06.449745",
     "status": "completed"
    },
    "tags": []
   },
   "outputs": [],
   "source": [
    "class MyModelClass_cpp(MyModelClass):\n",
    "    \n",
    "    def settings(self):\n",
    "        \n",
    "        self.cpp_filename = 'cppfuncs/example.cpp' # required for using C++\n",
    "        self.cpp_options = {'compiler':'vs'} # optional\n",
    "        self.cpp_structsmap = {'par':'par_struct'} # optional\n",
    "    \n",
    "model_cpp = MyModelClass_cpp(name='model_cpp') "
   ]
  },
  {
   "attachments": {},
   "cell_type": "markdown",
   "id": "29231bfa",
   "metadata": {
    "papermill": {
     "duration": 0.011009,
     "end_time": "2023-07-13T16:17:06.577849",
     "exception": false,
     "start_time": "2023-07-13T16:17:06.566840",
     "status": "completed"
    },
    "tags": []
   },
   "source": [
    "**Link:**"
   ]
  },
  {
   "cell_type": "code",
   "execution_count": 30,
   "id": "bb4dc47d",
   "metadata": {
    "execution": {
     "iopub.execute_input": "2023-07-13T16:17:06.603870Z",
     "iopub.status.busy": "2023-07-13T16:17:06.602869Z",
     "iopub.status.idle": "2023-07-13T16:17:09.186968Z",
     "shell.execute_reply": "2023-07-13T16:17:09.185967Z"
    },
    "papermill": {
     "duration": 2.600111,
     "end_time": "2023-07-13T16:17:09.189970",
     "exception": false,
     "start_time": "2023-07-13T16:17:06.589859",
     "status": "completed"
    },
    "tags": []
   },
   "outputs": [
    {
     "name": "stdout",
     "output_type": "stream",
     "text": [
      "Linking to: cppfuncs/example.cpp\n",
      "\n",
      "### finding all included files ###\n",
      "\n",
      "logs.cpp\n",
      "par_struct.cpp\n",
      "sol_struct.cpp\n",
      "example_include.cpp\n",
      "\n",
      "### writing structs ###\n",
      "\n",
      "cppfuncs/par_struct.cpp\n",
      " int N;\n",
      " double a;\n",
      " double b;\n",
      " int threads;\n",
      " char* txt;\n",
      " char* txtlist;\n",
      " double* X;\n",
      " int* Z;\n",
      "\n",
      "cppfuncs/sol_struct.cpp\n",
      " double* Y;\n",
      "\n",
      "cppfuncs/sim_struct.cpp\n",
      "\n",
      "### analyzing cppfuncs/example.cpp ###\n",
      "\n",
      "function: fun\n",
      "return type: void\n",
      "argument types: ['par_struct*', 'sol_struct*']\n",
      "\n",
      "function: fun_nostruct\n",
      "return type: void\n",
      "argument types: ['double*', 'double*', 'int*', 'int', 'double', 'double', 'int', 'char*']\n",
      "\n",
      "### analyzing cppfuncs/logs.cpp ###\n",
      "\n",
      "### analyzing cppfuncs/par_struct.cpp ###\n",
      "\n",
      "### analyzing cppfuncs/sol_struct.cpp ###\n",
      "\n",
      "### analyzing cppfuncs/example_include.cpp ###\n",
      "\n",
      "function: fun_nostruct_alt\n",
      "return type: void\n",
      "argument types: ['double*', 'double*', 'int*', 'int', 'double', 'double', 'int', 'char*']\n",
      "\n",
      "function: I_DO_NOTHING\n",
      "return type: double\n",
      "argument types: []\n",
      "\n",
      "### compiling and linking ###\n",
      "\n",
      "compile.bat:\n",
      "cd /d \"C:/Program Files/Microsoft Visual Studio/2022/Community/VC/Auxiliary/Build/\"\n",
      "call vcvarsall.bat x64\n",
      "cd /d \"c:\\Users\\gmf123\\Dropbox\\Repositories\\EconModelNotebooks\"\n",
      "cl /LD /EHsc /O2 /openmp cppfuncs/example.cpp setup_omp.cpp \n",
      "\n",
      "terminal:\n",
      "\n",
      "(base) c:\\Users\\gmf123\\Dropbox\\Repositories\\EconModelNotebooks>cd /d \"C:/Program Files/Microsoft Visual Studio/2022/Community/VC/Auxiliary/Build/\" \n",
      "\n",
      "(base) C:\\Program Files\\Microsoft Visual Studio\\2022\\Community\\VC\\Auxiliary\\Build>call vcvarsall.bat x64 \n",
      "**********************************************************************\n",
      "** Visual Studio 2022 Developer Command Prompt v17.0.6\n",
      "** Copyright (c) 2021 Microsoft Corporation\n",
      "**********************************************************************\n",
      "[vcvarsall.bat] Environment initialized for: 'x64'\n",
      "example.cpp\n",
      "setup_omp.cpp\n",
      "Generating Code...\n",
      "Microsoft (R) Incremental Linker Version 14.30.30709.0\n",
      "Copyright (C) Microsoft Corporation.  All rights reserved.\n",
      "\n",
      "/out:example.dll \n",
      "/dll \n",
      "/implib:example.lib \n",
      "example.obj \n",
      "setup_omp.obj \n",
      "   Creating library example.lib and object example.exp\n",
      "\n",
      "Microsoft (R) C/C++ Optimizing Compiler Version 19.30.30709 for x64\n",
      "Copyright (C) Microsoft Corporation.  All rights reserved.\n",
      "\n",
      "\n",
      "C++ files compiled\n",
      "C++ files loaded\n",
      "\n",
      "DONE!\n",
      "\n"
     ]
    }
   ],
   "source": [
    "model_cpp.link_to_cpp(do_print=True)"
   ]
  },
  {
   "attachments": {},
   "cell_type": "markdown",
   "id": "1759ace7",
   "metadata": {
    "papermill": {
     "duration": 0.01201,
     "end_time": "2023-07-13T16:17:09.221997",
     "exception": false,
     "start_time": "2023-07-13T16:17:09.209987",
     "status": "completed"
    },
    "tags": []
   },
   "source": [
    "**Compile warnings and errors** are shown in the terminal."
   ]
  },
  {
   "attachments": {},
   "cell_type": "markdown",
   "id": "40957c4b",
   "metadata": {
    "papermill": {
     "duration": 0.01201,
     "end_time": "2023-07-13T16:17:09.246016",
     "exception": false,
     "start_time": "2023-07-13T16:17:09.234006",
     "status": "completed"
    },
    "tags": []
   },
   "source": [
    "**Call C++:** It is now easy to call the C++ function"
   ]
  },
  {
   "cell_type": "code",
   "execution_count": 31,
   "id": "d845ff03",
   "metadata": {
    "execution": {
     "iopub.execute_input": "2023-07-13T16:17:09.272037Z",
     "iopub.status.busy": "2023-07-13T16:17:09.271037Z",
     "iopub.status.idle": "2023-07-13T16:17:09.367115Z",
     "shell.execute_reply": "2023-07-13T16:17:09.366114Z"
    },
    "papermill": {
     "duration": 0.112093,
     "end_time": "2023-07-13T16:17:09.370117",
     "exception": false,
     "start_time": "2023-07-13T16:17:09.258024",
     "status": "completed"
    },
    "tags": []
   },
   "outputs": [
    {
     "name": "stdout",
     "output_type": "stream",
     "text": [
      "fun(...)\n",
      "\n",
      "omp_get_thread_num() =  2, omp_get_num_procs() =  8\n",
      "omp_get_thread_num() =  1, omp_get_num_procs() =  8\n",
      "\n",
      "string-value: a\n",
      "looked up value par->a = 2\n",
      "is \"a\" in \"N|threads\": false\n",
      "looked up value par->N = 10\n",
      "looked up value par->threads = 4\n",
      "\n",
      "sizeof(par->N) = 4\n"
     ]
    }
   ],
   "source": [
    "model_cpp.cpp.fun(par,sol)\n",
    "assert np.allclose(par.X*(par.a+par.b),sol.Y)"
   ]
  },
  {
   "attachments": {},
   "cell_type": "markdown",
   "id": "e8c53dec",
   "metadata": {
    "papermill": {
     "duration": 0.01201,
     "end_time": "2023-07-13T16:17:09.403145",
     "exception": false,
     "start_time": "2023-07-13T16:17:09.391135",
     "status": "completed"
    },
    "tags": []
   },
   "source": [
    "**Re-compile:**"
   ]
  },
  {
   "cell_type": "code",
   "execution_count": 32,
   "id": "d387a084",
   "metadata": {
    "execution": {
     "iopub.execute_input": "2023-07-13T16:17:09.429165Z",
     "iopub.status.busy": "2023-07-13T16:17:09.428164Z",
     "iopub.status.idle": "2023-07-13T16:17:11.783083Z",
     "shell.execute_reply": "2023-07-13T16:17:11.782082Z"
    },
    "papermill": {
     "duration": 2.371933,
     "end_time": "2023-07-13T16:17:11.787087",
     "exception": false,
     "start_time": "2023-07-13T16:17:09.415154",
     "status": "completed"
    },
    "tags": []
   },
   "outputs": [],
   "source": [
    "model_cpp.cpp.recompile()"
   ]
  },
  {
   "attachments": {},
   "cell_type": "markdown",
   "id": "ead86a86",
   "metadata": {
    "papermill": {
     "duration": 0.01201,
     "end_time": "2023-07-13T16:17:11.819113",
     "exception": false,
     "start_time": "2023-07-13T16:17:11.807103",
     "status": "completed"
    },
    "tags": []
   },
   "source": [
    "**Multiple models:** "
   ]
  },
  {
   "cell_type": "code",
   "execution_count": 33,
   "id": "e283fd33",
   "metadata": {
    "execution": {
     "iopub.execute_input": "2023-07-13T16:17:11.845134Z",
     "iopub.status.busy": "2023-07-13T16:17:11.844133Z",
     "iopub.status.idle": "2023-07-13T16:17:14.262094Z",
     "shell.execute_reply": "2023-07-13T16:17:14.261093Z"
    },
    "papermill": {
     "duration": 2.433974,
     "end_time": "2023-07-13T16:17:14.265097",
     "exception": false,
     "start_time": "2023-07-13T16:17:11.831123",
     "status": "completed"
    },
    "tags": []
   },
   "outputs": [
    {
     "name": "stdout",
     "output_type": "stream",
     "text": [
      "fun_nostruct(...)\n",
      "omp_get_thread_num() =  2, omp_get_num_procs() =  8\n",
      "\n",
      "string-value: a\n",
      "test was succesfull\n",
      "\n"
     ]
    }
   ],
   "source": [
    "# a. don't compile when the .dll file is already loaded\n",
    "model_cpp_alt = MyModelClass_cpp('testcpp_alt')\n",
    "model_cpp_alt.link_to_cpp(force_compile=False) # default is force_compile = True\n",
    "\n",
    "# b. function call\n",
    "par = model_cpp_alt.par\n",
    "model_cpp_alt.cpp.fun_nostruct(par.X,sol.Y,par.Z,par.N,par.a,par.b,par.threads,par.txt)\n",
    "assert np.allclose(par.X*(par.a+par.b)*par.Z,sol.Y)\n",
    "\n",
    "# c. delink without removing the .dll file\n",
    "model_cpp.cpp.delink()\n",
    "\n",
    "# d. delete model -> automatically calls .cpp.delink()\n",
    "del model_cpp_alt\n",
    "\n",
    "# e. now we can compile again\n",
    "model_cpp_alt = MyModelClass_cpp('testcpp_alt')\n",
    "model_cpp_alt.link_to_cpp()\n",
    "model_cpp_alt.cpp.clean_up()"
   ]
  },
  {
   "cell_type": "markdown",
   "id": "ee9259af",
   "metadata": {
    "papermill": {
     "duration": 0.01301,
     "end_time": "2023-07-13T16:17:14.299124",
     "exception": false,
     "start_time": "2023-07-13T16:17:14.286114",
     "status": "completed"
    },
    "tags": []
   },
   "source": [
    "## 6. <a id='toc6_'></a>[Clean-up](#toc0_)"
   ]
  },
  {
   "cell_type": "code",
   "execution_count": 34,
   "id": "2036e4b2",
   "metadata": {
    "execution": {
     "iopub.execute_input": "2023-07-13T16:17:14.325146Z",
     "iopub.status.busy": "2023-07-13T16:17:14.324145Z",
     "iopub.status.idle": "2023-07-13T16:17:14.408213Z",
     "shell.execute_reply": "2023-07-13T16:17:14.408213Z"
    },
    "papermill": {
     "duration": 0.100082,
     "end_time": "2023-07-13T16:17:14.411216",
     "exception": false,
     "start_time": "2023-07-13T16:17:14.311134",
     "status": "completed"
    },
    "tags": []
   },
   "outputs": [],
   "source": [
    "shutil.rmtree('saved')"
   ]
  }
 ],
 "metadata": {
  "kernelspec": {
   "display_name": "Python 3 (ipykernel)",
   "language": "python",
   "name": "python3"
  },
  "language_info": {
   "codemirror_mode": {
    "name": "ipython",
    "version": 3
   },
   "file_extension": ".py",
   "mimetype": "text/x-python",
   "name": "python",
   "nbconvert_exporter": "python",
   "pygments_lexer": "ipython3",
   "version": "3.12.4"
  },
  "papermill": {
   "default_parameters": {},
   "duration": 15.87291,
   "end_time": "2023-07-13T16:17:14.836562",
   "environment_variables": {},
   "exception": null,
   "input_path": "01. Using the EconModelClass.ipynb",
   "output_path": "temp_notebooks/01. Using the EconModelClass.ipynb",
   "parameters": {},
   "start_time": "2023-07-13T16:16:58.963652",
   "version": "2.4.0"
  },
  "toc": {
   "base_numbering": 1,
   "nav_menu": {},
   "number_sections": true,
   "sideBar": true,
   "skip_h1_title": false,
   "title_cell": "Table of Contents",
   "title_sidebar": "Contents",
   "toc_cell": true,
   "toc_position": {},
   "toc_section_display": true,
   "toc_window_display": false
  },
  "toc-autonumbering": true
 },
 "nbformat": 4,
 "nbformat_minor": 5
}
