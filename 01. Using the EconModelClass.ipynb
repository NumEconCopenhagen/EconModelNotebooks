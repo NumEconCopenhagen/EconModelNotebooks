{
 "cells": [
  {
   "cell_type": "markdown",
   "id": "f5256459",
   "metadata": {
    "papermill": {
     "duration": 0.020015,
     "end_time": "2023-07-13T14:54:20.143413",
     "exception": false,
     "start_time": "2023-07-13T14:54:20.123398",
     "status": "completed"
    },
    "tags": []
   },
   "source": [
    "# Using the EconModelClass"
   ]
  },
  {
   "cell_type": "markdown",
   "id": "f9552c74",
   "metadata": {
    "papermill": {
     "duration": 0.011009,
     "end_time": "2023-07-13T14:54:20.166431",
     "exception": false,
     "start_time": "2023-07-13T14:54:20.155422",
     "status": "completed"
    },
    "tags": []
   },
   "source": [
    "**Table of contents**<a id='toc0_'></a>    \n",
    "- 1. [Baseline Usage](#toc1_)    \n",
    "- 2. [Copy, save and load](#toc2_)    \n",
    "- 3. [To and from dictionary](#toc3_)    \n",
    "- 4. [Numba](#toc4_)    \n",
    "  - 4.1. [Advanced: Recompilling](#toc4_1_)    \n",
    "  - 4.2. [Advanced: Type inference](#toc4_2_)    \n",
    "  - 4.3. [Advanced: Error handling](#toc4_3_)    \n",
    "- 5. [Calling C++](#toc5_)    \n",
    "- 6. [Clean-up](#toc6_)    \n",
    "\n",
    "<!-- vscode-jupyter-toc-config\n",
    "\tnumbering=true\n",
    "\tanchor=true\n",
    "\tflat=false\n",
    "\tminLevel=2\n",
    "\tmaxLevel=6\n",
    "\t/vscode-jupyter-toc-config -->\n",
    "<!-- THIS CELL WILL BE REPLACED ON TOC UPDATE. DO NOT WRITE YOUR TEXT IN THIS CELL -->"
   ]
  },
  {
   "attachments": {},
   "cell_type": "markdown",
   "id": "e4d84da7",
   "metadata": {
    "papermill": {
     "duration": 0.010008,
     "end_time": "2023-07-13T14:54:20.187447",
     "exception": false,
     "start_time": "2023-07-13T14:54:20.177439",
     "status": "completed"
    },
    "tags": []
   },
   "source": [
    "`EconModel` is a small package for easily working with economic models in Python. It has four objectives:\n",
    "\n",
    "1. Make it easy to write well-structed code.\n",
    "1. Provide standard functionality for copying, saving and loading.\n",
    "1. Provide an easy interface to call [numba](http://numba.pydata.org/) JIT compilled functions.\n",
    "1. Provide an easy interface to call C++ functions.\n",
    "\n",
    "The two first objectives should be of interest to everybody, while the two last objectives are for more advanced users."
   ]
  },
  {
   "attachments": {},
   "cell_type": "markdown",
   "id": "ab8d2fa9",
   "metadata": {
    "papermill": {
     "duration": 0.010008,
     "end_time": "2023-07-13T14:54:20.208463",
     "exception": false,
     "start_time": "2023-07-13T14:54:20.198455",
     "status": "completed"
    },
    "tags": []
   },
   "source": [
    "This notebook provides a simple example for using the `EconModelClass`. See documentation in [EconModel/README.md](https://github.com/NumEconCopenhagen/EconModel#econmodel)."
   ]
  },
  {
   "cell_type": "code",
   "execution_count": 1,
   "id": "23e3a357",
   "metadata": {
    "execution": {
     "iopub.execute_input": "2023-07-13T14:54:20.232481Z",
     "iopub.status.busy": "2023-07-13T14:54:20.231480Z",
     "iopub.status.idle": "2023-07-13T14:54:20.648796Z",
     "shell.execute_reply": "2023-07-13T14:54:20.648796Z"
    },
    "papermill": {
     "duration": 0.433328,
     "end_time": "2023-07-13T14:54:20.652799",
     "exception": false,
     "start_time": "2023-07-13T14:54:20.219471",
     "status": "completed"
    },
    "tags": []
   },
   "outputs": [],
   "source": [
    "%load_ext autoreload\n",
    "%autoreload 2\n",
    "\n",
    "import shutil\n",
    "import numpy as np\n",
    "import numba as nb\n",
    "\n",
    "from EconModel import EconModelClass, jit"
   ]
  },
  {
   "cell_type": "markdown",
   "id": "86119eee",
   "metadata": {
    "papermill": {
     "duration": 0.011008,
     "end_time": "2023-07-13T14:54:20.682822",
     "exception": false,
     "start_time": "2023-07-13T14:54:20.671814",
     "status": "completed"
    },
    "tags": []
   },
   "source": [
    "## 1. <a id='toc1_'></a>[Baseline Usage](#toc0_)"
   ]
  },
  {
   "attachments": {},
   "cell_type": "markdown",
   "id": "cbe7cc3c",
   "metadata": {
    "papermill": {
     "duration": 0.010007,
     "end_time": "2023-07-13T14:54:20.703837",
     "exception": false,
     "start_time": "2023-07-13T14:54:20.693830",
     "status": "completed"
    },
    "tags": []
   },
   "source": [
    "The model is **required** to have the following three methods:\n",
    "\n",
    "1. `.settings()`: Choose fundamental settings.\n",
    "1. `.setup()`: Set free parameters.\n",
    "1. `.allocate()`: Set compound parameters and allocate arrays.\n",
    "\n",
    "When the model is initialized the call order is:\n",
    "\n",
    "1. `.settings()`\n",
    "2. `.setup()` \n",
    "3. `.allocate()`\n",
    "\n",
    "Per default the namespaces `.par` (for parameters), `.sol` (for solution objects) and `.sim` (for simulation objects) are available.\n",
    "\n",
    "The philosophy of the package is that all the content of the model is contained in these namespaces. \n",
    "\n",
    "After the model has been initialized, no additional entries should be added to the namespaces, and each entry should only change *value(s)* (or shape for arrays), but never *type* (or number of dimensions for arrays)."
   ]
  },
  {
   "cell_type": "code",
   "execution_count": 2,
   "id": "d10938f3",
   "metadata": {
    "execution": {
     "iopub.execute_input": "2023-07-13T14:54:20.727857Z",
     "iopub.status.busy": "2023-07-13T14:54:20.726856Z",
     "iopub.status.idle": "2023-07-13T14:54:20.782898Z",
     "shell.execute_reply": "2023-07-13T14:54:20.782898Z"
    },
    "papermill": {
     "duration": 0.071054,
     "end_time": "2023-07-13T14:54:20.785900",
     "exception": false,
     "start_time": "2023-07-13T14:54:20.714846",
     "status": "completed"
    },
    "tags": []
   },
   "outputs": [],
   "source": [
    "class MyModelClass(EconModelClass):\n",
    "    \n",
    "    # __init__ is inherited from EconModelClass\n",
    "    \n",
    "    def settings(self): # required\n",
    "        \"\"\" choose settings \"\"\"\n",
    "            \n",
    "        pass # nothing chosen here\n",
    "    \n",
    "    def setup(self): # required\n",
    "        \"\"\" set free parameters \"\"\"\n",
    "        \n",
    "        par = self.par\n",
    "        \n",
    "        par.N = 10\n",
    "        par.a = 2.0\n",
    "        par.b = 1.0\n",
    "        par.threads = 4\n",
    "        par.txt = 'a'\n",
    "        par.txtlist = 'N|threads'\n",
    "        \n",
    "    def allocate(self): # required\n",
    "        \"\"\" set compound parameters and allocate arrays \"\"\"\n",
    "        \n",
    "        par = self.par\n",
    "        sol = self.sol\n",
    "        \n",
    "        par.X = np.linspace(0,10,par.N)\n",
    "        sol.Y = np.zeros(par.N)\n",
    "    \n",
    "    def solve(self): # user-defined\n",
    "        \"\"\" solve the model\"\"\"\n",
    "        \n",
    "        par = self.par\n",
    "        sol = self.sol\n",
    "        \n",
    "        sol.Y[:] = par.X*(par.a+par.b)\n"
   ]
  },
  {
   "attachments": {},
   "cell_type": "markdown",
   "id": "5b4ba1d3",
   "metadata": {
    "papermill": {
     "duration": 0.01201,
     "end_time": "2023-07-13T14:54:20.816924",
     "exception": false,
     "start_time": "2023-07-13T14:54:20.804914",
     "status": "completed"
    },
    "tags": []
   },
   "source": [
    "In `.settings()` the user can change the default behavior by specifying: \n",
    "\n",
    "1. `self.savefolder = str`: Filepath to save in and load from (default: 'saved').\n",
    "1. `self.namespaces = [str]`: List of namespaces (in addition to `.par`, `.sol`, `.sol`).\n",
    "1. `self.other_attrs = [str]`: List of additional attributes to be copied and saved.\n"
   ]
  },
  {
   "cell_type": "code",
   "execution_count": 3,
   "id": "f114c3dd",
   "metadata": {
    "execution": {
     "iopub.execute_input": "2023-07-13T14:54:20.840942Z",
     "iopub.status.busy": "2023-07-13T14:54:20.839941Z",
     "iopub.status.idle": "2023-07-13T14:54:20.900029Z",
     "shell.execute_reply": "2023-07-13T14:54:20.900029Z"
    },
    "papermill": {
     "duration": 0.077058,
     "end_time": "2023-07-13T14:54:20.903989",
     "exception": false,
     "start_time": "2023-07-13T14:54:20.826931",
     "status": "completed"
    },
    "tags": []
   },
   "outputs": [],
   "source": [
    "model = MyModelClass(name='example')"
   ]
  },
  {
   "cell_type": "code",
   "execution_count": 4,
   "id": "a8887a5b",
   "metadata": {
    "execution": {
     "iopub.execute_input": "2023-07-13T14:54:20.942016Z",
     "iopub.status.busy": "2023-07-13T14:54:20.941018Z",
     "iopub.status.idle": "2023-07-13T14:54:21.004065Z",
     "shell.execute_reply": "2023-07-13T14:54:21.004065Z"
    },
    "papermill": {
     "duration": 0.084064,
     "end_time": "2023-07-13T14:54:21.008068",
     "exception": false,
     "start_time": "2023-07-13T14:54:20.924004",
     "status": "completed"
    },
    "tags": []
   },
   "outputs": [],
   "source": [
    "model.solve()"
   ]
  },
  {
   "attachments": {},
   "cell_type": "markdown",
   "id": "50f5b4d3",
   "metadata": {
    "papermill": {
     "duration": 0.011007,
     "end_time": "2023-07-13T14:54:21.037090",
     "exception": false,
     "start_time": "2023-07-13T14:54:21.026083",
     "status": "completed"
    },
    "tags": []
   },
   "source": [
    "**Print description:**"
   ]
  },
  {
   "cell_type": "code",
   "execution_count": 5,
   "id": "1a9c8514",
   "metadata": {
    "execution": {
     "iopub.execute_input": "2023-07-13T14:54:21.062110Z",
     "iopub.status.busy": "2023-07-13T14:54:21.061109Z",
     "iopub.status.idle": "2023-07-13T14:54:21.127158Z",
     "shell.execute_reply": "2023-07-13T14:54:21.127158Z"
    },
    "papermill": {
     "duration": 0.083063,
     "end_time": "2023-07-13T14:54:21.131161",
     "exception": false,
     "start_time": "2023-07-13T14:54:21.048098",
     "status": "completed"
    },
    "tags": []
   },
   "outputs": [
    {
     "name": "stdout",
     "output_type": "stream",
     "text": [
      "Modelclass: MyModelClass\n",
      "Name: example\n",
      "\n",
      "namespaces: ['par', 'sol', 'sim']\n",
      "other_attrs: []\n",
      "savefolder: saved\n",
      "cpp_filename: None\n",
      "\n",
      "par:\n",
      " N = 10 [int]\n",
      " a = 2.0 [float]\n",
      " b = 1.0 [float]\n",
      " threads = 4 [int]\n",
      " txt = a [str]\n",
      " txtlist = N|threads [str]\n",
      " X = ndarray[float64] with shape = (10,) [0.0 mb]\n",
      " memory: 0.0 mb\n",
      "\n",
      "sol:\n",
      " Y = ndarray[float64] with shape = (10,) [0.0 mb]\n",
      " memory: 0.0 mb\n",
      "\n",
      "sim:\n",
      " memory: 0.0 mb\n",
      "\n"
     ]
    }
   ],
   "source": [
    "print(model)"
   ]
  },
  {
   "attachments": {},
   "cell_type": "markdown",
   "id": "b1473ee9",
   "metadata": {
    "papermill": {
     "duration": 0.011009,
     "end_time": "2023-07-13T14:54:21.159183",
     "exception": false,
     "start_time": "2023-07-13T14:54:21.148174",
     "status": "completed"
    },
    "tags": []
   },
   "source": [
    "**Updating at initialization.** Called after `.setup()`, but before `.allocate()`."
   ]
  },
  {
   "cell_type": "code",
   "execution_count": 6,
   "id": "a437ad5d",
   "metadata": {
    "execution": {
     "iopub.execute_input": "2023-07-13T14:54:21.184202Z",
     "iopub.status.busy": "2023-07-13T14:54:21.183201Z",
     "iopub.status.idle": "2023-07-13T14:54:21.250297Z",
     "shell.execute_reply": "2023-07-13T14:54:21.250297Z"
    },
    "papermill": {
     "duration": 0.08411,
     "end_time": "2023-07-13T14:54:21.254301",
     "exception": false,
     "start_time": "2023-07-13T14:54:21.170191",
     "status": "completed"
    },
    "tags": []
   },
   "outputs": [
    {
     "name": "stdout",
     "output_type": "stream",
     "text": [
      "3.0\n"
     ]
    }
   ],
   "source": [
    "model_alt = MyModelClass(name='alt',par={'a':3.0,'b':1.2})\n",
    "print(model_alt.par.a)"
   ]
  },
  {
   "attachments": {},
   "cell_type": "markdown",
   "id": "f66c1013",
   "metadata": {
    "papermill": {
     "duration": 0.011009,
     "end_time": "2023-07-13T14:54:21.283277",
     "exception": false,
     "start_time": "2023-07-13T14:54:21.272268",
     "status": "completed"
    },
    "tags": []
   },
   "source": [
    "**Unpack for later use:**"
   ]
  },
  {
   "cell_type": "code",
   "execution_count": 7,
   "id": "cfe2194e",
   "metadata": {
    "execution": {
     "iopub.execute_input": "2023-07-13T14:54:21.307295Z",
     "iopub.status.busy": "2023-07-13T14:54:21.307295Z",
     "iopub.status.idle": "2023-07-13T14:54:21.377347Z",
     "shell.execute_reply": "2023-07-13T14:54:21.377347Z"
    },
    "papermill": {
     "duration": 0.087109,
     "end_time": "2023-07-13T14:54:21.381394",
     "exception": false,
     "start_time": "2023-07-13T14:54:21.294285",
     "status": "completed"
    },
    "tags": []
   },
   "outputs": [],
   "source": [
    "par = model.par\n",
    "sol = model.sol"
   ]
  },
  {
   "attachments": {},
   "cell_type": "markdown",
   "id": "36f61408",
   "metadata": {
    "papermill": {
     "duration": 0.011009,
     "end_time": "2023-07-13T14:54:21.410373",
     "exception": false,
     "start_time": "2023-07-13T14:54:21.399364",
     "status": "completed"
    },
    "tags": []
   },
   "source": [
    "**Under the hood:** Each namespace is techically a `SimpleNamespace` (from `types`)"
   ]
  },
  {
   "cell_type": "code",
   "execution_count": 8,
   "id": "f95bf68f",
   "metadata": {
    "execution": {
     "iopub.execute_input": "2023-07-13T14:54:21.434391Z",
     "iopub.status.busy": "2023-07-13T14:54:21.433390Z",
     "iopub.status.idle": "2023-07-13T14:54:21.499486Z",
     "shell.execute_reply": "2023-07-13T14:54:21.498483Z"
    },
    "papermill": {
     "duration": 0.081105,
     "end_time": "2023-07-13T14:54:21.502486",
     "exception": false,
     "start_time": "2023-07-13T14:54:21.421381",
     "status": "completed"
    },
    "tags": []
   },
   "outputs": [
    {
     "data": {
      "text/plain": [
       "types.SimpleNamespace"
      ]
     },
     "execution_count": 8,
     "metadata": {},
     "output_type": "execute_result"
    }
   ],
   "source": [
    "type(par)"
   ]
  },
  {
   "cell_type": "markdown",
   "id": "ec62e58c",
   "metadata": {
    "papermill": {
     "duration": 0.010008,
     "end_time": "2023-07-13T14:54:21.529463",
     "exception": false,
     "start_time": "2023-07-13T14:54:21.519455",
     "status": "completed"
    },
    "tags": []
   },
   "source": [
    "## 2. <a id='toc2_'></a>[Copy, save and load](#toc0_)"
   ]
  },
  {
   "cell_type": "code",
   "execution_count": 9,
   "id": "c283708b",
   "metadata": {
    "execution": {
     "iopub.execute_input": "2023-07-13T14:54:21.554482Z",
     "iopub.status.busy": "2023-07-13T14:54:21.553482Z",
     "iopub.status.idle": "2023-07-13T14:54:21.631584Z",
     "shell.execute_reply": "2023-07-13T14:54:21.631584Z"
    },
    "papermill": {
     "duration": 0.095118,
     "end_time": "2023-07-13T14:54:21.635589",
     "exception": false,
     "start_time": "2023-07-13T14:54:21.540471",
     "status": "completed"
    },
    "tags": []
   },
   "outputs": [],
   "source": [
    "model_copy = model.copy(name='example_copy')\n",
    "model_copy.save()"
   ]
  },
  {
   "cell_type": "code",
   "execution_count": 10,
   "id": "04447120",
   "metadata": {
    "execution": {
     "iopub.execute_input": "2023-07-13T14:54:21.666566Z",
     "iopub.status.busy": "2023-07-13T14:54:21.666566Z",
     "iopub.status.idle": "2023-07-13T14:54:21.737665Z",
     "shell.execute_reply": "2023-07-13T14:54:21.736662Z"
    },
    "papermill": {
     "duration": 0.087066,
     "end_time": "2023-07-13T14:54:21.740623",
     "exception": false,
     "start_time": "2023-07-13T14:54:21.653557",
     "status": "completed"
    },
    "tags": []
   },
   "outputs": [
    {
     "name": "stdout",
     "output_type": "stream",
     "text": [
      "Modelclass: MyModelClass\n",
      "Name: example_copy\n",
      "\n",
      "namespaces: ['par', 'sol', 'sim']\n",
      "other_attrs: []\n",
      "savefolder: saved\n",
      "cpp_filename: None\n",
      "\n",
      "par:\n",
      " N = 10 [int]\n",
      " a = 2.0 [float]\n",
      " b = 1.0 [float]\n",
      " threads = 4 [int]\n",
      " txt = a [str]\n",
      " txtlist = N|threads [str]\n",
      " X = ndarray[float64] with shape = (10,) [0.0 mb]\n",
      " memory: 0.0 mb\n",
      "\n",
      "sol:\n",
      " Y = ndarray[float64] with shape = (10,) [0.0 mb]\n",
      " memory: 0.0 mb\n",
      "\n",
      "sim:\n",
      " memory: 0.0 mb\n",
      "\n"
     ]
    }
   ],
   "source": [
    "model_loaded = MyModelClass(name='example_copy',load=True)\n",
    "print(model_loaded)"
   ]
  },
  {
   "cell_type": "markdown",
   "id": "052ffa32",
   "metadata": {
    "papermill": {
     "duration": 0.01098,
     "end_time": "2023-07-13T14:54:21.770646",
     "exception": false,
     "start_time": "2023-07-13T14:54:21.759666",
     "status": "completed"
    },
    "tags": []
   },
   "source": [
    "## 3. <a id='toc3_'></a>[To and from dictionary](#toc0_)"
   ]
  },
  {
   "cell_type": "code",
   "execution_count": 11,
   "id": "16162065",
   "metadata": {
    "execution": {
     "iopub.execute_input": "2023-07-13T14:54:21.794664Z",
     "iopub.status.busy": "2023-07-13T14:54:21.794664Z",
     "iopub.status.idle": "2023-07-13T14:54:21.857756Z",
     "shell.execute_reply": "2023-07-13T14:54:21.857756Z"
    },
    "papermill": {
     "duration": 0.080104,
     "end_time": "2023-07-13T14:54:21.861758",
     "exception": false,
     "start_time": "2023-07-13T14:54:21.781654",
     "status": "completed"
    },
    "tags": []
   },
   "outputs": [
    {
     "name": "stdout",
     "output_type": "stream",
     "text": [
      "Modelclass: MyModelClass\n",
      "Name: example_dict\n",
      "\n",
      "namespaces: ['par', 'sol', 'sim']\n",
      "other_attrs: []\n",
      "savefolder: saved\n",
      "cpp_filename: None\n",
      "\n",
      "par:\n",
      " N = 10 [int]\n",
      " a = 2.0 [float]\n",
      " b = 1.0 [float]\n",
      " threads = 4 [int]\n",
      " txt = a [str]\n",
      " txtlist = N|threads [str]\n",
      " X = ndarray[float64] with shape = (10,) [0.0 mb]\n",
      " memory: 0.0 mb\n",
      "\n",
      "sol:\n",
      " Y = ndarray[float64] with shape = (10,) [0.0 mb]\n",
      " memory: 0.0 mb\n",
      "\n",
      "sim:\n",
      " memory: 0.0 mb\n",
      "\n"
     ]
    }
   ],
   "source": [
    "modeldict = model.as_dict()\n",
    "model_dict = MyModelClass(name='example_dict',from_dict=modeldict)\n",
    "print(model_dict)"
   ]
  },
  {
   "cell_type": "markdown",
   "id": "9a399e7b",
   "metadata": {
    "papermill": {
     "duration": 0.01101,
     "end_time": "2023-07-13T14:54:21.891739",
     "exception": false,
     "start_time": "2023-07-13T14:54:21.880729",
     "status": "completed"
    },
    "tags": []
   },
   "source": [
    "## 4. <a id='toc4_'></a>[Numba](#toc0_)"
   ]
  },
  {
   "attachments": {},
   "cell_type": "markdown",
   "id": "9c787968",
   "metadata": {
    "papermill": {
     "duration": 0.019014,
     "end_time": "2023-07-13T14:54:21.926763",
     "exception": false,
     "start_time": "2023-07-13T14:54:21.907749",
     "status": "completed"
    },
    "tags": []
   },
   "source": [
    "**Goal:** Call [numba](http://numba.pydata.org/) JIT compilled functions easily using namespaces.\n",
    "\n",
    "**Problem:** [numba](http://numba.pydata.org/) only allows specific types (and not e.g. `SimpleNamespace`).\n",
    "\n",
    "**Under-the-hood:** `jit(model)` temporarily turns all namespaces into `namedtuples`, which can be used as input in JIT compilled functions. "
   ]
  },
  {
   "cell_type": "code",
   "execution_count": 12,
   "id": "72d6664a",
   "metadata": {
    "execution": {
     "iopub.execute_input": "2023-07-13T14:54:21.950782Z",
     "iopub.status.busy": "2023-07-13T14:54:21.950782Z",
     "iopub.status.idle": "2023-07-13T14:54:22.030886Z",
     "shell.execute_reply": "2023-07-13T14:54:22.030886Z"
    },
    "papermill": {
     "duration": 0.096115,
     "end_time": "2023-07-13T14:54:22.033888",
     "exception": false,
     "start_time": "2023-07-13T14:54:21.937773",
     "status": "completed"
    },
    "tags": []
   },
   "outputs": [],
   "source": [
    "@nb.njit\n",
    "def fun(par,sol):\n",
    "    sol.Y[:] = par.X*(par.a+par.b)"
   ]
  },
  {
   "cell_type": "code",
   "execution_count": 13,
   "id": "8a9f909e",
   "metadata": {
    "execution": {
     "iopub.execute_input": "2023-07-13T14:54:22.066870Z",
     "iopub.status.busy": "2023-07-13T14:54:22.065869Z",
     "iopub.status.idle": "2023-07-13T14:54:22.127916Z",
     "shell.execute_reply": "2023-07-13T14:54:22.127916Z"
    },
    "papermill": {
     "duration": 0.079102,
     "end_time": "2023-07-13T14:54:22.131961",
     "exception": false,
     "start_time": "2023-07-13T14:54:22.052859",
     "status": "completed"
    },
    "tags": []
   },
   "outputs": [],
   "source": [
    "def test_numba(model):\n",
    "    with jit(model) as model_jit:\n",
    "        fun(model_jit.par,model_jit.sol)"
   ]
  },
  {
   "cell_type": "code",
   "execution_count": 14,
   "id": "624b5bdf",
   "metadata": {
    "execution": {
     "iopub.execute_input": "2023-07-13T14:54:22.164944Z",
     "iopub.status.busy": "2023-07-13T14:54:22.163943Z",
     "iopub.status.idle": "2023-07-13T14:54:22.886533Z",
     "shell.execute_reply": "2023-07-13T14:54:22.886533Z"
    },
    "papermill": {
     "duration": 0.739602,
     "end_time": "2023-07-13T14:54:22.890535",
     "exception": false,
     "start_time": "2023-07-13T14:54:22.150933",
     "status": "completed"
    },
    "tags": []
   },
   "outputs": [
    {
     "name": "stdout",
     "output_type": "stream",
     "text": [
      "CPU times: total: 641 ms\n",
      "Wall time: 653 ms\n",
      "CPU times: total: 0 ns\n",
      "Wall time: 0 ns\n"
     ]
    }
   ],
   "source": [
    "%time test_numba(model)\n",
    "%time test_numba(model)"
   ]
  },
  {
   "attachments": {},
   "cell_type": "markdown",
   "id": "9e2a07de",
   "metadata": {
    "papermill": {
     "duration": 0.011008,
     "end_time": "2023-07-13T14:54:22.919515",
     "exception": false,
     "start_time": "2023-07-13T14:54:22.908507",
     "status": "completed"
    },
    "tags": []
   },
   "source": [
    "**Note:** The first run is slower due to compiling."
   ]
  },
  {
   "attachments": {},
   "cell_type": "markdown",
   "id": "eef478b2",
   "metadata": {
    "papermill": {
     "duration": 0.011008,
     "end_time": "2023-07-13T14:54:22.941532",
     "exception": false,
     "start_time": "2023-07-13T14:54:22.930524",
     "status": "completed"
    },
    "tags": []
   },
   "source": [
    "**Check result:**"
   ]
  },
  {
   "cell_type": "code",
   "execution_count": 15,
   "id": "8218abc8",
   "metadata": {
    "execution": {
     "iopub.execute_input": "2023-07-13T14:54:22.965550Z",
     "iopub.status.busy": "2023-07-13T14:54:22.964550Z",
     "iopub.status.idle": "2023-07-13T14:54:23.033644Z",
     "shell.execute_reply": "2023-07-13T14:54:23.033644Z"
    },
    "papermill": {
     "duration": 0.086109,
     "end_time": "2023-07-13T14:54:23.037649",
     "exception": false,
     "start_time": "2023-07-13T14:54:22.951540",
     "status": "completed"
    },
    "tags": []
   },
   "outputs": [],
   "source": [
    "assert np.allclose(par.X*(par.a+par.b),sol.Y)"
   ]
  },
  {
   "cell_type": "markdown",
   "id": "34d90be5",
   "metadata": {
    "papermill": {
     "duration": 0.011009,
     "end_time": "2023-07-13T14:54:23.067628",
     "exception": false,
     "start_time": "2023-07-13T14:54:23.056619",
     "status": "completed"
    },
    "tags": []
   },
   "source": [
    "### 4.1. <a id='toc4_1_'></a>[Advanced: Recompilling](#toc0_)"
   ]
  },
  {
   "attachments": {},
   "cell_type": "markdown",
   "id": "8ab6c0d8",
   "metadata": {
    "papermill": {
     "duration": 0.011009,
     "end_time": "2023-07-13T14:54:23.089645",
     "exception": false,
     "start_time": "2023-07-13T14:54:23.078636",
     "status": "completed"
    },
    "tags": []
   },
   "source": [
    "When a new model is created, re-compilation of JIT functions are normally necessary:"
   ]
  },
  {
   "cell_type": "code",
   "execution_count": 16,
   "id": "6f9c3b37",
   "metadata": {
    "execution": {
     "iopub.execute_input": "2023-07-13T14:54:23.113662Z",
     "iopub.status.busy": "2023-07-13T14:54:23.112662Z",
     "iopub.status.idle": "2023-07-13T14:54:23.369899Z",
     "shell.execute_reply": "2023-07-13T14:54:23.368858Z"
    },
    "papermill": {
     "duration": 0.27222,
     "end_time": "2023-07-13T14:54:23.372872",
     "exception": false,
     "start_time": "2023-07-13T14:54:23.100652",
     "status": "completed"
    },
    "tags": []
   },
   "outputs": [
    {
     "name": "stdout",
     "output_type": "stream",
     "text": [
      "CPU times: total: 188 ms\n",
      "Wall time: 185 ms\n",
      "CPU times: total: 0 ns\n",
      "Wall time: 0 ns\n"
     ]
    }
   ],
   "source": [
    "model_new = MyModelClass(name='numba_new')\n",
    "%time test_numba(model_new)\n",
    "%time test_numba(model_new)"
   ]
  },
  {
   "attachments": {},
   "cell_type": "markdown",
   "id": "fb453244",
   "metadata": {
    "papermill": {
     "duration": 0.012009,
     "end_time": "2023-07-13T14:54:23.402882",
     "exception": false,
     "start_time": "2023-07-13T14:54:23.390873",
     "status": "completed"
    },
    "tags": []
   },
   "source": [
    "This is *not* the case, when a copy is made instead:"
   ]
  },
  {
   "cell_type": "code",
   "execution_count": 17,
   "id": "cf0c6301",
   "metadata": {
    "execution": {
     "iopub.execute_input": "2023-07-13T14:54:23.426900Z",
     "iopub.status.busy": "2023-07-13T14:54:23.425899Z",
     "iopub.status.idle": "2023-07-13T14:54:23.496997Z",
     "shell.execute_reply": "2023-07-13T14:54:23.495994Z"
    },
    "papermill": {
     "duration": 0.086109,
     "end_time": "2023-07-13T14:54:23.499999",
     "exception": false,
     "start_time": "2023-07-13T14:54:23.413890",
     "status": "completed"
    },
    "tags": []
   },
   "outputs": [
    {
     "name": "stdout",
     "output_type": "stream",
     "text": [
      "CPU times: total: 0 ns\n",
      "Wall time: 0 ns\n"
     ]
    }
   ],
   "source": [
    "model_new_ = model_new.copy(name='numba_new_copy')\n",
    "%time test_numba(model_new_)"
   ]
  },
  {
   "cell_type": "markdown",
   "id": "03bcdff2",
   "metadata": {
    "papermill": {
     "duration": 0.012009,
     "end_time": "2023-07-13T14:54:23.529978",
     "exception": false,
     "start_time": "2023-07-13T14:54:23.517969",
     "status": "completed"
    },
    "tags": []
   },
   "source": [
    "### 4.2. <a id='toc4_2_'></a>[Advanced: Type inference](#toc0_)"
   ]
  },
  {
   "attachments": {},
   "cell_type": "markdown",
   "id": "2f8ef93f",
   "metadata": {
    "papermill": {
     "duration": 0.011008,
     "end_time": "2023-07-13T14:54:23.551994",
     "exception": false,
     "start_time": "2023-07-13T14:54:23.540986",
     "status": "completed"
    },
    "tags": []
   },
   "source": [
    "When the model is created **all types are infered** and the information is saved in the nested-dict `_ns_specs`. E.g.:"
   ]
  },
  {
   "cell_type": "code",
   "execution_count": 18,
   "id": "cff9584c",
   "metadata": {
    "execution": {
     "iopub.execute_input": "2023-07-13T14:54:23.576013Z",
     "iopub.status.busy": "2023-07-13T14:54:23.576013Z",
     "iopub.status.idle": "2023-07-13T14:54:23.646110Z",
     "shell.execute_reply": "2023-07-13T14:54:23.645110Z"
    },
    "papermill": {
     "duration": 0.086066,
     "end_time": "2023-07-13T14:54:23.649069",
     "exception": false,
     "start_time": "2023-07-13T14:54:23.563003",
     "status": "completed"
    },
    "tags": []
   },
   "outputs": [
    {
     "data": {
      "text/plain": [
       "{'par': {'N': [int, numpy.int32],\n",
       "  'a': [float, numpy.float64],\n",
       "  'b': [float, numpy.float64],\n",
       "  'threads': [int, numpy.int32],\n",
       "  'txt': [str],\n",
       "  'txtlist': [str],\n",
       "  'X': [numpy.ndarray]},\n",
       " 'sol': {'Y': [numpy.ndarray]},\n",
       " 'sim': {}}"
      ]
     },
     "execution_count": 18,
     "metadata": {},
     "output_type": "execute_result"
    }
   ],
   "source": [
    "model._ns_specs['types']"
   ]
  },
  {
   "cell_type": "code",
   "execution_count": 19,
   "id": "387418a5",
   "metadata": {
    "execution": {
     "iopub.execute_input": "2023-07-13T14:54:23.721123Z",
     "iopub.status.busy": "2023-07-13T14:54:23.720122Z",
     "iopub.status.idle": "2023-07-13T14:54:23.790219Z",
     "shell.execute_reply": "2023-07-13T14:54:23.790219Z"
    },
    "papermill": {
     "duration": 0.086108,
     "end_time": "2023-07-13T14:54:23.793220",
     "exception": false,
     "start_time": "2023-07-13T14:54:23.707112",
     "status": "completed"
    },
    "tags": []
   },
   "outputs": [
    {
     "data": {
      "text/plain": [
       "{'par': {'X': dtype('float64')}, 'sol': {'Y': dtype('float64')}, 'sim': {}}"
      ]
     },
     "execution_count": 19,
     "metadata": {},
     "output_type": "execute_result"
    }
   ],
   "source": [
    "model._ns_specs['np_dtypes']"
   ]
  },
  {
   "cell_type": "code",
   "execution_count": 20,
   "id": "79fd3ddd",
   "metadata": {
    "execution": {
     "iopub.execute_input": "2023-07-13T14:54:23.825201Z",
     "iopub.status.busy": "2023-07-13T14:54:23.824200Z",
     "iopub.status.idle": "2023-07-13T14:54:23.893295Z",
     "shell.execute_reply": "2023-07-13T14:54:23.892295Z"
    },
    "papermill": {
     "duration": 0.084106,
     "end_time": "2023-07-13T14:54:23.896298",
     "exception": false,
     "start_time": "2023-07-13T14:54:23.812192",
     "status": "completed"
    },
    "tags": []
   },
   "outputs": [
    {
     "data": {
      "text/plain": [
       "{'par': {'X': 1}, 'sol': {'Y': 1}, 'sim': {}}"
      ]
     },
     "execution_count": 20,
     "metadata": {},
     "output_type": "execute_result"
    }
   ],
   "source": [
    "model._ns_specs['np_ndims']"
   ]
  },
  {
   "attachments": {},
   "cell_type": "markdown",
   "id": "68800b51",
   "metadata": {
    "papermill": {
     "duration": 0.011009,
     "end_time": "2023-07-13T14:54:23.926278",
     "exception": false,
     "start_time": "2023-07-13T14:54:23.915269",
     "status": "completed"
    },
    "tags": []
   },
   "source": [
    "**The types must NOT change afterwards**. If they do, an error is raised when using  `jit`."
   ]
  },
  {
   "cell_type": "code",
   "execution_count": 21,
   "id": "d60a0367",
   "metadata": {
    "execution": {
     "iopub.execute_input": "2023-07-13T14:54:23.951297Z",
     "iopub.status.busy": "2023-07-13T14:54:23.950296Z",
     "iopub.status.idle": "2023-07-13T14:54:24.017346Z",
     "shell.execute_reply": "2023-07-13T14:54:24.017346Z"
    },
    "papermill": {
     "duration": 0.082104,
     "end_time": "2023-07-13T14:54:24.020391",
     "exception": false,
     "start_time": "2023-07-13T14:54:23.938287",
     "status": "completed"
    },
    "tags": []
   },
   "outputs": [],
   "source": [
    "def test_numba_errors(model):\n",
    "    try:\n",
    "        test_numba(model)\n",
    "    except ValueError as e:\n",
    "        print(f'ValueError: {e}')\n",
    "    else:\n",
    "        print('no errors raised')"
   ]
  },
  {
   "cell_type": "code",
   "execution_count": 22,
   "id": "6011e57d",
   "metadata": {
    "execution": {
     "iopub.execute_input": "2023-07-13T14:54:24.055376Z",
     "iopub.status.busy": "2023-07-13T14:54:24.054375Z",
     "iopub.status.idle": "2023-07-13T14:54:24.124473Z",
     "shell.execute_reply": "2023-07-13T14:54:24.123472Z"
    },
    "papermill": {
     "duration": 0.086108,
     "end_time": "2023-07-13T14:54:24.127473",
     "exception": false,
     "start_time": "2023-07-13T14:54:24.041365",
     "status": "completed"
    },
    "tags": []
   },
   "outputs": [
    {
     "name": "stdout",
     "output_type": "stream",
     "text": [
      "ValueError: par.a has type <class 'int'>, should be in [<class 'float'>, <class 'numpy.float64'>]\n"
     ]
    }
   ],
   "source": [
    "model_test = model.copy()\n",
    "model_test.par.a = 1\n",
    "test_numba_errors(model_test)"
   ]
  },
  {
   "cell_type": "code",
   "execution_count": 23,
   "id": "230ca3b3",
   "metadata": {
    "execution": {
     "iopub.execute_input": "2023-07-13T14:54:24.160455Z",
     "iopub.status.busy": "2023-07-13T14:54:24.160455Z",
     "iopub.status.idle": "2023-07-13T14:54:24.228549Z",
     "shell.execute_reply": "2023-07-13T14:54:24.228549Z"
    },
    "papermill": {
     "duration": 0.084108,
     "end_time": "2023-07-13T14:54:24.231553",
     "exception": false,
     "start_time": "2023-07-13T14:54:24.147445",
     "status": "completed"
    },
    "tags": []
   },
   "outputs": [
    {
     "name": "stdout",
     "output_type": "stream",
     "text": [
      "ValueError: c is not allowed in .par\n"
     ]
    }
   ],
   "source": [
    "model_test = model.copy()\n",
    "model_test.par.c = np.nan\n",
    "test_numba_errors(model_test)"
   ]
  },
  {
   "cell_type": "code",
   "execution_count": 24,
   "id": "07eb60f9",
   "metadata": {
    "execution": {
     "iopub.execute_input": "2023-07-13T14:54:24.265535Z",
     "iopub.status.busy": "2023-07-13T14:54:24.264534Z",
     "iopub.status.idle": "2023-07-13T14:54:24.334631Z",
     "shell.execute_reply": "2023-07-13T14:54:24.334631Z"
    },
    "papermill": {
     "duration": 0.088111,
     "end_time": "2023-07-13T14:54:24.338635",
     "exception": false,
     "start_time": "2023-07-13T14:54:24.250524",
     "status": "completed"
    },
    "tags": []
   },
   "outputs": [
    {
     "name": "stdout",
     "output_type": "stream",
     "text": [
      "ValueError: par.X has ndim 2, should be 1\n"
     ]
    }
   ],
   "source": [
    "model_test = model.copy()\n",
    "model_test.par.X = np.zeros((1,1))\n",
    "test_numba_errors(model_test)"
   ]
  },
  {
   "cell_type": "code",
   "execution_count": 25,
   "id": "6778c1e8",
   "metadata": {
    "execution": {
     "iopub.execute_input": "2023-07-13T14:54:24.370614Z",
     "iopub.status.busy": "2023-07-13T14:54:24.370614Z",
     "iopub.status.idle": "2023-07-13T14:54:24.437710Z",
     "shell.execute_reply": "2023-07-13T14:54:24.437710Z"
    },
    "papermill": {
     "duration": 0.084106,
     "end_time": "2023-07-13T14:54:24.441710",
     "exception": false,
     "start_time": "2023-07-13T14:54:24.357604",
     "status": "completed"
    },
    "tags": []
   },
   "outputs": [
    {
     "name": "stdout",
     "output_type": "stream",
     "text": [
      "ValueError: par.X has dtype int32, should be float64\n"
     ]
    }
   ],
   "source": [
    "model_test = model.copy()\n",
    "model_test.par.X = model.par.X.astype('int')\n",
    "test_numba_errors(model_test)"
   ]
  },
  {
   "attachments": {},
   "cell_type": "markdown",
   "id": "62f19e5b",
   "metadata": {
    "papermill": {
     "duration": 0.016012,
     "end_time": "2023-07-13T14:54:24.475694",
     "exception": false,
     "start_time": "2023-07-13T14:54:24.459682",
     "status": "completed"
    },
    "tags": []
   },
   "source": [
    "**If types *must* to be changed, then it is necessary to re-infer types:**"
   ]
  },
  {
   "cell_type": "code",
   "execution_count": 26,
   "id": "8abe9064",
   "metadata": {
    "execution": {
     "iopub.execute_input": "2023-07-13T14:54:24.512722Z",
     "iopub.status.busy": "2023-07-13T14:54:24.511721Z",
     "iopub.status.idle": "2023-07-13T14:54:24.772967Z",
     "shell.execute_reply": "2023-07-13T14:54:24.771960Z"
    },
    "papermill": {
     "duration": 0.28526,
     "end_time": "2023-07-13T14:54:24.775965",
     "exception": false,
     "start_time": "2023-07-13T14:54:24.490705",
     "status": "completed"
    },
    "tags": []
   },
   "outputs": [
    {
     "name": "stdout",
     "output_type": "stream",
     "text": [
      "no errors raised\n"
     ]
    }
   ],
   "source": [
    "model_test = model.copy()\n",
    "model_test.par.a = 1\n",
    "model_test.infer_types()\n",
    "test_numba_errors(model_test)"
   ]
  },
  {
   "attachments": {},
   "cell_type": "markdown",
   "id": "71759c35",
   "metadata": {
    "papermill": {
     "duration": 0.012009,
     "end_time": "2023-07-13T14:54:24.807945",
     "exception": false,
     "start_time": "2023-07-13T14:54:24.795936",
     "status": "completed"
    },
    "tags": []
   },
   "source": [
    "**Namedtuples** are immutables, so attributes cannot be changed while using `jit`:"
   ]
  },
  {
   "cell_type": "code",
   "execution_count": 27,
   "id": "74ead286",
   "metadata": {
    "execution": {
     "iopub.execute_input": "2023-07-13T14:54:24.832965Z",
     "iopub.status.busy": "2023-07-13T14:54:24.831964Z",
     "iopub.status.idle": "2023-07-13T14:54:24.901016Z",
     "shell.execute_reply": "2023-07-13T14:54:24.901016Z"
    },
    "papermill": {
     "duration": 0.086109,
     "end_time": "2023-07-13T14:54:24.905063",
     "exception": false,
     "start_time": "2023-07-13T14:54:24.818954",
     "status": "completed"
    },
    "tags": []
   },
   "outputs": [
    {
     "name": "stderr",
     "output_type": "stream",
     "text": [
      "Traceback (most recent call last):\n",
      "  File \"C:\\Users\\gmf123.UNICPH\\AppData\\Local\\Temp\\2\\ipykernel_8600\\1634112854.py\", line 3, in <module>\n",
      "    model_jit.par.a = 3.0\n",
      "    ^^^^^^^^^^^^^^^\n",
      "AttributeError: can't set attribute\n"
     ]
    }
   ],
   "source": [
    "try:\n",
    "    with jit(model) as model_jit:\n",
    "        model_jit.par.a = 3.0\n",
    "except AttributeError as e:\n",
    "    pass"
   ]
  },
  {
   "cell_type": "markdown",
   "id": "8a2e518b",
   "metadata": {
    "papermill": {
     "duration": 0.012009,
     "end_time": "2023-07-13T14:54:24.937043",
     "exception": false,
     "start_time": "2023-07-13T14:54:24.925034",
     "status": "completed"
    },
    "tags": []
   },
   "source": [
    "### 4.3. <a id='toc4_3_'></a>[Advanced: Error handling](#toc0_)"
   ]
  },
  {
   "cell_type": "markdown",
   "id": "51c2a289",
   "metadata": {
    "papermill": {
     "duration": 0.01201,
     "end_time": "2023-07-13T14:54:24.960061",
     "exception": false,
     "start_time": "2023-07-13T14:54:24.948051",
     "status": "completed"
    },
    "tags": []
   },
   "source": [
    "Printing of exceptions can be turned off if necessary."
   ]
  },
  {
   "cell_type": "code",
   "execution_count": 28,
   "id": "6ce7e55f",
   "metadata": {
    "execution": {
     "iopub.execute_input": "2023-07-13T14:54:24.985080Z",
     "iopub.status.busy": "2023-07-13T14:54:24.985080Z",
     "iopub.status.idle": "2023-07-13T14:54:25.055175Z",
     "shell.execute_reply": "2023-07-13T14:54:25.054175Z"
    },
    "papermill": {
     "duration": 0.086109,
     "end_time": "2023-07-13T14:54:25.058179",
     "exception": false,
     "start_time": "2023-07-13T14:54:24.972070",
     "status": "completed"
    },
    "tags": []
   },
   "outputs": [
    {
     "name": "stdout",
     "output_type": "stream",
     "text": [
      "can't set attribute\n"
     ]
    }
   ],
   "source": [
    "try:\n",
    "    with jit(model,show_exc=False) as model_jit:\n",
    "        model_jit.par.a = 3.0\n",
    "except AttributeError as e:\n",
    "    print(e)"
   ]
  },
  {
   "cell_type": "markdown",
   "id": "471987ea",
   "metadata": {
    "papermill": {
     "duration": 0.012009,
     "end_time": "2023-07-13T14:54:25.089158",
     "exception": false,
     "start_time": "2023-07-13T14:54:25.077149",
     "status": "completed"
    },
    "tags": []
   },
   "source": [
    "## 5. <a id='toc5_'></a>[Calling C++](#toc0_)"
   ]
  },
  {
   "attachments": {},
   "cell_type": "markdown",
   "id": "a4493b05",
   "metadata": {
    "papermill": {
     "duration": 0.012009,
     "end_time": "2023-07-13T14:54:25.113177",
     "exception": false,
     "start_time": "2023-07-13T14:54:25.101168",
     "status": "completed"
    },
    "tags": []
   },
   "source": [
    "**Goal:** Call C++ functions easily using namespaces.\n",
    "\n",
    "**Problems:** Requires compilation and linking."
   ]
  },
  {
   "attachments": {},
   "cell_type": "markdown",
   "id": "fe1c7d5b",
   "metadata": {
    "papermill": {
     "duration": 0.012009,
     "end_time": "2023-07-13T14:54:25.136194",
     "exception": false,
     "start_time": "2023-07-13T14:54:25.124185",
     "status": "completed"
    },
    "tags": []
   },
   "source": [
    "**Compilers:** One of these compilers must be installed\n",
    "\n",
    "* **vs**: Free *Microsoft Visual Studio 2022 Community Edition* ([link](https://visualstudio.microsoft.com/downloads/))\n",
    "* **intel:** Free *Intel one API* ([link](https://www.intel.com/content/www/us/en/developer/tools/oneapi/base-toolkit-download.html))\n",
    "\n",
    "For parallization we will use **OpenMP**."
   ]
  },
  {
   "attachments": {},
   "cell_type": "markdown",
   "id": "a8350668",
   "metadata": {
    "papermill": {
     "duration": 0.012009,
     "end_time": "2023-07-13T14:54:25.159212",
     "exception": false,
     "start_time": "2023-07-13T14:54:25.147203",
     "status": "completed"
    },
    "tags": []
   },
   "source": [
    "**Platform:** Tested on *Windows*."
   ]
  },
  {
   "attachments": {},
   "cell_type": "markdown",
   "id": "52e3d4ca",
   "metadata": {
    "papermill": {
     "duration": 0.012009,
     "end_time": "2023-07-13T14:54:25.182229",
     "exception": false,
     "start_time": "2023-07-13T14:54:25.170220",
     "status": "completed"
    },
    "tags": []
   },
   "source": [
    "**Interface:**\n",
    "\n",
    "1. all elements in **namespaces** are availible as **C++ structs** with `_struct` appended (default, else specify `.cpp_structsmap` in `.settings()`).\n",
    "2. `cpptools.link_to_cpp()` is called by `.link_to_cpp` using `.cpp_filename` and the result is returned in `.cpp`.\n",
    "3. `cpp_options` is the compiler options.\n",
    "4. by default `force_compile=True` when calling `.link_to_cpp`."
   ]
  },
  {
   "attachments": {},
   "cell_type": "markdown",
   "id": "b1d20dc2",
   "metadata": {
    "papermill": {
     "duration": 0.012009,
     "end_time": "2023-07-13T14:54:25.206247",
     "exception": false,
     "start_time": "2023-07-13T14:54:25.194238",
     "status": "completed"
    },
    "tags": []
   },
   "source": [
    "**Details:** Provided in `02. More on calling C++.ipynb`."
   ]
  },
  {
   "attachments": {},
   "cell_type": "markdown",
   "id": "2883d052",
   "metadata": {
    "papermill": {
     "duration": 0.01201,
     "end_time": "2023-07-13T14:54:25.229265",
     "exception": false,
     "start_time": "2023-07-13T14:54:25.217255",
     "status": "completed"
    },
    "tags": []
   },
   "source": [
    "**The extended model specification is:**"
   ]
  },
  {
   "cell_type": "code",
   "execution_count": 29,
   "id": "b669f882",
   "metadata": {
    "execution": {
     "iopub.execute_input": "2023-07-13T14:54:25.255284Z",
     "iopub.status.busy": "2023-07-13T14:54:25.254284Z",
     "iopub.status.idle": "2023-07-13T14:54:25.325382Z",
     "shell.execute_reply": "2023-07-13T14:54:25.325382Z"
    },
    "papermill": {
     "duration": 0.089111,
     "end_time": "2023-07-13T14:54:25.329384",
     "exception": false,
     "start_time": "2023-07-13T14:54:25.240273",
     "status": "completed"
    },
    "tags": []
   },
   "outputs": [],
   "source": [
    "class MyModelClass_cpp(MyModelClass):\n",
    "    \n",
    "    def settings(self):\n",
    "        \n",
    "        self.cpp_filename = 'cppfuncs/example.cpp' # required for using C++\n",
    "        self.cpp_options = {'compiler':'vs'} # optional\n",
    "        self.cpp_structsmap = {'par':'par_struct'} # optional\n",
    "    \n",
    "model_cpp = MyModelClass_cpp(name='model_cpp') "
   ]
  },
  {
   "attachments": {},
   "cell_type": "markdown",
   "id": "29231bfa",
   "metadata": {
    "papermill": {
     "duration": 0.012008,
     "end_time": "2023-07-13T14:54:25.361363",
     "exception": false,
     "start_time": "2023-07-13T14:54:25.349355",
     "status": "completed"
    },
    "tags": []
   },
   "source": [
    "**Link:**"
   ]
  },
  {
   "cell_type": "code",
   "execution_count": 30,
   "id": "bb4dc47d",
   "metadata": {
    "execution": {
     "iopub.execute_input": "2023-07-13T14:54:25.387382Z",
     "iopub.status.busy": "2023-07-13T14:54:25.386381Z",
     "iopub.status.idle": "2023-07-13T14:54:27.989159Z",
     "shell.execute_reply": "2023-07-13T14:54:27.988155Z"
    },
    "papermill": {
     "duration": 2.619806,
     "end_time": "2023-07-13T14:54:27.993177",
     "exception": false,
     "start_time": "2023-07-13T14:54:25.373371",
     "status": "completed"
    },
    "tags": []
   },
   "outputs": [
    {
     "name": "stdout",
     "output_type": "stream",
     "text": [
      "Linking to: cppfuncs/example.cpp\n",
      "\n",
      "### finding all included files ###\n",
      "\n",
      "logs.cpp\n",
      "par_struct.cpp\n",
      "sol_struct.cpp\n",
      "example_include.cpp\n",
      "\n",
      "### writing structs ###\n",
      "\n",
      "cppfuncs/par_struct.cpp\n",
      " int N;\n",
      " double a;\n",
      " double b;\n",
      " int threads;\n",
      " char* txt;\n",
      " char* txtlist;\n",
      " double* X;\n",
      "\n",
      "cppfuncs/sol_struct.cpp\n",
      " double* Y;\n",
      "\n",
      "cppfuncs/sim_struct.cpp\n",
      "\n",
      "### analyzing cppfuncs/example.cpp ###\n",
      "\n",
      "function: fun\n",
      "return type: void\n",
      "argument types: ['par_struct*', 'sol_struct*']\n",
      "\n",
      "function: fun_nostruct\n",
      "return type: void\n",
      "argument types: ['double*', 'double*', 'int', 'double', 'double', 'int', 'char*']\n",
      "\n",
      "### analyzing cppfuncs/logs.cpp ###\n",
      "\n",
      "### analyzing cppfuncs/par_struct.cpp ###\n",
      "\n",
      "### analyzing cppfuncs/sol_struct.cpp ###\n",
      "\n",
      "### analyzing cppfuncs/example_include.cpp ###\n",
      "\n",
      "function: fun_nostruct_alt\n",
      "return type: void\n",
      "argument types: ['double*', 'double*', 'int', 'double', 'double', 'int', 'char*']\n",
      "\n",
      "function: I_DO_NOTHING\n",
      "return type: double\n",
      "argument types: []\n",
      "\n",
      "### compiling and linking ###\n",
      "\n",
      "compile.bat:\n",
      "cd /d \"C:/Program Files/Microsoft Visual Studio/2022/Community/VC/Auxiliary/Build/\"\n",
      "call vcvarsall.bat x64\n",
      "cd /d \"c:\\Users\\gmf123.UNICPH\\Documents\\repositories\\EconModelNotebooks\"\n",
      "cl /LD /EHsc /Ox /openmp cppfuncs/example.cpp setup_omp.cpp \n",
      "\n"
     ]
    },
    {
     "name": "stdout",
     "output_type": "stream",
     "text": [
      "terminal:\n",
      "\n",
      "(c:\\Users\\gmf123.UNICPH\\AppData\\Local\\anaconda3) c:\\Users\\gmf123.UNICPH\\Documents\\repositories\\EconModelNotebooks>cd /d \"C:/Program Files/Microsoft Visual Studio/2022/Community/VC/Auxiliary/Build/\" \n",
      "\n",
      "(c:\\Users\\gmf123.UNICPH\\AppData\\Local\\anaconda3) C:\\Program Files\\Microsoft Visual Studio\\2022\\Community\\VC\\Auxiliary\\Build>call vcvarsall.bat x64 \n",
      "**********************************************************************\n",
      "** Visual Studio 2022 Developer Command Prompt v17.0.6\n",
      "** Copyright (c) 2021 Microsoft Corporation\n",
      "**********************************************************************\n",
      "[vcvarsall.bat] Environment initialized for: 'x64'\n",
      "example.cpp\n",
      "setup_omp.cpp\n",
      "Generating Code...\n",
      "Microsoft (R) Incremental Linker Version 14.30.30709.0\n",
      "Copyright (C) Microsoft Corporation.  All rights reserved.\n",
      "\n",
      "/out:example.dll \n",
      "/dll \n",
      "/implib:example.lib \n",
      "example.obj \n",
      "setup_omp.obj \n",
      "   Creating library example.lib and object example.exp\n",
      "\n",
      "Microsoft (R) C/C++ Optimizing Compiler Version 19.30.30709 for x64\n",
      "Copyright (C) Microsoft Corporation.  All rights reserved.\n",
      "\n",
      "\n",
      "C++ files compiled\n",
      "C++ files loaded\n",
      "\n",
      "DONE!\n",
      "\n"
     ]
    }
   ],
   "source": [
    "model_cpp.link_to_cpp(do_print=True)"
   ]
  },
  {
   "attachments": {},
   "cell_type": "markdown",
   "id": "1759ace7",
   "metadata": {
    "papermill": {
     "duration": 0.012011,
     "end_time": "2023-07-13T14:54:28.024185",
     "exception": false,
     "start_time": "2023-07-13T14:54:28.012174",
     "status": "completed"
    },
    "tags": []
   },
   "source": [
    "**Compile warnings and errors** are shown in the terminal."
   ]
  },
  {
   "attachments": {},
   "cell_type": "markdown",
   "id": "40957c4b",
   "metadata": {
    "papermill": {
     "duration": 0.013012,
     "end_time": "2023-07-13T14:54:28.062214",
     "exception": false,
     "start_time": "2023-07-13T14:54:28.049202",
     "status": "completed"
    },
    "tags": []
   },
   "source": [
    "**Call C++:** It is now easy to call the C++ function"
   ]
  },
  {
   "cell_type": "code",
   "execution_count": 31,
   "id": "d845ff03",
   "metadata": {
    "execution": {
     "iopub.execute_input": "2023-07-13T14:54:28.088231Z",
     "iopub.status.busy": "2023-07-13T14:54:28.087249Z",
     "iopub.status.idle": "2023-07-13T14:54:28.182305Z",
     "shell.execute_reply": "2023-07-13T14:54:28.181304Z"
    },
    "papermill": {
     "duration": 0.111087,
     "end_time": "2023-07-13T14:54:28.185307",
     "exception": false,
     "start_time": "2023-07-13T14:54:28.074220",
     "status": "completed"
    },
    "tags": []
   },
   "outputs": [
    {
     "name": "stdout",
     "output_type": "stream",
     "text": [
      "\n",
      "fun(...)\n",
      "omp_get_thread_num() =  2, omp_get_num_procs() = 72\n",
      "omp_get_thread_num() =  0, omp_get_num_procs() = 72\n",
      "omp_get_thread_num() =  3, omp_get_num_procs() = 72\n",
      "omp_get_thread_num() =  1, omp_get_num_procs() = 72\n",
      "string-value: a\n",
      "looked up value par->a = 2\n",
      "is \"a\" in \"N|threads\": false\n",
      "looked up value par->N = 10\n",
      "looked up value par->threads = 4\n",
      "\n"
     ]
    }
   ],
   "source": [
    "model_cpp.cpp.fun(par,sol)\n",
    "assert np.allclose(par.X*(par.a+par.b),sol.Y)"
   ]
  },
  {
   "attachments": {},
   "cell_type": "markdown",
   "id": "e8c53dec",
   "metadata": {
    "papermill": {
     "duration": 0.013008,
     "end_time": "2023-07-13T14:54:28.219332",
     "exception": false,
     "start_time": "2023-07-13T14:54:28.206324",
     "status": "completed"
    },
    "tags": []
   },
   "source": [
    "**Re-compile:**"
   ]
  },
  {
   "cell_type": "code",
   "execution_count": 32,
   "id": "d387a084",
   "metadata": {
    "execution": {
     "iopub.execute_input": "2023-07-13T14:54:28.254358Z",
     "iopub.status.busy": "2023-07-13T14:54:28.254358Z",
     "iopub.status.idle": "2023-07-13T14:54:30.572113Z",
     "shell.execute_reply": "2023-07-13T14:54:30.571070Z"
    },
    "papermill": {
     "duration": 2.335774,
     "end_time": "2023-07-13T14:54:30.576121",
     "exception": false,
     "start_time": "2023-07-13T14:54:28.240347",
     "status": "completed"
    },
    "tags": []
   },
   "outputs": [],
   "source": [
    "model_cpp.cpp.recompile()"
   ]
  },
  {
   "attachments": {},
   "cell_type": "markdown",
   "id": "ead86a86",
   "metadata": {
    "papermill": {
     "duration": 0.013009,
     "end_time": "2023-07-13T14:54:30.609141",
     "exception": false,
     "start_time": "2023-07-13T14:54:30.596132",
     "status": "completed"
    },
    "tags": []
   },
   "source": [
    "**Multiple models:** "
   ]
  },
  {
   "cell_type": "code",
   "execution_count": 33,
   "id": "e283fd33",
   "metadata": {
    "execution": {
     "iopub.execute_input": "2023-07-13T14:54:30.635120Z",
     "iopub.status.busy": "2023-07-13T14:54:30.634161Z",
     "iopub.status.idle": "2023-07-13T14:54:32.991945Z",
     "shell.execute_reply": "2023-07-13T14:54:32.990946Z"
    },
    "papermill": {
     "duration": 2.373804,
     "end_time": "2023-07-13T14:54:32.994955",
     "exception": false,
     "start_time": "2023-07-13T14:54:30.621151",
     "status": "completed"
    },
    "tags": []
   },
   "outputs": [
    {
     "name": "stdout",
     "output_type": "stream",
     "text": [
      "\n",
      "fun_nostruct(...)\n",
      "omp_get_thread_num() =  0, omp_get_num_procs() = 72\n",
      "omp_get_thread_num() =  3, omp_get_num_procs() = 72\n",
      "omp_get_thread_num() =  2, omp_get_num_procs() = 72\n",
      "omp_get_thread_num() =  1, omp_get_num_procs() = 72\n",
      "string-value: a\n",
      "test was succesfull\n",
      "\n"
     ]
    }
   ],
   "source": [
    "# a. don't compile when the .dll file is already loaded\n",
    "model_cpp_alt = MyModelClass_cpp('testcpp_alt')\n",
    "model_cpp_alt.link_to_cpp(force_compile=False) # default is force_compile = True\n",
    "\n",
    "# b. function call\n",
    "par = model_cpp_alt.par\n",
    "model_cpp_alt.cpp.fun_nostruct(par.X,sol.Y,par.N,par.a,par.b,par.threads,par.txt)\n",
    "assert np.allclose(par.X*(par.a+par.b),sol.Y)\n",
    "\n",
    "# c. delink without removing the .dll file\n",
    "model_cpp.cpp.delink()\n",
    "\n",
    "# d. delete model -> automatically calls .cpp.delink()\n",
    "del model_cpp_alt\n",
    "\n",
    "# e. now we can compile again\n",
    "model_cpp_alt = MyModelClass_cpp('testcpp_alt')\n",
    "model_cpp_alt.link_to_cpp()\n",
    "model_cpp_alt.cpp.clean_up()"
   ]
  },
  {
   "cell_type": "markdown",
   "id": "ee9259af",
   "metadata": {
    "papermill": {
     "duration": 0.014013,
     "end_time": "2023-07-13T14:54:33.028934",
     "exception": false,
     "start_time": "2023-07-13T14:54:33.014921",
     "status": "completed"
    },
    "tags": []
   },
   "source": [
    "## 6. <a id='toc6_'></a>[Clean-up](#toc0_)"
   ]
  },
  {
   "cell_type": "code",
   "execution_count": 34,
   "id": "2036e4b2",
   "metadata": {
    "execution": {
     "iopub.execute_input": "2023-07-13T14:54:33.064001Z",
     "iopub.status.busy": "2023-07-13T14:54:33.063001Z",
     "iopub.status.idle": "2023-07-13T14:54:33.132008Z",
     "shell.execute_reply": "2023-07-13T14:54:33.132008Z"
    },
    "papermill": {
     "duration": 0.087023,
     "end_time": "2023-07-13T14:54:33.136012",
     "exception": false,
     "start_time": "2023-07-13T14:54:33.048989",
     "status": "completed"
    },
    "tags": []
   },
   "outputs": [],
   "source": [
    "shutil.rmtree('saved')"
   ]
  }
 ],
 "metadata": {
  "kernelspec": {
   "display_name": "Python 3 (ipykernel)",
   "language": "python",
   "name": "python3"
  },
  "language_info": {
   "codemirror_mode": {
    "name": "ipython",
    "version": 3
   },
   "file_extension": ".py",
   "mimetype": "text/x-python",
   "name": "python",
   "nbconvert_exporter": "python",
   "pygments_lexer": "ipython3",
   "version": "3.11.3"
  },
  "papermill": {
   "default_parameters": {},
   "duration": 15.317407,
   "end_time": "2023-07-13T14:54:33.483322",
   "environment_variables": {},
   "exception": null,
   "input_path": "01. Using the EconModelClass.ipynb",
   "output_path": "temp_notebooks/01. Using the EconModelClass.ipynb",
   "parameters": {},
   "start_time": "2023-07-13T14:54:18.165915",
   "version": "2.4.0"
  },
  "toc": {
   "base_numbering": 1,
   "nav_menu": {},
   "number_sections": true,
   "sideBar": true,
   "skip_h1_title": false,
   "title_cell": "Table of Contents",
   "title_sidebar": "Contents",
   "toc_cell": true,
   "toc_position": {},
   "toc_section_display": true,
   "toc_window_display": false
  },
  "toc-autonumbering": true
 },
 "nbformat": 4,
 "nbformat_minor": 5
}