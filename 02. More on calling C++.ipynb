{
 "cells": [
  {
   "cell_type": "markdown",
   "metadata": {},
   "source": [
    "# Calling C++"
   ]
  },
  {
   "cell_type": "markdown",
   "metadata": {},
   "source": [
    "The C++ file used in this example is in **cppfuncs/example.cpp**. \n",
    "\n",
    "**Read the following information:**\n",
    "\n",
    "1. **Functions are automatically detected**. The provided .cpp file should include:\n",
    "\n",
    "    `#define EXPORT extern \"C\" __declspec(dllexport)`\n",
    "\n",
    "    A function to be called in Python should be **decorated** as e.g.:\n",
    " \n",
    "    `EXPORT void fun_nostruct(double *X, double *Y, int N, double a, double b, int threads, char *txt)`\n",
    " \n",
    "    **Extra:** Functions are also detected in *directly* included .cpp files.\n",
    " \n",
    "2. The following **argument types** are allowed: `int` `int*` `double` `double*` `bool` `bool*` and `char*` (for strings) + **user-defined structs** (see below).\n",
    "3. The foolowing **return types** are allowed: `void` `int` `double` and `bool`.\n",
    "4. **Class:** `cppfile = cpptools.link_to_cpp(filename,force_compile,structsmap,options,use_log_print,do_print)` returns an interface to an object with the **C++ functions as methods**.\n",
    " \n",
    "    `filename (str)`: C++ file with .cpp extension (full path)\n",
    "    \n",
    "    `force_compile (bool,optional)`: compile even if .dll is present (default is True)\n",
    "    \n",
    "    `structsmap (dict,optional)`: struct names as keys and associated pythonobj used in C++ as values (see below)\n",
    "    \n",
    "    `options (dict,optional)`: compiler options (see below)\n",
    "    \n",
    "    `use_log (bool,optional)`: assumes log is printed to filename.log (deleted afterwards) (saved in self.log[funcname])\n",
    "    \n",
    "    `print_log (bool,optional)`: print log to screen when function is called\n",
    "    \n",
    "    `do_print (bool,optional)`: print progress\n",
    "    \n",
    "5. **User-defined structs:** Assume `par` is a Python dict-like object (e.g. SimpleNamespace) then `structsmap={'par_struct':par}` allows `par_struct*` to be used as a type in C++ after `#include \"par_struct.cpp\"`, which is automatically written (in the same folder as the *filename.cpp* file) with automatically inferred fields and their types.\n",
    " \n",
    "6. **Compiler options:** Dictionary with the following elements:\n",
    "\n",
    "    `compiler (str)`: compiler choice (*vs* (default) or *intel*)\n",
    "    \n",
    "    `vs_path (str)`: path to vs compiler (if *None* (default) then newest version found is used, e.g. *C:/Program Files/Microsoft Visual Studio/2022/Community/VC/Auxiliary/Build/*)\n",
    "    \n",
    "    `intel_path (str)`: path to intel compiler\n",
    "    \n",
    "    `flags (str)`: flags (vs default: '/LD /EHsc /Ox /openmp', intel default: '/LD /EHsc /O3 /openmp')\n",
    "    \n",
    "    `additional_cpp (str)`: additional cpp files to include (default is '')\n",
    "    \n",
    "    `dllfilename (str)`: filename of resulting dll file (if *None* (default) it is *filename.dll* where *filename.cpp*)\n",
    "    \n",
    "    `macros (dict/list)`: preprocessor macros (default is *None*)\n",
    "        \n",
    "7. **Methods:**\n",
    "\n",
    "    `cppfile.delink()`: Delink C++ file (release the .dll file, so that it can be overwritten when e.g. re-compiling).\n",
    "    \n",
    "    `cppfile.recompile()`: Delink, re-compile and re-link to C++ file.\n",
    "    \n",
    "    `cppfile.clean_up()`: Delink C++ file, remove .dll file, and remove any struct files."
   ]
  },
  {
   "cell_type": "markdown",
   "metadata": {},
   "source": [
    "# Imports"
   ]
  },
  {
   "cell_type": "code",
   "execution_count": 1,
   "metadata": {},
   "outputs": [],
   "source": [
    "%load_ext autoreload\n",
    "%autoreload 2\n",
    "\n",
    "import os\n",
    "from types import SimpleNamespace\n",
    "import numpy as np\n",
    "import numba as nb\n",
    "\n",
    "from EconModel import cpptools"
   ]
  },
  {
   "cell_type": "markdown",
   "metadata": {},
   "source": [
    "# Setup"
   ]
  },
  {
   "cell_type": "code",
   "execution_count": 2,
   "metadata": {},
   "outputs": [],
   "source": [
    "par = SimpleNamespace()\n",
    "par.N = 10\n",
    "par.X = np.linspace(0,10,par.N)\n",
    "par.Y = np.zeros(par.N)\n",
    "par.a = 2.0\n",
    "par.b = 1.0\n",
    "par.threads = 4\n",
    "par.txt = 'a'\n",
    "par.txtlist = 'N|threads'"
   ]
  },
  {
   "cell_type": "markdown",
   "metadata": {},
   "source": [
    "# Visual Studio compiler"
   ]
  },
  {
   "cell_type": "markdown",
   "metadata": {},
   "source": [
    "## Link to C++"
   ]
  },
  {
   "cell_type": "code",
   "execution_count": 3,
   "metadata": {},
   "outputs": [
    {
     "name": "stdout",
     "output_type": "stream",
     "text": [
      "Linking to: cppfuncs/example.cpp\n",
      "\n",
      "### finding all included files ###\n",
      "\n",
      "logs.cpp\n",
      "par_struct.cpp\n",
      "example_include.cpp\n",
      "\n",
      "### writing structs ###\n",
      "\n",
      "cppfuncs/par_struct.cpp\n",
      " int N;\n",
      " double* X;\n",
      " double* Y;\n",
      " double a;\n",
      " double b;\n",
      " int threads;\n",
      " char* txt;\n",
      " char* txtlist;\n",
      "\n",
      "### analyzing cppfuncs/example.cpp ###\n",
      "\n",
      "function: fun\n",
      "return type: void\n",
      "argument types: ['par_struct*']\n",
      "\n",
      "function: fun_nostruct\n",
      "return type: void\n",
      "argument types: ['double*', 'double*', 'int', 'double', 'double', 'int', 'char*']\n",
      "\n",
      "### analyzing cppfuncs/logs.cpp ###\n",
      "\n",
      "### analyzing cppfuncs/par_struct.cpp ###\n",
      "\n",
      "### analyzing cppfuncs/example_include.cpp ###\n",
      "\n",
      "function: fun_nostruct_alt\n",
      "return type: void\n",
      "argument types: ['double*', 'double*', 'int', 'double', 'double', 'int', 'char*']\n",
      "\n",
      "function: I_DO_NOTHING\n",
      "return type: double\n",
      "argument types: []\n",
      "\n",
      "### compiling and linking ###\n",
      "\n",
      "compile.bat:\n",
      "cd /d \"C:/Program Files/Microsoft Visual Studio/2022/Community/VC/Auxiliary/Build/\"\n",
      "call vcvarsall.bat x64\n",
      "cd /d \"C:\\Users\\gmf123\\Documents\\repositories\\EconModelNotebooks\"\n",
      "cl /LD /EHsc /Ox /openmp cppfuncs/example.cpp setup_omp.cpp \n",
      "\n",
      "terminal:\n",
      "\n",
      "(base) C:\\Users\\gmf123\\Documents\\repositories\\EconModelNotebooks>cd /d \"C:/Program Files/Microsoft Visual Studio/2022/Community/VC/Auxiliary/Build/\" \n",
      "\n",
      "(base) C:\\Program Files\\Microsoft Visual Studio\\2022\\Community\\VC\\Auxiliary\\Build>call vcvarsall.bat x64 \n",
      "**********************************************************************\n",
      "** Visual Studio 2022 Developer Command Prompt v17.0.6\n",
      "** Copyright (c) 2021 Microsoft Corporation\n",
      "**********************************************************************\n",
      "[vcvarsall.bat] Environment initialized for: 'x64'\n",
      "example.cpp\n",
      "setup_omp.cpp\n",
      "Generating Code...\n",
      "Microsoft (R) Incremental Linker Version 14.30.30709.0\n",
      "Copyright (C) Microsoft Corporation.  All rights reserved.\n",
      "\n",
      "/out:example.dll \n",
      "/dll \n",
      "/implib:example.lib \n",
      "example.obj \n",
      "setup_omp.obj \n",
      "   Creating library example.lib and object example.exp\n",
      "\n",
      "Microsoft (R) C/C++ Optimizing Compiler Version 19.30.30709 for x64\n",
      "Copyright (C) Microsoft Corporation.  All rights reserved.\n",
      "\n",
      "\n",
      "C++ files compiled\n",
      "C++ files loaded\n",
      "\n",
      "DONE!\n",
      "\n"
     ]
    }
   ],
   "source": [
    "example = cpptools.link_to_cpp('cppfuncs/example.cpp',structsmap={'par_struct':par},do_print=True)"
   ]
  },
  {
   "cell_type": "markdown",
   "metadata": {
    "tags": []
   },
   "source": [
    "## Calling functions"
   ]
  },
  {
   "cell_type": "markdown",
   "metadata": {},
   "source": [
    "**Note:** The C++ file writes to `example.log`. The content is printed here, and the file is then deleted."
   ]
  },
  {
   "cell_type": "code",
   "execution_count": 4,
   "metadata": {},
   "outputs": [
    {
     "name": "stdout",
     "output_type": "stream",
     "text": [
      "\n",
      "fun(...)\n",
      "omp_get_thread_num() =  0, omp_get_num_procs() = 72\n",
      "omp_get_thread_num() =  1, omp_get_num_procs() = 72\n",
      "string-value: a\n",
      "looked up value par->a = 2\n",
      "is \"a\" in \"N|threads\": false\n",
      "looked up value par->N = 10\n",
      "looked up value par->threads = 4\n",
      "\n"
     ]
    }
   ],
   "source": [
    "example.fun(par)"
   ]
  },
  {
   "cell_type": "code",
   "execution_count": 5,
   "metadata": {},
   "outputs": [
    {
     "name": "stdout",
     "output_type": "stream",
     "text": [
      "\n",
      "fun(...)\n",
      "omp_get_thread_num() =  0, omp_get_num_procs() = 72\n",
      "omp_get_thread_num() =  1, omp_get_num_procs() = 72\n",
      "string-value: a\n",
      "looked up value par->a = 2\n",
      "is \"a\" in \"N|threads\": false\n",
      "looked up value par->N = 10\n",
      "looked up value par->threads = 4\n",
      "\n"
     ]
    }
   ],
   "source": [
    "example.fun(par)\n",
    "assert np.allclose(par.X*(par.a+par.b),par.Y) "
   ]
  },
  {
   "cell_type": "code",
   "execution_count": 6,
   "metadata": {},
   "outputs": [
    {
     "name": "stdout",
     "output_type": "stream",
     "text": [
      "\n",
      "fun_nostruct(...)\n",
      "omp_get_thread_num() =  0, omp_get_num_procs() = 72\n",
      "omp_get_thread_num() =  1, omp_get_num_procs() = 72\n",
      "string-value: a\n",
      "test was succesfull\n",
      "\n"
     ]
    }
   ],
   "source": [
    "par.Y = np.zeros(par.N)\n",
    "example.fun_nostruct(par.X,par.Y,par.N,par.a,par.b,par.threads,par.txt)\n",
    "assert np.allclose(par.X*(par.a+par.b),par.Y)"
   ]
  },
  {
   "cell_type": "code",
   "execution_count": 7,
   "metadata": {},
   "outputs": [
    {
     "name": "stdout",
     "output_type": "stream",
     "text": [
      "omp_get_thread_num() =  0, omp_get_num_procs() = 72\n",
      "omp_get_thread_num() =  1, omp_get_num_procs() = 72\n"
     ]
    }
   ],
   "source": [
    "par.Y = np.zeros(par.N)\n",
    "example.fun_nostruct_alt(par.X,par.Y,par.N,par.a,par.b,par.threads,par.txt)\n",
    "assert np.allclose(par.X*(par.a+par.b),par.Y)"
   ]
  },
  {
   "cell_type": "markdown",
   "metadata": {},
   "source": [
    "## Re-compile"
   ]
  },
  {
   "cell_type": "code",
   "execution_count": 8,
   "metadata": {},
   "outputs": [],
   "source": [
    "example.recompile(print_log=False)"
   ]
  },
  {
   "cell_type": "code",
   "execution_count": 9,
   "metadata": {},
   "outputs": [],
   "source": [
    "res = example.I_DO_NOTHING()\n",
    "assert np.isclose(res,5.0)"
   ]
  },
  {
   "cell_type": "markdown",
   "metadata": {},
   "source": [
    "**Manual print of log:**"
   ]
  },
  {
   "cell_type": "code",
   "execution_count": 10,
   "metadata": {},
   "outputs": [
    {
     "name": "stdout",
     "output_type": "stream",
     "text": [
      "\n",
      "I do nothing!\n",
      "\n"
     ]
    }
   ],
   "source": [
    "print(example.log['I_DO_NOTHING'])"
   ]
  },
  {
   "cell_type": "markdown",
   "metadata": {},
   "source": [
    "**Clean up:**"
   ]
  },
  {
   "cell_type": "code",
   "execution_count": 11,
   "metadata": {},
   "outputs": [],
   "source": [
    "example.clean_up()"
   ]
  },
  {
   "cell_type": "markdown",
   "metadata": {},
   "source": [
    "## See all availible compiler options"
   ]
  },
  {
   "cell_type": "code",
   "execution_count": 12,
   "metadata": {},
   "outputs": [
    {
     "data": {
      "text/plain": [
       "{'nlopt_lib': 'cppfuncs/nlopt-2.4.2-dll64/libnlopt-0.lib',\n",
       " 'tasmanian_lib': 'cppfuncs/TASMANIAN-7.0/lib/tasmaniansparsegrid.lib',\n",
       " 'compiler': 'vs',\n",
       " 'vs_path': 'C:/Program Files/Microsoft Visual Studio/2022/Community/VC/Auxiliary/Build/',\n",
       " 'intel_path': 'C:\\\\Program Files (x86)\\\\Intel\\\\oneAPI',\n",
       " 'flags': None,\n",
       " 'additional_cpp': '',\n",
       " 'macros': None,\n",
       " 'dllfilename': None}"
      ]
     },
     "execution_count": 12,
     "metadata": {},
     "output_type": "execute_result"
    }
   ],
   "source": [
    "example.options"
   ]
  },
  {
   "cell_type": "markdown",
   "metadata": {},
   "source": [
    "The **default flags** (when value is `None`) are:\n",
    "\n",
    "* **vs**: /LD /EHsc /Ox /openmp\n",
    "* **intel**: /LD /EHsc /O3 /openmp              "
   ]
  },
  {
   "cell_type": "markdown",
   "metadata": {
    "tags": []
   },
   "source": [
    "# Intel compiler"
   ]
  },
  {
   "cell_type": "code",
   "execution_count": 13,
   "metadata": {},
   "outputs": [
    {
     "name": "stdout",
     "output_type": "stream",
     "text": [
      "\n",
      "fun(...)\n",
      "omp_get_thread_num() =  0, omp_get_num_procs() = 72\n",
      "string-value: a\n",
      "looked up value par->a = 2\n",
      "is \"a\" in \"N|threads\": false\n",
      "looked up value par->N = 10\n",
      "looked up value par->threads = 4\n",
      "\n"
     ]
    }
   ],
   "source": [
    "example = cpptools.link_to_cpp('cppfuncs/example.cpp',\n",
    "                               structsmap={'par_struct':par},\n",
    "                               options={'compiler':'intel'})\n",
    "\n",
    "example.fun(par)\n",
    "assert np.allclose(par.X*(par.a+par.b),par.Y)\n",
    "\n",
    "example.clean_up()"
   ]
  }
 ],
 "metadata": {
  "kernelspec": {
   "display_name": "Python 3 (ipykernel)",
   "language": "python",
   "name": "python3"
  },
  "language_info": {
   "codemirror_mode": {
    "name": "ipython",
    "version": 3
   },
   "file_extension": ".py",
   "mimetype": "text/x-python",
   "name": "python",
   "nbconvert_exporter": "python",
   "pygments_lexer": "ipython3",
   "version": "3.9.10"
  },
  "toc": {
   "base_numbering": 1,
   "nav_menu": {},
   "number_sections": true,
   "sideBar": true,
   "skip_h1_title": false,
   "title_cell": "Table of Contents",
   "title_sidebar": "Contents",
   "toc_cell": true,
   "toc_position": {},
   "toc_section_display": true,
   "toc_window_display": false
  },
  "toc-autonumbering": true
 },
 "nbformat": 4,
 "nbformat_minor": 4
}
