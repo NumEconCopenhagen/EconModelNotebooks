{
 "cells": [
  {
   "cell_type": "markdown",
   "id": "e617b10d",
   "metadata": {
    "papermill": {
     "duration": 0.013011,
     "end_time": "2023-07-13T16:17:23.039235",
     "exception": false,
     "start_time": "2023-07-13T16:17:23.026224",
     "status": "completed"
    },
    "tags": []
   },
   "source": [
    "# Calling C++"
   ]
  },
  {
   "cell_type": "markdown",
   "id": "dc0fc09f",
   "metadata": {
    "papermill": {
     "duration": 0.005004,
     "end_time": "2023-07-13T16:17:23.051245",
     "exception": false,
     "start_time": "2023-07-13T16:17:23.046241",
     "status": "completed"
    },
    "tags": []
   },
   "source": [
    "**Table of contents**<a id='toc0_'></a>    \n",
    "- 1. [Imports](#toc1_)    \n",
    "- 2. [Setup](#toc2_)    \n",
    "- 3. [Visual Studio compiler](#toc3_)    \n",
    "  - 3.1. [Link to C++](#toc3_1_)    \n",
    "  - 3.2. [Calling functions](#toc3_2_)    \n",
    "  - 3.3. [Re-compile](#toc3_3_)    \n",
    "  - 3.4. [See all availible compiler options](#toc3_4_)    \n",
    "- 4. [Intel compiler](#toc4_)    \n",
    "\n",
    "<!-- vscode-jupyter-toc-config\n",
    "\tnumbering=true\n",
    "\tanchor=true\n",
    "\tflat=false\n",
    "\tminLevel=2\n",
    "\tmaxLevel=6\n",
    "\t/vscode-jupyter-toc-config -->\n",
    "<!-- THIS CELL WILL BE REPLACED ON TOC UPDATE. DO NOT WRITE YOUR TEXT IN THIS CELL -->"
   ]
  },
  {
   "cell_type": "markdown",
   "id": "cda16004",
   "metadata": {
    "papermill": {
     "duration": 0.005004,
     "end_time": "2023-07-13T16:17:23.061253",
     "exception": false,
     "start_time": "2023-07-13T16:17:23.056249",
     "status": "completed"
    },
    "tags": []
   },
   "source": [
    "The C++ file used in this example is in **cppfuncs/example.cpp**. \n",
    "\n",
    "**Read the following information:**\n",
    "\n",
    "1. **Functions are automatically detected**. The provided .cpp file should include:\n",
    "\n",
    "    `#define EXPORT extern \"C\" __declspec(dllexport)`\n",
    "\n",
    "    A function to be called in Python should be **decorated** as e.g.:\n",
    " \n",
    "    `EXPORT void fun_nostruct(double *X, double *Y, int N, double a, double b, int threads, char *txt)`\n",
    " \n",
    "    **Extra:** Functions are also detected in *directly* included .cpp files.\n",
    " \n",
    "2. The following **argument types** are allowed: `int` `int*` `double` `double*` `bool` `bool*` and `char*` (for strings) + **user-defined structs** (see below).\n",
    "3. The foolowing **return types** are allowed: `void` `int` `double` and `bool`.\n",
    "4. **Class:** `cppfile = cpptools.link_to_cpp(filename,force_compile,structsmap,options,use_log_print,do_print)` returns an interface to an object with the **C++ functions as methods**.\n",
    " \n",
    "    `filename (str)`: C++ file with .cpp extension (full path)\n",
    "    \n",
    "    `force_compile (bool,optional)`: compile even if .dll is present (default is True)\n",
    "    \n",
    "    `structsmap (dict,optional)`: struct names as keys and associated pythonobj used in C++ as values (see below)\n",
    "    \n",
    "    `options (dict,optional)`: compiler options (see below)\n",
    "    \n",
    "    `use_log (bool,optional)`: assumes log is printed to filename.log (deleted afterwards, saved in self.log[funcname])\n",
    "    \n",
    "    `print_log (bool,optional)`: print log to screen when function is called\n",
    "    \n",
    "    `do_print (bool,optional)`: print progress\n",
    "    \n",
    "5. **User-defined structs:** Assume `par` is a Python dict-like object (e.g. SimpleNamespace) then `structsmap={'par_struct':par}` allows `par_struct*` to be used as a type in C++ after `#include \"par_struct.cpp\"`, which is automatically written (in the same folder as the *filename.cpp* file) with automatically inferred fields and their types.\n",
    " \n",
    "6. **Compiler options:** Dictionary with the following elements:\n",
    "\n",
    "    `compiler (str)`: compiler choice (*vs* (default) or *intel*)\n",
    "    \n",
    "    `vs_path (str)`: path to vs compiler (if *None* (default) then newest version found is used, e.g. *C:/Program Files/Microsoft Visual Studio/2022/Community/VC/Auxiliary/Build/*)\n",
    "    \n",
    "    `intel_path (str)`: path to intel compiler\n",
    "    \n",
    "    `flags (str)`: flags (vs default: '/LD /EHsc /Ox /openmp', intel default: '/LD /EHsc /O3 /openmp')\n",
    "    \n",
    "    `additional_cpp (str)`: additional cpp files to include (default is '')\n",
    "    \n",
    "    `dllfilename (str)`: filename of resulting dll file (if *None* (default) it is *filename.dll* where *filename.cpp*)\n",
    "    \n",
    "    `macros (dict/list)`: preprocessor macros (default is *None*)\n",
    "        \n",
    "7. **Methods:**\n",
    "\n",
    "    `cppfile.delink()`: Delink C++ file (release the .dll file, so that it can be overwritten when e.g. re-compiling).\n",
    "    \n",
    "    `cppfile.recompile()`: Delink, re-compile and re-link to C++ file.\n",
    "    \n",
    "    `cppfile.clean_up()`: Delink C++ file, remove .dll file, and remove any struct files."
   ]
  },
  {
   "cell_type": "markdown",
   "id": "65657cb9",
   "metadata": {
    "papermill": {
     "duration": 0.005004,
     "end_time": "2023-07-13T16:17:23.071261",
     "exception": false,
     "start_time": "2023-07-13T16:17:23.066257",
     "status": "completed"
    },
    "tags": []
   },
   "source": [
    "## 1. <a id='toc1_'></a>[Imports](#toc0_)"
   ]
  },
  {
   "cell_type": "code",
   "execution_count": 1,
   "id": "565d5e04",
   "metadata": {
    "execution": {
     "iopub.execute_input": "2023-07-13T16:17:23.084272Z",
     "iopub.status.busy": "2023-07-13T16:17:23.083271Z",
     "iopub.status.idle": "2023-07-13T16:17:23.554652Z",
     "shell.execute_reply": "2023-07-13T16:17:23.554652Z"
    },
    "papermill": {
     "duration": 0.482391,
     "end_time": "2023-07-13T16:17:23.558656",
     "exception": false,
     "start_time": "2023-07-13T16:17:23.076265",
     "status": "completed"
    },
    "tags": []
   },
   "outputs": [],
   "source": [
    "%load_ext autoreload\n",
    "%autoreload 2\n",
    "\n",
    "import os\n",
    "from types import SimpleNamespace\n",
    "import numpy as np\n",
    "import numba as nb\n",
    "\n",
    "from EconModel import cpptools"
   ]
  },
  {
   "cell_type": "markdown",
   "id": "50c95307",
   "metadata": {
    "papermill": {
     "duration": 0.006004,
     "end_time": "2023-07-13T16:17:23.576670",
     "exception": false,
     "start_time": "2023-07-13T16:17:23.570666",
     "status": "completed"
    },
    "tags": []
   },
   "source": [
    "## 2. <a id='toc2_'></a>[Setup](#toc0_)"
   ]
  },
  {
   "cell_type": "code",
   "execution_count": 2,
   "id": "47d4f1e0",
   "metadata": {
    "execution": {
     "iopub.execute_input": "2023-07-13T16:17:23.589681Z",
     "iopub.status.busy": "2023-07-13T16:17:23.588680Z",
     "iopub.status.idle": "2023-07-13T16:17:23.652732Z",
     "shell.execute_reply": "2023-07-13T16:17:23.652732Z"
    },
    "papermill": {
     "duration": 0.07406,
     "end_time": "2023-07-13T16:17:23.655735",
     "exception": false,
     "start_time": "2023-07-13T16:17:23.581675",
     "status": "completed"
    },
    "tags": []
   },
   "outputs": [],
   "source": [
    "par = SimpleNamespace()\n",
    "par.N = 10\n",
    "par.X = np.linspace(0,10,par.N)\n",
    "par.Z = np.ones(par.N,dtype=int)\n",
    "par.a = 2.0\n",
    "par.b = 1.0\n",
    "par.threads = 4\n",
    "par.txt = 'a'\n",
    "par.txtlist = 'N|threads'\n",
    "\n",
    "sol = SimpleNamespace()\n",
    "sol.Y = np.zeros(par.N)"
   ]
  },
  {
   "cell_type": "markdown",
   "id": "f2b360a5",
   "metadata": {
    "papermill": {
     "duration": 0.007006,
     "end_time": "2023-07-13T16:17:23.673750",
     "exception": false,
     "start_time": "2023-07-13T16:17:23.666744",
     "status": "completed"
    },
    "tags": []
   },
   "source": [
    "## 3. <a id='toc3_'></a>[Visual Studio compiler](#toc0_)"
   ]
  },
  {
   "cell_type": "markdown",
   "id": "ef172df2",
   "metadata": {
    "papermill": {
     "duration": 0.005004,
     "end_time": "2023-07-13T16:17:23.684758",
     "exception": false,
     "start_time": "2023-07-13T16:17:23.679754",
     "status": "completed"
    },
    "tags": []
   },
   "source": [
    "### 3.1. <a id='toc3_1_'></a>[Link to C++](#toc0_)"
   ]
  },
  {
   "cell_type": "code",
   "execution_count": 3,
   "id": "13182087",
   "metadata": {
    "execution": {
     "iopub.execute_input": "2023-07-13T16:17:23.696768Z",
     "iopub.status.busy": "2023-07-13T16:17:23.695767Z",
     "iopub.status.idle": "2023-07-13T16:17:26.033674Z",
     "shell.execute_reply": "2023-07-13T16:17:26.032673Z"
    },
    "papermill": {
     "duration": 2.346913,
     "end_time": "2023-07-13T16:17:26.036676",
     "exception": false,
     "start_time": "2023-07-13T16:17:23.689763",
     "status": "completed"
    },
    "tags": []
   },
   "outputs": [
    {
     "name": "stdout",
     "output_type": "stream",
     "text": [
      "Linking to: cppfuncs/example.cpp\n",
      "\n",
      "### finding all included files ###\n",
      "\n",
      "logs.cpp\n",
      "par_struct.cpp\n",
      "sol_struct.cpp\n",
      "example_include.cpp\n",
      "\n",
      "### writing structs ###\n",
      "\n",
      "cppfuncs/par_struct.cpp\n",
      " int N;\n",
      " double* X;\n",
      " int* Z;\n",
      " double a;\n",
      " double b;\n",
      " int threads;\n",
      " char* txt;\n",
      " char* txtlist;\n",
      "\n",
      "cppfuncs/sol_struct.cpp\n",
      " double* Y;\n",
      "\n",
      "### analyzing cppfuncs/example.cpp ###\n",
      "\n",
      "function: fun\n",
      "return type: void\n",
      "argument types: ['par_struct*', 'sol_struct*']\n",
      "\n",
      "function: fun_nostruct\n",
      "return type: void\n",
      "argument types: ['double*', 'double*', 'int*', 'int', 'double', 'double', 'int', 'char*']\n",
      "\n",
      "### analyzing cppfuncs/logs.cpp ###\n",
      "\n",
      "### analyzing cppfuncs/par_struct.cpp ###\n",
      "\n",
      "### analyzing cppfuncs/sol_struct.cpp ###\n",
      "\n",
      "### analyzing cppfuncs/example_include.cpp ###\n",
      "\n",
      "function: fun_nostruct_alt\n",
      "return type: void\n",
      "argument types: ['double*', 'double*', 'int*', 'int', 'double', 'double', 'int', 'char*']\n",
      "\n",
      "function: I_DO_NOTHING\n",
      "return type: double\n",
      "argument types: []\n",
      "\n",
      "### compiling and linking ###\n",
      "\n",
      "compile.bat:\n",
      "cd /d \"C:/Program Files/Microsoft Visual Studio/2022/Community/VC/Auxiliary/Build/\"\n",
      "call vcvarsall.bat x64\n",
      "cd /d \"c:\\Users\\gmf123.UNICPH\\Documents\\repositories\\EconModelNotebooks\"\n",
      "cl /LD /EHsc /Ox /openmp cppfuncs/example.cpp setup_omp.cpp \n",
      "\n"
     ]
    },
    {
     "name": "stdout",
     "output_type": "stream",
     "text": [
      "terminal:\n",
      "\n",
      "(c:\\Users\\gmf123.UNICPH\\AppData\\Local\\anaconda3) c:\\Users\\gmf123.UNICPH\\Documents\\repositories\\EconModelNotebooks>cd /d \"C:/Program Files/Microsoft Visual Studio/2022/Community/VC/Auxiliary/Build/\" \n",
      "\n",
      "(c:\\Users\\gmf123.UNICPH\\AppData\\Local\\anaconda3) C:\\Program Files\\Microsoft Visual Studio\\2022\\Community\\VC\\Auxiliary\\Build>call vcvarsall.bat x64 \n",
      "**********************************************************************\n",
      "** Visual Studio 2022 Developer Command Prompt v17.0.6\n",
      "** Copyright (c) 2021 Microsoft Corporation\n",
      "**********************************************************************\n",
      "[vcvarsall.bat] Environment initialized for: 'x64'\n",
      "example.cpp\n",
      "setup_omp.cpp\n",
      "Generating Code...\n",
      "Microsoft (R) Incremental Linker Version 14.30.30709.0\n",
      "Copyright (C) Microsoft Corporation.  All rights reserved.\n",
      "\n",
      "/out:example.dll \n",
      "/dll \n",
      "/implib:example.lib \n",
      "example.obj \n",
      "setup_omp.obj \n",
      "   Creating library example.lib and object example.exp\n",
      "\n",
      "Microsoft (R) C/C++ Optimizing Compiler Version 19.30.30709 for x64\n",
      "Copyright (C) Microsoft Corporation.  All rights reserved.\n",
      "\n",
      "\n",
      "C++ files compiled\n",
      "C++ files loaded\n",
      "\n",
      "DONE!\n",
      "\n"
     ]
    }
   ],
   "source": [
    "example = cpptools.link_to_cpp('cppfuncs/example.cpp',structsmap={'par_struct':par,'sol_struct':sol},do_print=True)"
   ]
  },
  {
   "cell_type": "markdown",
   "id": "28348588",
   "metadata": {
    "papermill": {
     "duration": 0.007008,
     "end_time": "2023-07-13T16:17:26.054691",
     "exception": false,
     "start_time": "2023-07-13T16:17:26.047683",
     "status": "completed"
    },
    "tags": []
   },
   "source": [
    "### 3.2. <a id='toc3_2_'></a>[Calling functions](#toc0_)"
   ]
  },
  {
   "cell_type": "markdown",
   "id": "5c8d5c21",
   "metadata": {
    "papermill": {
     "duration": 0.005004,
     "end_time": "2023-07-13T16:17:26.064699",
     "exception": false,
     "start_time": "2023-07-13T16:17:26.059695",
     "status": "completed"
    },
    "tags": []
   },
   "source": [
    "**Note:** The C++ file writes to `example.log`. The content is printed here, and the file is then deleted."
   ]
  },
  {
   "cell_type": "code",
   "execution_count": 4,
   "id": "6e00a204",
   "metadata": {
    "execution": {
     "iopub.execute_input": "2023-07-13T16:17:26.077709Z",
     "iopub.status.busy": "2023-07-13T16:17:26.076709Z",
     "iopub.status.idle": "2023-07-13T16:17:26.159775Z",
     "shell.execute_reply": "2023-07-13T16:17:26.159775Z"
    },
    "papermill": {
     "duration": 0.093075,
     "end_time": "2023-07-13T16:17:26.162778",
     "exception": false,
     "start_time": "2023-07-13T16:17:26.069703",
     "status": "completed"
    },
    "tags": []
   },
   "outputs": [
    {
     "name": "stdout",
     "output_type": "stream",
     "text": [
      "\n",
      "fun(...)\n",
      "omp_get_thread_num() =  0, omp_get_num_procs() = 72\n",
      "omp_get_thread_num() =  1, omp_get_num_procs() = 72\n",
      "omp_get_thread_num() =  2, omp_get_num_procs() = 72\n",
      "string-value: a\n",
      "looked up value par->a = 2\n",
      "is \"a\" in \"N|threads\": false\n",
      "looked up value par->N = 10\n",
      "looked up value par->threads = 4\n",
      "\n"
     ]
    }
   ],
   "source": [
    "example.fun(par,sol)"
   ]
  },
  {
   "cell_type": "code",
   "execution_count": 5,
   "id": "23adb96d",
   "metadata": {
    "execution": {
     "iopub.execute_input": "2023-07-13T16:17:26.182794Z",
     "iopub.status.busy": "2023-07-13T16:17:26.181793Z",
     "iopub.status.idle": "2023-07-13T16:17:26.256854Z",
     "shell.execute_reply": "2023-07-13T16:17:26.255853Z"
    },
    "papermill": {
     "duration": 0.085069,
     "end_time": "2023-07-13T16:17:26.259857",
     "exception": false,
     "start_time": "2023-07-13T16:17:26.174788",
     "status": "completed"
    },
    "tags": []
   },
   "outputs": [
    {
     "name": "stdout",
     "output_type": "stream",
     "text": [
      "\n",
      "fun(...)\n",
      "omp_get_thread_num() =  0, omp_get_num_procs() = 72\n",
      "omp_get_thread_num() =  1, omp_get_num_procs() = 72\n",
      "omp_get_thread_num() =  2, omp_get_num_procs() = 72\n",
      "string-value: a\n",
      "looked up value par->a = 2\n",
      "is \"a\" in \"N|threads\": false\n",
      "looked up value par->N = 10\n",
      "looked up value par->threads = 4\n",
      "\n"
     ]
    }
   ],
   "source": [
    "example.fun(par,sol)\n",
    "assert np.allclose(par.X*(par.a+par.b)*par.Z,sol.Y) "
   ]
  },
  {
   "cell_type": "code",
   "execution_count": 6,
   "id": "3f0d0f71",
   "metadata": {
    "execution": {
     "iopub.execute_input": "2023-07-13T16:17:26.278872Z",
     "iopub.status.busy": "2023-07-13T16:17:26.278872Z",
     "iopub.status.idle": "2023-07-13T16:17:26.360938Z",
     "shell.execute_reply": "2023-07-13T16:17:26.360938Z"
    },
    "papermill": {
     "duration": 0.093075,
     "end_time": "2023-07-13T16:17:26.363941",
     "exception": false,
     "start_time": "2023-07-13T16:17:26.270866",
     "status": "completed"
    },
    "tags": []
   },
   "outputs": [
    {
     "name": "stdout",
     "output_type": "stream",
     "text": [
      "\n",
      "fun_nostruct(...)\n",
      "omp_get_thread_num() =  0, omp_get_num_procs() = 72\n",
      "omp_get_thread_num() =  3, omp_get_num_procs() = 72\n",
      "string-value: a\n",
      "test was succesfull\n",
      "\n"
     ]
    }
   ],
   "source": [
    "par.Y = np.zeros(par.N)\n",
    "example.fun_nostruct(par.X,sol.Y,par.Z,par.N,par.a,par.b,par.threads,par.txt)\n",
    "assert np.allclose(par.X*(par.a+par.b),sol.Y)"
   ]
  },
  {
   "cell_type": "code",
   "execution_count": 7,
   "id": "43a8f7d4",
   "metadata": {
    "execution": {
     "iopub.execute_input": "2023-07-13T16:17:26.383957Z",
     "iopub.status.busy": "2023-07-13T16:17:26.383957Z",
     "iopub.status.idle": "2023-07-13T16:17:26.463021Z",
     "shell.execute_reply": "2023-07-13T16:17:26.463021Z"
    },
    "papermill": {
     "duration": 0.090073,
     "end_time": "2023-07-13T16:17:26.466023",
     "exception": false,
     "start_time": "2023-07-13T16:17:26.375950",
     "status": "completed"
    },
    "tags": []
   },
   "outputs": [
    {
     "name": "stdout",
     "output_type": "stream",
     "text": [
      "omp_get_thread_num() =  0, omp_get_num_procs() = 72\n"
     ]
    },
    {
     "name": "stdout",
     "output_type": "stream",
     "text": [
      "omp_get_thread_num() =  1, omp_get_num_procs() = 72\n",
      "omp_get_thread_num() =  3, omp_get_num_procs() = 72\n"
     ]
    }
   ],
   "source": [
    "sol.Y = np.zeros(par.N)\n",
    "example.fun_nostruct_alt(par.X,sol.Y,par.Z,par.N,par.a,par.b,par.threads,par.txt)\n",
    "assert np.allclose(par.X*(par.a+par.b),sol.Y)"
   ]
  },
  {
   "cell_type": "markdown",
   "id": "afbbc404",
   "metadata": {
    "papermill": {
     "duration": 0.006005,
     "end_time": "2023-07-13T16:17:26.483037",
     "exception": false,
     "start_time": "2023-07-13T16:17:26.477032",
     "status": "completed"
    },
    "tags": []
   },
   "source": [
    "### 3.3. <a id='toc3_3_'></a>[Re-compile](#toc0_)"
   ]
  },
  {
   "cell_type": "code",
   "execution_count": 8,
   "id": "1c47b3da",
   "metadata": {
    "execution": {
     "iopub.execute_input": "2023-07-13T16:17:26.497049Z",
     "iopub.status.busy": "2023-07-13T16:17:26.496047Z",
     "iopub.status.idle": "2023-07-13T16:17:28.836952Z",
     "shell.execute_reply": "2023-07-13T16:17:28.835952Z"
    },
    "papermill": {
     "duration": 2.351913,
     "end_time": "2023-07-13T16:17:28.840955",
     "exception": false,
     "start_time": "2023-07-13T16:17:26.489042",
     "status": "completed"
    },
    "tags": []
   },
   "outputs": [],
   "source": [
    "example.recompile(print_log=False)"
   ]
  },
  {
   "cell_type": "code",
   "execution_count": 9,
   "id": "292996ce",
   "metadata": {
    "execution": {
     "iopub.execute_input": "2023-07-13T16:17:28.861973Z",
     "iopub.status.busy": "2023-07-13T16:17:28.860972Z",
     "iopub.status.idle": "2023-07-13T16:17:28.938035Z",
     "shell.execute_reply": "2023-07-13T16:17:28.938035Z"
    },
    "papermill": {
     "duration": 0.088071,
     "end_time": "2023-07-13T16:17:28.941037",
     "exception": false,
     "start_time": "2023-07-13T16:17:28.852966",
     "status": "completed"
    },
    "tags": []
   },
   "outputs": [],
   "source": [
    "res = example.I_DO_NOTHING()\n",
    "assert np.isclose(res,5.0)"
   ]
  },
  {
   "cell_type": "markdown",
   "id": "d179acd7",
   "metadata": {
    "papermill": {
     "duration": 0.007008,
     "end_time": "2023-07-13T16:17:28.962054",
     "exception": false,
     "start_time": "2023-07-13T16:17:28.955046",
     "status": "completed"
    },
    "tags": []
   },
   "source": [
    "**Manual print of log:**"
   ]
  },
  {
   "cell_type": "code",
   "execution_count": 10,
   "id": "5b23d8da",
   "metadata": {
    "execution": {
     "iopub.execute_input": "2023-07-13T16:17:28.975065Z",
     "iopub.status.busy": "2023-07-13T16:17:28.974064Z",
     "iopub.status.idle": "2023-07-13T16:17:29.038116Z",
     "shell.execute_reply": "2023-07-13T16:17:29.038116Z"
    },
    "papermill": {
     "duration": 0.074059,
     "end_time": "2023-07-13T16:17:29.041117",
     "exception": false,
     "start_time": "2023-07-13T16:17:28.967058",
     "status": "completed"
    },
    "tags": []
   },
   "outputs": [
    {
     "name": "stdout",
     "output_type": "stream",
     "text": [
      "\n",
      "I do nothing!\n",
      "\n"
     ]
    }
   ],
   "source": [
    "print(example.log['I_DO_NOTHING'])"
   ]
  },
  {
   "cell_type": "markdown",
   "id": "ee36237d",
   "metadata": {
    "papermill": {
     "duration": 0.006005,
     "end_time": "2023-07-13T16:17:29.060134",
     "exception": false,
     "start_time": "2023-07-13T16:17:29.054129",
     "status": "completed"
    },
    "tags": []
   },
   "source": [
    "**Clean up:**"
   ]
  },
  {
   "cell_type": "code",
   "execution_count": 11,
   "id": "b24364a2",
   "metadata": {
    "execution": {
     "iopub.execute_input": "2023-07-13T16:17:29.074145Z",
     "iopub.status.busy": "2023-07-13T16:17:29.073145Z",
     "iopub.status.idle": "2023-07-13T16:17:29.138198Z",
     "shell.execute_reply": "2023-07-13T16:17:29.138198Z"
    },
    "papermill": {
     "duration": 0.075061,
     "end_time": "2023-07-13T16:17:29.141200",
     "exception": false,
     "start_time": "2023-07-13T16:17:29.066139",
     "status": "completed"
    },
    "tags": []
   },
   "outputs": [],
   "source": [
    "example.clean_up()"
   ]
  },
  {
   "cell_type": "markdown",
   "id": "8c536a5b",
   "metadata": {
    "papermill": {
     "duration": 0.006004,
     "end_time": "2023-07-13T16:17:29.162217",
     "exception": false,
     "start_time": "2023-07-13T16:17:29.156213",
     "status": "completed"
    },
    "tags": []
   },
   "source": [
    "### 3.4. <a id='toc3_4_'></a>[See all availible compiler options](#toc0_)"
   ]
  },
  {
   "cell_type": "code",
   "execution_count": 12,
   "id": "cf96c458",
   "metadata": {
    "execution": {
     "iopub.execute_input": "2023-07-13T16:17:29.176229Z",
     "iopub.status.busy": "2023-07-13T16:17:29.175228Z",
     "iopub.status.idle": "2023-07-13T16:17:29.241282Z",
     "shell.execute_reply": "2023-07-13T16:17:29.241282Z"
    },
    "papermill": {
     "duration": 0.076062,
     "end_time": "2023-07-13T16:17:29.244284",
     "exception": false,
     "start_time": "2023-07-13T16:17:29.168222",
     "status": "completed"
    },
    "tags": []
   },
   "outputs": [
    {
     "data": {
      "text/plain": [
       "{'nlopt_lib': 'cppfuncs/nlopt-2.4.2-dll64/libnlopt-0.lib',\n",
       " 'tasmanian_lib': 'cppfuncs/TASMANIAN-7.0/lib/tasmaniansparsegrid.lib',\n",
       " 'compiler': 'vs',\n",
       " 'vs_path': 'C:/Program Files/Microsoft Visual Studio/2022/Community/VC/Auxiliary/Build/',\n",
       " 'intel_path': 'C:\\\\Program Files (x86)\\\\Intel\\\\oneAPI',\n",
       " 'flags': None,\n",
       " 'additional_cpp': '',\n",
       " 'macros': None,\n",
       " 'dllfilename': None}"
      ]
     },
     "execution_count": 12,
     "metadata": {},
     "output_type": "execute_result"
    }
   ],
   "source": [
    "example.options"
   ]
  },
  {
   "cell_type": "markdown",
   "id": "5da5e199",
   "metadata": {
    "papermill": {
     "duration": 0.007005,
     "end_time": "2023-07-13T16:17:29.264300",
     "exception": false,
     "start_time": "2023-07-13T16:17:29.257295",
     "status": "completed"
    },
    "tags": []
   },
   "source": [
    "The **default flags** (when value is `None`) are:\n",
    "\n",
    "* **vs**: /LD /EHsc /Ox /openmp\n",
    "* **intel**: /LD /EHsc /O3 /openmp              "
   ]
  },
  {
   "cell_type": "markdown",
   "id": "06c1b70d",
   "metadata": {
    "papermill": {
     "duration": 0.006004,
     "end_time": "2023-07-13T16:17:29.275309",
     "exception": false,
     "start_time": "2023-07-13T16:17:29.269305",
     "status": "completed"
    },
    "tags": []
   },
   "source": [
    "## 4. <a id='toc4_'></a>[Intel compiler](#toc0_)"
   ]
  },
  {
   "cell_type": "code",
   "execution_count": 13,
   "id": "393516e0",
   "metadata": {
    "execution": {
     "iopub.execute_input": "2023-07-13T16:17:29.289321Z",
     "iopub.status.busy": "2023-07-13T16:17:29.288320Z",
     "iopub.status.idle": "2023-07-13T16:17:32.122623Z",
     "shell.execute_reply": "2023-07-13T16:17:32.121622Z"
    },
    "papermill": {
     "duration": 2.845311,
     "end_time": "2023-07-13T16:17:32.125625",
     "exception": false,
     "start_time": "2023-07-13T16:17:29.280314",
     "status": "completed"
    },
    "tags": []
   },
   "outputs": [
    {
     "name": "stdout",
     "output_type": "stream",
     "text": [
      "\n",
      "fun(...)\n",
      "omp_get_thread_num() =  2, omp_get_num_procs() = 72\n",
      "string-value: a\n",
      "looked up value par->a = 2\n",
      "is \"a\" in \"N|threads\": false\n",
      "looked up value par->N = 10\n",
      "looked up value par->threads = 4\n",
      "\n"
     ]
    }
   ],
   "source": [
    "example = cpptools.link_to_cpp('cppfuncs/example.cpp',\n",
    "                               structsmap={'par_struct':par,'sol_struct':sol},\n",
    "                               options={'compiler':'intel'})\n",
    "\n",
    "example.fun(par,sol)\n",
    "assert np.allclose(par.X*(par.a+par.b),sol.Y)\n",
    "\n",
    "example.clean_up()"
   ]
  }
 ],
 "metadata": {
  "kernelspec": {
   "display_name": "Python 3 (ipykernel)",
   "language": "python",
   "name": "python3"
  },
  "language_info": {
   "codemirror_mode": {
    "name": "ipython",
    "version": 3
   },
   "file_extension": ".py",
   "mimetype": "text/x-python",
   "name": "python",
   "nbconvert_exporter": "python",
   "pygments_lexer": "ipython3",
   "version": "3.11.3"
  },
  "papermill": {
   "default_parameters": {},
   "duration": 11.555396,
   "end_time": "2023-07-13T16:17:32.467904",
   "environment_variables": {},
   "exception": null,
   "input_path": "02. More on calling C++.ipynb",
   "output_path": "temp_notebooks/02. More on calling C++.ipynb",
   "parameters": {},
   "start_time": "2023-07-13T16:17:20.912508",
   "version": "2.4.0"
  },
  "toc": {
   "base_numbering": 1,
   "nav_menu": {},
   "number_sections": true,
   "sideBar": true,
   "skip_h1_title": false,
   "title_cell": "Table of Contents",
   "title_sidebar": "Contents",
   "toc_cell": true,
   "toc_position": {},
   "toc_section_display": true,
   "toc_window_display": false
  },
  "toc-autonumbering": true
 },
 "nbformat": 4,
 "nbformat_minor": 5
}