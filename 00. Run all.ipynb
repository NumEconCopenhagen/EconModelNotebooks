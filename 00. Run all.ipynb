{
 "cells": [
  {
   "cell_type": "markdown",
   "id": "569cbc51",
   "metadata": {},
   "source": [
    "# Run all"
   ]
  },
  {
   "cell_type": "markdown",
   "id": "c13c82d6",
   "metadata": {},
   "source": [
    "**Table of contents**<a id='toc0_'></a>    \n",
    "- 1. [Imports](#toc1_)    \n",
    "- 2. [Settings](#toc2_)    \n",
    "- 3. [Run](#toc3_)    \n",
    "\n",
    "<!-- vscode-jupyter-toc-config\n",
    "\tnumbering=true\n",
    "\tanchor=true\n",
    "\tflat=false\n",
    "\tminLevel=2\n",
    "\tmaxLevel=6\n",
    "\t/vscode-jupyter-toc-config -->\n",
    "<!-- THIS CELL WILL BE REPLACED ON TOC UPDATE. DO NOT WRITE YOUR TEXT IN THIS CELL -->"
   ]
  },
  {
   "cell_type": "markdown",
   "id": "eae3cc04",
   "metadata": {},
   "source": [
    "## 1. <a id='toc1_'></a>[Imports](#toc0_)"
   ]
  },
  {
   "cell_type": "code",
   "execution_count": 1,
   "id": "af33ddc5-87d5-4156-a416-25b702ad0063",
   "metadata": {},
   "outputs": [],
   "source": [
    "import os\n",
    "import glob\n",
    "import shutil\n",
    "import time\n",
    "\n",
    "import papermill as pm\n",
    "\n",
    "if not os.path.isdir('temp_notebooks'):\n",
    "    os.mkdir('temp_notebooks')"
   ]
  },
  {
   "cell_type": "markdown",
   "id": "ecd5b4b9",
   "metadata": {},
   "source": [
    "## 2. <a id='toc2_'></a>[Settings](#toc0_)"
   ]
  },
  {
   "cell_type": "code",
   "execution_count": 2,
   "id": "6f78489a-a06d-40b2-87c4-7e52f4b5279b",
   "metadata": {},
   "outputs": [],
   "source": [
    "def run_jupyter(filename):\n",
    "\n",
    "    try:\n",
    "        pm.execute_notebook(filename,f'temp_notebooks/{filename}')\n",
    "        shutil.copy(f'temp_notebooks/{filename}',f'{filename}')\n",
    "        time.sleep(1)\n",
    "        os.remove(f'temp_notebooks/{filename}')\n",
    "    except Exception as e:\n",
    "        print(f'failed, {e}',end='')\n",
    "        "
   ]
  },
  {
   "cell_type": "markdown",
   "id": "41256da3",
   "metadata": {},
   "source": [
    "## 3. <a id='toc3_'></a>[Run](#toc0_)"
   ]
  },
  {
   "cell_type": "code",
   "execution_count": 3,
   "id": "536e299d-d812-4fd8-9321-a143dd911542",
   "metadata": {},
   "outputs": [
    {
     "name": "stdout",
     "output_type": "stream",
     "text": [
      "01. Using the EconModelClass.ipynb"
     ]
    },
    {
     "data": {
      "application/vnd.jupyter.widget-view+json": {
       "model_id": "f6c03d8efeaa41a7bb2da771a2d80268",
       "version_major": 2,
       "version_minor": 0
      },
      "text/plain": [
       "Executing:   0%|          | 0/74 [00:00<?, ?cell/s]"
      ]
     },
     "metadata": {},
     "output_type": "display_data"
    },
    {
     "name": "stdout",
     "output_type": "stream",
     "text": [
      " [done in 21.4 secs]\n",
      "\n",
      "02. More on calling C++.ipynb"
     ]
    },
    {
     "data": {
      "application/vnd.jupyter.widget-view+json": {
       "model_id": "65f2b08e58a14482abaac40061035730",
       "version_major": 2,
       "version_minor": 0
      },
      "text/plain": [
       "Executing:   0%|          | 0/28 [00:00<?, ?cell/s]"
      ]
     },
     "metadata": {},
     "output_type": "display_data"
    },
    {
     "name": "stdout",
     "output_type": "stream",
     "text": [
      " [done in 17.0 secs]\n",
      "\n",
      "03a. Using NLopt in C++.ipynb"
     ]
    },
    {
     "data": {
      "application/vnd.jupyter.widget-view+json": {
       "model_id": "ce1336e3f6d04413859027e124f76180",
       "version_major": 2,
       "version_minor": 0
      },
      "text/plain": [
       "Executing:   0%|          | 0/18 [00:00<?, ?cell/s]"
      ]
     },
     "metadata": {},
     "output_type": "display_data"
    },
    {
     "name": "stdout",
     "output_type": "stream",
     "text": [
      " [done in 15.7 secs]\n",
      "\n",
      "03b. Using Spatially Adaptive Sparse Grids.ipynb"
     ]
    },
    {
     "data": {
      "application/vnd.jupyter.widget-view+json": {
       "model_id": "73921636a18d47a9aac7ce40bf16609d",
       "version_major": 2,
       "version_minor": 0
      },
      "text/plain": [
       "Executing:   0%|          | 0/27 [00:00<?, ?cell/s]"
      ]
     },
     "metadata": {},
     "output_type": "display_data"
    },
    {
     "name": "stdout",
     "output_type": "stream",
     "text": [
      " [done in 22.1 secs]\n",
      "\n",
      "03c. Using MKL and Eigen.ipynb"
     ]
    },
    {
     "data": {
      "application/vnd.jupyter.widget-view+json": {
       "model_id": "22d41268ee084fbba706176f774bd916",
       "version_major": 2,
       "version_minor": 0
      },
      "text/plain": [
       "Executing:   0%|          | 0/37 [00:00<?, ?cell/s]"
      ]
     },
     "metadata": {},
     "output_type": "display_data"
    },
    {
     "name": "stdout",
     "output_type": "stream",
     "text": [
      " [done in 87.3 secs]\n",
      "\n",
      "03d. Using autodiff.ipynb"
     ]
    },
    {
     "data": {
      "application/vnd.jupyter.widget-view+json": {
       "model_id": "cb023e1aa0844cac8f306c78fc97a1cf",
       "version_major": 2,
       "version_minor": 0
      },
      "text/plain": [
       "Executing:   0%|          | 0/26 [00:00<?, ?cell/s]"
      ]
     },
     "metadata": {},
     "output_type": "display_data"
    },
    {
     "name": "stdout",
     "output_type": "stream",
     "text": [
      " [done in 17.0 secs]\n",
      "\n"
     ]
    }
   ],
   "source": [
    "for filename in glob.glob('*.ipynb'):\n",
    "    \n",
    "    if '00' in filename: continue\n",
    "\n",
    "    print(filename,end='')\n",
    "\n",
    "    t0 = time.time()\n",
    "    run_jupyter(filename) \n",
    "    time.sleep(5)\n",
    "    print(f' [done in {time.time()-t0:.1f} secs]\\n')\n"
   ]
  }
 ],
 "metadata": {
  "kernelspec": {
   "display_name": "base",
   "language": "python",
   "name": "python3"
  },
  "language_info": {
   "codemirror_mode": {
    "name": "ipython",
    "version": 3
   },
   "file_extension": ".py",
   "mimetype": "text/x-python",
   "name": "python",
   "nbconvert_exporter": "python",
   "pygments_lexer": "ipython3",
   "version": "3.11.3"
  },
  "vscode": {
   "interpreter": {
    "hash": "47ef90cdf3004d3f859f1fb202523c65c07ba7c22eefd261b181f4744e2d0403"
   }
  }
 },
 "nbformat": 4,
 "nbformat_minor": 5
}
